{
 "cells": [
  {
   "cell_type": "code",
   "execution_count": 4,
   "metadata": {
    "colab": {
     "base_uri": "https://localhost:8080/"
    },
    "id": "xETUAQPk-Afa",
    "outputId": "1847b6dd-2c80-4c9a-b70c-e4e8a68763a4"
   },
   "outputs": [
    {
     "name": "stdout",
     "output_type": "stream",
     "text": [
      "Collecting pytrends\n",
      "  Downloading pytrends-4.9.2-py3-none-any.whl.metadata (13 kB)\n",
      "Collecting neuralprophet\n",
      "  Downloading neuralprophet-0.9.0-py3-none-any.whl.metadata (9.0 kB)\n",
      "Requirement already satisfied: pandas in /usr/local/lib/python3.11/dist-packages (2.2.2)\n",
      "Requirement already satisfied: numpy in /usr/local/lib/python3.11/dist-packages (2.0.2)\n",
      "Requirement already satisfied: matplotlib in /usr/local/lib/python3.11/dist-packages (3.10.0)\n",
      "Requirement already satisfied: scikit-learn in /usr/local/lib/python3.11/dist-packages (1.6.1)\n",
      "Requirement already satisfied: requests in /usr/local/lib/python3.11/dist-packages (2.32.3)\n",
      "Requirement already satisfied: seaborn in /usr/local/lib/python3.11/dist-packages (0.13.2)\n",
      "Requirement already satisfied: lxml in /usr/local/lib/python3.11/dist-packages (from pytrends) (5.3.1)\n",
      "Collecting captum>=0.6.0 (from neuralprophet)\n",
      "  Downloading captum-0.7.0-py3-none-any.whl.metadata (26 kB)\n",
      "Requirement already satisfied: holidays>=0.41 in /usr/local/lib/python3.11/dist-packages (from neuralprophet) (0.68)\n",
      "Collecting kaleido==0.2.1 (from neuralprophet)\n",
      "  Downloading kaleido-0.2.1-py2.py3-none-manylinux1_x86_64.whl.metadata (15 kB)\n",
      "Collecting numpy\n",
      "  Downloading numpy-1.26.4-cp311-cp311-manylinux_2_17_x86_64.manylinux2014_x86_64.whl.metadata (61 kB)\n",
      "\u001b[2K     \u001b[90m━━━━━━━━━━━━━━━━━━━━━━━━━━━━━━━━━━━━━━━━\u001b[0m \u001b[32m61.0/61.0 kB\u001b[0m \u001b[31m2.9 MB/s\u001b[0m eta \u001b[36m0:00:00\u001b[0m\n",
      "\u001b[?25hRequirement already satisfied: plotly>=5.13.1 in /usr/local/lib/python3.11/dist-packages (from neuralprophet) (5.24.1)\n",
      "Collecting pytorch-lightning>=2.0.0 (from neuralprophet)\n",
      "  Downloading pytorch_lightning-2.5.0.post0-py3-none-any.whl.metadata (21 kB)\n",
      "Requirement already satisfied: tensorboard>=2.11.2 in /usr/local/lib/python3.11/dist-packages (from neuralprophet) (2.18.0)\n",
      "Requirement already satisfied: torch>=2.0.0 in /usr/local/lib/python3.11/dist-packages (from neuralprophet) (2.6.0+cu124)\n",
      "Collecting torchmetrics>=1.0.0 (from neuralprophet)\n",
      "  Downloading torchmetrics-1.6.3-py3-none-any.whl.metadata (20 kB)\n",
      "Requirement already satisfied: typing-extensions>=4.5.0 in /usr/local/lib/python3.11/dist-packages (from neuralprophet) (4.12.2)\n",
      "Requirement already satisfied: python-dateutil>=2.8.2 in /usr/local/lib/python3.11/dist-packages (from pandas) (2.8.2)\n",
      "Requirement already satisfied: pytz>=2020.1 in /usr/local/lib/python3.11/dist-packages (from pandas) (2025.1)\n",
      "Requirement already satisfied: tzdata>=2022.7 in /usr/local/lib/python3.11/dist-packages (from pandas) (2025.1)\n",
      "Requirement already satisfied: contourpy>=1.0.1 in /usr/local/lib/python3.11/dist-packages (from matplotlib) (1.3.1)\n",
      "Requirement already satisfied: cycler>=0.10 in /usr/local/lib/python3.11/dist-packages (from matplotlib) (0.12.1)\n",
      "Requirement already satisfied: fonttools>=4.22.0 in /usr/local/lib/python3.11/dist-packages (from matplotlib) (4.56.0)\n",
      "Requirement already satisfied: kiwisolver>=1.3.1 in /usr/local/lib/python3.11/dist-packages (from matplotlib) (1.4.8)\n",
      "Requirement already satisfied: packaging>=20.0 in /usr/local/lib/python3.11/dist-packages (from matplotlib) (24.2)\n",
      "Requirement already satisfied: pillow>=8 in /usr/local/lib/python3.11/dist-packages (from matplotlib) (11.1.0)\n",
      "Requirement already satisfied: pyparsing>=2.3.1 in /usr/local/lib/python3.11/dist-packages (from matplotlib) (3.2.1)\n",
      "Requirement already satisfied: scipy>=1.6.0 in /usr/local/lib/python3.11/dist-packages (from scikit-learn) (1.14.1)\n",
      "Requirement already satisfied: joblib>=1.2.0 in /usr/local/lib/python3.11/dist-packages (from scikit-learn) (1.4.2)\n",
      "Requirement already satisfied: threadpoolctl>=3.1.0 in /usr/local/lib/python3.11/dist-packages (from scikit-learn) (3.6.0)\n",
      "Requirement already satisfied: charset-normalizer<4,>=2 in /usr/local/lib/python3.11/dist-packages (from requests) (3.4.1)\n",
      "Requirement already satisfied: idna<4,>=2.5 in /usr/local/lib/python3.11/dist-packages (from requests) (3.10)\n",
      "Requirement already satisfied: urllib3<3,>=1.21.1 in /usr/local/lib/python3.11/dist-packages (from requests) (2.3.0)\n",
      "Requirement already satisfied: certifi>=2017.4.17 in /usr/local/lib/python3.11/dist-packages (from requests) (2025.1.31)\n",
      "Requirement already satisfied: tqdm in /usr/local/lib/python3.11/dist-packages (from captum>=0.6.0->neuralprophet) (4.67.1)\n",
      "Requirement already satisfied: tenacity>=6.2.0 in /usr/local/lib/python3.11/dist-packages (from plotly>=5.13.1->neuralprophet) (9.0.0)\n",
      "Requirement already satisfied: six>=1.5 in /usr/local/lib/python3.11/dist-packages (from python-dateutil>=2.8.2->pandas) (1.17.0)\n",
      "Requirement already satisfied: PyYAML>=5.4 in /usr/local/lib/python3.11/dist-packages (from pytorch-lightning>=2.0.0->neuralprophet) (6.0.2)\n",
      "Requirement already satisfied: fsspec>=2022.5.0 in /usr/local/lib/python3.11/dist-packages (from fsspec[http]>=2022.5.0->pytorch-lightning>=2.0.0->neuralprophet) (2024.10.0)\n",
      "Collecting lightning-utilities>=0.10.0 (from pytorch-lightning>=2.0.0->neuralprophet)\n",
      "  Downloading lightning_utilities-0.14.1-py3-none-any.whl.metadata (5.6 kB)\n",
      "Requirement already satisfied: absl-py>=0.4 in /usr/local/lib/python3.11/dist-packages (from tensorboard>=2.11.2->neuralprophet) (1.4.0)\n",
      "Requirement already satisfied: grpcio>=1.48.2 in /usr/local/lib/python3.11/dist-packages (from tensorboard>=2.11.2->neuralprophet) (1.71.0)\n",
      "Requirement already satisfied: markdown>=2.6.8 in /usr/local/lib/python3.11/dist-packages (from tensorboard>=2.11.2->neuralprophet) (3.7)\n",
      "Requirement already satisfied: protobuf!=4.24.0,>=3.19.6 in /usr/local/lib/python3.11/dist-packages (from tensorboard>=2.11.2->neuralprophet) (4.25.6)\n",
      "Requirement already satisfied: setuptools>=41.0.0 in /usr/local/lib/python3.11/dist-packages (from tensorboard>=2.11.2->neuralprophet) (75.1.0)\n",
      "Requirement already satisfied: tensorboard-data-server<0.8.0,>=0.7.0 in /usr/local/lib/python3.11/dist-packages (from tensorboard>=2.11.2->neuralprophet) (0.7.2)\n",
      "Requirement already satisfied: werkzeug>=1.0.1 in /usr/local/lib/python3.11/dist-packages (from tensorboard>=2.11.2->neuralprophet) (3.1.3)\n",
      "Requirement already satisfied: filelock in /usr/local/lib/python3.11/dist-packages (from torch>=2.0.0->neuralprophet) (3.17.0)\n",
      "Requirement already satisfied: networkx in /usr/local/lib/python3.11/dist-packages (from torch>=2.0.0->neuralprophet) (3.4.2)\n",
      "Requirement already satisfied: jinja2 in /usr/local/lib/python3.11/dist-packages (from torch>=2.0.0->neuralprophet) (3.1.6)\n",
      "Collecting nvidia-cuda-nvrtc-cu12==12.4.127 (from torch>=2.0.0->neuralprophet)\n",
      "  Downloading nvidia_cuda_nvrtc_cu12-12.4.127-py3-none-manylinux2014_x86_64.whl.metadata (1.5 kB)\n",
      "Collecting nvidia-cuda-runtime-cu12==12.4.127 (from torch>=2.0.0->neuralprophet)\n",
      "  Downloading nvidia_cuda_runtime_cu12-12.4.127-py3-none-manylinux2014_x86_64.whl.metadata (1.5 kB)\n",
      "Collecting nvidia-cuda-cupti-cu12==12.4.127 (from torch>=2.0.0->neuralprophet)\n",
      "  Downloading nvidia_cuda_cupti_cu12-12.4.127-py3-none-manylinux2014_x86_64.whl.metadata (1.6 kB)\n",
      "Collecting nvidia-cudnn-cu12==9.1.0.70 (from torch>=2.0.0->neuralprophet)\n",
      "  Downloading nvidia_cudnn_cu12-9.1.0.70-py3-none-manylinux2014_x86_64.whl.metadata (1.6 kB)\n",
      "Collecting nvidia-cublas-cu12==12.4.5.8 (from torch>=2.0.0->neuralprophet)\n",
      "  Downloading nvidia_cublas_cu12-12.4.5.8-py3-none-manylinux2014_x86_64.whl.metadata (1.5 kB)\n",
      "Collecting nvidia-cufft-cu12==11.2.1.3 (from torch>=2.0.0->neuralprophet)\n",
      "  Downloading nvidia_cufft_cu12-11.2.1.3-py3-none-manylinux2014_x86_64.whl.metadata (1.5 kB)\n",
      "Collecting nvidia-curand-cu12==10.3.5.147 (from torch>=2.0.0->neuralprophet)\n",
      "  Downloading nvidia_curand_cu12-10.3.5.147-py3-none-manylinux2014_x86_64.whl.metadata (1.5 kB)\n",
      "Collecting nvidia-cusolver-cu12==11.6.1.9 (from torch>=2.0.0->neuralprophet)\n",
      "  Downloading nvidia_cusolver_cu12-11.6.1.9-py3-none-manylinux2014_x86_64.whl.metadata (1.6 kB)\n",
      "Collecting nvidia-cusparse-cu12==12.3.1.170 (from torch>=2.0.0->neuralprophet)\n",
      "  Downloading nvidia_cusparse_cu12-12.3.1.170-py3-none-manylinux2014_x86_64.whl.metadata (1.6 kB)\n",
      "Requirement already satisfied: nvidia-cusparselt-cu12==0.6.2 in /usr/local/lib/python3.11/dist-packages (from torch>=2.0.0->neuralprophet) (0.6.2)\n",
      "Requirement already satisfied: nvidia-nccl-cu12==2.21.5 in /usr/local/lib/python3.11/dist-packages (from torch>=2.0.0->neuralprophet) (2.21.5)\n",
      "Requirement already satisfied: nvidia-nvtx-cu12==12.4.127 in /usr/local/lib/python3.11/dist-packages (from torch>=2.0.0->neuralprophet) (12.4.127)\n",
      "Collecting nvidia-nvjitlink-cu12==12.4.127 (from torch>=2.0.0->neuralprophet)\n",
      "  Downloading nvidia_nvjitlink_cu12-12.4.127-py3-none-manylinux2014_x86_64.whl.metadata (1.5 kB)\n",
      "Requirement already satisfied: triton==3.2.0 in /usr/local/lib/python3.11/dist-packages (from torch>=2.0.0->neuralprophet) (3.2.0)\n",
      "Requirement already satisfied: sympy==1.13.1 in /usr/local/lib/python3.11/dist-packages (from torch>=2.0.0->neuralprophet) (1.13.1)\n",
      "Requirement already satisfied: mpmath<1.4,>=1.1.0 in /usr/local/lib/python3.11/dist-packages (from sympy==1.13.1->torch>=2.0.0->neuralprophet) (1.3.0)\n",
      "Requirement already satisfied: aiohttp!=4.0.0a0,!=4.0.0a1 in /usr/local/lib/python3.11/dist-packages (from fsspec[http]>=2022.5.0->pytorch-lightning>=2.0.0->neuralprophet) (3.11.13)\n",
      "Requirement already satisfied: MarkupSafe>=2.1.1 in /usr/local/lib/python3.11/dist-packages (from werkzeug>=1.0.1->tensorboard>=2.11.2->neuralprophet) (3.0.2)\n",
      "Requirement already satisfied: aiohappyeyeballs>=2.3.0 in /usr/local/lib/python3.11/dist-packages (from aiohttp!=4.0.0a0,!=4.0.0a1->fsspec[http]>=2022.5.0->pytorch-lightning>=2.0.0->neuralprophet) (2.6.1)\n",
      "Requirement already satisfied: aiosignal>=1.1.2 in /usr/local/lib/python3.11/dist-packages (from aiohttp!=4.0.0a0,!=4.0.0a1->fsspec[http]>=2022.5.0->pytorch-lightning>=2.0.0->neuralprophet) (1.3.2)\n",
      "Requirement already satisfied: attrs>=17.3.0 in /usr/local/lib/python3.11/dist-packages (from aiohttp!=4.0.0a0,!=4.0.0a1->fsspec[http]>=2022.5.0->pytorch-lightning>=2.0.0->neuralprophet) (25.3.0)\n",
      "Requirement already satisfied: frozenlist>=1.1.1 in /usr/local/lib/python3.11/dist-packages (from aiohttp!=4.0.0a0,!=4.0.0a1->fsspec[http]>=2022.5.0->pytorch-lightning>=2.0.0->neuralprophet) (1.5.0)\n",
      "Requirement already satisfied: multidict<7.0,>=4.5 in /usr/local/lib/python3.11/dist-packages (from aiohttp!=4.0.0a0,!=4.0.0a1->fsspec[http]>=2022.5.0->pytorch-lightning>=2.0.0->neuralprophet) (6.1.0)\n",
      "Requirement already satisfied: propcache>=0.2.0 in /usr/local/lib/python3.11/dist-packages (from aiohttp!=4.0.0a0,!=4.0.0a1->fsspec[http]>=2022.5.0->pytorch-lightning>=2.0.0->neuralprophet) (0.3.0)\n",
      "Requirement already satisfied: yarl<2.0,>=1.17.0 in /usr/local/lib/python3.11/dist-packages (from aiohttp!=4.0.0a0,!=4.0.0a1->fsspec[http]>=2022.5.0->pytorch-lightning>=2.0.0->neuralprophet) (1.18.3)\n",
      "Downloading pytrends-4.9.2-py3-none-any.whl (15 kB)\n",
      "Downloading neuralprophet-0.9.0-py3-none-any.whl (145 kB)\n",
      "\u001b[2K   \u001b[90m━━━━━━━━━━━━━━━━━━━━━━━━━━━━━━━━━━━━━━━━\u001b[0m \u001b[32m145.8/145.8 kB\u001b[0m \u001b[31m6.9 MB/s\u001b[0m eta \u001b[36m0:00:00\u001b[0m\n",
      "\u001b[?25hDownloading kaleido-0.2.1-py2.py3-none-manylinux1_x86_64.whl (79.9 MB)\n",
      "\u001b[2K   \u001b[90m━━━━━━━━━━━━━━━━━━━━━━━━━━━━━━━━━━━━━━━━\u001b[0m \u001b[32m79.9/79.9 MB\u001b[0m \u001b[31m28.9 MB/s\u001b[0m eta \u001b[36m0:00:00\u001b[0m\n",
      "\u001b[?25hDownloading numpy-1.26.4-cp311-cp311-manylinux_2_17_x86_64.manylinux2014_x86_64.whl (18.3 MB)\n",
      "\u001b[2K   \u001b[90m━━━━━━━━━━━━━━━━━━━━━━━━━━━━━━━━━━━━━━━━\u001b[0m \u001b[32m18.3/18.3 MB\u001b[0m \u001b[31m96.5 MB/s\u001b[0m eta \u001b[36m0:00:00\u001b[0m\n",
      "\u001b[?25hDownloading captum-0.7.0-py3-none-any.whl (1.3 MB)\n",
      "\u001b[2K   \u001b[90m━━━━━━━━━━━━━━━━━━━━━━━━━━━━━━━━━━━━━━━━\u001b[0m \u001b[32m1.3/1.3 MB\u001b[0m \u001b[31m69.0 MB/s\u001b[0m eta \u001b[36m0:00:00\u001b[0m\n",
      "\u001b[?25hDownloading pytorch_lightning-2.5.0.post0-py3-none-any.whl (819 kB)\n",
      "\u001b[2K   \u001b[90m━━━━━━━━━━━━━━━━━━━━━━━━━━━━━━━━━━━━━━━━\u001b[0m \u001b[32m819.3/819.3 kB\u001b[0m \u001b[31m54.6 MB/s\u001b[0m eta \u001b[36m0:00:00\u001b[0m\n",
      "\u001b[?25hDownloading nvidia_cublas_cu12-12.4.5.8-py3-none-manylinux2014_x86_64.whl (363.4 MB)\n",
      "\u001b[2K   \u001b[90m━━━━━━━━━━━━━━━━━━━━━━━━━━━━━━━━━━━━━━━━\u001b[0m \u001b[32m363.4/363.4 MB\u001b[0m \u001b[31m3.1 MB/s\u001b[0m eta \u001b[36m0:00:00\u001b[0m\n",
      "\u001b[?25hDownloading nvidia_cuda_cupti_cu12-12.4.127-py3-none-manylinux2014_x86_64.whl (13.8 MB)\n",
      "\u001b[2K   \u001b[90m━━━━━━━━━━━━━━━━━━━━━━━━━━━━━━━━━━━━━━━━\u001b[0m \u001b[32m13.8/13.8 MB\u001b[0m \u001b[31m111.1 MB/s\u001b[0m eta \u001b[36m0:00:00\u001b[0m\n",
      "\u001b[?25hDownloading nvidia_cuda_nvrtc_cu12-12.4.127-py3-none-manylinux2014_x86_64.whl (24.6 MB)\n",
      "\u001b[2K   \u001b[90m━━━━━━━━━━━━━━━━━━━━━━━━━━━━━━━━━━━━━━━━\u001b[0m \u001b[32m24.6/24.6 MB\u001b[0m \u001b[31m87.9 MB/s\u001b[0m eta \u001b[36m0:00:00\u001b[0m\n",
      "\u001b[?25hDownloading nvidia_cuda_runtime_cu12-12.4.127-py3-none-manylinux2014_x86_64.whl (883 kB)\n",
      "\u001b[2K   \u001b[90m━━━━━━━━━━━━━━━━━━━━━━━━━━━━━━━━━━━━━━━━\u001b[0m \u001b[32m883.7/883.7 kB\u001b[0m \u001b[31m57.4 MB/s\u001b[0m eta \u001b[36m0:00:00\u001b[0m\n",
      "\u001b[?25hDownloading nvidia_cudnn_cu12-9.1.0.70-py3-none-manylinux2014_x86_64.whl (664.8 MB)\n",
      "\u001b[2K   \u001b[90m━━━━━━━━━━━━━━━━━━━━━━━━━━━━━━━━━━━━━━━━\u001b[0m \u001b[32m664.8/664.8 MB\u001b[0m \u001b[31m1.6 MB/s\u001b[0m eta \u001b[36m0:00:00\u001b[0m\n",
      "\u001b[?25hDownloading nvidia_cufft_cu12-11.2.1.3-py3-none-manylinux2014_x86_64.whl (211.5 MB)\n",
      "\u001b[2K   \u001b[90m━━━━━━━━━━━━━━━━━━━━━━━━━━━━━━━━━━━━━━━━\u001b[0m \u001b[32m211.5/211.5 MB\u001b[0m \u001b[31m10.6 MB/s\u001b[0m eta \u001b[36m0:00:00\u001b[0m\n",
      "\u001b[?25hDownloading nvidia_curand_cu12-10.3.5.147-py3-none-manylinux2014_x86_64.whl (56.3 MB)\n",
      "\u001b[2K   \u001b[90m━━━━━━━━━━━━━━━━━━━━━━━━━━━━━━━━━━━━━━━━\u001b[0m \u001b[32m56.3/56.3 MB\u001b[0m \u001b[31m41.3 MB/s\u001b[0m eta \u001b[36m0:00:00\u001b[0m\n",
      "\u001b[?25hDownloading nvidia_cusolver_cu12-11.6.1.9-py3-none-manylinux2014_x86_64.whl (127.9 MB)\n",
      "\u001b[2K   \u001b[90m━━━━━━━━━━━━━━━━━━━━━━━━━━━━━━━━━━━━━━━━\u001b[0m \u001b[32m127.9/127.9 MB\u001b[0m \u001b[31m18.4 MB/s\u001b[0m eta \u001b[36m0:00:00\u001b[0m\n",
      "\u001b[?25hDownloading nvidia_cusparse_cu12-12.3.1.170-py3-none-manylinux2014_x86_64.whl (207.5 MB)\n",
      "\u001b[2K   \u001b[90m━━━━━━━━━━━━━━━━━━━━━━━━━━━━━━━━━━━━━━━━\u001b[0m \u001b[32m207.5/207.5 MB\u001b[0m \u001b[31m5.9 MB/s\u001b[0m eta \u001b[36m0:00:00\u001b[0m\n",
      "\u001b[?25hDownloading nvidia_nvjitlink_cu12-12.4.127-py3-none-manylinux2014_x86_64.whl (21.1 MB)\n",
      "\u001b[2K   \u001b[90m━━━━━━━━━━━━━━━━━━━━━━━━━━━━━━━━━━━━━━━━\u001b[0m \u001b[32m21.1/21.1 MB\u001b[0m \u001b[31m95.7 MB/s\u001b[0m eta \u001b[36m0:00:00\u001b[0m\n",
      "\u001b[?25hDownloading torchmetrics-1.6.3-py3-none-any.whl (931 kB)\n",
      "\u001b[2K   \u001b[90m━━━━━━━━━━━━━━━━━━━━━━━━━━━━━━━━━━━━━━━━\u001b[0m \u001b[32m931.7/931.7 kB\u001b[0m \u001b[31m58.0 MB/s\u001b[0m eta \u001b[36m0:00:00\u001b[0m\n",
      "\u001b[?25hDownloading lightning_utilities-0.14.1-py3-none-any.whl (28 kB)\n",
      "Installing collected packages: kaleido, nvidia-nvjitlink-cu12, nvidia-curand-cu12, nvidia-cufft-cu12, nvidia-cuda-runtime-cu12, nvidia-cuda-nvrtc-cu12, nvidia-cuda-cupti-cu12, nvidia-cublas-cu12, numpy, lightning-utilities, nvidia-cusparse-cu12, nvidia-cudnn-cu12, pytrends, nvidia-cusolver-cu12, torchmetrics, captum, pytorch-lightning, neuralprophet\n",
      "  Attempting uninstall: nvidia-nvjitlink-cu12\n",
      "    Found existing installation: nvidia-nvjitlink-cu12 12.5.82\n",
      "    Uninstalling nvidia-nvjitlink-cu12-12.5.82:\n",
      "      Successfully uninstalled nvidia-nvjitlink-cu12-12.5.82\n",
      "  Attempting uninstall: nvidia-curand-cu12\n",
      "    Found existing installation: nvidia-curand-cu12 10.3.6.82\n",
      "    Uninstalling nvidia-curand-cu12-10.3.6.82:\n",
      "      Successfully uninstalled nvidia-curand-cu12-10.3.6.82\n",
      "  Attempting uninstall: nvidia-cufft-cu12\n",
      "    Found existing installation: nvidia-cufft-cu12 11.2.3.61\n",
      "    Uninstalling nvidia-cufft-cu12-11.2.3.61:\n",
      "      Successfully uninstalled nvidia-cufft-cu12-11.2.3.61\n",
      "  Attempting uninstall: nvidia-cuda-runtime-cu12\n",
      "    Found existing installation: nvidia-cuda-runtime-cu12 12.5.82\n",
      "    Uninstalling nvidia-cuda-runtime-cu12-12.5.82:\n",
      "      Successfully uninstalled nvidia-cuda-runtime-cu12-12.5.82\n",
      "  Attempting uninstall: nvidia-cuda-nvrtc-cu12\n",
      "    Found existing installation: nvidia-cuda-nvrtc-cu12 12.5.82\n",
      "    Uninstalling nvidia-cuda-nvrtc-cu12-12.5.82:\n",
      "      Successfully uninstalled nvidia-cuda-nvrtc-cu12-12.5.82\n",
      "  Attempting uninstall: nvidia-cuda-cupti-cu12\n",
      "    Found existing installation: nvidia-cuda-cupti-cu12 12.5.82\n",
      "    Uninstalling nvidia-cuda-cupti-cu12-12.5.82:\n",
      "      Successfully uninstalled nvidia-cuda-cupti-cu12-12.5.82\n",
      "  Attempting uninstall: nvidia-cublas-cu12\n",
      "    Found existing installation: nvidia-cublas-cu12 12.5.3.2\n",
      "    Uninstalling nvidia-cublas-cu12-12.5.3.2:\n",
      "      Successfully uninstalled nvidia-cublas-cu12-12.5.3.2\n",
      "  Attempting uninstall: numpy\n",
      "    Found existing installation: numpy 2.0.2\n",
      "    Uninstalling numpy-2.0.2:\n",
      "      Successfully uninstalled numpy-2.0.2\n",
      "  Attempting uninstall: nvidia-cusparse-cu12\n",
      "    Found existing installation: nvidia-cusparse-cu12 12.5.1.3\n",
      "    Uninstalling nvidia-cusparse-cu12-12.5.1.3:\n",
      "      Successfully uninstalled nvidia-cusparse-cu12-12.5.1.3\n",
      "  Attempting uninstall: nvidia-cudnn-cu12\n",
      "    Found existing installation: nvidia-cudnn-cu12 9.3.0.75\n",
      "    Uninstalling nvidia-cudnn-cu12-9.3.0.75:\n",
      "      Successfully uninstalled nvidia-cudnn-cu12-9.3.0.75\n",
      "  Attempting uninstall: nvidia-cusolver-cu12\n",
      "    Found existing installation: nvidia-cusolver-cu12 11.6.3.83\n",
      "    Uninstalling nvidia-cusolver-cu12-11.6.3.83:\n",
      "      Successfully uninstalled nvidia-cusolver-cu12-11.6.3.83\n",
      "Successfully installed captum-0.7.0 kaleido-0.2.1 lightning-utilities-0.14.1 neuralprophet-0.9.0 numpy-1.26.4 nvidia-cublas-cu12-12.4.5.8 nvidia-cuda-cupti-cu12-12.4.127 nvidia-cuda-nvrtc-cu12-12.4.127 nvidia-cuda-runtime-cu12-12.4.127 nvidia-cudnn-cu12-9.1.0.70 nvidia-cufft-cu12-11.2.1.3 nvidia-curand-cu12-10.3.5.147 nvidia-cusolver-cu12-11.6.1.9 nvidia-cusparse-cu12-12.3.1.170 nvidia-nvjitlink-cu12-12.4.127 pytorch-lightning-2.5.0.post0 pytrends-4.9.2 torchmetrics-1.6.3\n"
     ]
    }
   ],
   "source": [
    "#Necessary Libraries\n",
    "!pip install pytrends neuralprophet pandas numpy matplotlib scikit-learn requests matplotlib seaborn"
   ]
  },
  {
   "cell_type": "code",
   "execution_count": 2,
   "metadata": {
    "colab": {
     "base_uri": "https://localhost:8080/",
     "height": 1000,
     "referenced_widgets": [
      "482dc877128f4a9590d7bf0cd400f26a",
      "fb765fdbdf0647ee92060c540f4d5baa",
      "127aeebc02864c3ba053f0ae521e9e97",
      "7d84ada7448943dd8a6693e28b92e178",
      "93c083b06d7842df8b12488f98d02d90",
      "411a1729d3214dc4a64991ff246869e3",
      "71ebd6f9a73b41b996d0167091bf6e48",
      "cbba8c28911147d78e5d3655e1efc588",
      "46f8f22ca35b49c19a8b8b32ea3e4ab3",
      "8def65eb595b4f209f2bfb3dd58fa9c1",
      "a4ac2e71af3543a3b5ddd9f52da3f8d4",
      "2bc52b4d37e5498fb15e4bb0f6e2db12",
      "8dedb10fe06e409b9b4a4c16c849a4f4",
      "780cdd25d39d4624ad07710b52569b3b",
      "327bc8926df84f24bd2c6f391cc85bcc",
      "342c12308ed64a3990889626a30ff2c8",
      "00425f538a99481c96c6d76cee87d226",
      "03fbb9bdd38b40f7a228837b24a52aec",
      "9cc17d0acdb24b24a66c146a43c67867",
      "7f282dea10d34f5fb2fd5ed579baf1c5",
      "94f9ae3266304777b018dfde86be93d2",
      "82994aca12ae4fcd9b4c3781211955f0",
      "2c0a092873374e79a998eb7cadfe2f90",
      "781297bdf972482b892003911291b083",
      "54ab504b859b4fa5bc12ddcd001d4af9",
      "aceb55036dad4d8bbff3941648b3a35f",
      "32abd27d4a3a4b4d88bd510bf3595906",
      "06da9aba75f74b2b9160d5075692a506",
      "7430a717c210440eb816f00242f1f16b",
      "ad575c4281094706b031162a32281de3",
      "ef5b14bfd5c34adba61118d8bf86cacb",
      "f6159356fe7a4573a4d621b374b8a7da",
      "4c72d8e16bf444e69deb4dded10a14b0",
      "a3593e8ff00344f18dcae6aa5aac0ee2",
      "c6c82d9071354dca8811058d2dc861f2",
      "d9485e3a78eb4c6995485f72df4a1a10",
      "7235d6937d9842faa630dda27ced0fa4",
      "7878b1fdc6b943099389770fe43493da",
      "373e8e906dec4615861e681cf174adc9",
      "5521753454d947b197ba2944b052e143",
      "da94e25bdcf54fddb59985ba4c58ad30",
      "12dbdc2b7e654c46a2115f09c98f1aac",
      "84c326ea62804d43bcf55365768949d9",
      "b966521d23c14ad5a728600c712b1336",
      "5ad48868c14c47a792f37f5205feceeb",
      "838ca6254249447285f240d57744aca9",
      "9ec8e608372d40628550fdbf58cd0355",
      "3f8416de2d2a4bfa924c30d6e8f1b04e",
      "352dd1afe35d44978b481668fa4485db",
      "465da9f318d64ea39951eba5485ecb98",
      "76f031adb7d34b6d9a4ed09851f6264e",
      "c3d213723b8b4fe0b6370d9e80d1a482",
      "72a1b53a2b2146d288c5aff5ee56581a",
      "667fd8f8fa66440289519f99015f12b0",
      "a226a2cb91164f0693378149a481129c",
      "a88fea1c3ef3444d8d6d4b4db45b9580",
      "e90e0561e8ff4712a31d02de5717a55b",
      "354848229bf24f0fbc0203ce84e6b3a3",
      "2853483393b3462ab7ba21b7bb06f35d",
      "76abe7d72dce4d0e855d5f1b8e3326a3",
      "004af0d34c074ca9a902d95df3b97c64",
      "129a3ebb08064c3f9bdee13f92b046df",
      "1e8abb73991047079a28f599a1ec0829",
      "136f1baac5e147c5a3a9cc41edc165c3",
      "02dac33835174292b6bd42fc485cebb4",
      "02cc51677acd4f949e09741791e83188",
      "23b5d3e7562845f1a17ff236e47850a9",
      "fc085400c2be4ba3aaf0519340a67345",
      "3a63be195e7f466196475d6a016c8347",
      "25b47f46479c4cc4855d2819432e6086",
      "806118eae5dd450cabc6a75bbbcf3d0d",
      "b3012351d8994448957989e411fd49c9",
      "e6685e65d9a641cdbab887e3a425113f",
      "ecb5fe69ac96474baf0c87bb935f25f3",
      "f75f68d6816e4c9b822f5072b4ed46e6",
      "58faf111688140718bce63b4d4abfcca",
      "4da3299836234f0daa770af34f39462f",
      "d9217df3d0a04ef5aef80e802542b24e",
      "8f51cc634c744d3b866a9c144e416107",
      "e6ece909ff264262b0ff858e3c9ee841",
      "1db6d0f5da574af9a825324d9fe39443",
      "efd4bf4697ff4a249316b7ed17546521",
      "43edbb5e97cc442cbd047d54cbb8420c",
      "247bc2e1ca4b4e1fb1d1046a5129110d",
      "61467094eb4d48e3b4c113d8837ff61a",
      "5651911cad3a489493d83f7296f5656e",
      "4eb348fe9752444d96bd5702375822e6",
      "700d1bac9b14477ba1c580c9fd42f78f",
      "50594f7b9be34660bd6e4d6d23fa96f4",
      "006e7c91359242498dd4a6d11006c657",
      "f937263cdc984a0a9a2f12c6740d54f7",
      "fe76fb7cd9af4f2caf5abef3e0bd4e52",
      "ce4e17db0a64467db277d78248865c8e",
      "1bea2ea9d2f8430b88a86f7bc8b6dc78",
      "1309500c0caa4ebf9bf00b3435972496",
      "fd867878774f4aa7b5285c8de67cae2f",
      "cc4bf858c4584fa9adcc26afb2303b73",
      "f7486c60d8974ad1966fcfe953138195",
      "7099f71bd7fb42b88e8e06d17e6cbd22",
      "3f6ce5955faa4e0bb43d3de5e85f60b8",
      "68e46add34484f7690f4cc97896bdc52",
      "fa2c515c482646ce9b42bdf16ffcf11a",
      "a7f4e92cd3694340afed3c422dfc4f97",
      "4b8e68fd2379492884cb2b41825fb0bc",
      "995c20059280452c8933c1ea106c5e24",
      "0e058e8d01af4659a50488120c2b2113",
      "4867b398848249c1a39d9192ac18a158",
      "586b8db9f52e46e894fa5cded0e3219d",
      "f5224c1680b740068bc020ce1485bd79",
      "8adf8325cba948d19a3ba6588bd49913",
      "aba96877e1f94315bc3424d12e1dfd53",
      "aaf28d24dfc34ec6a5e3e93047619714",
      "26b64e13f1684feab9f623ad7ccbbd09",
      "c1554d70e27b4efea7a1b6bac7172a79",
      "990dd2e6aeef4b2ea441884e296624e7",
      "60ffb1d4208b4056b5c166a48803d8a0",
      "34f900b35cd24e91a2b1b0b0f1472464",
      "f32a02b4268a4727a1c96a76621c7fcc",
      "a34906ffb57942e9bde35271382a404e",
      "223ff0fabf094ac2840112e5df456086",
      "b7e04a7dc559448d996b3aeed1c69445",
      "5c5480d67f1e4844900d77bcbc628ef2",
      "7beda0207d8c40d3b3cba56b6f0e5791",
      "521be34e587348309636b724db90f99f",
      "e24623b10d68425fb242754a67a681ca",
      "31c1872b3278472f972836fa077be308",
      "ed5adc5d81044257be767a8d8d664d9d",
      "7bffcc08de4646329c68cb9fa724a3c7",
      "e1531b6412f540cbb904dea3986ea5b0",
      "301c27e893a44af6861a35947b64c5ca",
      "0e5cd3ab284d422bb7408c6899cb0927",
      "8d5352e3b9054809bc40a34a54a8dffe",
      "a4fdb6b2205e466aaa758c445868b77b",
      "3af702416e414139be115334efbd74f6",
      "498444002ec5483cb407b8f307e40c59",
      "1ac85bf90d0a408ab83dd2df9b3a0843",
      "94c88079f57d475cb6ce5c85518aea67",
      "689ad803d4b242ffa650d3fbd24f630e",
      "9e1bb59310104a53b15ad4ffa92d9be8",
      "0ff1f2d0457c4f2b89055ffd29ef6264",
      "3984720751a94ce490b203d07069b5c5",
      "2c87a1903ed64c46b1339bb2f02740f7",
      "40c4e5aa9f484188809ed7cd6749c55f",
      "32cf24719fe440dca9c71ba9efdd669c",
      "1ce4f34a6e0d47829695c82785677442",
      "eb05f5811bd148c996b045f60478709b",
      "390c8897953b43e591426f44b9cfca3c",
      "650df7c004bc4daeb96c35a65b0f07df",
      "04c9e014d5344567b8bc44f1e538caf8",
      "059cfd8d34794482ba60a3939bfbb89c",
      "7e776c4d2bd64e449ef515adfc554f54",
      "e4ec2e8d03e340f8aebe4b87024eb649",
      "6ce7acf2be394f6f93567b1fe478943d",
      "029fde2e9fdf4530a635b18dbd184b77",
      "be27b286728d475ba6825afc0ab79787",
      "d526ecd3a1144814b5706e44bb280b9f",
      "2ce9ba18d78e4871a653525ce588d8de",
      "45625360edda4c6a8ac0b838aa8ff0ee",
      "8d1b169596e04396863037d0cc0cdc87",
      "cf50ede2aaa94b06b30c4814fb7a6d09",
      "0f3cf71f78e74dd490817070d1e486db",
      "838e4ff52bb941189fc3dfe81ad3a95c",
      "54666581de3446b0b2cc48783f57ab17",
      "c392fe06120a4260a943e69bf604f132",
      "622e4337cae34028b386ec9429db04d4",
      "b7855ba3efa349dab46484bf373f9181",
      "6e600af3b6db4cd9a9e9fca79a3a12a5",
      "a72a9daf1c4746b194dce3928c9a5d91",
      "3027e84fb85643f6b679243185c48a88",
      "2b2a231fbe8a458d89d47cf8746be4ab",
      "97619b797d934cdca8d5f67767f0a79f",
      "97354c219a8f4e08acd884b916920732",
      "3d5d50f9549b4530abc0cb59ed764429",
      "70e8f2ffc64d4aa790a89e11cc1b97d8",
      "f675b3490d63464da667cbf9af8ff0f6",
      "2f006bcf8d07480abde309a32eb21ec0",
      "4f366b440ea345d39d2510fb071bdbc7",
      "843f27339ea741bf9e58b0ab0b446c19",
      "914c42b2728b41d0b99ef3406da235d0",
      "5018cc66aee541139ad8e7d90970ec0d",
      "44e39ffc18a24e809445c2b797d7aa02",
      "42ecb55d72a94922866d6f1b1b326e28",
      "6bc3f2d3800b4309beb165de19e2c93a",
      "df6bafdbbd9c4b1986f56cba12f90605",
      "f7785fbf09e047ec8ef2ae91713b5149",
      "7919885810da47c087abce011d7f533e",
      "8b637a751b3746a58e25ab22f2d76621",
      "6617fac951004e9a8521f57b648b41bf",
      "a5ba2a5d0a4041fe8a84a28c12930b31",
      "ffd92279545e4828b3320b108cf93656",
      "591fbce75d504a67a4906648d7c2e62d",
      "c7a738619b14445eba896d2704f3cd68",
      "2c15a256895c496d8d79bf79e58978b3",
      "69cd8819b1e845658725ab76aab70b82",
      "eec366d40a3c46aa98955d189d28b229",
      "1d14029d56ef4de88cc2a59d07593401",
      "295879b664ec4bc7a4f42653c52925fd",
      "1686e9fb6541499c8e1b4e32a3a5800d",
      "8ae9880dc39c47e488c27192f97a67f8",
      "ac196d60d26a44f0825147b1ac868797",
      "3747811225254ba5abbd0f216cd02ce7",
      "3ad691f56e5d433cb6a806f3cbd850e5",
      "4594dfbb919546a18585b11ef1cf893a",
      "32f98e26695d4ff1bc3d65cbfa137578",
      "528da9c66a0d4f14a80454129db49784",
      "670fe4100ff64eca878961deb4b0a1c2",
      "f5dbcc9738554a9387a8a688258b8cbe",
      "0e642512a8ac4c2eb865e1bafecab0a6",
      "368ce8bec18f42bd8ff0233a4ccea8f7",
      "4676b42a23ab4c74a32a187636c83581",
      "cccba195ee044619a2aa45b5c5a94102",
      "29b16a27ecb44dbb93a1fb3dfc05f2fb",
      "b8c0f50b70474d5a8873386c81ed93fc",
      "7a60e2bfb20945d1ad9b937c543978d0",
      "f26f019bc28a47b5801f4a7bfb2ecf19",
      "317fdb1202dc4eb7a80c8933fa770bc2",
      "570d4551a25d486a819834fb9363deff",
      "d5ee78eebc4b4aaa894360332c2487e8",
      "8d8fdb23a8e0454ca902002a04a43b6d",
      "67371933d1d54fd886fbea25b0a65b05",
      "54e00757dbf348de913f2499d8576385",
      "2a8700eccee4496e8219455d323db7a5",
      "d9670edaa12a4754bba3aef2417df923",
      "fad61eb0aa344d88bace113d3f1fd103",
      "5f38d2efcef1420f8c9f837de3945470",
      "f4cdbeca29ea47cb875614673f199724",
      "fcf20df35f124101abe7a3fc6db4ea07",
      "e27c4860cdf04138b76cf403d96228d2",
      "769f268536aa4dc6a1e36cbc85ac2fc1",
      "57dd8309150b48a0b262b8b964d8243c",
      "7cd9f610c7394824b79e82e3fde036bc",
      "e05769ff05704173b59c1086234bf895",
      "f99a06a3d6ac4474a0293cfc523a2d37",
      "7f3084ffe3e0464c9ddfd0c3bb84758c",
      "27ad8ab0c7494ecdb58529de6643be70",
      "eb6d99ebbc1549a79828484262026e3f",
      "2f8e4547ee28409998de55d5bfad263d",
      "e43780ea55434571b16fa0b77a2c1dc3",
      "3fd3528285f7490182bc493e0ba78b00",
      "f3274661823d426193c7613988cc3a46",
      "691584a1323c4029ac49c2f16e0a30f1",
      "2880c97fede143989fb1576346a7c777",
      "e6ea22e471084b55afe0791a2f86def2",
      "0fd560c0ee7f40d89499aaed8597c0d0",
      "b9ceb05d990e41388a1dbe0455cd7048",
      "c478619c35334f5e8ce637932293dee2",
      "2f790a199de94e079dee690fdd9ca101",
      "fc28f59c16294d85a71770d1dae74af1",
      "14781c4b9d8d49cdb7f6bab1bcbb77a4",
      "64282b853bfa4f3b811812fe86f30e2f",
      "4eae9103da1f4a93a64fae67af75bba6",
      "5fa529adafd344d1adb540012e3a1e80",
      "0c74014db525462fb96b544acecf8948",
      "e7df202a34944587835d5b9738db35a1",
      "8a8eae3abe87414f813c8c9f70421e82",
      "cf6c1b3cf69f462097651da5313016dc",
      "14fa66f1ffb4402caedb66be26c34b05",
      "5f07bf10f843439bbf08073fff3ded9b",
      "f82faf5556534265ab8f0fb9f4dfc008",
      "657ee7df499b4cdb8821b064429890b4",
      "50a9c8524f13426985e636067732dea9",
      "0b5bb3ac5d2f495da2f1b9301fb9f6a6",
      "a7a8d60a333b46df8ae7fad3eae730da",
      "d775462b9e9a4c898ff95c3c25130142",
      "f61ab81fc79244dbba6ae565f2e5a93e",
      "0b35a0b047f7498a84bac99581411de0",
      "db2e2083157a40128cc47a283b47d76e",
      "dbd3b958425446acbd84674d4c5b1d3d",
      "c26c1c6eb8ce42b1a5e6de022fdec8da",
      "334f0b0171d541d8bfd1e6b7e993d88c",
      "3d853786f9334f03b61f6e049f344a9b",
      "9e096fec24c2421483c767ae92b59731",
      "617dc09aeb8943f9b858b48124e045e2",
      "2c564de3208d428db5997de2ec19c533",
      "afeba3a1e88a44d89e3c35ec77580d9c",
      "74c92dfc6caa489dbba683a2b08863ba",
      "d09455ee63994649beb872ea400f6b48",
      "dbb129a8e2794a75b10ea72b1785168e",
      "2c3873716ec3482e8dfa1af5e66dabbb",
      "5bda5f8fe9a74860926c470d3d86f92d",
      "e544c6b1e8f44d9c91cf85883dbae7d3",
      "4e4b90145ee24e71b456254a940f0c5b",
      "26adeee6af204727ae5faa12fd4b6d54",
      "c72878afa49b48bdabab41d803d96db7",
      "06c29fe465524610a953baf969eaf390",
      "59eaa376f02f4c65a351896651d2f37f",
      "ae9d094159b84644805b559c514f7679",
      "e22e33d6c2544553b17eefd075f95d6d",
      "1e6e4d22df934f9596176c8b68d9049e",
      "a93280ca4c3b4b62b2c93ebf8576e808",
      "405ff2d2dceb48a6ad8a58fd1f2f6a44",
      "8cead2ed18434814a95f139af30fb266",
      "23d911f08033457c963c189c36e31160",
      "295e46ea7d1344c2818ea16069dfe851",
      "1ed922597d4743b9864b05dcfc951bea",
      "2f422b54d7544ab380b5a204a0280c8f",
      "cdf2cbd17fd54a9aac62436264e4c46b",
      "a82ff77b02aa4ff2a5a0f321e5793ae8",
      "2ada06d09024450da31867c26d288896",
      "73bca46961234bb187d5fed652958e67",
      "d1f7f3e4fe83418da675357e56bf5a7b",
      "c9d5981737fb4ec28d07fe7199d36932",
      "ba8c72982a8643acb1b71c6ea7c4b39b",
      "5d3b004884a444a6a7d54c92fef658a9",
      "ef69f292b249485ea4f9fa3e9264540b",
      "ab68714558d34628ba02b20dcf6ad464",
      "e2ca276025434105a20d29a74487a4e4",
      "e7d1f848c49846038953a9431e84657f",
      "6433c361d4fa47e589c10999b70e6250",
      "4c1ef040c01a4f9e941aca9421bc7151",
      "65a0a9b5fe5e46d8a5afb6a7f9e28673",
      "88f5d926f92a42a3a2228cbe70160e34",
      "3afbe72b916e4972975374b2c68a4609",
      "a1db8d16af2344b28e8c18e1f634eb53",
      "08da1520d3fe474b9cfb250f194177b5",
      "a967cf78127c42968d6b54891a87147e",
      "e281479a49794525aa89dd87c81a37e9",
      "e55e3ad9aa4148f7b9d436bcc5a16796",
      "9e0226e515c14ac5bbeb0020c3aaa44f",
      "0468d307db0d4e97ad0d36f2a0b4fea4",
      "1ff2f33be92d4b999bbca72dcbee77ef",
      "e24fb87d73874d138f2bc802cd1f70d3",
      "7261dac1eaba4a29b47400c1a01644e8",
      "8e34e457f5ef4a5599b7ca9d4745f1e5",
      "0f2cd2e4de3644a19c07486825df0319",
      "66eb7ab438474ce6847b3774dc2f980c",
      "6fa52ebc139c4df7a3725721c38858f1",
      "8a39d6716b684ec685191cc54c8dfb01",
      "1f94322edb5b4f73a91de8d83589480e",
      "54a502dbbe1a4f5faea72e40b3c727d1",
      "14f49093b38a486aab37af8df0499ea3",
      "e3747c135164429eb14c87ebb2fa3430",
      "8db1cb1701aa403fad7aea35b57b95c7",
      "364cb16b245b4725af55ea989e26f1af",
      "bc1f5e8fa73f41adacd3e271140ef75e",
      "dc940b18f49b47dba23bccf50eadf165",
      "65fd269a05b74d6bbd748bcff2511816",
      "98abdebee9ac44f79e073d25f169be7b",
      "fcac4de097f14ec9a3da7a99988c7ced",
      "7cffec8774fe42f6a6a5d4f0bf37a5b0",
      "e923e9178c7145f98c1c611ee2e8af17",
      "117717fa9fe44e40bf2c9104c341c4a3",
      "7850c469490c43658a798d7a119f256e",
      "a061ae13a2984636b2e09e4798dc4c03",
      "8b6d0d81f8744483a9938b008b495b5d",
      "1f126ae2ab544249b5a8fab9205013cf",
      "1e7a2e4f36c7406994cda71899cdf8f4",
      "1dab5d6e4ecc4b399f57fd6d67b24380",
      "bb3358d4fc4046d8806baf6ab14f3932",
      "35a875054cb64788a7647919728c8e3d",
      "ac703aed2aa74507871dfc9119247f04",
      "7a39b3ee1e1d4f1fbe0827d2c102a9d5",
      "ce24f03e326d4000a7290f8279330034",
      "c636de65e76141ad81aca4a06fb4f60f",
      "db0e946bef634a57b111cd0deb4ee3d3",
      "ba64a4ecd69f47fab39577bf7698e80e",
      "8b87c3d3996a4547917d2bf89159b433",
      "040a9a26caae44f0bce2f51317389020",
      "25522f82bc3e4feaae20936266c40a0a",
      "cd2c2f54232845199ae6503eda60720f",
      "789210da1710475cb96681ed2bd2222f",
      "a70d56a1678241beb5549664b22d5f65",
      "fbce070080d34d37878036e9c964203a",
      "7d98c9f4f5524c7e8eb02617e773378b",
      "cfaa47d7d31442d294a213ab2a822204",
      "1be9f06c6c5c4431afe86df8ee36083e",
      "3bc2d8c3e2c04a1cafc3a0d73973efbe",
      "d4fd6cd972014cb7abb69176210ca93a",
      "a2cb309f123f4ace99fb8a4e176b0d0f",
      "7c9844fdb6724cc1bce6abce1f440a6c",
      "97018033651a40a4b171bacab3bc0a6c",
      "e5a13e7cf5254efbb5029cc684dc7687",
      "2ada13eafb8846fda9b1c6abfd7f0923",
      "c393d40048784153b11e89113bee1c4a",
      "c63816a323cb40ed9776a54df1ddad19",
      "6587d84bccc64410a34b877d489fee79",
      "7c48ed6199744a53bca871dd64b5886c",
      "839b0ddce83443d2adfb535130f29b82",
      "4edd73fe74e94686b6a6449f5a923530",
      "8c8d55f6968f4b0ea01b75f761fa5118",
      "712baf314b55427cad9d3aa86fd1d25d",
      "c218d231e3274d29b76547d1b4653f46",
      "974dc297368a4400b3173bd90e763c06",
      "52ae2abbb89f4ca68a7d6476ff1a6715",
      "52f968ae69e0458b9ce25f26bb25d18e",
      "7d4305fdab0f4e6996f744629a26f00e",
      "2d7928dbc47249569ce79364a496bb73",
      "524e36a9aa7040adab2116c7e9e9f631",
      "cbe5fd800fe7484699cf6e16df819780",
      "c9ec416ddeeb4402b70480bea46e0e54",
      "56c583328b8f45f08c6acf94ae892dbc",
      "bbf0d7e55ae64c3fb0ded431b8164bbc",
      "1a5fe5ff14444f6fbe0f2ad3d5b58693",
      "e1331341924741fa9d1d6ea826bebd9f",
      "b0b0c2ee48b74c23b52be7baf47c395b",
      "e2e87f43488942e58b694906aacf0b45",
      "cac2e7f2a68d40e0b5e22d10aeff1781",
      "7381c89764bd442e8fa83bc2e073f6c5",
      "a6d4ffe658dd4db49364508f0d33632b",
      "7da923447a894e1598f95e8fcf8fded0",
      "4ef5ddcdb0ce4325af9ea55f6d1beb7e",
      "7f978cbb32f24fd88a824636069e4d8e",
      "905d4efb9ec34c0e883125e5fddae31d",
      "e4418dc3685f40838c75944cf833261a",
      "469fada4624e47558e2b5748a326575e",
      "7caa976fe8994a40bf1a198e0ec018fa",
      "ab9b3b129c6947dcb05da55c9eda0fea",
      "63258859da834e8691607aba03a67439",
      "4a054f65e19f42ed951d535a2df77205",
      "c7960df77c9a48ea86f571c8eefc6786",
      "8484e737bd2347e886ec23d220bcd687",
      "5335a1f8c341404e8a3971cb817594c1",
      "54f41c12cc1248579fe2375ea58cbe56",
      "d42373a80d2d41afba8ccf6c9f68ff96",
      "55c1d72ad94f4fe3ba31ead8593bedba",
      "90662a7c83084d4d85e5bd75c35f9dc0",
      "d357b078748443c29f822786467bebb9",
      "664d2869c8a04b7f89cb53d381b2e439",
      "72f920a0ad2d4aad99f93016f87755d0",
      "4cbd92023ddf4e71b366da2d6f2784ae",
      "08d7fe677a874342911a67ed310663ff",
      "c0681afa399e4416940c687444756506",
      "d7c0a8b4fe3744abaa63c36cb823a49d",
      "63fc691d9fed4d669cf122891c292295",
      "6ab384ab6bfe46f598e334d9d4b84a87",
      "6c0a7e7729e54230aedf9093796d52ff",
      "b7897ef0e54c4d4b82c188d8cb6b55b5",
      "b3f9362dcc274fdd8a8496de8d5c3360",
      "8efc2d4fcecf4739916a39b3ef2f1b87",
      "8855121115724319986667aeb51f3d68",
      "08474b04ff80490dac04aef14aa0ce67",
      "79c4c499817b4ecca472009a1b24dd72",
      "20a022f83b1442c799f0178f26d6824d",
      "269fdd88a6594c8e86c7a16fb87dbcd7",
      "ef60962f84714f4c8c8bc26a17cd234f",
      "baa9becde1a34f0a84d7bc3ff47ec55d",
      "77d942e6b50d4035afadfc1759fcbecc",
      "6e125707d847465994b0b13e6a371fc3",
      "0ffa28648b2f4e53bf7062bfede1d8fb",
      "881033cc4958495487732111334fe216",
      "a5ecf07f01a24ec78ee479abd90c3f83",
      "015b29b041354a218864156b7c510f31",
      "4628d39749ab4a50beb966d7442ad61b",
      "6c50a06054ab4bdfa6f9749249cced55",
      "08a05abd292c45fca54d5b95d694e390",
      "8d10956a46f5404eba9f91d2a8c49906",
      "9242c44e1ee9442d90b5797be8831f31",
      "b67f6d3379334e098f062c574063bd2b",
      "89f201d92c934c208abd42224336e352",
      "61df82c38b1f4d71bec711f47294b684",
      "39fa83cd365646908bf471fc266ab8c7",
      "5acc196e7f2144aea3d0a20f8aece6cb",
      "7102c1b93c524e16ab71e5bfbda7f647",
      "992267d3aa4d4f65a219e2561b8ff111",
      "0dd2bf99d009473a99d6522acbc67ed7",
      "d50f280069024de48d8ff15fb74f065a",
      "35eaae61d0244224b2d414f7bee37c87",
      "f1250e840c154ea5ab6ca6de4ebfb251",
      "86e603cd9bd84081bdfde12d7f333189",
      "02c6ac74443b475aaf3e71a4a8c36761",
      "3e84c2c034714fa393a3318daabf3171",
      "36315c8ae607431aad80ab5d0471e4b4",
      "7595749b58d84981b10a07846f0578f7",
      "1e5b697ad963429a9f8779b1d0b65fce",
      "15e94e6ae00c43208d18e52a708ab754",
      "1eeb059e76f94343b598b5491529fc30",
      "126824b9d95d40a49ec6391e05ed3c8c",
      "1f6531c70a674742b06b0cf10bc69873",
      "20df92534d124957b3b0b48f731567ad",
      "bf726bedb82741c3ae54bea1032f1967",
      "b453415378194f96aaa645c4011c70de",
      "83c864cbd0a84fafb9bacde9e917b9e9",
      "bb55af9fb9454ce2a4fd392fbb6288ec",
      "7754e25e2c314ffb979e3c935acdfc89",
      "2b51baf137e441f1941f4101d6f46145",
      "70ebab2dad534fa1ba08399f94536185",
      "17fbc37cd7de442aad6e380c19c4af08",
      "e1c2429ad0d347bfb7b6b48a5fb78abc",
      "5aa3fc0d4aca40e892c218b18dbe4975",
      "b8df7091e2af4826961f07c6d55233f0",
      "991c56d94d8c4bf58b6fbea1846f0418",
      "7f3c0f6e5a904318b2eda7a0eb7a1a1e",
      "24a3802a828949a6aad5d945baf0f54f",
      "db24ac87831e429db3060603af7c9835",
      "699ed21e4dda4e568e5bdca69de6d956",
      "13c3fdb8a84248e7818714f580230247",
      "5bee93c080134ef6aafda1276535f04d",
      "135466f7a6cf405694d8e00342da5546",
      "d34f2289c5b14853877aee7a4d2c9e60",
      "daeddf582b484862af12015ce3002c65",
      "ace76e6847224b2ea866c01f90a0effa",
      "bc59263440b6497db579ea08fc11c4f9",
      "1ec2759afa2941798d37bf4f2f98c620",
      "24044a89f9f84462b1f69eb5bd45c63d",
      "709210fa03a048e69cd452f36ec48def",
      "ed7d79a4947445ebb43b384a19a0d2dd",
      "9cdf5595c15641068cc9c1f461ea8802",
      "1212d90f476e4100a9028058ee075414",
      "0a9005d404eb4cbf9e67de538a0465b6",
      "d497117255f14ad7aca17eaf164f9b13",
      "403976c7644c49f985ee43d05849fa6b",
      "be58d8c8932e414c847f25ba28feba0a",
      "70dddb982e764d8c88640da516a8841a",
      "295354f3d9e640d6b34c6c6a597c4fab",
      "5a09660fc1c847b19a983745ceb85b50",
      "7376502334334130930e7fc79b082c11",
      "2e4c1c6697d846d4ad648fb40430e5d6",
      "23efadd1f8cf4d7ebdc7ee20aa745b6c",
      "5bec3a569b404e8394c86faf957c1889",
      "7daf93ee1dc74a459d70ed02d7a35b95",
      "abe558116e7e455bbc999c032524d4e3",
      "822168cc94154cf1a5207a5f3f5915e1",
      "e2c898f14b7d4dc98f2d1f30ea4423e7",
      "c8c9067d65d04d6f93c9683c7d23aeb0",
      "413bd481950143d3862e412d16a09ffa",
      "189e14c587754f509d7ef63b5a51990a",
      "65af2e7525e34e6d96c8943259e35223",
      "6d9d8b7c22a849b1863b5fecbd1025ff",
      "d923c418a7064d648aa87e7fca1b8b25",
      "e2cf0a4f9eb84400851d6d9579ef994f",
      "2c43fc5bd68f4e47b6e1d3fdf45d6543",
      "4ca2fcd7a47048d28daab3a4ce176bce",
      "739544a80c3747299ddd1cc195a2f7be",
      "3b8f4b3700744e018ab27aba2eca6927",
      "657f96fae62e4e8390404e785f64f84e",
      "aa2a7fd3f0904a018f2903678f8cefbd",
      "b6fff06082aa459c8a4e65c64fcd1f4b",
      "599dfa69656f4d32947dc7970205b374",
      "aca9cc94476e4ce0b7f4ba3881a0f5a8",
      "e643436d9b4940818227e0c04bec2428",
      "999a5fef333a49d496fad40401399b86",
      "6950281bfd3b4813a91a54a137ae17ee",
      "6316d7987237441792cfd55bb41486da",
      "0b73232a6e7d4b49b989e8445276c72f",
      "2ef0e6df73864adc92fa58ac114985d6",
      "fdf75b39aeb44e97ad24753fa333fc9c",
      "2154f484b07147eb90b55d87a0978525",
      "1f8604d528534d23b6482c9e056bb9f0",
      "bc1360b80a29445385cb8d91ba7aed95",
      "de51bc4d8cae40e39eadffe08470d557",
      "418c0755ddf642758efb06be429bc95f",
      "53c39c6f426e4fb7b752c2c8cf891ee9",
      "3ac30271d58a4884aff613fbb49889cd",
      "59999f23c5d0448999997994b574f9de",
      "e3c155e3825d43948ee34c0c95736a9d",
      "5a2f0e2396db4611b2ab7fd9cc76a682",
      "edf301aa7db047e3a4a730d7a1eccb2b",
      "bbaf8053e22d4f64a188be8c2ffcf888",
      "2e37e1e41fbc4d47a8b6f92349053bf5",
      "ee78cc2540714e18be8b10a6934b7d4d",
      "c18728e9c3db4d4581ef6c77202d6393",
      "f1ea4335553c4fa898fc8477effef5ba",
      "1131ad867f5d4f2186acfd1fd3b9fc72",
      "0d96b0b4815842fcacb9de6de02175f0",
      "5b61be5eef5948e5bd402e9615dc471b",
      "38ac9ee20cba49e5955f977f39a88f9b",
      "0691d063a8bc4f268b8f4b2f98dd4535",
      "2b7acc4054e44e82a58bb466124351e9",
      "cc963ad1bb0a4b4bafac06e1d0c8da59",
      "ef8c45367e09440e99d6acadc84d6789",
      "6f363bc0510546c3820dcf4697a2cb77",
      "d6a9f8d98e4a4906a0a990b3ccd915d5",
      "a2ae7160da444a3893201bd087135323",
      "cf0f48a19b5848c8a4dbb135ca6d3011",
      "60340b8146a84a79963891b13236d72b",
      "5b9f1850401a4b3782e7af3313526594",
      "eeceab9f94024c21a6db4c69dc334091",
      "00d49675a58e410ba3b4b2cba0775663",
      "8386eede9d2c45d8922d241368d1291d",
      "57801d528c254b00b980e4ceda3c043f",
      "f146be60e7fe46a1aaba390161bdcb18",
      "ff79d20e58314912be50d82203a212bd",
      "5ac846f75a5343478126fe66f538111a",
      "c2a8201784c64ab7a1e421213341fcea",
      "15a6e788b3a44ff184b869b68457a6e4",
      "d8e592c5aa2a4707956b5fd7418c7f29",
      "3935b36248d54ff299a5ba6ba86fee00",
      "40867bcbcc824cab8e14becda00276eb",
      "64aa544a269f4137a013dc9dbcf919d9",
      "e536ab47dc9a41b4bb197612f9683b42",
      "0e2f32e5243b46b292d83a72d86118ce",
      "2782f5861e6341d2a53813aa6fdf7b3a",
      "5333eae6d677491db5f7b8832a92a3cb",
      "e2e6606499974106a4d4859bce65c26d",
      "8fdb9fd8a23b4ef8bcc3db8336f8b178",
      "95e5ac00dbda4c30949b713860950820",
      "7e1c946a2fc44c81b9fd9231ea7e8ffc",
      "0f0f8b44062e4659afe8b6b7b9e06d95",
      "3c7401b171064923b17bbbab9de258e3",
      "1e96db2011bc49f89908ad88b5ba8a87",
      "0b4bdfc102a045a5bffb4d6f61dc3522",
      "908bfc6e02fb4620a99e0e5332d4b899",
      "116f9b19f18c4caca96f063dd9411125",
      "22182a4c7bb742c2843fa0f06c42e178",
      "5325c534e8d94000b86c1e1ef5142775",
      "c599f84ca70441e4a41b73178680633a",
      "acec062f4b3e438f8f1dd3a4d0b82ba9",
      "f8cbfd289b6d4274b9ed29a7e21f7d31",
      "e3af12b99ed54dbbb2c9f94fde581873",
      "9fdc1b0a432b42c6a14e71a1b9a7cb15",
      "739cac1381ab40d58943160647b762e5",
      "a83be7b67fc447c2bc55a0a339d8408e",
      "d6b3ea5943744513a7a3b0e188e23fa9",
      "0170647d6e3f49d1b0d8ba5e102483a2",
      "cb4904ecd1a140e08b538f9be43da552",
      "16427142e47940d2a3c55dca06b88c47",
      "671c9ae514224aff85799c9bc56a5aa1",
      "b663fa00426d40e8b1eeece765f1cbfc",
      "4513d214212f434b93f62a9f1d4725eb",
      "89c6c7bccd54452f9bec81dcd552c22f",
      "58e7096aefee4baba32743c2eca11615",
      "97b23bda2674403fbc68b8a7c9f45564",
      "972ab481233d4339a285b2a798df727b",
      "951f6e9877f7492788794f32b3bc8e4c",
      "574dbb7b06e44ef0a684bb73f3fe3766",
      "d067d387dc5c4a39a3a9250392953683",
      "08b127ac509f47c2be749067893de447",
      "07a579d5f79847828ac480b6272e24d1",
      "2685376467954f1d940958d6e912b132",
      "6254a74e0457403197537e0d3246f1b4",
      "3ad58517cfe34c5bbe8d17ecf68d7075",
      "f61a5ceea346480697fcadfbb8beb05f",
      "f1624d14d46447d087397abbe00b7a08",
      "e936f3e1d5a345a294d4400654865ad5",
      "95c05f2f9b7e464baf9994756c42ef58",
      "6f9d7b4835ae4a05801eb86e40a74bed",
      "af6588aa4330439a89ace7ad8690a45f",
      "b33fc735b02240bbae87f863bbd5d1d3",
      "90e5c6db349342a7b147995e0427f2ce",
      "cf6aedb20f17448b9704ae8d5043ce2d",
      "7f40352612a54a5ab8d7729b8a638d34",
      "3939b56d6887426999576060cd57a2d5",
      "e51d69d835cf4ba59ebf1c431570242f",
      "d042092bad7746598d695ed8f984091d",
      "79a9e779b79e452a8bcb80716a087e45",
      "3d2bae4ad3dc4728bf093aa47fe9a616",
      "e280128fc2884b50b8d0fab6070fffcc",
      "07954754e99f455c895572799afefffe",
      "9d9460a143eb4cd083015b5ad1293a85",
      "7ead5aaf37364c80a6b17a1681b974f4",
      "0ad04c4f4bc948bc971cd3e3036f31fc",
      "6ff792926afd48b4b1000e12ec5b3d95",
      "b456c1b0653c40f3887746e40e0f2342",
      "429bee7e87464324a108ac27eaf674a3",
      "569335b1b859434cb3d4f58129c6158e",
      "9d325a80272a4e60a169a9e380d6521a",
      "7bc465ba529f47fda7d466ea4bf17d3c",
      "28dd2783373f4f5ebfa6dd60406209fc",
      "a8972c9fd47342c691871494f0f746c2",
      "2008be8e23304b759749dbe7f9f8f6dd",
      "c46db495052645a2a7aab4128b2874ca",
      "058895c7ef5f432a9a14663f72268a10",
      "bda4b7f0bb354b25aacb888f920c60ad",
      "d2be109841444e799d191ab7065cba9a",
      "07ad29e711664e718e5113eafc007b00",
      "e8e2e8115bfd412885db2605a26977cf",
      "8ab6ab2ac91e41db88a39403fe2295fc",
      "7cceb70a4ed54cc783896680df2e4a1a",
      "d1e1fe300ba84b93810948c885cb1c20",
      "3a0280ed1b7c454fa176c4fa08c5f5d2",
      "b6fffd1e31bb4d9f8619dfa808779d6b",
      "9a45408af9c443289fb8c6733b4b2834",
      "02e0638d90414b679f0ac5109767ac41",
      "24529cc266f44ffb902a33c3c6c41ee3",
      "a33cbc0900b74bd389db81c622942ee5",
      "0e9612c4e0574db19613caa619f5644a",
      "3d91cc4f7ebb444c8aafb0cb1ccdb851",
      "ddffcf248ece477598f54b42aadfed98",
      "233128e03ab5429e8efb1fa0f92be579",
      "d6055c13917b40a3b20eb675171dcd8b",
      "a40b2e67a834408bbf740e6b1d5ca579",
      "501a49b068964ebd9e413cee0c970c1f",
      "efc6cbc6f26b4f24969856272c5a1560",
      "483cf92563cc4cb7b89aaa7da238b45c",
      "70dae2f37a534559b274585228bb4bf1",
      "45867d05ace9462aa1dfd2b4bf953774",
      "233e5cd2c6df460aaa73f67aacbb6ebf",
      "f27be60ca23d4619b9a140ca485f8a3d",
      "53bb5ee6eaba4c5eab703d262bbc6589",
      "607b8781f85c4edb8df17ff905d92ac2",
      "8302ee753e8c4572885e943f501d6295",
      "99dde8e203dc42cd89f47b8fd2fa4308",
      "0bda6801dcb94673a4c3b783dd679b54",
      "1b2e90ac54be4ca683f2d764c27e8a0a",
      "d82f9ded6022483bae688c40d7cb2cb4",
      "262d1d888f994eecb8dc38ac787f2760",
      "b6e0149125ff444cb562cda7389dae52",
      "cc67c89a903b436db53b7d1073d84446",
      "b54dd632a5fe49cc96ae719b4267f4cc",
      "8321cd203ead4d718620eb31f13bade2",
      "284565cf8aaf48d8912d7efda0136de8",
      "23f8e3db585848da9281b6b9a27a0e4b",
      "948f7e23d63b4b53b5c2474c7751189b",
      "6b47a3872c854b5db0a91b12e75f683a",
      "3801443fed1e4a01b0c126e1219175f3",
      "e9600f9a481e4eb9a282d797269ae816",
      "e11c5206139140a9a783f4a07f4662ea",
      "94eaa49d76b44720ac854746c9f37d0a",
      "89d941aaeb094be68bf5b34258d76206",
      "10f53b6adc59436eb5bd3f520e00af0d",
      "f8b4148f8c5f4364926f6fa3fd483293",
      "fa1286a1beea4cb38cf0cf1fdcd4e175",
      "e590a85538e945a6ac9c1bbec68bf71e",
      "5db0896c9a0846349f07837daafdced8",
      "4f7f94e39ab54b0d912da6d7cae28f2a",
      "3d3fdf3c1d294053aa29f646c36754ce",
      "3ca50035fff94d558f85c780eb9db44d",
      "648f0162e11b4f3db33e9bf8dc61845e",
      "b3bf063fc68c433392fc3757098fd31a",
      "e6c3efcaf3604a22a3d840b4ff718c15",
      "ea2cedd8b5d94eacb0f32347cc3d080b",
      "00525a91d47b4c079222f8ee910d6571",
      "17a2586039f7432eb0d3352f7102de0f",
      "7e1ecbd2562647068f71a8339825a4a1",
      "72ce592856494661abf45db026a6c087",
      "8800b3754342425da4232c4e6c2ed05b",
      "0acd55d4fd6745d788e5c746b829d7fe",
      "f3f8bb1fd36d4d558660f2742b1434da",
      "1baba1df47e14c51adf0a2ab979915ff",
      "b422639658d94dffaad7bbf1b3e90e7b",
      "a8ed35deb05b4158950c38c9f364a7a1",
      "20ce9d1180294deeaed2953a7df04b63",
      "1b183cb0014b404d9b4a70bee1927faa",
      "da49554b25c94c118e67e7f8805568e6",
      "a85583da12e24033ad0328029d1b8914",
      "ebd91d1e7b2c454e9ac3571311d91e22",
      "3e6de2d935904faaa70741b839e72b0d",
      "698c1a7430f24860ac619fff9ef2086f",
      "6c28c583fa7040b8bf0c4a2a0e3e8d99",
      "50bc6c9867724d08a3e493cd8ba9cceb",
      "e0b2991ca3b844c1a86726f9475b635a",
      "849d746a57da410fac3d40083791418c",
      "6c8050c8fffc40b3892dc25667861d29",
      "1a3b6b7eb4024ce6b3a76ec764caad35",
      "79f40d88a79b4bb9af9bc5d0f694947e",
      "b3742cd43f8f4aabbf3e2c8fda46d9e2",
      "58103fc7e9104a4ebc831f051e791918",
      "c3ac541e46b44e91b41860fee31777a5",
      "0c13a76971014ee699dde5d68be45dab",
      "a74542f670f646fda70cd4dd5f636cb4",
      "799529dacdb44dd58f923d3f48a64417",
      "c4459751bec645a8bc2715b4bb30dc6f",
      "ff25cea303e14c73a8df5216202d0749",
      "2a7fe74f14db477fbc0ae3412deb8423",
      "8ca13ed11642405da374b838675c2ff4",
      "612f0daf4aea4f61b2ad2bf700d59b22",
      "e1d736b8f5b74e53bdf50ffaa23c76de",
      "e2e84e38499540d0b63bf106519bb450",
      "f2a8a8af4fbc4a3faebd57cfbc425a1d",
      "b36cbe72b754477aa90284e5854553b6",
      "deda964508ca4333825618d4a94632c5",
      "152b3a82bac14b37a45d459e836273e9",
      "bdb4e3fc3e584b048fcf24d982071824",
      "4bb4f9271da14b8da3adaaa772c5f5d7",
      "4a4cd82b98374176bdf9452820c6d4b7",
      "2776b1a5e6f9475da9aebb11bde1df09",
      "316e442a1a4f43d69bff49f212f8e0d0",
      "6bdf6fc40f0d4ca3af97c25461fd67c1",
      "e8899132aba645f7a178c3cb3a989e17",
      "6f9a250c076b479b909565877cf8a470",
      "5ab821d4800a406380a07223c5475163",
      "214636ba465b4fad83ff26d23c941516",
      "fc4b14948f714b5482e012486fb0dfbd",
      "264b080264814a37a808c5d0838f3628",
      "9e5962385cfe43f19507b7c16e0863a8",
      "9f9848204d9f49dcb09657f9a1e2d221",
      "eb8e83309f814d4cb10a9cf9923371bc",
      "531d6f12cf0f489b8fc8e9148bdbafb6",
      "3f6541607054486aa2937e4a3507021f",
      "b9aa72d175374cf99101a8368726ff46",
      "1a44f69b344f4d9fa8e2ec2a6e182cfd",
      "05a75607761f44dd982ccc70daf1b4ca",
      "d99ad37eaecc4e4ab51655882959f6ca",
      "8af69ed4d0324f408f1bdd7d76988a92",
      "0b8cc0e2ac0644b48c77de5958afe1e1",
      "ef1e837cf6dc48898da8fcee4816731b",
      "28e2089671354e9181391e3ad1377603",
      "67dab999952641a3b4866698469f3ce7",
      "899db9ff43e34a51843f2cc9d730b94c",
      "3fc80b90d8594dc6aafa646e01f67ef6",
      "20532a6aed0d41fb881d48484a97e223",
      "36737a22879146aa8d8d5657b45c8423",
      "ee8f7d7de7864142b71ee216e8307460",
      "0b06215276a5410099d06f1f907f75dc",
      "54af21936123456ca04bc457cef3c213",
      "745015b014f74442a71d30cf070182de",
      "fa34140b922a480c89729dc903fb3599",
      "f492343128ce4918b206f9af76b2e894",
      "4279346e5f67450daf2512c594572b80",
      "09bfc27d1e1e4559a6449527d85409f8",
      "57e3222554a04dfea587ba9e62e44a15",
      "0f41da1c50c04e9b827d0651e333c017",
      "750141defb2e4e038d959409c71c2310",
      "62d154900ecd465e8ed50d85e46a3d1b",
      "cdbae1b3744648c2ba91fe89261521ca",
      "a1d06c1d878e403a849e73ba7ad59df2",
      "1c334a5ecd0445899f682a0697b92f65",
      "49378fa2fe20477ca6958d740ad93bec",
      "9c913825c7cb444fb6f5499aef4f1040",
      "657ed54d537a4801897851861254bacd",
      "e784a9317a8c46f0afecca052e7f11f4",
      "624a1fc36910425596170b1d4c9822fd",
      "3685c99d4cc344bda1e53fa7af4f1f63",
      "a01326d4d3ee458ea88ff8f2564cc149",
      "4ac8966262da40309e6d5a4d0bb1af56",
      "8ef58261acd142b6a0a0a5a8bb13068e",
      "d1dab2c20d7b4e3b9993555fae6ed51d",
      "2d68e967bd2148efb25f676dc11b355c",
      "b98c8973d2bc4e3e8e1c556d2a92a341",
      "5afc303286f44010ae10376a665188f0",
      "142f06c0146f488ebcaaf72ee855c972",
      "76286e2fadb24eb9a7e4280a6e90cae3",
      "7c4be38447cd47f6b70972242834ecf6",
      "604fb77806ff4a3f9e854e70aa26c051",
      "099735eb2bc24963a9824a0f07cda2fa",
      "4bebba48d2594f3285974a4b8fb3d89a",
      "5c127e29ba5e4beda59dd84f73f5a95b",
      "7789fc9a2f94473da0709124e6660ec4",
      "7e8398966ed24de582da6a1afd042f67",
      "cb7f2af87fd140c79b126e947e99f805",
      "946de397fc40491cbb2db502f48e29c3",
      "5e60aa8c68e94fc584b10647d82ca64d",
      "e1ea089d9c3640668de11ed445858427",
      "4e6d61d862464c6bbc5b7b1d1e79dad3",
      "afd7c2c40ce74c9fb744127017b49659",
      "6d97b983ad3f4575ac49ba7654da3b51",
      "74bb131c501b4793bdcac894bcb89cb0",
      "cf1eb39f26604620abae4264c170b6e3",
      "eab6af4e1cb14ec69f7d455d6737b036",
      "cf0e17f847c0488cb6f2f4e9065484ef",
      "b38392902ef44ad6b73858e58776b475",
      "44c3964512294d478048498a9d291df8",
      "b06c473a6da5481fa4b8f3d874f9db24",
      "6d6dd972d12b41319753e58e5aa5cf8d",
      "870ff90c60d1492499c03d3955a3e409",
      "83b046a0a5e04f1cab0236e5ae0ddb43",
      "1503157967674443b0f63e954033feb5",
      "b1e43b25bb384783ae2eb32de37cf12c",
      "b04055fd0a364328a2e80735fddd2b78",
      "bd2149018e7948e283ba83da00c85b99",
      "458e4b19603c4ad3adaaa8ee0a80bc5e",
      "e591bae7f9f54a2ca0916911a0ae410d",
      "b027089fd47f4baabfad835203f0ae23",
      "8714e051cb6a4446b4e1b7f4b14921bb",
      "409d52aca8ed423b9dc06fcd813d8a3a",
      "93deb8f8b1b34f96b3070daaf5686c30",
      "1f65cc7236b34a6c9a713235744c5128",
      "82c439c193534d268f10e5b43237a3be",
      "86622d673649496883df3fb37dab6525",
      "f3f7974f6e0e4cd3b8164d6f720ed8a5",
      "f2e997967f024f0ca8ffb8746bebd7a1",
      "c3322b1cc4074c9399ae77cd52a517d0",
      "76a0730a07554141a7dd059bf6c91a5a",
      "85a1621929694ac791a353ed1ddd3cc5",
      "caae9a5e43a54be28d1f78df14440c11",
      "cab08f2219b04f9e8dbb6e6e9697d832",
      "940ce0047e4749e9be2aaff53bae039d",
      "ba8e601e88944fe193357280e35a4c64",
      "e248fe47ee534486a2b51f2f64148d8e",
      "45b4923c316c404d8c32e2179a91e57e",
      "66bc8556343142238f1af1b5ff29e87d",
      "869f88ee8a85490bbf23538b6298f6d9",
      "7c0b02ac4ed94541b939011f5ae05710",
      "288d2dd826654112b01fa4eabea96a73",
      "fe66bf499cf74bb8be34379e33b09e15",
      "980ef9770a304b2a93bb48a4d949e4cf",
      "9e37891b0fac4c0299803c4d0548ab13",
      "70fe1801ed9c4a58bd06873823e1aa59",
      "6d47778630ee4206b956b942dd2dfc0f",
      "051bd4a9f2a94c559ad1e79e18ee856e",
      "db936976f2d14bceb475a8250c95baca",
      "f64abe6133f341b4b5d6daebeb6bf074",
      "c14a88aabde64fbebb64fbcaca177c74",
      "d7758b14ae5643d2a07f5332b9bce9c9",
      "63c64b18fa7d4ff985dda2b7a17e5b6c",
      "311385d52bd94351a928b037bb61cd25",
      "482c33ad0610408aa5e16693cca0ab99",
      "13e1fce266054aae8626400ee0f7fb9e",
      "c9463ee4b2c3407a90a11c8bda1cb844",
      "c070757aa09149e8884d800500052147",
      "84e113a03b7d42a3a502f342f05b448a",
      "0431fe9fa73d473a873694d619d14459",
      "3715914e99ac4e7aa4c89a1eb34af79e",
      "7706ecb2d05b4378b3e4ebe086d5d693",
      "c6fd39e05efd4766b6aacaab6004e97a",
      "e861ea6539eb42238c838485338503d3",
      "829646d0c63d44a694a336a2c497e341",
      "f514de95d3334428881ec33d5446229a",
      "8d0a609d256f442595530160f9d8fc54",
      "f264176eca144571a5c746d331959c5f",
      "9ba18d6e475148829a1e8503bc86dd33",
      "f79cac8e08814ed9981034ff8deb41e2",
      "4d237f817dac4454b98668f5d89cb20b",
      "f8019b6711044937b6e66a2f66ee4bcf",
      "0815c024263e4526b939d9743a741db3",
      "cc6786e4bde9431483f917aedadb235a",
      "19d35151194442e7aafb05b0eace1da1",
      "2a97f1d9957141f9a064d5dea09c37be",
      "5d2179965dc040f680f72168aeadb689",
      "65928a8ed3f84480868b447c322e4b69",
      "667e57f439d242e7a835e90c28553b3e",
      "c122241cc79942b390a60e3b6bf082fa",
      "4cad1fb1000548f8a7d8eefa02496700",
      "752d7a0c7e314e9b95548cb9913cfb1a",
      "9b073c4ecd0c45e18132a4b5d515eb2b",
      "9ef6950b291c40d99582fadf2f785ed9",
      "e99bfc3c08f848f4b9764c3509a505f1",
      "4c69597dc4ce4edf836d25d5b75e5c6b",
      "08ecc35baf70498ca213b95fb86a33df",
      "6839f57c8e4c4026a7f3090235afecf9",
      "cbe6cbe04d5d44e28aad6a86e37df07c",
      "b0a8e805b3414d91b85016fd08287214",
      "6208dc21d82943e899c02756c32529ff",
      "70bb40e90c5f4ad3a5e2d73bf27e57ec",
      "bd2bb913851a4187bb4915198d882769",
      "1bfaf84dc9514b96a5893388ea03fc9e",
      "19d73b349bcc41c59d94b0e4708811d3",
      "734f5bc4f5b7458caeddd590048d8f1e",
      "61fc9cbd6ed34c51b950080f689ead8b",
      "5ba8514a18f84d5b837af42b041106e4",
      "995bcf92635c42278146e7af420e82d0",
      "5f3a9815091f4fb9abe86de2dcd564b8",
      "a1e265e305e045b09cebe3c37ce4c18d",
      "14f8704e809345bdb2594791fc3155e1",
      "b9c9591cc226478880a2cdc321919228",
      "427f7298a8f940fbb8a71e4e3f8def76",
      "939357d50023499f83b8f4b31f73afde",
      "a101694fb1ca4671b05426ed014d39aa",
      "28527ddace4a45759d3b7eaa2f5eba7c",
      "3ffdd1c61253448cb991b8b3c37e9621",
      "359e4ed4bf0b4fe7a01cca790a44a930",
      "f311662959b549b2b261b04abec69cda",
      "277c638e3656487da04d73268d633f62",
      "e281aad0183945e0b5596a5e9ef318ec",
      "2d4f649e365f47feb016814f7bdd3f4b",
      "ac7dfee11e214afdb7d4da9c8b077d25",
      "70d7840581e44e749039860d9f565606",
      "89f2c421dd1d4828a593446d3711260f",
      "c2478a2d8adb48648e73283d0046d475",
      "2f3f44d227b04f8c9b95915a2605ae2d",
      "fab73335e6bc4dd28755cad692dccc41",
      "0062c311369145379d7129531253fd7c",
      "02b76236d4db450fb86d22b27a19f6f5",
      "8b82fb8914d845bea29bf0c7810514c0",
      "8a415754a2a24ada9e268daa94327d49",
      "575d20afbbfc4f38904fa72083866cfc",
      "72fb5f90c0a34203a3c11635f38118df",
      "36b90446fa694914a746851e6dd389db",
      "9ead9322058248d9acdfe38fa36bb6c1",
      "2114cf80c2da4f3b8a0cb18aead8fadf",
      "fbf86a5826c34956b97f15310b7d89fd",
      "97cd1dc873484ab1b66ace90230d6749",
      "9640f64190374b42a2ae740f6a128d28",
      "b412de1128a94cd2958ced5153b883d0",
      "140fa8a68e1a49d1b73fafb428c0c91b",
      "0b94ba7e79214e13b6031dc7f7e7bb7c",
      "e500b018454b4120b4e4735a71c53b0c",
      "001394587a8f4a49a3d527af6f6fc880",
      "345516246b4049dba2641802613327a6",
      "8722e3aa2a5e413ea80670cf5b8b68fa",
      "3a6be6fd8a11475194af8c243fa2c678",
      "0fcd6a2a134d48b0add825475c244de0",
      "89f6f9eed24d4adf9504db63bade98d6",
      "3af59ba65a9f4f96a0da07ab21803e93",
      "b9d5c1da2011451687554567cf75c27a",
      "5e79a2f654d948338fcdcd7dfa1e0f85",
      "3d1b31f0b53641a994424e0e37fa9f28",
      "1d85fb1ea3754aca8b7e9ae3b9e5a7a5",
      "0dcf68746d9f4cce8866826bf66c4178",
      "1b78d5a432314c1489c98fe54cb0d697",
      "f6f667f7528e42c7834161531bf6831b",
      "4da601a5f7de4ae8a6b304179bd60856",
      "4fc2c8cd0e254ee48e0abe29678352c6",
      "87096e64f3464c33bc378481ecebf381",
      "d63804a465e34622a1f9e60f9b29f005",
      "090d6bfed8c14c5e960cf7a9cb091c19",
      "9b3a3a93aba14ab69ba3f3b3f4b016d8",
      "2647cb136f0447f893cfbee60b3b7d52",
      "3ddfbea8f9e8418f872cb9b5fe1dc029",
      "41c135a3c632424284a7066405fca628",
      "c347de29d4ae4549b98083af63fdfa3f",
      "56bf86ba40fd460b853d7dc2783764b8",
      "c6db841a260d4a2c90c6f1414fe37354",
      "78181ded16824e59a84d7176ec6cd138",
      "cec662c6c82445eeb40fb2c207487930",
      "420e5834752c4096a4b18a011586b083",
      "305d4d77259143209bbcdc0923e52bfe",
      "eece395e42bb46c58ec134115e67671c",
      "95d29ea31364404aa3dd50130d8a77cb",
      "66ccde134b9546138441845a0b9159c8",
      "858e3a74114344849ee88852a48dd08a",
      "78837173c5994442ad9b786410a10861",
      "7675ec2cdd8d4c5d928510bd983e20fc",
      "7d96e61363d64cd8be4dac2f0948e5cd",
      "98b923af709644a0a1ba84302075aad9",
      "66fc95612c5d494ea13a90a9a7d6bd34",
      "da3320d1d2e544a3bbc58c6d8651f5a6",
      "6f786ac1d27245f5a12ee1ff58920cc6",
      "ff3b5f192fde45a6b049d9ea232c538f",
      "6ad65388c5344564b3782c4747d28aa5",
      "ba6df1087f0542d78c739e52b2967f9b",
      "0e00e560d0304f459048e55bad7356de",
      "c73a32c4e48341f389cc97742c4b0a13",
      "a8b4c701134f4f62b9597592755dc009",
      "33f514feef6948c0ab7279a3dc25e729",
      "b69d350cfaac4b2b8b79174cbf3706ec",
      "45a56fefb17b4c03865e0d98bd9e681b",
      "6c2ccc24e5e24d558bad320e2711461b",
      "2ccf93c104ad4e999bfeb0e76792e747",
      "84eb078afa2744599a26542d2c11f2b7",
      "e1f5df7c3715479295dd116c5fd18c94",
      "0460ee3640464989b7309a7fb2c2de94",
      "0195de1bd16b4a22b74804cc48bd23b5",
      "6c7c53712d3a4adbb510bcd6e6f077cb",
      "4f4f154eee4d4992842afd7d168cb720",
      "cb744db5b8b14beab043051a7ebe1fa9",
      "0eab97067ac04ecf948e2212e36a7317",
      "53af0f55e56d480fbd6078910c69e9cc",
      "6b02853d1d614b64b21e0d376de9bd02",
      "9adfdb3004a742ff85d143b3d7d6d642",
      "02d8c2456eca4fcba70fbbb9c82ae83c",
      "ff5bcac61ba04ecabe07ba4aad9cd19d",
      "949cbdbe6ebb4d6e83af1480830c0c79",
      "384f45cc710f4bd699a4ca855b6b79cc",
      "3ea0ee31085f4ca39647081c8aeff1fc",
      "bad58f2455c44a2782bcf2766b5baed1",
      "58d10d46c9cb4da385d33c6d5eb2cf9b",
      "8bad1b501b6541469b65d89a3ff1f5d1",
      "c6e7d16e68da46abb02b66f7e8f29ed8",
      "562a59dab3ca479188e5451711c38d8f",
      "e85ae58a2f5a47218608437831f09c1d",
      "2ab96b69860d4744990d6f1a4535bac8",
      "926a45b96fd14e76b1fd77c4491acc6e",
      "c09ad3e1c10f4484abb107e877c776f2",
      "e695b34c1db440559335e50c3ebe25e5",
      "783e4cfd24714a39980532662e49f656",
      "a8542f1b7604486289fb4e79bef96b9c",
      "cdc4c6f153eb430cb9762a4d4d9992ef",
      "944f96316d3842399206955156ce5f80",
      "ca088f65c8c4485f977240dadcea6056",
      "7385604fb5c44765b7b4ec656e8b7415",
      "d1b65eb43d3644788fe8135f27478a56",
      "5dce66eb75f0458fa1a21275491b5e6a",
      "9c2203a77c8345b59e69c0d3753b32a8",
      "13949f66eb054259b8fe710072484756",
      "875c745a9bc948dab54dbaa4974428a6",
      "6f5c150a988b4fe6bdb05e15c24e0a7d",
      "720da264285b4313a7fbaadfec404dd2",
      "8990d94f71cf496ab9599f80ccebe0f8",
      "d0ee38eff4d148a0951eeab4dfe2c72a",
      "1cc501ecaf3348f8acb47b6c15c645be",
      "3fd68de516c847d2aca5b93db03a6e02",
      "f95d462896ea459a9a02bd09c155f67a",
      "3d205367e955479ab68fa6f8c33bd953",
      "1e961221691b4b18b9873fab23d89517",
      "5cf4158cf601481aa51c2246cc393835",
      "ea55138065df45d5b0201c05eb69185b",
      "006257a4bd4d4d6783041e5182a7ad39",
      "607a057846434c0b9ef8409d23ea9e8f",
      "bfa03af2c74c4a5c9ffdfa4a5d2d1245",
      "9ab4b42d8d9b4207ab2e3b12b075517d",
      "ec4cf175a3c747d4a9512b5ca405a9af",
      "eb4c4ff44d9f4090923d2d1fb3b7b265",
      "b9bc771711824a84b497848d729ce5e1",
      "b7a2542a283f47f79cf5abeb384c6f98",
      "cd689aef99c14c0f810646e11fcc793a",
      "4101d9a126254f28b8ea5825843121e7",
      "9822a1650b3c4f8c851d28cda39ab7d4",
      "d94784e6870b4d039659740a0fb68d81",
      "770793dd62b14983b820a70d9d880a64",
      "8f9027643d934ad597f1e5e170983b80",
      "1fa9caa746b643cf9c40c070fc38dc6d",
      "2a2316e526964904a9913eafab20b3f9",
      "569e6a55335b4959b0b269d50cbe8c06",
      "e0753f4e208c4dc28d1954f56a9c607a",
      "d0c0fe92ff51498eac15734d3b3710fa",
      "e8606296bae24259939a142c0da52bfd",
      "323d2ba33a0d4671b4fc54d4230fe2ee",
      "4e463cfcfd6f4f4bb9b725350ec48172",
      "e1216dcb278145078c2aa776d6de8e82",
      "feb2fb6333b04cfeb7452aedea4ef578",
      "9645e32ae19749818a97954b576ac595",
      "352cdc1b64d849ed8b7e0aa654a5eb6f",
      "5cf14fee073344eb931e5c2176638231",
      "d57767b929d54b978388dbff844634fd",
      "dab3d4a1f59f4aaba9f4728077d16a68",
      "1e6e1c9914044bd598c7d9679d4c405e",
      "b281cb1ffce540ea87596ce0cc41ed77",
      "c7bcdb8790fb47af927be19f65345ca6",
      "a2063c79531f44a49b00ad02f33547d5",
      "254d27b59fe64daca817b402ef0732bb",
      "921bee78e6224814b768020b8b1227f6",
      "eee55fbcde6645e7a4b0c5c249900304",
      "e5408b3c70f844a696ed9a8e0ab5a503",
      "03b564c062c64bdd937faf02f79f4ca2",
      "1c0d2c7f86524f5a8845d191e64ac3ec",
      "de340933d479480da36f1449cddd5c9c",
      "d131231c59b4476dabbcef3a2cd14d2f",
      "644a4dca27f0407392f6edd275bf8391",
      "f841ce1d809940fd888a800993c628fd",
      "1753ac23cec74b3eabe7212403204df3",
      "974ad8d25c934f338542aa99cd252cd0",
      "ffe5bc81cf4848cfa17e05ad51666530",
      "c6a766b7fe3745a9928432d59c071b99",
      "6090ba4245844f7ba012e17e00438a82",
      "7989dfb0ca0749eaaba20205beecb95a",
      "5f7e9c9fc6e8407cad890a0aa574df14",
      "4eee3e4505014950839bb206006a8db4",
      "2281edf955ad44e1ae4400dced2bc9c5",
      "15cf667b05994d809b3b372186ffa957",
      "ac6ab44e59634ad88f9887819e35b3a1",
      "dc51f48649474ef19db278cba277a6dd",
      "7fc7c749d7454eb28fbab9598dd06328",
      "6330c76e720b42249e72bcd0953ab4dd",
      "9860decdec234730a9895d14a0c19b90",
      "4e3614c0454b41adaae51302876653e7",
      "3d24fc72ab524ccabda8773b15676480",
      "f0bc7b9644ec49398ad92410e89cbc1a",
      "053ccdba3a9146d4ae4c5d519016381f",
      "41a6a1888a4a421a9ed785525f350337",
      "323ef16b7544422d8ecebe65a1b69873",
      "ddf44c766a02405098c653beb73758ef",
      "e2b4736ddcd746a8b61171ef608d3ce0",
      "2bca0d19f5ec43a5a8b178757a2332c3",
      "c3bdb12470a14828bff78247232083c7",
      "acab3ed90b424d4f8876b2e716439a06",
      "b253928921254e71a57010ad73e950f0",
      "ec3c201107364f0f80a45589a6b438c8",
      "7ecfd5187ae14cf782c22659e05383c4",
      "66c452c594824abf81de0b709c64f5aa",
      "87fef0ab44aa49b79549a5ea65aff85c",
      "fb80e3b77e2e49f09999317ff5c4214d",
      "d3fdef69ab6646d4b0530ac12e36e6ed",
      "588b815e5a4e43a9a0b06f77a38a20db",
      "6052ea1658984543a6c96a037b2ceb04",
      "b43a3293c7f8433a9e217c3d05b0f997",
      "c76cd29c8a4e46b49c2aba02f0eccdd9",
      "9d3dc77ce9d040bda2c05f0f32cd85e8",
      "28cd13b1da85492e865d72d55c05ecc9",
      "90f3c86c6ede44af87c32302c4d44674",
      "1e92358085d64724b423c85066c122aa",
      "ef552dfca4714e0684058e4adf1de44b",
      "e5ed17a704a04769a430512f6eb1ffbb",
      "b3c4eb15518d4b8d8833a35bf6faceb8",
      "d83bcd1c32584f1991b9a85a00e54281",
      "56e60c8848c042fa8d63123d6b967a71",
      "f2ad24676de34a169b260736ae777867",
      "e6dd6fa9af4f43f7a27359030a96fcf6",
      "0a9512f4b27347fd9b684ec05a74628b",
      "25dd0204adab476fa253b6db118e6076",
      "96ebbf9903144e949094f7751216df4d",
      "0e627fed9dff440d9c56f17f60706af5",
      "3e5eb7d61d82489aae061603f59cc9c4",
      "78d98d8414384a1e9c8549a96eddf575",
      "3a095d307afa439ab0265e5192163f22",
      "b3a5fee001d7491fb8ec3526c6c46223",
      "415d164fd3614478b8e456871dead848",
      "3e66e0b4dfec49158d1fd8f9947b3d22",
      "2689138ce32248c48604d5affc5a2d01",
      "ce01db9def09490c9f05b1206507019c",
      "df79bb4ed2044a61ab7230681eaf417f",
      "ff3353cb381440a794fb3f916c870763",
      "7c2da866adad4c32996fd73042bcde09",
      "91f5d1badadd4b23a9a3deff64c243ec",
      "1cf958c3d4dc4f5f9ac78917768743c5",
      "8048ed4ff7dd421e97d5d10abddd7e48",
      "e52050319e2e4c4eafa2d3c6c4fceb89",
      "d7d51d8d5dc64a5a8c1206080b015f66",
      "61faf48c843344eea8ba433854dfc4e4",
      "94ded0e4dd094f27920f12b4e53c72c5",
      "958b15e1388f413fb06cbbcd361edbb5",
      "d81bd34011764e3bb7b9c660dbc1d2da",
      "2de600ed53324de58330d22d8bb69f7d",
      "32928c3664ed4a37b6d2b3aed29e100c",
      "1c64cf24ba964b059692ec1d30b7407b",
      "e68922ff19ea4a3fb7786aa6bc478ecb",
      "9eaf8143584d4082a421981ed1fc397f",
      "2282875b72144183abd7da0b80da986e",
      "837f7ce2044a4ea18954d7e7acf3cb90",
      "370925218d684219b9cfebc2209789ce",
      "2cb47df961ff4717902916550456d496",
      "7d5b4fcfd7c344bf842100f3d1b5ff17",
      "1b51c01036264e2da3d87be588b2b9fa",
      "56f644eecb424fafb103bd79e52b990c",
      "61efececb6c6491c9426b1d855e2621f",
      "a02d838a56574d05880b4b70e1168056",
      "7e398e5953ec43139bae599ab22b61c8",
      "990b3dfb98a44c7f88feb2037a2b4330",
      "c2ec617fc04543e39ef3837ffb4cfa2e",
      "4d57d1800fc145d2ab858871b5ae24e9",
      "77be6440220445049f35ef96767f0930",
      "dd73d5fe1db94a6c8712d79ae1d3cbc4",
      "c7c235a29a244bb88414a39460c34c1d",
      "2cd4ef11f82d4defa897da24e8ec8c91",
      "c8459e72c3964912855844413f331a0c",
      "5fe509284aad4ecfb90a5d4cd8826743",
      "7ee41275c5f84e45b512d23212c808cf",
      "3cdc5f0c95a744c8903b0c5158e9c21d",
      "45414d5322c64acb8fdcc475e4349600",
      "a0a55a86c51f402cb6712d2ee42412e8",
      "c7d571221a35415eba97b0f8e271cec8",
      "6224708b91804d3a9aee0eb4c56e75e5",
      "8147a6cc6069467a9f16658b59f8aab6",
      "9c9ff06c067b4c0783883926722c35e4",
      "1375a0ebdb4c45d29de50f4947d23d69",
      "8ab93062ab944f4e935c5b3eb5bea012",
      "cd010b1426f24a5b80dd220aaf570f01",
      "8c977a9f7a794ad98c48012f88f860ad",
      "bd32c98f17f842b69ff750301384e96e",
      "fc62175c1843450e8f58d14e1d5e137b",
      "e769cb4b40b74ff69af390a5fd49cbba",
      "47c5a6fcef2b442a8e17398c365d4b8f",
      "0ca4f6f26e444de8b361a5d1fa3af99e",
      "bbe05aded9a04122966173620ca11bdd",
      "d776acbbacaf49ed9ef6c88a4315a0cf",
      "b6008f6efae444b89d06b9ef6c1f5dc3",
      "6069cea497b64f0fad8c43253b8dcf4c",
      "9269335ca2164ef8adb4a188827b5a33",
      "8b19c0390d314bb4a261b026116b6d59",
      "96b24135e4064f4a91106278e5e3a7c9",
      "d09836a15fa64714bc081059c3d20ecf",
      "f79960fa5a22462183c5c34243b9ad0e",
      "5c7212e515b14e5c9a7baf00a7e8643d",
      "c58d33ac606f42a6a3e3e5ac129af1d1",
      "c97ab7964eb246c3a057d531206f1b62",
      "2a989b932f5f41768ca8835f8b7372e1",
      "5854c5a5be2248b3a96a68610ff89f3b",
      "5da1389cb22a4998812291aaddc3a644",
      "c888b7282ec9494ba2761a27598708f0",
      "ebcd127f120e40d793ff29fde0e8563d",
      "dbf421ec7ceb4765ba2d89dc1436f91e",
      "4878157b2eff4d9aa2e6b074a96183a0",
      "2a4d8c82f65145f9b7b05b3e11821cbb",
      "1052ca389c074d558c3769780d4273ac",
      "4976bcaaba8c4fa4aaba6394c227d90f",
      "a562b970a8eb45e993b9bb57af8ff1c5",
      "37bb07a30d9145bc8f611bffcca011dd",
      "7f796515bece4a54905b5b7adcd27cfc",
      "1d2eab09a7cf48aa9e8aedc44c1727b7",
      "561a8bbd8eb446eaaee46ee9bb313681",
      "1af4f85b700544268c884e73f5d80ddf",
      "29977f6b59d545b2900ca4c3aaf2e458",
      "9c3265074e5045b390f90a391a1fb3ec",
      "b8b605c0c4044f7a89306bb96aee6910",
      "1385c55e76a4409e9461cab200dda2e9",
      "f75158e798244fe98cb56bbb652d8678",
      "62d3e7b56dca445cb06022908579392c",
      "f0d35487c43140c3bf9e22c1e86eef38",
      "2a21c952d8fd475dac06b2faffd65abf",
      "a83768d724c14a7aa26bcbbce6290d21",
      "6174f40a8d29414ca3c2cb0e01e598bf",
      "51c78ea0a15b4406b03d6e83f31a5857",
      "a225386aa6fa4655925f78994d6613fd",
      "4918a5fbb1da4fadb06179ae5d5e872e",
      "c03f17a117f34f6f9b76d34c00753494",
      "4520f4148f2f4fe5baffec999c5bbce0",
      "86627b23890c4c65b5b576a276d71f83",
      "0821c535794847728c48101855cc250c",
      "9075d335c2b44fe189722f7829781028",
      "0390e60d1dd845efae931fc341524d80",
      "da5b3b9cf29f4ea0b513b0e5c945c3fd",
      "91d082ff04db40378bacdbff3c6c6843",
      "8a20520da98146c28cc9f1537daea83c",
      "4418d351edca4ce9a83150e1cf283830",
      "9e4a28a0beda41b8b28e7dd2d0769527",
      "6060239d43af4fd08ea660a98a83c4e4",
      "b3b1dd92b937474d97387cf57d2c017b",
      "1c3bee7b664c40e0a4b35809f340826c",
      "20b9cc37b56144d9a636fc37909c3c0c",
      "53abd85887874e3787e21d7f73cfd87d",
      "43aede3596a74814b7cd4ed450bacdd7",
      "99f9ba0788894d4281a8b7035c3c6e2f",
      "20c9265d5bf4429ab603b2b851ea141a",
      "97dba7397e2d40a895f1bceabe7dbfda",
      "d293dd953d814429990ebe8a8cdb4cd5",
      "15550869dc0a4b35b9ac0609e5063d37",
      "a9047b4e26d3415e8d2aee9313a129a1",
      "88dae502e6474c408c78947df4bf8fb4",
      "020cb4bf337144ebbb3b4712be4288ff",
      "7824a83d47da409f965a0a8c87972173",
      "cc897064d7c145038b90b25bea4598eb",
      "5ff1844bbe9c49808f961f8eb57cb6bd",
      "1660a900daec4e13b84d5696630bac5c",
      "5b3f3dbf344e4fc0ab2328ece052b1ec",
      "6a4ae5650940427db199188af9a2724c",
      "026749bc10934bfc9e3ba0821ff60456",
      "828f7ec92b4b4e7e8e618427df30e116",
      "5cca3623432242638debbeb204896b02",
      "db8c0ce26ddc45e3895843e8952e7eb5",
      "4664a8b85a3d48e3ae9fa9303d7024cb",
      "525be06abf3d4e5ab2a79828cce65057",
      "abb97f4abb634a02accd44f817e10643",
      "afefd1689cd74878becfa57cfd5421c7",
      "1c021ccad3c342969d0b79f903b0a98a",
      "241194aa80524cf9a4c77979c3846dcd",
      "2551421af3db49feabe872a94e88c671",
      "839872e3191845e98f75c78e6e3cab54",
      "515022281a064256985a9bca0839cfdb",
      "7cd337ab1e9f40e79b8790c261dae529",
      "d30816d782ec497583233d508adbda9f",
      "1cde6d06fcfc4b43977e84b54a08ea8d",
      "bfe8d26527d04c3bbd7c925c263e37c4",
      "f3edb0763ee04ac3938cf2a295888b75",
      "bcb23f8e3a8e4c5aa441df31ee8ce45e",
      "a5fba83aaa974e5e95cba25ead738fda",
      "720a0a1442754079b5ab0c10b8069152",
      "dbd27a0e75294b4a86b7de8594bfd79e",
      "17b24fad509d43738c38e242b3cd6e69",
      "3d98e598c390429f8958697402fad2db",
      "90f576df0ef94ada9400b9c27d0c042d",
      "959c1f48455c450d87945a4919186944",
      "5e4467c337324b329b03c03e85750730",
      "69bfa4dec3704a42800e299bacd85dfa",
      "d39c33439aaf45269e4fbabf393b73bb",
      "affd86c6d052444db3fdfeedb8552b73",
      "3f7a14f945ff420797ded0aa736b8310",
      "551010712b47499e87ffc6a543a71368",
      "ffe621b90b95414b9b2025e5be6c771f",
      "bdf0d170a7b445d287f100f1533a77ff",
      "80b44773ace74b71b979cc5a0a97ab48",
      "140c71e8abeb4ed8adc97f0cc587dc5b",
      "a756b94c089e4614a0d4b1088dfc6f96",
      "42e3054d767743c29abb793786714df1",
      "be77ac5027314bb6940325e7015a6865",
      "08a861378d6e4880b9455834c5855916",
      "1ce9bda6e45c4a48b85b64aa546438f1",
      "f9e225b9669644bf9caa35b4dda44335",
      "121e80baa71c4da6b717857e0b3c9e69",
      "13498c9823fc4ad08c450c4f7c1ae24e",
      "4598e5f133144bb48faa11717421fc1e",
      "47cb438f2a6f4d29a300633adb77e69f",
      "66118f79816b4abcbc68554ff9b660c8",
      "69d8746bcc2549ee8c11f681746781c0",
      "3caad5aae7dd483fa64bc3d76fd67558",
      "9a4698028c664eb19d55154253f22c02",
      "b44e3971ac254ce0add6ea5295dee60e",
      "c95469f51b7f483d93d1d9e2cdd6fcef",
      "47a43a4ec8094ed787ce55c9a3e38b13",
      "aea09a1d6d314efe8b7c061603a880ee",
      "9803834ba89c457eb054490f1b2e1c5c",
      "a07edb539d294f21b49af27f3c979449",
      "9400fed8ef9744beaa4f7e205b6137a4",
      "c305f03569da49bbbff9e67cd88305cf",
      "663da7437ae04643a4fda8d0c9bc9dd8",
      "7b36c66f9ae445fb94d1e90631578c4e",
      "3c0b7d837a9941f2a8d429b217d1e96c",
      "c546e3b4651e4cf78edb55355747a2d7",
      "6d648925f134427cb146416f611945a0",
      "eb9e0043cb474dbebcb7c92a4e653200",
      "03bfa38885be4f9cb7c1bc42b9af3f36",
      "f1508a2c7cb34ca785b316ba5005f979",
      "f45d655070024aeb99e399648aef26d5",
      "6dc0ab97d9ba48c49999a1fab2ba1c37",
      "74cf42e6696e47529f5a4831c9ebe37c",
      "4b4ee0fbbc9242b88711d196704f359d",
      "884fa73cb82245f9bb26dea5b7a91bab",
      "ed50aa04451a4c8ca0cc4c256069275a",
      "8af239b6be4e4e54a7fa577d75d36324",
      "5033777aacf54f5482007863c80e4f15",
      "8409d04eb068462ba9398dc3219f7495",
      "5d0fa9f43346492a914a5c72beb7fd71",
      "c0bdfd06f35a4c6794fddb4640f2bc31",
      "763c9347b5d04267abc18bff07809942",
      "8cb3fddd25ef409caccf70cd2259690c",
      "c1d0f9072bc14316804f02ac6df8501d",
      "58dac5c1176f4c88abb6d67f4cd103d8",
      "1bd8243c149b4d8bb60382f9cdfb9902",
      "7e13bafb8b4d4916bf6794554ddc4abe",
      "af40838e0cba489ba7cea906702f3063",
      "9fa20c807d1b4632a223cd6e2f85b7ea",
      "abb2b24346ba4933afb67a679b8805f0",
      "c2be8cd2b11740e1adf75e10906252dc",
      "e442111623734d4ba8e1a38c462515b8",
      "68369d60f8ea43f09f4d1c125639af65",
      "05302577224247ada0db6dc51b47749a",
      "324c8dc22a6d4ea69bc10c909263be9d",
      "7b91421377a1400a8afc4739f0ff48b4",
      "6ffbe39dbc874181b1aec6eb2e2fe236",
      "ab480a65fd2b4649bc2595b1077613af",
      "5d93c9723540498696cd5d5616d5d49a",
      "d3f7dd2cf4c14b528a47f49dc744d42e",
      "7b5c4e5e28b24547ad6aea0d6bb7f164",
      "fd64402151354a0d92ac11781c702a28",
      "61457109b1484e709a764169e6777318",
      "b39f615b04da485d82d41466ab82f7cf",
      "5b697ef4f135431796d9189fbd6ed55a",
      "cdc479d3560e449398dcc0122cf81712",
      "d9f9020c27404c348e88255bc8ead180",
      "6b1e7b04f7b24ecc872d00f4d029854b",
      "c46917297a27485b936e1433d2c5d113",
      "652882152b954b0dae877e173f91f032",
      "38412855a1674b39b9b056c04fb130b8",
      "762c759fab2b49599c7a6169b642f814",
      "b30b75d037b4423ba908204b86190ced",
      "b3d09bcab00049b8bab74540b04b9859",
      "2488685b1e3c4637b620f4cdcf58e594",
      "5a738ecd17f441c88c99d134a1574a7d",
      "765dee569f4f4df2b9f6edeef2199997",
      "3fde10e41e7a43b08da711533a3b576f",
      "394733e8f5374778a50494cd40dbd94f",
      "369a5348c9934df098005ce91886ff8b",
      "6fa764198125437bbada592ad7262f10",
      "a60b79e6a8ff471ca82a4015cf6263cf",
      "b2fb0055f5244a158c2d53370925f152",
      "83ca4f49f3714e6ab6c2aa4c1c5381fe",
      "54e2532e1b694b42831ec3e604a695fe",
      "1b9c99d7107e4425bb6e185b65ca31ee",
      "20831e17725f4c2eb418dc7ed9e61c21",
      "79d71167dd0c4c789042f855c626e7ca",
      "352673261d13405c8ce0e66fbc174559",
      "536d521c3c1c4ab9a256c4ecb96a64c9",
      "8f667b3ef1e0409db2d2f18171803782",
      "4a2ba8ed31864ca3ae360ee02e62e71d",
      "e88a15825048495f8f9c3671e7def3ca",
      "73f6df29dc1e48b0bd51446807a675f1",
      "40a24fd673554002837df7b10c30af06",
      "bea3a2e0dbf245bca09b885234e92611",
      "d2fe2bab62514f40a3bf27fdd7ad9646",
      "5cb9ef2593204ac88ee09851c3311008",
      "cb1d95e23c674ec8a0afb49a04976216",
      "d9e94dbc91b74affa6bf3e18d914259c",
      "58c8f0c3fd88494896775dced6ddf0e0",
      "15ce8713009744f9a9013432945029df",
      "07c317676d9245d3bd4994c61655cfe4",
      "fdccea1a2b1649d5bc2f16a725b3bdda",
      "77f648c55efc44a4946712dcf5e8639e",
      "83c3eddef1b04634ad2fb371911a2964",
      "7133aeffc92f459abf652b3e710b169f",
      "ddff554ea17a499e8b365ad6b5e79647",
      "692a8db3097242c0ae47536d25b0a2cd",
      "11b009a69a084128ab667d29c24d09c1",
      "c1168c9d6b1a41078a2acf748ed51027",
      "40379d403a014271abcf5872431e2f63",
      "e50d168c70004b448afcf48861e454c2",
      "03a5cddfe442446d9b0b37cccc658106",
      "a1e8af8d7a954a6382f42bed7859244a",
      "b2fd7b45904b453484ce7db229fcfc4d",
      "e867db6da4c2472d8289716b04ae637a",
      "e22b0e549223486b9802c7b83f64da04",
      "0db48a704c2c45b08842a5ddc186a6a5",
      "fc4865a6eb1a4c73924e12673574c977",
      "2ce4b98dd0374a7b9a0baf87bf3db805",
      "0747298cb30449a5b2fe94fd1a9b9a49",
      "6741ae331c24490fa30541573d89c4d1",
      "eef6086a003d4ceba8eced8319ad45a6",
      "a83311d81fd04f3eb7b24c191d31c54b",
      "45ee3f9285684a63938fc0967243bdaa",
      "24983d4f597e41f18022ccbc2df5c577",
      "851e4331706e46618e0bd3dfe5b4f298",
      "81f008d3ade14fe98367231022166319",
      "c9b35606072e4ed7af9b131cb51e973f",
      "5a8f5dee42c049f79b2eb40ef97fbd27",
      "2c4b82ed9ae7464eb5fd794ec51b7eab",
      "21721138ded748b28a4f03eeab0c7203",
      "4f3e2eed1c444059902fb593384d1450",
      "4a49f136cd2b467784f0f3f362cfbdf9",
      "65fb11cd596e4192820a8dae5c0c592a",
      "dd8a35b7012b4a37aa48eb313184b861",
      "ee32e4ca733f4f06bc27c883b10d783f",
      "149b299c077141dd8c9e302dccda8100",
      "4c58eba2148546798f43e57ff7d6be5a",
      "97d7afbdb82c4da99bced099968bd8d4",
      "a15753decc36425cab4bd32afe1e598a",
      "708555f45e594187ab5435fdcf0a4b44",
      "2c29a1cb16394c1ea950a2be01bab7bc",
      "4bc4ca62f0f64b26a8112df3767be749",
      "01318bd4adf540a7bf54c2234c30f9c5",
      "2e37e7e6f45549d595cee455780e8c7c",
      "2ee6ceac2ae6423d9f89bfb9c563a7d9",
      "6b183619160446f48f905ff78222968d",
      "cf7f8adc93e44e61b7490475479ef570",
      "962e7d0d3f7e40e6a4de2faffa5154e7",
      "2fbb0348a8c9485d8683d65000d64806",
      "1ae9ad9a67fb45a2a6fedc857d0a34af",
      "eed1820fe4df4adebb2c56982f4c4502",
      "e47eb9e7e83f4e31af602ebba20de651",
      "b8e2984ca333483c81c565da6633f46e",
      "8e6e8541b75240ed9bb295c9ba91cf70",
      "562956b50be34be18544c9f980938eca",
      "8fb8657fe9e94d5fa920b76fdf073e16",
      "ad057091846f4e4288e17b2596082c12",
      "468361a4b8354966a5447b31e2fc6075",
      "7d81d89318904c5e84e15d9b0b5f9625",
      "b2b5b9eb052b4435a1ff6a19c3544ef3",
      "ea91d140c31542fa95385cb09fdcf6ce",
      "669370b7a4b9448b87797c501550d21b",
      "83c936e0a0bd4aea9d73020097e8511e",
      "eaf4d4a5ae984b60937528bf7c03a504",
      "65a6c27fcb8f45d5834c8803c003f9fc",
      "df9b10f5c42d4bc896a2eba048668778",
      "a3cdf928091642cbbf80b492d8fb1fbf",
      "581b2f202d044d10b5b98246db2e6091",
      "4dcec8cb94a344e29090b0f9c20ebb2f",
      "64eaa06fcaaa4dd39aa3b59aa2d71c27",
      "3fddd3d16bec4e6d830498072e62a20c",
      "0b0b8d9f88f14402a10049f2bac458c9",
      "134a30bb1e424ee6b36dad53983187a1",
      "8e2606f3375d45619627b56be14aec44",
      "d365b51793b345bcb787e1d7141fabcd",
      "60ad4ac78ddb4b2aa018378956064d86",
      "d9a7b817b006443e91bb6e4d47fc6da5",
      "ea048d3305e44f4393f7a92ab212f280",
      "443a3fdffba545fcb195bcee9af2a777",
      "f830a5fc62fc4d56906b7043853de725",
      "060c3bc090694f2bb4ab275f396b892c",
      "49dc048c8e2f4c06ae006f7b8836eef5",
      "77aa7c4bb9f64197bc32ebbe77b1412b",
      "4fcd2f36c07e434b9c7397c59138cafa",
      "9b135e9146cf4a0fb5ebbde40260b194",
      "c6705127ee6b423399761f1a84fd7d39",
      "e484b26b9df74e589c64e8ade33282ce",
      "9788c461501446b0bd54844a215b1d27",
      "e1d6334700de45669e34d4c3201b0484",
      "1b64773dfe2e4e94b0d08b54e610e5a9",
      "ea45b0caa4e0471cb53bdf468c63a0b6",
      "33b51f10a0824f8384ddd282ae27c5d0",
      "480150647b474e4bbd723055671e7338",
      "6749e9c8c60e4b3b89ef84476df42d19",
      "2e14476faa8541af81018e4a9ad4a02e",
      "1e17692c7eae442f81ac5d521b46a663",
      "0b0d06bb2b994ad9bd21d075e2779a10",
      "6f2b994cc5484761ac24351bc43e8b33",
      "a65b59e914ea49118be978f3b8fe2651",
      "8fbf4cb594164143808983da13faaace",
      "9308aabd913745cbad0a216f75b0695c",
      "fb182e7ab72d4db4b08ac225c3e878a5",
      "e4beca396cff4db39ce25248ce448b77",
      "24228b92a26f4656bd5bca7cca0da069",
      "957c19332cc64a42a7c6198d4b2234b6",
      "a020629711564e549ed6772c46a81786",
      "3b0a339105f943ed85d81788f84179ac",
      "95ca63961bad4853becb2dc9eb82e11a",
      "dd44c5d358404ee8b8864cb3d85ec94d",
      "0e33458b1f4c43ea93cb2efcd8c54b54",
      "5e2566fde54542fc9291bbf772d0d8d4",
      "e1d4f7f5189842c4be1192dbe9d0efae",
      "afa2f5e010094acca9e50dcd8e42a96c",
      "26003fbdf2214a90ade56162b2f6c558",
      "da00e05879a5464197c838de1df77eda",
      "d299bee3962244ff9fdb2ebfa7229b71",
      "7362686d2841484d90cec8647c1bdb1d",
      "2c175e8a2c5e48bc9dc787167c32f94d",
      "76d93e00de574ccbbdbaed715185a40e",
      "14e61e5527ef4cbe973f1a298a152111",
      "7063ef24bffc43fea9964946d13cd749",
      "c9f96a138f45417381637ab5b3a4cad5",
      "f54ca8a0b98145b0850255f75a4eb154",
      "2e75e591102c4adcb114f4877efdb6dc",
      "eab46ae4932743a581a749170e481e7d",
      "73a8ad7291c745d68c1ce6eebe689bce",
      "be8e9c4b83dc4cd18c11ed0b877e06c5",
      "47254a26d5bb4d15b9e62a2afada71e2",
      "36911b9e7cf34150a0e63886ed523b81",
      "cf242a8902f742b0816c5cedad0c8308",
      "69962003ceb34fbc96ce437ae3e0249e",
      "e7c248fc1ba948a6a64cf9b8a3f45e01",
      "ccb9260ca1df4a2a8a9ff6924207dbbe",
      "3a4bb9b5f3674bcd942df4c2f8544f84",
      "d0321be303744f0e8b3e9373cfbd2913",
      "e0df24b60c8a4640b63d23bb8e311db2",
      "fdb4a17153144422b0383a63323b19f6",
      "8fe3f9445ea94e9f842a3be34a4a4d9a",
      "c0ec5bcf8c744f459fd882d1d67f7f3d",
      "e2880a85076e4b4385a4e2fe2ddc768a",
      "2307e18915874ff5849ebbb48a1de712",
      "f288a66b439a4f9b907246245bf17b39",
      "4bb8ba21cca646cbb23b738304af8bf8",
      "198e6114e5544e7eb8a2efed5146741a",
      "0f33c2ed2832401cb190055a7e60b7bc",
      "0f349f63116f4929a1689d01e3ffb6c0",
      "cf22081cd13f4fe4be560e2e59742be0",
      "5d4872334df3472fa5946c7a16e38d1b",
      "62dc366a81dc40cb95446f6388104eaa",
      "feca9e67f4c1477c9f8e950d68378124",
      "01e0c76153704a3ba0871f626eb5f188",
      "40abff318c9c43849a777c731b542c54",
      "05c112bf4be04b97b13d4aabe072bde6",
      "3845b2416ed24a72a4ada03ced6e2d04",
      "9847c476b9ca4c8ca36a250756eaf97c",
      "f4ed6ed67906411eb753a9cf20f9097e",
      "ae33e49c5d52402a94639b69178bf814",
      "7f26eb9bc886402bbcc06b925201c4fa",
      "d76a1f1c3d034a898e1a960aeb6460c6",
      "cc359b60a86a4dec9a2e49fe29f57a19",
      "f35b6447114c4972932c84ad60f60bc4",
      "f5c247832846400fba6fdb129eff69f3",
      "ac7bc6b769fd4979a40a5b60f1b85201",
      "85d7797bc987408a96cdf3c2e01629a3",
      "f79d646e356b440ea1846a92d8e55640",
      "11bf4ef4d9224c83a3f1b3718b14a982",
      "b8c279a369784ece8ef81bbabb245d1b",
      "332d04f3a9374f4897a6598e286f2a1e",
      "803f586ccdd84a2cb47f23fef87f4b68",
      "da67cd62cb244852a8376ad8c74cbd1b",
      "eeceffb0683b4858806e22a15fb9cfdf",
      "762ca4dbe51c4e688dffc4c66b0d8c62",
      "0d354fc5535d4adb84c9722a36418c55",
      "721d0687c661443491ef1a3e18dbf98b",
      "6428280e1112438c96e73aa6e4a56ae0",
      "7a50dfc24a39464b9472b8c096c324ff",
      "d54dc4ac7bb5473e8f41e29739b7fd99",
      "108d55e627294e0ab421d05fad06662d",
      "78d26d0da7744beea4f980ca8e33deaa",
      "5e6bafd59b3f4812874cd1265e881ebe",
      "bad613d0340a4dfe9262a8caabbc1770",
      "a351591c38f24b539d100838e49ac3d4",
      "f91a0ebf98bb4a9ebef90865ee1cab0e",
      "64ae9f890f664235961d1c675fd08353",
      "5fe9639bfc454d428ed7b75dfba88029",
      "b31bab5ea4a44042bdb2ecb497ba9546",
      "4936d74551c8465295f940f2b6c7d5e6",
      "690a8d2f136541b6a98db5d56a7192dc",
      "69056297fa9449f6bc1169f6d7775324",
      "ee49681b2b704432a5f997e8656b0806",
      "e0f33a7c437c4d0e91cd78cccb3ec66b",
      "84046d94035b485e86221facde0474c2",
      "eca4c5dc19904f7f9a259d5b68fa58bc",
      "4cc4893dc6504eddaad46692a784d49c",
      "e841e10be2f845b080b52938e0b93b5e",
      "f8655c49e80945ea83e1b2f1dfe1d53c",
      "97289321cec94da39c8e8309eac73ce1",
      "5e1e31cea644424a8d8554dcabebe1cd",
      "3a0a13e587cb402bb6301c578ec1661b",
      "292a80bcf3cb4ca6ba71b9d64e907205",
      "aea75c207f864b95883457e20de066a7",
      "a79fe6e69fa14b8eadda0369744e92c2",
      "e76de7b3946744feaf9e3cd8cff2173a",
      "5f6c7abe42ee474ab80a19670a127b5c",
      "3e5ca0627fe14079939801ab655c9aa6",
      "d0a4a68b13d44b72adbefd7dd847ecd9",
      "e5ca04305ea649459fbb5e941a7ca277",
      "4c8570eb6dc6477ab9af3e981c958a76",
      "1392344f89db47029228533c92683bd4",
      "e3bb71dc35074d329b010e91d6a89ae8",
      "62d77db33a084379b262b960ac39bd1f",
      "4086ba3e57ec4195b05b0723db4c6fa9",
      "3f7a46a35ebd42b6ae0535f1193505ba",
      "f5b28f71507b4c2db9a461a41ab99019",
      "500d8d3fce0b47dc846700fcf553d164",
      "d2f7170b41b34d2caf21009ed2a4f41c",
      "13c249124b3f4e4eb6b4d644de1b2f18",
      "876c9b224ebf4ae1b846c7e0b77dea32",
      "dd9a0d7cb3c44405a3d42ecfba5dd7d0",
      "06699fed20364000b3ab09d672e8a8c8",
      "73c06ae4a8394fcabb5d0db00b070512",
      "2163ab62f0f048be8edb6f5f0d97a1ff",
      "8344cc170d5b49e0b1696950b13e2d23",
      "4defe696438843fca162f2b6473f0317",
      "d313be8b94be4a3fa14cd11db25b94bc",
      "bad3d0fcacbe45b0851c4ad26ac31b49",
      "3f6b7572139244aa98151967e11d236c",
      "8fa725128921470f9ecf394d23b4e31a",
      "4db227d358504546837cac5238e76ba4",
      "d8b8c738eb5343378752d7dae859c56f",
      "f3d73f7c66c846caa39189e8aeb26a9f",
      "006ee96cc9684c8497f259d834d4b4d9",
      "1edf3f6c3fbb43df92f32e414ac05925",
      "9ff2aef3704a4606ae15db69032187e9",
      "415da09d802e41509f4d7600fced8844",
      "2efc17b8ad4649f3b8e0ff27685f29dc",
      "299e5057dba74a5c874013bf491ea2bf",
      "9055f78676734a23ab6d8db36c502f05",
      "d296b729aef74030980d8d6e1ea4799f",
      "b4bc3c1bcbdd470ab754ce82239bc4eb",
      "1d0c3d4bb782410885a511aa1b6e3aea",
      "c554b5767294488f9223033f441a4c5d",
      "6a6b5c0c95d2488dafcce709135dea38",
      "fb10bc6f443e4738968a5713dff3c767",
      "858ecea98e604d8284f9a41e3530d84f",
      "a759b3b3f28c4c1fbb67fe26536abc97",
      "abbb274cc0794e55aaf4eba5ff07cece",
      "be7815b310db402a9ef21665479242d0",
      "8521beaf87e2461f9f5873209433018e",
      "cfeac93ef24a41058007da44ba18a07b",
      "870cbdd34b6c475b8853bc47075ee6cf",
      "9833c96fbe4046c1ae1187bf2f7435d4",
      "e325846c5d7b4b39b4fa5371ef3b7e33",
      "d40d0e52d0dc478ea020d97ad1cc513f",
      "51ce977367d84223ac3628c38bb72849",
      "6e2dbbb3e0f34126b15fe4045529f95d",
      "ae4f96f5b6f94fd2a796d5672dfd1f8b",
      "913a6752dadf4565ba7d6ae1c36aa2e8",
      "8f7d5b9a9ade45148209f4ebc2e69fa6",
      "a4961104c75a4ae38672b9e08d56aa4b",
      "c419a8fa4093445286aeabc240295ec3",
      "d5563ffcf25c4d3dadc95bb82a2b18c1",
      "7980327fc3174f6485d78a7d5657e3f9",
      "d390eb139487483fb9eb67bc7949271e",
      "93377186f3c0426f8a662261522f03e2",
      "7704da174d304f5aa713d52fbe5f90a3",
      "161f88380c9a4e959d54acf2a49238d8",
      "50efb772074844a5b08d2d4732ae0242",
      "925991f1b51f452c8e65c9bf2b5ed27b",
      "f2cea3d25d3244eb81e40d1b181c9cf5",
      "0b8aaecc046d45a980b6352a406a41cb",
      "0cd3e6d5eec44ac5916ba66ae302d3b2",
      "fa9c3a7b736e48d79b6391b4c4420f57",
      "db12a133d4cd439db8f1ffbb0f6c5611",
      "ccb2593090f34226a7c50f9377140a86",
      "874d34893f9e46569a16be0e6c8eefa6",
      "a23391d6ee804c23b2b6ff99edc996d9",
      "c68427748109465c9a4c57d6f2d02c90",
      "82d7ca8f76a84f50b311444e94f74a48",
      "179537fb707c4e449fc0a1e94b2a5794",
      "122ec0d1ae304962b5354bfe3568ede5",
      "894d30694983430ca516ce3b2fd7488f",
      "5c76cd6c916548eaa2c03f2e4ce12887",
      "6dcbedd68131480383c04e7c13f13ada",
      "db86a94296c8427a8109e5a483b93add",
      "b3193554708b4f7d8f18d8bcd84b47aa",
      "1622ee0a61124782934ece4b6a42d07c",
      "b91ce0995f0e435e87ed0b4253a92215",
      "f7e335729f1d484f8bb56320a5678b6b",
      "56483d70452d4ab98fa228eae9cc3653",
      "909b1e39e87f49379913741d6c863889",
      "8c11f571148b4abe8f1ca01f03b90ec0",
      "5e1b5cc5b63645a29442fa031955908d",
      "439919788a7a436984c085a58a7b208e",
      "240bec5d0e4e418989cab147cde8276e",
      "d1aefd0a4fb745caa1ffa203298f07c0",
      "73bfebe9a18041b1a3177f9ddafbacf6",
      "d08d59cf6d1d4d1e9a69997a34c0ff73",
      "3932ab4ae19f4f89818293d3a2ca6599",
      "17764e6848a84a128fe52c17ba076c7d",
      "df938318c00947b4b147ec5eaaa2c475",
      "d27e064137c948d3a9fe79d63593d62a",
      "4830c75e6c404e7fa0ddd3dc2bf4b5f0",
      "40119321926440048aa725c860364f3e",
      "734afc0db11944b2a9064f4c9a53f7ae",
      "9c6ac6f12ea84653933c6f0a7d7331a3",
      "0f1b317a46a548728a4f1aeee0ce35ea",
      "8f6decf6c2404a10a9e3227af184cd5e",
      "b66a19a742334dca9db0441dd7a485f4",
      "a1310670b6d04aa88b663a990ccb80cd",
      "d9db42f25f4e4aa6864fb7ae8f73fd7e",
      "af39ce6a87c74b8ca689c5d171afe37f",
      "a7022906786f4b5090215017939fc172",
      "f674e986243b4062be508649ce1ece47",
      "29dcb6f3e0e6411b911e8f07a5f41b36",
      "7497d5004c80430bae6e998c6a56721c",
      "ebf435505931497fb6f46dac837f6929",
      "d96668dfaedc4c759eecf73e931853ec",
      "4079b3f50b4348078dfc06f95ec2c663",
      "f023f1a4d3874f8fb13460f47ccf20ca",
      "d35c9753b36245099da78d3981d22669",
      "7e400d44be264183ab9a7bc9ea6d916d",
      "2b3025d5853d4d34b2de8b858f1302dc",
      "ab9626ebc8f34cc89ac62d71622ad28b",
      "b6fa7cf0c4f44ae8a22bf04c228cb70c",
      "5ed8496ee01d429292b2fadb489a08b2",
      "e50352a221ff41b0b8c64388203f1137",
      "f2bd37b0e7ad4a1aa22e357bfdfcceae",
      "3d5b9ef907fa44f4bf3cf4755f588c2a",
      "a17f730411f748d5b533e2ff6b3d2ff0",
      "9c0caf4a62714b97ba3d41f173bcd1b9",
      "08c502da1f6b47d2b914d08a7281eaa0",
      "46fcdf38f115479eace3c8b2a4e7db69",
      "16b20698f45b43d6a98e8c7c4f39d293",
      "ba5608643a6243178950de77fb84d59f",
      "6c0f74b961ae437d9959ec140d2efc92",
      "49a3fa473c2f43b7b43ba31132e0f468",
      "d1dddd9377f7471f967b5086a493612d",
      "7397dbff500a4577bf9dfd598b9cca8f",
      "3ab3b44775324dc28d294dfbcf8b9884",
      "faca5770006744d7aef60cd05e1d96ce",
      "682f17bed7be44089695a6339b0827b1",
      "3de91fd17f7a4d2581baef7c60bf3e00",
      "6d688ea7cd494f0f81d075df7702f0a7",
      "4bda61c6c17a46959fad828d938de5b4",
      "7ebc6629e6494fbfaeca5244f54a9126",
      "64a1af3e92454813a60d48b52b9585b1",
      "a17f1be1b43e4e8287c41d2f746c2cf2",
      "a97f9f2fa5cb4edd8d19329c05ed7f32",
      "f43585bee7b44f9cb81fb76e840f1711",
      "fb802d369a1649199bfaa8af98569ec4",
      "8b7aec1bc8a94fc19886d5fb2e17b017",
      "79621117a7784cfabdf05750ce24e84e",
      "8ef2300b0f4c4dfbbb2e244f90088b45",
      "8722dd511404435d92501938a5157902",
      "8513dfbea9f34837b7c48ba948739a06",
      "f595cfeefc3842b592ce760308c9cb8e",
      "ee90bf64174047968616d1e86dbd4e54",
      "479eb4ed902447229d8d16557b716c30",
      "35d916e11f924237a73de532c1fbb415",
      "1851823acb584efe83da96f3fd33beae",
      "0b236049911d4ae29fd0b22ea8b361d5",
      "4c4a8e1a39274ba6ad3f5abb604e06f9",
      "7063bf062be046509de055f74c9af493",
      "6402960b06514dc29685ed15aac677cb",
      "b7abd8d2a7674ed2863f52329b49d911",
      "83e0c168f0624cad878cf6aa2d8def38",
      "269e3f4d0c464ea1abdd08923ffc668b",
      "f65e77c2b39b4bb9864bfd3b2433f0b3",
      "59274738212a455da9eb82d0be25f161",
      "da27a1cf9f474b10aa0c92fd5e3de51d",
      "d0dc4ec8ae9b4b08bead41c37ffd2a5c",
      "d802d6de80154779873f20610598f05c",
      "5fd80f1ea5514a0c947e7857cf2c70ad",
      "394764d26a86406b8247d4d07be412d1",
      "d646a415bc824a03ae0b534d3b5c17d3",
      "13a5decaf5344c4d85130f521c5f9d42",
      "85a188663d5a444980e17c4bc955f306",
      "5363a1f924e64b269aea4088ef6b0882",
      "c7359f2a0cc94bd68bb1feba70f32ea9",
      "1d019d0afffa4a27ac052b97219ac379",
      "ced6ca77da534270bd4877a79da6cda5",
      "095fa11a2de64c92ab62e22ecbbf8ceb",
      "07219ab15fc1467497e9253ac7b08e31",
      "64e81368127940eaa36554afed0cc2d4",
      "d9f6e534224c40ed963026369ce46456",
      "42decfd3ff844291a86362d46e9aa7f2",
      "0381f668551840b79e1ebe3af9c95781",
      "15c2451a2d0f4ef8b67f56598943669d",
      "82780981867f43a1b58cfd441e2a1e52",
      "2bea9b39110944d1aa6b995212f6996d",
      "f5e2bc21e44447ef846315ca176bf708",
      "8a05056fc0284981bd64fdbe7c5715c5",
      "27533ed53950400ca95e53215f6c6d95",
      "b879cf0f79394d049de08daad728b95e",
      "21e854f0f13340b1aad9c0d53f125a81",
      "944a1e4952994bb6b164fd0a251ed688",
      "8e9a4d5a518f40efa36b09a7ec237759",
      "075b1cf952534894ab4c3b6d59670408",
      "78390c65e59e413ab936074c392b8d3a",
      "15da8bff52314cf0878ff5f54fcbc33e",
      "26fd7e0ec23046ea84bf1c2b4e038b2e",
      "0366f6a1f80843feb7268816b4eddd76",
      "349d8ff025f94184823bed0aa1514140",
      "f14e9c5f13fe40cdba470b4fc6204e18",
      "a5d48122493548d39d47d4d511253cf7",
      "f5bbba5670814abca794d136d19cdddd",
      "f6d5082fb66e4e65a826f5cd084bccb4",
      "67e5a7ee57f84d33951fb3ebc51a240f",
      "235552741fe645c6a11c669e5afc6981",
      "11ac7d2fd80a44dfb0045e0208f6b837",
      "8ec3c78df03f47a3a30084385da509f5",
      "8b9809fba45a420f8d0b848628dc9512",
      "42d8b49824b24d81ad6b4c255b9d2aca",
      "ca87b459c71e4ab0904b977fc314b2b4",
      "db8a0a848b494673a591213fe531bf57",
      "9a14ab07a8e241339957eb1717213341",
      "b89a18ae45a646c09d7c4f2b119b9ca7",
      "ce8ef20560b04927814bf6aabc7a1edd",
      "42045ad8a6234727baef6f0b5e80e74b",
      "7b9f40893f9e4713933c5a2b75222d6b",
      "8dd9f66d3eeb4fd4b0e7db2d0243b303",
      "8417ad23a8504ee49f32fb504f0b825d",
      "c8f3aa24f2dc4283aaae8704d22f86ca",
      "0391d66236e94f478a0c16a75c287693",
      "bc5147c451a0414c83b232f91fcf812e",
      "aa04caf1440d4af48c6a4cb8a353fe23",
      "a2ac70ec1fac4d4e8e5d5409b9b4e879",
      "b28e0e6e081d44c9acbadf4d59773589",
      "f686b108c68a4ae9ac650630654cc58d",
      "9c620e3303ff473a92f3ca1220839345",
      "8d4258ac15b04c179ce0ecc79187e91e",
      "d0014518d526440a9f2e4f8753ed7bed",
      "1a0c3d5068794c9e95328febfcc4c06b",
      "a6e96059e595484080d7b1579a0bdc87",
      "b50a144c3bf940eaaf54dd57471fea70",
      "fcd1dbf3a95f4ae6a004b14bf8e7010d",
      "cbf308afe45147bd93b8df0904d8c5df",
      "c358e200ef3c4ef1a5942a790ec15a34",
      "4d31900f6bd943a3ac6bcc6fd33bff93",
      "8252c403c2e644b29c0fd217b1459633",
      "644b148fe65d4470ac78c4c844490ecc",
      "9afd7316c1b8498ea3e1b655217cf32c",
      "0745fe3391d8432d9f6638b9bffefe9a",
      "998f21242ad94f81bda6a872a7fa8afb",
      "744a3a76fea344a187d5d0823c5b7a84",
      "3fd63a677d2149c1901fc70d6af61150",
      "6bab5cae2fe144c3839abad124e399f7",
      "d619f21e2843456a9473d1c4618cd511",
      "eed1e963dcda41d7a274507619caa757",
      "cb5e8a8a22bd43409c477bfc9d6f5d2f",
      "70e719b769384457ae5be02625591e7f",
      "a17045502ee54dc6baeef439fe4c1ac9",
      "85da7c2fca0c4c0fa3852e4860add93c",
      "7e9f30edcc544167906862f605c33de8",
      "3601cbcf0153435e8cc005d425b5485f",
      "5d0113cf191e4fc1bc7b726b36a00b24",
      "3e5be8a57e8b47439ec8eb3ee3435b86",
      "d475be55f6e2422ab31fa87563108caa",
      "07c031a4885c4c8fb25727f774b9af71",
      "58593bbc61aa4a25bc3e171d3fa91c9a",
      "dc1c5a5e2bce475183ee519a1a6efb83",
      "391d6a5c86a748e2b5644e2e1131020a",
      "415b28010fa34129b01fd53d9d0277cc",
      "6583b93253404c1ab2ceb38ac0dfbd17",
      "5e4ec5fae7d847439184b12d46cfa235",
      "b6d0dc8a99dd4627b362b4678fca6f17",
      "d74872a58bd84ee19d6fbd29a66916fc",
      "65b3ae84ebc64180a3a7826dedf22f21",
      "47ddad1d24394c1faed5aa29e4036727",
      "d585945300e44b1eb42808dd606a0021",
      "d8c7e51af4eb449eb316282d80bab32d",
      "1459c18f5f3740468bfd5aa26df3bd50",
      "c10e6fda81a6437b989de84b6346783f",
      "219379bd54c948439e257d09b4ebf3e8",
      "8fa17637ad8d473d8ccbf698d9bc2efc",
      "a4c1f60311dd468ea25be490cbad5864",
      "cfe1e87245bf4661b750688f58e6ca26",
      "522a04dd5f204fb6a1835e9e2d8f0b8e",
      "80b3293d7cb645019acc6a6c953a04e1",
      "45ff24461cc04989ac51e9c462cae790",
      "68fa14447c204e4b9a8fe174c75c6e73",
      "f2b1d23f10614e57988f8618c5f60afd",
      "f18b9b292b1b4a5bb9778293b9149e66",
      "385ddbfeab154040bbcc82d35cfe7bca",
      "c18108ce834d4fa0ae527fbb327bae4d",
      "c5d21c67a7ba4753a7762d2030784db0",
      "8970d302a3f7428a835ba94e0991cd5e",
      "70ba7bdb48434bd9a735579baff4da4f",
      "0581b8c10dd7481ea093a736a997d660",
      "5d0b6c4a00d6444d82d08c2158e1aaf4",
      "748e23ff24a147f3998ce12594c5064f",
      "055e840016f142beaa63b52855368238",
      "ce04efe2670f421ea24423b7d13d560d",
      "51187251da834048b3459c2a9b399eb9",
      "4e351e58f31849a49b48beee4b66ba5b",
      "335aac0ff8244a669137ea8e10ccb518",
      "154c6dce694c47648a1087c60abea21a",
      "621be9534c644cc2bc3839bd97214b8f",
      "52bc0bda957c45279d3f7759d63b33e4",
      "ffd1eeffd0db4a30942f01deff4e53e7",
      "09b20972c1d3448fb44b2c914ec94b4d",
      "6cce333b2f2447feb3f1855eb7648410",
      "e32c3ec406df415687b1a64a068c4eca",
      "e1a4db429a8e4ef89d2a8bc9ce38f6ca",
      "e40511a56b2c4be4a58c871f775948e5",
      "955243b1f11247258156b646e6737709",
      "89a7723de1214df8a96a615769454559",
      "3ccdb25f8c084c429402a7b23a302e0a",
      "597b471e74f249a2be9e690a2d73254a",
      "95bb1017a73246ae9254f951e83feb16",
      "3880eb8ae96d407699e097088fe79fca",
      "0b8c74b2d77942e180d0c5a7f3bec241",
      "895e401d13e046c1a53bdf8cc84c0790",
      "f419e430386341f29809adc58a2ae8e2",
      "83dfe240e3b54d3d8aa88c56ccf222c7",
      "9f45418209844dbe835ea5122bc72dba",
      "94f16d6807da43a892df6bcae3905922",
      "d51d8e23b88c4a94989c3dafdeea0a12",
      "44af913fb4564373b92bc561ca06d5aa",
      "d6ca62b7c1364d7ab043bb668a2db287",
      "360d626a5ea74778803dafe55fd2e11f",
      "8878c3600af5456ea75dda5d9ad7f63f",
      "d1cb64d08deb4879a85a71f6365056ee",
      "cf97b57dc37c4d20a4bcc410f939957a",
      "d300baaca4724a3f8eaba67d11d3b592",
      "43c6e914af1a495592fba07c2255b8a5",
      "071135c963c346aa980db222743f57bb",
      "d3dacaf3ce8141de9fe7a6241e6b8f94",
      "4449b40053dd4c17b7b5d995d089f9a5",
      "ca5c6c0968974e0f9b3634afa608c819",
      "815b93a647544ac3952c207277b63c25",
      "6d4c8d7036124f6ea15a354516c8d153",
      "72842d4ec95042e6986ec98414ab82dd",
      "ad790dbab4214aab932085596e061964",
      "3a2babaa230146159657a7d9bacbb2f8",
      "c884a0c3bde64f3ea28dff6bfda45faf",
      "825fb800b26e430c8e53f1c0be23d30c",
      "3b7486c3b5d143b7b736b9bda5312cae",
      "79294c82408f419399bc3f5fdeab83cc",
      "f2c390af993845ea9dccc5863d9ff4e1",
      "386ea23309f74034a53be29f1c239d8b",
      "b8492b54b25c49b6854478322f824ea3",
      "9e618783578f45fda613fb448fbba866",
      "5a286e9e6ab74f3dbd8b662dfe8bb6d1",
      "9343016f7e4644a2b22cb77b02ad3e2f",
      "13cd9060bc3043a18bae96820c0a6da3",
      "6352301808a64090a77039d69b00d562",
      "185fe8e13fd743d29db1674589414ca8",
      "2a5bd0dff6334609a456244a376fbe45",
      "1aa08958c24647be857d1c4e4b429270",
      "71e87d7c97db486087f6414ae6c1902c",
      "3332de2ae06b49b8aaf3263aff91bd85",
      "1cbb0c16c8cf457f9c569d7af367e43a",
      "44077d02fd4748b985e472ac1709b188",
      "f1eb57f87662429ab3c67ef5872f9501",
      "d4e3003035934022b6652299f2d12967",
      "59ba49e1bd9a4367b571b7a769631b54",
      "3fefc490f2f7470b8a04156c40348248",
      "5a6e81e0e67042118ff78bffadfeb918",
      "a3578ad91b45413596373d9181286a1f",
      "d339889118ed4d30aeb82ad1b2e6d386",
      "72027d15d56f4201ad8860959ec13821",
      "768faa39d4fb487e821e33e84ec5175c",
      "1dd1b1bb10c844fba2fca09facbc62b3",
      "880a8bb98a6e475e8c4afa2354a3f729",
      "afb57b3c4fad4d99b78d81543118a6b8",
      "b7bfc01f1cac423789dcbe3d5e8e56d7",
      "b081f5877eec4aad91673f4a34130f2b",
      "4255d2ab9946411eb2b5f8714779b192",
      "7e6d974de3de45d1bead022570d1c164",
      "9aa57b59ff594a1b98194f92a41d3632",
      "acc356788c784df1a1846c82f55365e4",
      "01f61b18cc1a4ae89f94e85e36e26ad1",
      "be8a791c7e404bdcbc82d993d796354e",
      "ed256b2eef784bd78a39e736ee1c8a64",
      "7f47e470daa644e3937a148c9b148951",
      "b9d5cef2b9ac4de5829b341d0b3034b6",
      "949108571a564ddfb750446815711dcd",
      "769087f924ab404cb7c34fdc855649a5",
      "7a9a9732ad7c424fb12b388da8f79eae",
      "a196517458ef49f38e6f316046c02772",
      "461bb8000d4e4cca8025d28f72ac1c00",
      "ca5fb5af17494371b2b0a5a34f375bc7",
      "a77337e8c9314de1b5a0ab1b0538f19c",
      "78232465b0524730aac23563f2e0643a",
      "bf1259a5e9c043899550c8421db3041a",
      "f06e2276345d40b5acab3c2b78317585",
      "3e6ba7333c3346cb8dea5b8563679062",
      "70b930bd88344560821f73c0e8467f25",
      "26e4807fcec44f4285a7045c47e02ec6",
      "2ca078ce1e1a4adb98e0dc63f53d268d",
      "59b54626cce6481c9097d63957d9dc96",
      "4dca3b0d8ae14ce28724bfe15b64e82a",
      "e6cca16da4624952bec0b0f2c7e1bdc2",
      "22cbc80ef9704accb9ab422f17fe0a78",
      "750c4fb7813140a9afeb2b7f28c29752",
      "cc8a8980f6524566a34e0199ed65f99e",
      "dc189e8c9fd14299b052bfe5e2e263ae",
      "66e04875ad914f5294c45a9252451aaf",
      "e1d027f60f194353a8ded16026d6f973",
      "6de8dd360172485ead8100580426d9f9",
      "539fd399210745fc9c20dfbef5ba3e0f",
      "74e97a950f584ed89f2b07b9b4b091aa",
      "074d7a9e6ead466a85345a8b2ea804a5",
      "099e723a595a48b8a886669cc0cda6cf",
      "febe99e7b00d481cbe53c20e00348b7c",
      "b61b4357713048ea94ed0a9abaab9e6e",
      "6b97dee5c8e74387a0f166627c351926",
      "efb4f3d18bd840869ae51516fe55744c",
      "1cd801172a8b4ad1a8f4a0ed00e1f21c",
      "69d5f53ac50b40fa836e92fd6626b2f8",
      "feb9ab57af0343d1ad23e3fc49018354",
      "5316c82d3f78413f9987aec0bb707b2a",
      "a85fe5d4e5ce4b8db017360f20ce8d5e",
      "36b4e23b52b14c7b8546fe1594ecc9e8",
      "f41ca2fddcf9487d967e1c750332e0a3",
      "77d0d39e95964c5c837bc80b826167a5",
      "e994d812954b406db1e5b58cc90f940f",
      "0162d2acf1e34e13be2cc0b4500e700f",
      "82c4bf80c05542d1b7af64a32513c348",
      "155ca77192ec4c4cba1e8df12201ec96",
      "1dba4a73411c44b2a69c73ca1a674fdb",
      "cbc5e6bb3a584f0cbfddddff05660c9f",
      "8fe81180cc144edca80023fc8647c281",
      "3659a9b8fbe3479892a10643faf22668",
      "22751a492b9c4b3cb646c3a67adfb6ce",
      "19194e59ae774081bcd02e871f78c7ef",
      "3739c1dbf59f4fcda051f18135561680",
      "423243179aee44b1a6dfc2a002499294",
      "8a05d582d6654658ad833ecd8f7aadc4",
      "6cc3f02f2d4b499cadfb0ede434b38db",
      "4998843befb241e186590cc9c007c2a3",
      "5423dca1097447c192d00db1561b678d",
      "afa8f280cfc445628e29690c6b808ae6",
      "1b449fd98f944cc7bb3560f79e0bf584",
      "f5d115117fce40109b6eb3ba6b06da3c",
      "2cd405b916d1446e969ab7ba2f620660",
      "018cedcff4ec4a329f7005663f114d7a",
      "a9bfd74c8ded487cb80a9f6d620b2c13",
      "4f6fed7e6a6b4c34b4c3740d00d8d610",
      "d592b367956f4dd0bd7391ff33b1fb90",
      "0cd3ea28a9e04a11b6e4bf206cde602b",
      "ac264f27b6854535834c3529cb787438",
      "25e571cda9e54024bd6e5fedf013fb34",
      "3f2975f0cb934d36bdcd9088c1a9ea75",
      "f4e19e593f874982b4e6213ce557620e",
      "ecaf3491c98a42e58d58153ea94eaa34",
      "581747e28c394a8c8c6f25aad5a78a84",
      "c13c8a878e1b4466a7c784b3aace0c14",
      "9c83d60a12a54168b62734da096d0930",
      "55f08d1dde7e4705b63299eba57bd69c",
      "80de2a7a6304463cbc8a6abd4bfe9310",
      "6dca1206be6b4fdfb3a5975642e16a22",
      "379e91f84e3c4c9ea418459849ed7813",
      "0f0fdb1f78804cf0976f4b32e4a5d381",
      "0e9005c508254508bb97bd8bd5353f8f",
      "ade67b734b7947f8be60652bf17396e5",
      "ba27dc174eda45f490d1757c22fbff40",
      "73e72876dbea4cd39ffab4bc3cf93eac",
      "59f0e7c34c234d58bf725a9b7b6e9760",
      "6fbca64a4d1d4cbc85a6bdd1b1ef65ad",
      "b1600572f6694fca9e4a76a7b5724329",
      "2fa2b1d8b92a4d7ca2cc5e814305ca37",
      "3700779f79564046b368cbd3dbd3c5bb",
      "97d225e07e27472fbdf1e4d23e3108a7",
      "210a4480cfe64849ae72c52fc7623371",
      "14f10bd930e44da99ba115daa1bb75cd",
      "8dae987a06e74959850be5b1084b54c3",
      "834fb809cee840bf947a70d90d95b2a1",
      "25dae1222f8649df8b92c46729bbd3b6",
      "2dfdf5eff8f64094b02105529be4c2ce",
      "8d2c17a7697148109546010dee68724e",
      "740aee2324c74bd7b56a832adb7e0e94",
      "ee1a545effbc4bf8b819f77c73555d18",
      "7ba45abd31484b779c02ad288ac61d4c",
      "bb7fc62977a447a096767fcdeaf507aa",
      "d8c392f7a9b94d50890a308decfcee4e",
      "316829910f87443e985ab085fd50e20b",
      "6c19233b02884316ad6a6706969ceb3b",
      "56c0c9ee862642daa1347ff63179ae4b",
      "7ce8ee7880394e9dafd08d618feb4808",
      "59f392de5d9c4c9cb38734d390d1cffb",
      "eb85418aecff4ccca05f51a47c3ddc15",
      "2f1cc83c5ed641c6b3e8255cd90d67f2",
      "e7301364c5f04e7aa813582d1e767b0a",
      "867f60886d52437d9c5a728de02c7539",
      "279b38bbfa5f4bf08c1440765023715c",
      "56dcf053306f4892893dbcc61f2bd713",
      "ee9735ca2660456fa4bda04530b77933",
      "e017a01da9cb40449fe1fbda6cde88b4",
      "509bc879153c4296af48855ab179e59a",
      "08f2e0199919461e8d154bbcb6d09843",
      "9dc70035ecf7460c92fe9c3c97b026f9",
      "ccba44bdb9504eee9d783594727b1ace",
      "22c9d7a10bde4301ad1c6922bb95f5a0",
      "de53371a9e5f4a1fafb0eed969187baa",
      "6aa87d56c2464f5f92a9669b2eff0d2a",
      "4d90e8ee7fce4f75af8e7755b386ac46",
      "6422babdc06c4819a182f540769c3b39",
      "b5440eef8fa947919092d7063905baf0",
      "f3520d6398a6433980cf6b73ecb65ac6",
      "771df60e425142b399601d25efc092bc",
      "48fa5e6b8aee4fc5b7046de358bffa52",
      "665742e3345d40f3b82593ce8ef2a88e",
      "4b502b9cdd004472b42231a01589d246",
      "40fb86949a0740998e8ee2f09856e419",
      "3bbf1ca225114e2197b1e651c365a27b",
      "662a2b4b37c64e0e913e89e8499b4072",
      "0243f31a281548beb03ef5ddfd41c89b",
      "8d4986a948b64e58ad53f1f3dcda9f1e",
      "eac738942952489aaa13bbad69e04b56",
      "0690019a5fea400aa56d956cb2843eed",
      "ca8e4c86f7fa443f89057a71736d9bef",
      "fb8a90a153524a43a8d376a383c4c832",
      "8ea56bcb450b40bbb3ae5342f15b7699",
      "9e584662e4ac420bb5c08f1080820f17",
      "92bb0643bc9545c7b65e0707874f9274",
      "02664f6200164fd4924e58de8750a878",
      "ad762bea32244f52a8e6abc7155dec61",
      "1d3af7c1f8994d1fbca53f0d9923d80f",
      "6fd8e6b4bad3442fb4166e95a715b800",
      "e83aac9c1b7b41e6871e234ddc1e896b",
      "0211ae2e033d4aafaa6aebfc78d8e5f1",
      "23a5a376dabc4d159b0d471bacdcc7eb",
      "87636b10d3fc4c378f82834b64d7b12b",
      "44f9baf9694548579aab4c9eb405ff5e",
      "956e738fec5d4b8391bab7dab2d440e5",
      "e2bff0f7c9b64bff96f7c2fae587a738",
      "7a37df7f01d34298add7a99bddbaf399",
      "3bd244cb06fb4d48802f634a20161afa",
      "80d6b4d15d704a5a8926f457ce800fa8",
      "06e591f74d94436eaff0b9d6327a2cd0",
      "45d2eff857934d24865080a0a45585b3",
      "0b9de2a62f9546a1bd1de5522d6f765d",
      "2c4bdbdb599143fbb1671d8caeae4cb4",
      "029e2024167c4de2aa4f7485ba783436",
      "0d8b3a4d79474cacb41bac66e28662df",
      "d1fa6fe8dde944e9b37865b4d750b763",
      "15092f8faaa54c18b8303412dde74728",
      "d0038e6531464f8082bdde33fa413535",
      "79a2f57ce449452398c3678a73954a6e",
      "4f640d2baca74371b99fd94f7d3b8b78",
      "120326e87a1043d8824be3dbdb16bb68",
      "ba65616917f14957a56e74fa660f176a",
      "47da7b60331f49d6be53682c13a46b8c",
      "8739dfe8f52046b78b3c9fd5b51516d4",
      "a376764f26524d3fbefe44214d4a4827",
      "057e9bcef2cd4c4e9e994fea56702427",
      "03a694cae09f4ef18caa461b971371ec",
      "e9a60e02bbb54b9486051da9ad6c1cac",
      "d6804c827c424975ac9b329f77be01bb",
      "fbf111f08a1c4b768a8a817ce8b0df1b",
      "b0c39e22e4ca4a2fb63f9b382b7db7dd",
      "2c0f4c70c1ce4488b8201ebec886784f",
      "59cc8db2b9a142699dbddaa69309408c",
      "ab4d927f97484572849831878bf27071",
      "2d91d164f92948c98d7731540db34436",
      "7442894bae9941ab9864d9c2d3cad3c9",
      "f3effab920214611ab34d8601bec4490",
      "12b2db6a8b744da8aee7ad176c08ea32",
      "98e108ffdaa14c109d8d411ef5d31e3f",
      "2ccab8b1c33c4d3e9425237665a8a2e0",
      "a22d661e06c14acb97400e688b07eaba",
      "aa73c0165d364550bbacd2124cc1e3c2",
      "014dec92059e40a88133c66973601c05",
      "7b7d1b6ee8134cb3b6571116de5325fb",
      "07e236f915a44d07b8a94cfc331acf47",
      "ee91b37abb074047a6b1443775ba4dbe",
      "b02a819a9ff94c9fac3b7e1b66bb4e3d",
      "a43ea92bdb1e4ca9ab5e3f7c3df6a6c9",
      "bdf5526750e94472a4042926db16c73b",
      "22a69c06c4634dadb3f5d6bc83b4eb7a",
      "552c2a10800d484696090e2a0f44a241",
      "70efde0ae7244c5d9f17fc15345cb993",
      "1cfaa16dc0ce4753965ccf894857d29c",
      "0bd8facad8fa45b0999e295b7ffe2017",
      "fec399a70bd845788de1d7a090d7b3a6",
      "9ce6b97c2c864392ad12c573fd53ef13",
      "a10a83d126774f738aa30b05116f9cb3",
      "f1ca5f7f1b464780874b653c03105dce",
      "712e514e8e0144ea9e67526d59dc964d",
      "8a5137b2a3424de4af6db65cd0c7940e",
      "a550d6906cb847a5a52e973ad170f9ca",
      "977f2c9438fc41cd957d7c8cd5c3dd43",
      "afaac0a7937a4fd29ba09298a9febfec",
      "12e44a8f80fa4edba85c7a374a428859",
      "b2f57200328a49d3a9c88592b482d575",
      "ebfd407ebe974d06bacbe1bd0bc13a8f",
      "241a837d75bd4998b7cf9fa08b287e20",
      "76958bfa88af43a794a774a1ff41611f",
      "2869dca3195e418f83c03d2ea3254748",
      "6130fcb9c0104872b246de1176e8c3a9",
      "512985021f814b998d50a2c8c1d2fbde",
      "f7067fd4f1944043bca4a083244b0da1",
      "1431cc85d6d344208e7efd7cf4f12d7a",
      "6d86fc06a2aa4cacb4867f50150edf82",
      "0351be64c3da49478b79bd1bd414b763",
      "02f8105ad5bc49d4a906aa0ee7ad69ac",
      "0f7931d054c241e4b2da6bc1390855b9",
      "9724a5b1fdd44bd48412468cadc781ca",
      "aad16046663449b3a13ba5e3094e1744",
      "a4d5c8eedfc447f796fe08cd889952b3",
      "c73c1268d7f142adab07786f4f523a5e",
      "98eba735f6584162b8c50394f3017bbd",
      "1259a82b9a614e86bddcedee0a7450b6",
      "70ebb44552af476c9080a416c50a2f4e",
      "5ecaeba6c6394e628b28d088b3eae609",
      "613702be12674dd3bac38329fe9a452a"
     ]
    },
    "id": "s2rI1FzQWkpr",
    "outputId": "700afec1-1b9e-448b-c9b4-329067edfdb5"
   },
   "outputs": [
    {
     "name": "stderr",
     "output_type": "stream",
     "text": [
      "INFO - (NP.forecaster.add_lagged_regressor) - n_lags = 'auto', number of lags for regressor is set to Autoregression number of lags (48)\n",
      "INFO:NP.forecaster:n_lags = 'auto', number of lags for regressor is set to Autoregression number of lags (48)\n",
      "INFO - (NP.forecaster.add_lagged_regressor) - n_lags = 'auto', number of lags for regressor is set to Autoregression number of lags (48)\n",
      "INFO:NP.forecaster:n_lags = 'auto', number of lags for regressor is set to Autoregression number of lags (48)\n",
      "INFO - (NP.forecaster.add_lagged_regressor) - n_lags = 'auto', number of lags for regressor is set to Autoregression number of lags (48)\n",
      "INFO:NP.forecaster:n_lags = 'auto', number of lags for regressor is set to Autoregression number of lags (48)\n",
      "INFO - (NP.forecaster.add_lagged_regressor) - n_lags = 'auto', number of lags for regressor is set to Autoregression number of lags (48)\n",
      "INFO:NP.forecaster:n_lags = 'auto', number of lags for regressor is set to Autoregression number of lags (48)\n",
      "INFO - (NP.forecaster.add_lagged_regressor) - n_lags = 'auto', number of lags for regressor is set to Autoregression number of lags (48)\n",
      "INFO:NP.forecaster:n_lags = 'auto', number of lags for regressor is set to Autoregression number of lags (48)\n",
      "INFO - (NP.forecaster.add_lagged_regressor) - n_lags = 'auto', number of lags for regressor is set to Autoregression number of lags (48)\n",
      "INFO:NP.forecaster:n_lags = 'auto', number of lags for regressor is set to Autoregression number of lags (48)\n",
      "INFO - (NP.forecaster.add_lagged_regressor) - n_lags = 'auto', number of lags for regressor is set to Autoregression number of lags (48)\n",
      "INFO:NP.forecaster:n_lags = 'auto', number of lags for regressor is set to Autoregression number of lags (48)\n",
      "INFO - (NP.forecaster.add_lagged_regressor) - n_lags = 'auto', number of lags for regressor is set to Autoregression number of lags (48)\n",
      "INFO:NP.forecaster:n_lags = 'auto', number of lags for regressor is set to Autoregression number of lags (48)\n",
      "INFO - (NP.forecaster.add_lagged_regressor) - n_lags = 'auto', number of lags for regressor is set to Autoregression number of lags (48)\n",
      "INFO:NP.forecaster:n_lags = 'auto', number of lags for regressor is set to Autoregression number of lags (48)\n",
      "INFO - (NP.df_utils._infer_frequency) - Major frequency h corresponds to 99.99% of the data.\n",
      "INFO:NP.df_utils:Major frequency h corresponds to 99.99% of the data.\n",
      "INFO - (NP.df_utils._infer_frequency) - Dataframe freq automatically defined as h\n",
      "INFO:NP.df_utils:Dataframe freq automatically defined as h\n",
      "INFO - (NP.df_utils.return_df_in_original_format) - Returning df with no ID column\n",
      "INFO:NP.df_utils:Returning df with no ID column\n",
      "INFO - (NP.df_utils.return_df_in_original_format) - Returning df with no ID column\n",
      "INFO:NP.df_utils:Returning df with no ID column\n",
      "WARNING - (NP.forecaster.fit) - When Global modeling with local normalization, metrics are displayed in normalized scale.\n",
      "WARNING:NP.forecaster:When Global modeling with local normalization, metrics are displayed in normalized scale.\n",
      "INFO - (NP.df_utils._infer_frequency) - Major frequency h corresponds to 99.988% of the data.\n",
      "INFO:NP.df_utils:Major frequency h corresponds to 99.988% of the data.\n",
      "INFO - (NP.df_utils._infer_frequency) - Defined frequency is equal to major frequency - h\n",
      "INFO:NP.df_utils:Defined frequency is equal to major frequency - h\n",
      "INFO - (NP.config.init_data_params) - Setting normalization to global as only one dataframe provided for training.\n",
      "INFO:NP.config:Setting normalization to global as only one dataframe provided for training.\n",
      "INFO - (NP.config.set_auto_batch_epoch) - Auto-set batch_size to 64\n",
      "INFO:NP.config:Auto-set batch_size to 64\n"
     ]
    },
    {
     "data": {
      "application/vnd.jupyter.widget-view+json": {
       "model_id": "482dc877128f4a9590d7bf0cd400f26a",
       "version_major": 2,
       "version_minor": 0
      },
      "text/plain": [
       "Training: |          | 0/? [00:00<?, ?it/s]"
      ]
     },
     "metadata": {},
     "output_type": "display_data"
    },
    {
     "data": {
      "application/vnd.jupyter.widget-view+json": {
       "model_id": "2bc52b4d37e5498fb15e4bb0f6e2db12",
       "version_major": 2,
       "version_minor": 0
      },
      "text/plain": [
       "Training: |          | 0/? [00:00<?, ?it/s]"
      ]
     },
     "metadata": {},
     "output_type": "display_data"
    },
    {
     "data": {
      "application/vnd.jupyter.widget-view+json": {
       "model_id": "2c0a092873374e79a998eb7cadfe2f90",
       "version_major": 2,
       "version_minor": 0
      },
      "text/plain": [
       "Validation: |          | 0/? [00:00<?, ?it/s]"
      ]
     },
     "metadata": {},
     "output_type": "display_data"
    },
    {
     "data": {
      "application/vnd.jupyter.widget-view+json": {
       "model_id": "a3593e8ff00344f18dcae6aa5aac0ee2",
       "version_major": 2,
       "version_minor": 0
      },
      "text/plain": [
       "Validation: |          | 0/? [00:00<?, ?it/s]"
      ]
     },
     "metadata": {},
     "output_type": "display_data"
    },
    {
     "data": {
      "application/vnd.jupyter.widget-view+json": {
       "model_id": "5ad48868c14c47a792f37f5205feceeb",
       "version_major": 2,
       "version_minor": 0
      },
      "text/plain": [
       "Validation: |          | 0/? [00:00<?, ?it/s]"
      ]
     },
     "metadata": {},
     "output_type": "display_data"
    },
    {
     "data": {
      "application/vnd.jupyter.widget-view+json": {
       "model_id": "a88fea1c3ef3444d8d6d4b4db45b9580",
       "version_major": 2,
       "version_minor": 0
      },
      "text/plain": [
       "Validation: |          | 0/? [00:00<?, ?it/s]"
      ]
     },
     "metadata": {},
     "output_type": "display_data"
    },
    {
     "data": {
      "application/vnd.jupyter.widget-view+json": {
       "model_id": "23b5d3e7562845f1a17ff236e47850a9",
       "version_major": 2,
       "version_minor": 0
      },
      "text/plain": [
       "Validation: |          | 0/? [00:00<?, ?it/s]"
      ]
     },
     "metadata": {},
     "output_type": "display_data"
    },
    {
     "data": {
      "application/vnd.jupyter.widget-view+json": {
       "model_id": "d9217df3d0a04ef5aef80e802542b24e",
       "version_major": 2,
       "version_minor": 0
      },
      "text/plain": [
       "Validation: |          | 0/? [00:00<?, ?it/s]"
      ]
     },
     "metadata": {},
     "output_type": "display_data"
    },
    {
     "data": {
      "application/vnd.jupyter.widget-view+json": {
       "model_id": "50594f7b9be34660bd6e4d6d23fa96f4",
       "version_major": 2,
       "version_minor": 0
      },
      "text/plain": [
       "Validation: |          | 0/? [00:00<?, ?it/s]"
      ]
     },
     "metadata": {},
     "output_type": "display_data"
    },
    {
     "data": {
      "application/vnd.jupyter.widget-view+json": {
       "model_id": "3f6ce5955faa4e0bb43d3de5e85f60b8",
       "version_major": 2,
       "version_minor": 0
      },
      "text/plain": [
       "Validation: |          | 0/? [00:00<?, ?it/s]"
      ]
     },
     "metadata": {},
     "output_type": "display_data"
    },
    {
     "data": {
      "application/vnd.jupyter.widget-view+json": {
       "model_id": "aba96877e1f94315bc3424d12e1dfd53",
       "version_major": 2,
       "version_minor": 0
      },
      "text/plain": [
       "Validation: |          | 0/? [00:00<?, ?it/s]"
      ]
     },
     "metadata": {},
     "output_type": "display_data"
    },
    {
     "data": {
      "application/vnd.jupyter.widget-view+json": {
       "model_id": "5c5480d67f1e4844900d77bcbc628ef2",
       "version_major": 2,
       "version_minor": 0
      },
      "text/plain": [
       "Validation: |          | 0/? [00:00<?, ?it/s]"
      ]
     },
     "metadata": {},
     "output_type": "display_data"
    },
    {
     "data": {
      "application/vnd.jupyter.widget-view+json": {
       "model_id": "a4fdb6b2205e466aaa758c445868b77b",
       "version_major": 2,
       "version_minor": 0
      },
      "text/plain": [
       "Validation: |          | 0/? [00:00<?, ?it/s]"
      ]
     },
     "metadata": {},
     "output_type": "display_data"
    },
    {
     "data": {
      "application/vnd.jupyter.widget-view+json": {
       "model_id": "32cf24719fe440dca9c71ba9efdd669c",
       "version_major": 2,
       "version_minor": 0
      },
      "text/plain": [
       "Validation: |          | 0/? [00:00<?, ?it/s]"
      ]
     },
     "metadata": {},
     "output_type": "display_data"
    },
    {
     "data": {
      "application/vnd.jupyter.widget-view+json": {
       "model_id": "be27b286728d475ba6825afc0ab79787",
       "version_major": 2,
       "version_minor": 0
      },
      "text/plain": [
       "Validation: |          | 0/? [00:00<?, ?it/s]"
      ]
     },
     "metadata": {},
     "output_type": "display_data"
    },
    {
     "data": {
      "application/vnd.jupyter.widget-view+json": {
       "model_id": "b7855ba3efa349dab46484bf373f9181",
       "version_major": 2,
       "version_minor": 0
      },
      "text/plain": [
       "Validation: |          | 0/? [00:00<?, ?it/s]"
      ]
     },
     "metadata": {},
     "output_type": "display_data"
    },
    {
     "data": {
      "application/vnd.jupyter.widget-view+json": {
       "model_id": "4f366b440ea345d39d2510fb071bdbc7",
       "version_major": 2,
       "version_minor": 0
      },
      "text/plain": [
       "Validation: |          | 0/? [00:00<?, ?it/s]"
      ]
     },
     "metadata": {},
     "output_type": "display_data"
    },
    {
     "data": {
      "application/vnd.jupyter.widget-view+json": {
       "model_id": "6617fac951004e9a8521f57b648b41bf",
       "version_major": 2,
       "version_minor": 0
      },
      "text/plain": [
       "Validation: |          | 0/? [00:00<?, ?it/s]"
      ]
     },
     "metadata": {},
     "output_type": "display_data"
    },
    {
     "data": {
      "application/vnd.jupyter.widget-view+json": {
       "model_id": "8ae9880dc39c47e488c27192f97a67f8",
       "version_major": 2,
       "version_minor": 0
      },
      "text/plain": [
       "Validation: |          | 0/? [00:00<?, ?it/s]"
      ]
     },
     "metadata": {},
     "output_type": "display_data"
    },
    {
     "data": {
      "application/vnd.jupyter.widget-view+json": {
       "model_id": "4676b42a23ab4c74a32a187636c83581",
       "version_major": 2,
       "version_minor": 0
      },
      "text/plain": [
       "Validation: |          | 0/? [00:00<?, ?it/s]"
      ]
     },
     "metadata": {},
     "output_type": "display_data"
    },
    {
     "data": {
      "application/vnd.jupyter.widget-view+json": {
       "model_id": "54e00757dbf348de913f2499d8576385",
       "version_major": 2,
       "version_minor": 0
      },
      "text/plain": [
       "Validation: |          | 0/? [00:00<?, ?it/s]"
      ]
     },
     "metadata": {},
     "output_type": "display_data"
    },
    {
     "data": {
      "application/vnd.jupyter.widget-view+json": {
       "model_id": "e05769ff05704173b59c1086234bf895",
       "version_major": 2,
       "version_minor": 0
      },
      "text/plain": [
       "Validation: |          | 0/? [00:00<?, ?it/s]"
      ]
     },
     "metadata": {},
     "output_type": "display_data"
    },
    {
     "data": {
      "application/vnd.jupyter.widget-view+json": {
       "model_id": "e6ea22e471084b55afe0791a2f86def2",
       "version_major": 2,
       "version_minor": 0
      },
      "text/plain": [
       "Validation: |          | 0/? [00:00<?, ?it/s]"
      ]
     },
     "metadata": {},
     "output_type": "display_data"
    },
    {
     "data": {
      "application/vnd.jupyter.widget-view+json": {
       "model_id": "e7df202a34944587835d5b9738db35a1",
       "version_major": 2,
       "version_minor": 0
      },
      "text/plain": [
       "Validation: |          | 0/? [00:00<?, ?it/s]"
      ]
     },
     "metadata": {},
     "output_type": "display_data"
    },
    {
     "data": {
      "application/vnd.jupyter.widget-view+json": {
       "model_id": "f61ab81fc79244dbba6ae565f2e5a93e",
       "version_major": 2,
       "version_minor": 0
      },
      "text/plain": [
       "Validation: |          | 0/? [00:00<?, ?it/s]"
      ]
     },
     "metadata": {},
     "output_type": "display_data"
    },
    {
     "data": {
      "application/vnd.jupyter.widget-view+json": {
       "model_id": "74c92dfc6caa489dbba683a2b08863ba",
       "version_major": 2,
       "version_minor": 0
      },
      "text/plain": [
       "Validation: |          | 0/? [00:00<?, ?it/s]"
      ]
     },
     "metadata": {},
     "output_type": "display_data"
    },
    {
     "data": {
      "application/vnd.jupyter.widget-view+json": {
       "model_id": "ae9d094159b84644805b559c514f7679",
       "version_major": 2,
       "version_minor": 0
      },
      "text/plain": [
       "Validation: |          | 0/? [00:00<?, ?it/s]"
      ]
     },
     "metadata": {},
     "output_type": "display_data"
    },
    {
     "data": {
      "application/vnd.jupyter.widget-view+json": {
       "model_id": "a82ff77b02aa4ff2a5a0f321e5793ae8",
       "version_major": 2,
       "version_minor": 0
      },
      "text/plain": [
       "Validation: |          | 0/? [00:00<?, ?it/s]"
      ]
     },
     "metadata": {},
     "output_type": "display_data"
    },
    {
     "data": {
      "application/vnd.jupyter.widget-view+json": {
       "model_id": "6433c361d4fa47e589c10999b70e6250",
       "version_major": 2,
       "version_minor": 0
      },
      "text/plain": [
       "Validation: |          | 0/? [00:00<?, ?it/s]"
      ]
     },
     "metadata": {},
     "output_type": "display_data"
    },
    {
     "data": {
      "application/vnd.jupyter.widget-view+json": {
       "model_id": "0468d307db0d4e97ad0d36f2a0b4fea4",
       "version_major": 2,
       "version_minor": 0
      },
      "text/plain": [
       "Validation: |          | 0/? [00:00<?, ?it/s]"
      ]
     },
     "metadata": {},
     "output_type": "display_data"
    },
    {
     "data": {
      "application/vnd.jupyter.widget-view+json": {
       "model_id": "14f49093b38a486aab37af8df0499ea3",
       "version_major": 2,
       "version_minor": 0
      },
      "text/plain": [
       "Validation: |          | 0/? [00:00<?, ?it/s]"
      ]
     },
     "metadata": {},
     "output_type": "display_data"
    },
    {
     "data": {
      "application/vnd.jupyter.widget-view+json": {
       "model_id": "117717fa9fe44e40bf2c9104c341c4a3",
       "version_major": 2,
       "version_minor": 0
      },
      "text/plain": [
       "Validation: |          | 0/? [00:00<?, ?it/s]"
      ]
     },
     "metadata": {},
     "output_type": "display_data"
    },
    {
     "data": {
      "application/vnd.jupyter.widget-view+json": {
       "model_id": "ce24f03e326d4000a7290f8279330034",
       "version_major": 2,
       "version_minor": 0
      },
      "text/plain": [
       "Validation: |          | 0/? [00:00<?, ?it/s]"
      ]
     },
     "metadata": {},
     "output_type": "display_data"
    },
    {
     "data": {
      "application/vnd.jupyter.widget-view+json": {
       "model_id": "7d98c9f4f5524c7e8eb02617e773378b",
       "version_major": 2,
       "version_minor": 0
      },
      "text/plain": [
       "Validation: |          | 0/? [00:00<?, ?it/s]"
      ]
     },
     "metadata": {},
     "output_type": "display_data"
    },
    {
     "data": {
      "application/vnd.jupyter.widget-view+json": {
       "model_id": "c63816a323cb40ed9776a54df1ddad19",
       "version_major": 2,
       "version_minor": 0
      },
      "text/plain": [
       "Validation: |          | 0/? [00:00<?, ?it/s]"
      ]
     },
     "metadata": {},
     "output_type": "display_data"
    },
    {
     "data": {
      "application/vnd.jupyter.widget-view+json": {
       "model_id": "7d4305fdab0f4e6996f744629a26f00e",
       "version_major": 2,
       "version_minor": 0
      },
      "text/plain": [
       "Validation: |          | 0/? [00:00<?, ?it/s]"
      ]
     },
     "metadata": {},
     "output_type": "display_data"
    },
    {
     "data": {
      "application/vnd.jupyter.widget-view+json": {
       "model_id": "cac2e7f2a68d40e0b5e22d10aeff1781",
       "version_major": 2,
       "version_minor": 0
      },
      "text/plain": [
       "Validation: |          | 0/? [00:00<?, ?it/s]"
      ]
     },
     "metadata": {},
     "output_type": "display_data"
    },
    {
     "data": {
      "application/vnd.jupyter.widget-view+json": {
       "model_id": "63258859da834e8691607aba03a67439",
       "version_major": 2,
       "version_minor": 0
      },
      "text/plain": [
       "Validation: |          | 0/? [00:00<?, ?it/s]"
      ]
     },
     "metadata": {},
     "output_type": "display_data"
    },
    {
     "data": {
      "application/vnd.jupyter.widget-view+json": {
       "model_id": "72f920a0ad2d4aad99f93016f87755d0",
       "version_major": 2,
       "version_minor": 0
      },
      "text/plain": [
       "Validation: |          | 0/? [00:00<?, ?it/s]"
      ]
     },
     "metadata": {},
     "output_type": "display_data"
    },
    {
     "data": {
      "application/vnd.jupyter.widget-view+json": {
       "model_id": "8855121115724319986667aeb51f3d68",
       "version_major": 2,
       "version_minor": 0
      },
      "text/plain": [
       "Validation: |          | 0/? [00:00<?, ?it/s]"
      ]
     },
     "metadata": {},
     "output_type": "display_data"
    },
    {
     "data": {
      "application/vnd.jupyter.widget-view+json": {
       "model_id": "a5ecf07f01a24ec78ee479abd90c3f83",
       "version_major": 2,
       "version_minor": 0
      },
      "text/plain": [
       "Validation: |          | 0/? [00:00<?, ?it/s]"
      ]
     },
     "metadata": {},
     "output_type": "display_data"
    },
    {
     "data": {
      "application/vnd.jupyter.widget-view+json": {
       "model_id": "5acc196e7f2144aea3d0a20f8aece6cb",
       "version_major": 2,
       "version_minor": 0
      },
      "text/plain": [
       "Validation: |          | 0/? [00:00<?, ?it/s]"
      ]
     },
     "metadata": {},
     "output_type": "display_data"
    },
    {
     "data": {
      "application/vnd.jupyter.widget-view+json": {
       "model_id": "7595749b58d84981b10a07846f0578f7",
       "version_major": 2,
       "version_minor": 0
      },
      "text/plain": [
       "Validation: |          | 0/? [00:00<?, ?it/s]"
      ]
     },
     "metadata": {},
     "output_type": "display_data"
    },
    {
     "data": {
      "application/vnd.jupyter.widget-view+json": {
       "model_id": "7754e25e2c314ffb979e3c935acdfc89",
       "version_major": 2,
       "version_minor": 0
      },
      "text/plain": [
       "Validation: |          | 0/? [00:00<?, ?it/s]"
      ]
     },
     "metadata": {},
     "output_type": "display_data"
    },
    {
     "data": {
      "application/vnd.jupyter.widget-view+json": {
       "model_id": "699ed21e4dda4e568e5bdca69de6d956",
       "version_major": 2,
       "version_minor": 0
      },
      "text/plain": [
       "Validation: |          | 0/? [00:00<?, ?it/s]"
      ]
     },
     "metadata": {},
     "output_type": "display_data"
    },
    {
     "data": {
      "application/vnd.jupyter.widget-view+json": {
       "model_id": "ed7d79a4947445ebb43b384a19a0d2dd",
       "version_major": 2,
       "version_minor": 0
      },
      "text/plain": [
       "Validation: |          | 0/? [00:00<?, ?it/s]"
      ]
     },
     "metadata": {},
     "output_type": "display_data"
    },
    {
     "data": {
      "application/vnd.jupyter.widget-view+json": {
       "model_id": "2e4c1c6697d846d4ad648fb40430e5d6",
       "version_major": 2,
       "version_minor": 0
      },
      "text/plain": [
       "Validation: |          | 0/? [00:00<?, ?it/s]"
      ]
     },
     "metadata": {},
     "output_type": "display_data"
    },
    {
     "data": {
      "application/vnd.jupyter.widget-view+json": {
       "model_id": "6d9d8b7c22a849b1863b5fecbd1025ff",
       "version_major": 2,
       "version_minor": 0
      },
      "text/plain": [
       "Validation: |          | 0/? [00:00<?, ?it/s]"
      ]
     },
     "metadata": {},
     "output_type": "display_data"
    },
    {
     "data": {
      "application/vnd.jupyter.widget-view+json": {
       "model_id": "aca9cc94476e4ce0b7f4ba3881a0f5a8",
       "version_major": 2,
       "version_minor": 0
      },
      "text/plain": [
       "Validation: |          | 0/? [00:00<?, ?it/s]"
      ]
     },
     "metadata": {},
     "output_type": "display_data"
    },
    {
     "data": {
      "application/vnd.jupyter.widget-view+json": {
       "model_id": "de51bc4d8cae40e39eadffe08470d557",
       "version_major": 2,
       "version_minor": 0
      },
      "text/plain": [
       "Validation: |          | 0/? [00:00<?, ?it/s]"
      ]
     },
     "metadata": {},
     "output_type": "display_data"
    },
    {
     "data": {
      "application/vnd.jupyter.widget-view+json": {
       "model_id": "c18728e9c3db4d4581ef6c77202d6393",
       "version_major": 2,
       "version_minor": 0
      },
      "text/plain": [
       "Validation: |          | 0/? [00:00<?, ?it/s]"
      ]
     },
     "metadata": {},
     "output_type": "display_data"
    },
    {
     "data": {
      "application/vnd.jupyter.widget-view+json": {
       "model_id": "d6a9f8d98e4a4906a0a990b3ccd915d5",
       "version_major": 2,
       "version_minor": 0
      },
      "text/plain": [
       "Validation: |          | 0/? [00:00<?, ?it/s]"
      ]
     },
     "metadata": {},
     "output_type": "display_data"
    },
    {
     "data": {
      "application/vnd.jupyter.widget-view+json": {
       "model_id": "5ac846f75a5343478126fe66f538111a",
       "version_major": 2,
       "version_minor": 0
      },
      "text/plain": [
       "Validation: |          | 0/? [00:00<?, ?it/s]"
      ]
     },
     "metadata": {},
     "output_type": "display_data"
    },
    {
     "data": {
      "application/vnd.jupyter.widget-view+json": {
       "model_id": "e2e6606499974106a4d4859bce65c26d",
       "version_major": 2,
       "version_minor": 0
      },
      "text/plain": [
       "Validation: |          | 0/? [00:00<?, ?it/s]"
      ]
     },
     "metadata": {},
     "output_type": "display_data"
    },
    {
     "data": {
      "application/vnd.jupyter.widget-view+json": {
       "model_id": "5325c534e8d94000b86c1e1ef5142775",
       "version_major": 2,
       "version_minor": 0
      },
      "text/plain": [
       "Validation: |          | 0/? [00:00<?, ?it/s]"
      ]
     },
     "metadata": {},
     "output_type": "display_data"
    },
    {
     "data": {
      "application/vnd.jupyter.widget-view+json": {
       "model_id": "16427142e47940d2a3c55dca06b88c47",
       "version_major": 2,
       "version_minor": 0
      },
      "text/plain": [
       "Validation: |          | 0/? [00:00<?, ?it/s]"
      ]
     },
     "metadata": {},
     "output_type": "display_data"
    },
    {
     "data": {
      "application/vnd.jupyter.widget-view+json": {
       "model_id": "08b127ac509f47c2be749067893de447",
       "version_major": 2,
       "version_minor": 0
      },
      "text/plain": [
       "Validation: |          | 0/? [00:00<?, ?it/s]"
      ]
     },
     "metadata": {},
     "output_type": "display_data"
    },
    {
     "data": {
      "application/vnd.jupyter.widget-view+json": {
       "model_id": "b33fc735b02240bbae87f863bbd5d1d3",
       "version_major": 2,
       "version_minor": 0
      },
      "text/plain": [
       "Validation: |          | 0/? [00:00<?, ?it/s]"
      ]
     },
     "metadata": {},
     "output_type": "display_data"
    },
    {
     "data": {
      "application/vnd.jupyter.widget-view+json": {
       "model_id": "9d9460a143eb4cd083015b5ad1293a85",
       "version_major": 2,
       "version_minor": 0
      },
      "text/plain": [
       "Validation: |          | 0/? [00:00<?, ?it/s]"
      ]
     },
     "metadata": {},
     "output_type": "display_data"
    },
    {
     "data": {
      "application/vnd.jupyter.widget-view+json": {
       "model_id": "2008be8e23304b759749dbe7f9f8f6dd",
       "version_major": 2,
       "version_minor": 0
      },
      "text/plain": [
       "Validation: |          | 0/? [00:00<?, ?it/s]"
      ]
     },
     "metadata": {},
     "output_type": "display_data"
    },
    {
     "data": {
      "application/vnd.jupyter.widget-view+json": {
       "model_id": "b6fffd1e31bb4d9f8619dfa808779d6b",
       "version_major": 2,
       "version_minor": 0
      },
      "text/plain": [
       "Validation: |          | 0/? [00:00<?, ?it/s]"
      ]
     },
     "metadata": {},
     "output_type": "display_data"
    },
    {
     "data": {
      "application/vnd.jupyter.widget-view+json": {
       "model_id": "501a49b068964ebd9e413cee0c970c1f",
       "version_major": 2,
       "version_minor": 0
      },
      "text/plain": [
       "Validation: |          | 0/? [00:00<?, ?it/s]"
      ]
     },
     "metadata": {},
     "output_type": "display_data"
    },
    {
     "data": {
      "application/vnd.jupyter.widget-view+json": {
       "model_id": "0bda6801dcb94673a4c3b783dd679b54",
       "version_major": 2,
       "version_minor": 0
      },
      "text/plain": [
       "Validation: |          | 0/? [00:00<?, ?it/s]"
      ]
     },
     "metadata": {},
     "output_type": "display_data"
    },
    {
     "data": {
      "application/vnd.jupyter.widget-view+json": {
       "model_id": "6b47a3872c854b5db0a91b12e75f683a",
       "version_major": 2,
       "version_minor": 0
      },
      "text/plain": [
       "Validation: |          | 0/? [00:00<?, ?it/s]"
      ]
     },
     "metadata": {},
     "output_type": "display_data"
    },
    {
     "data": {
      "application/vnd.jupyter.widget-view+json": {
       "model_id": "4f7f94e39ab54b0d912da6d7cae28f2a",
       "version_major": 2,
       "version_minor": 0
      },
      "text/plain": [
       "Validation: |          | 0/? [00:00<?, ?it/s]"
      ]
     },
     "metadata": {},
     "output_type": "display_data"
    },
    {
     "data": {
      "application/vnd.jupyter.widget-view+json": {
       "model_id": "8800b3754342425da4232c4e6c2ed05b",
       "version_major": 2,
       "version_minor": 0
      },
      "text/plain": [
       "Validation: |          | 0/? [00:00<?, ?it/s]"
      ]
     },
     "metadata": {},
     "output_type": "display_data"
    },
    {
     "data": {
      "application/vnd.jupyter.widget-view+json": {
       "model_id": "3e6de2d935904faaa70741b839e72b0d",
       "version_major": 2,
       "version_minor": 0
      },
      "text/plain": [
       "Validation: |          | 0/? [00:00<?, ?it/s]"
      ]
     },
     "metadata": {},
     "output_type": "display_data"
    },
    {
     "data": {
      "application/vnd.jupyter.widget-view+json": {
       "model_id": "c3ac541e46b44e91b41860fee31777a5",
       "version_major": 2,
       "version_minor": 0
      },
      "text/plain": [
       "Validation: |          | 0/? [00:00<?, ?it/s]"
      ]
     },
     "metadata": {},
     "output_type": "display_data"
    },
    {
     "data": {
      "application/vnd.jupyter.widget-view+json": {
       "model_id": "f2a8a8af4fbc4a3faebd57cfbc425a1d",
       "version_major": 2,
       "version_minor": 0
      },
      "text/plain": [
       "Validation: |          | 0/? [00:00<?, ?it/s]"
      ]
     },
     "metadata": {},
     "output_type": "display_data"
    },
    {
     "data": {
      "application/vnd.jupyter.widget-view+json": {
       "model_id": "6f9a250c076b479b909565877cf8a470",
       "version_major": 2,
       "version_minor": 0
      },
      "text/plain": [
       "Validation: |          | 0/? [00:00<?, ?it/s]"
      ]
     },
     "metadata": {},
     "output_type": "display_data"
    },
    {
     "data": {
      "application/vnd.jupyter.widget-view+json": {
       "model_id": "1a44f69b344f4d9fa8e2ec2a6e182cfd",
       "version_major": 2,
       "version_minor": 0
      },
      "text/plain": [
       "Validation: |          | 0/? [00:00<?, ?it/s]"
      ]
     },
     "metadata": {},
     "output_type": "display_data"
    },
    {
     "data": {
      "application/vnd.jupyter.widget-view+json": {
       "model_id": "36737a22879146aa8d8d5657b45c8423",
       "version_major": 2,
       "version_minor": 0
      },
      "text/plain": [
       "Validation: |          | 0/? [00:00<?, ?it/s]"
      ]
     },
     "metadata": {},
     "output_type": "display_data"
    },
    {
     "data": {
      "application/vnd.jupyter.widget-view+json": {
       "model_id": "750141defb2e4e038d959409c71c2310",
       "version_major": 2,
       "version_minor": 0
      },
      "text/plain": [
       "Validation: |          | 0/? [00:00<?, ?it/s]"
      ]
     },
     "metadata": {},
     "output_type": "display_data"
    },
    {
     "data": {
      "application/vnd.jupyter.widget-view+json": {
       "model_id": "a01326d4d3ee458ea88ff8f2564cc149",
       "version_major": 2,
       "version_minor": 0
      },
      "text/plain": [
       "Validation: |          | 0/? [00:00<?, ?it/s]"
      ]
     },
     "metadata": {},
     "output_type": "display_data"
    },
    {
     "data": {
      "application/vnd.jupyter.widget-view+json": {
       "model_id": "099735eb2bc24963a9824a0f07cda2fa",
       "version_major": 2,
       "version_minor": 0
      },
      "text/plain": [
       "Validation: |          | 0/? [00:00<?, ?it/s]"
      ]
     },
     "metadata": {},
     "output_type": "display_data"
    },
    {
     "data": {
      "application/vnd.jupyter.widget-view+json": {
       "model_id": "6d97b983ad3f4575ac49ba7654da3b51",
       "version_major": 2,
       "version_minor": 0
      },
      "text/plain": [
       "Validation: |          | 0/? [00:00<?, ?it/s]"
      ]
     },
     "metadata": {},
     "output_type": "display_data"
    },
    {
     "data": {
      "application/vnd.jupyter.widget-view+json": {
       "model_id": "1503157967674443b0f63e954033feb5",
       "version_major": 2,
       "version_minor": 0
      },
      "text/plain": [
       "Validation: |          | 0/? [00:00<?, ?it/s]"
      ]
     },
     "metadata": {},
     "output_type": "display_data"
    },
    {
     "data": {
      "application/vnd.jupyter.widget-view+json": {
       "model_id": "82c439c193534d268f10e5b43237a3be",
       "version_major": 2,
       "version_minor": 0
      },
      "text/plain": [
       "Validation: |          | 0/? [00:00<?, ?it/s]"
      ]
     },
     "metadata": {},
     "output_type": "display_data"
    },
    {
     "data": {
      "application/vnd.jupyter.widget-view+json": {
       "model_id": "e248fe47ee534486a2b51f2f64148d8e",
       "version_major": 2,
       "version_minor": 0
      },
      "text/plain": [
       "Validation: |          | 0/? [00:00<?, ?it/s]"
      ]
     },
     "metadata": {},
     "output_type": "display_data"
    },
    {
     "data": {
      "application/vnd.jupyter.widget-view+json": {
       "model_id": "051bd4a9f2a94c559ad1e79e18ee856e",
       "version_major": 2,
       "version_minor": 0
      },
      "text/plain": [
       "Validation: |          | 0/? [00:00<?, ?it/s]"
      ]
     },
     "metadata": {},
     "output_type": "display_data"
    },
    {
     "data": {
      "application/vnd.jupyter.widget-view+json": {
       "model_id": "84e113a03b7d42a3a502f342f05b448a",
       "version_major": 2,
       "version_minor": 0
      },
      "text/plain": [
       "Validation: |          | 0/? [00:00<?, ?it/s]"
      ]
     },
     "metadata": {},
     "output_type": "display_data"
    },
    {
     "data": {
      "application/vnd.jupyter.widget-view+json": {
       "model_id": "f79cac8e08814ed9981034ff8deb41e2",
       "version_major": 2,
       "version_minor": 0
      },
      "text/plain": [
       "Validation: |          | 0/? [00:00<?, ?it/s]"
      ]
     },
     "metadata": {},
     "output_type": "display_data"
    },
    {
     "data": {
      "application/vnd.jupyter.widget-view+json": {
       "model_id": "4cad1fb1000548f8a7d8eefa02496700",
       "version_major": 2,
       "version_minor": 0
      },
      "text/plain": [
       "Validation: |          | 0/? [00:00<?, ?it/s]"
      ]
     },
     "metadata": {},
     "output_type": "display_data"
    },
    {
     "data": {
      "application/vnd.jupyter.widget-view+json": {
       "model_id": "70bb40e90c5f4ad3a5e2d73bf27e57ec",
       "version_major": 2,
       "version_minor": 0
      },
      "text/plain": [
       "Validation: |          | 0/? [00:00<?, ?it/s]"
      ]
     },
     "metadata": {},
     "output_type": "display_data"
    },
    {
     "data": {
      "application/vnd.jupyter.widget-view+json": {
       "model_id": "b9c9591cc226478880a2cdc321919228",
       "version_major": 2,
       "version_minor": 0
      },
      "text/plain": [
       "Validation: |          | 0/? [00:00<?, ?it/s]"
      ]
     },
     "metadata": {},
     "output_type": "display_data"
    },
    {
     "data": {
      "application/vnd.jupyter.widget-view+json": {
       "model_id": "ac7dfee11e214afdb7d4da9c8b077d25",
       "version_major": 2,
       "version_minor": 0
      },
      "text/plain": [
       "Validation: |          | 0/? [00:00<?, ?it/s]"
      ]
     },
     "metadata": {},
     "output_type": "display_data"
    },
    {
     "data": {
      "application/vnd.jupyter.widget-view+json": {
       "model_id": "72fb5f90c0a34203a3c11635f38118df",
       "version_major": 2,
       "version_minor": 0
      },
      "text/plain": [
       "Validation: |          | 0/? [00:00<?, ?it/s]"
      ]
     },
     "metadata": {},
     "output_type": "display_data"
    },
    {
     "data": {
      "application/vnd.jupyter.widget-view+json": {
       "model_id": "001394587a8f4a49a3d527af6f6fc880",
       "version_major": 2,
       "version_minor": 0
      },
      "text/plain": [
       "Validation: |          | 0/? [00:00<?, ?it/s]"
      ]
     },
     "metadata": {},
     "output_type": "display_data"
    },
    {
     "data": {
      "application/vnd.jupyter.widget-view+json": {
       "model_id": "0dcf68746d9f4cce8866826bf66c4178",
       "version_major": 2,
       "version_minor": 0
      },
      "text/plain": [
       "Validation: |          | 0/? [00:00<?, ?it/s]"
      ]
     },
     "metadata": {},
     "output_type": "display_data"
    },
    {
     "data": {
      "application/vnd.jupyter.widget-view+json": {
       "model_id": "41c135a3c632424284a7066405fca628",
       "version_major": 2,
       "version_minor": 0
      },
      "text/plain": [
       "Validation: |          | 0/? [00:00<?, ?it/s]"
      ]
     },
     "metadata": {},
     "output_type": "display_data"
    },
    {
     "data": {
      "application/vnd.jupyter.widget-view+json": {
       "model_id": "858e3a74114344849ee88852a48dd08a",
       "version_major": 2,
       "version_minor": 0
      },
      "text/plain": [
       "Validation: |          | 0/? [00:00<?, ?it/s]"
      ]
     },
     "metadata": {},
     "output_type": "display_data"
    },
    {
     "data": {
      "application/vnd.jupyter.widget-view+json": {
       "model_id": "0e00e560d0304f459048e55bad7356de",
       "version_major": 2,
       "version_minor": 0
      },
      "text/plain": [
       "Validation: |          | 0/? [00:00<?, ?it/s]"
      ]
     },
     "metadata": {},
     "output_type": "display_data"
    },
    {
     "data": {
      "application/vnd.jupyter.widget-view+json": {
       "model_id": "0195de1bd16b4a22b74804cc48bd23b5",
       "version_major": 2,
       "version_minor": 0
      },
      "text/plain": [
       "Validation: |          | 0/? [00:00<?, ?it/s]"
      ]
     },
     "metadata": {},
     "output_type": "display_data"
    },
    {
     "data": {
      "application/vnd.jupyter.widget-view+json": {
       "model_id": "384f45cc710f4bd699a4ca855b6b79cc",
       "version_major": 2,
       "version_minor": 0
      },
      "text/plain": [
       "Validation: |          | 0/? [00:00<?, ?it/s]"
      ]
     },
     "metadata": {},
     "output_type": "display_data"
    },
    {
     "data": {
      "application/vnd.jupyter.widget-view+json": {
       "model_id": "e695b34c1db440559335e50c3ebe25e5",
       "version_major": 2,
       "version_minor": 0
      },
      "text/plain": [
       "Validation: |          | 0/? [00:00<?, ?it/s]"
      ]
     },
     "metadata": {},
     "output_type": "display_data"
    },
    {
     "data": {
      "application/vnd.jupyter.widget-view+json": {
       "model_id": "875c745a9bc948dab54dbaa4974428a6",
       "version_major": 2,
       "version_minor": 0
      },
      "text/plain": [
       "Validation: |          | 0/? [00:00<?, ?it/s]"
      ]
     },
     "metadata": {},
     "output_type": "display_data"
    },
    {
     "data": {
      "application/vnd.jupyter.widget-view+json": {
       "model_id": "ea55138065df45d5b0201c05eb69185b",
       "version_major": 2,
       "version_minor": 0
      },
      "text/plain": [
       "Validation: |          | 0/? [00:00<?, ?it/s]"
      ]
     },
     "metadata": {},
     "output_type": "display_data"
    },
    {
     "data": {
      "application/vnd.jupyter.widget-view+json": {
       "model_id": "9822a1650b3c4f8c851d28cda39ab7d4",
       "version_major": 2,
       "version_minor": 0
      },
      "text/plain": [
       "Validation: |          | 0/? [00:00<?, ?it/s]"
      ]
     },
     "metadata": {},
     "output_type": "display_data"
    },
    {
     "data": {
      "application/vnd.jupyter.widget-view+json": {
       "model_id": "4e463cfcfd6f4f4bb9b725350ec48172",
       "version_major": 2,
       "version_minor": 0
      },
      "text/plain": [
       "Validation: |          | 0/? [00:00<?, ?it/s]"
      ]
     },
     "metadata": {},
     "output_type": "display_data"
    },
    {
     "data": {
      "application/vnd.jupyter.widget-view+json": {
       "model_id": "a2063c79531f44a49b00ad02f33547d5",
       "version_major": 2,
       "version_minor": 0
      },
      "text/plain": [
       "Validation: |          | 0/? [00:00<?, ?it/s]"
      ]
     },
     "metadata": {},
     "output_type": "display_data"
    },
    {
     "data": {
      "application/vnd.jupyter.widget-view+json": {
       "model_id": "1753ac23cec74b3eabe7212403204df3",
       "version_major": 2,
       "version_minor": 0
      },
      "text/plain": [
       "Validation: |          | 0/? [00:00<?, ?it/s]"
      ]
     },
     "metadata": {},
     "output_type": "display_data"
    },
    {
     "data": {
      "application/vnd.jupyter.widget-view+json": {
       "model_id": "dc51f48649474ef19db278cba277a6dd",
       "version_major": 2,
       "version_minor": 0
      },
      "text/plain": [
       "Validation: |          | 0/? [00:00<?, ?it/s]"
      ]
     },
     "metadata": {},
     "output_type": "display_data"
    },
    {
     "data": {
      "application/vnd.jupyter.widget-view+json": {
       "model_id": "e2b4736ddcd746a8b61171ef608d3ce0",
       "version_major": 2,
       "version_minor": 0
      },
      "text/plain": [
       "Validation: |          | 0/? [00:00<?, ?it/s]"
      ]
     },
     "metadata": {},
     "output_type": "display_data"
    },
    {
     "data": {
      "application/vnd.jupyter.widget-view+json": {
       "model_id": "588b815e5a4e43a9a0b06f77a38a20db",
       "version_major": 2,
       "version_minor": 0
      },
      "text/plain": [
       "Validation: |          | 0/? [00:00<?, ?it/s]"
      ]
     },
     "metadata": {},
     "output_type": "display_data"
    },
    {
     "data": {
      "application/vnd.jupyter.widget-view+json": {
       "model_id": "d83bcd1c32584f1991b9a85a00e54281",
       "version_major": 2,
       "version_minor": 0
      },
      "text/plain": [
       "Validation: |          | 0/? [00:00<?, ?it/s]"
      ]
     },
     "metadata": {},
     "output_type": "display_data"
    },
    {
     "data": {
      "application/vnd.jupyter.widget-view+json": {
       "model_id": "b3a5fee001d7491fb8ec3526c6c46223",
       "version_major": 2,
       "version_minor": 0
      },
      "text/plain": [
       "Validation: |          | 0/? [00:00<?, ?it/s]"
      ]
     },
     "metadata": {},
     "output_type": "display_data"
    },
    {
     "data": {
      "application/vnd.jupyter.widget-view+json": {
       "model_id": "e52050319e2e4c4eafa2d3c6c4fceb89",
       "version_major": 2,
       "version_minor": 0
      },
      "text/plain": [
       "Validation: |          | 0/? [00:00<?, ?it/s]"
      ]
     },
     "metadata": {},
     "output_type": "display_data"
    },
    {
     "data": {
      "application/vnd.jupyter.widget-view+json": {
       "model_id": "2282875b72144183abd7da0b80da986e",
       "version_major": 2,
       "version_minor": 0
      },
      "text/plain": [
       "Validation: |          | 0/? [00:00<?, ?it/s]"
      ]
     },
     "metadata": {},
     "output_type": "display_data"
    },
    {
     "data": {
      "application/vnd.jupyter.widget-view+json": {
       "model_id": "c2ec617fc04543e39ef3837ffb4cfa2e",
       "version_major": 2,
       "version_minor": 0
      },
      "text/plain": [
       "Validation: |          | 0/? [00:00<?, ?it/s]"
      ]
     },
     "metadata": {},
     "output_type": "display_data"
    },
    {
     "data": {
      "application/vnd.jupyter.widget-view+json": {
       "model_id": "a0a55a86c51f402cb6712d2ee42412e8",
       "version_major": 2,
       "version_minor": 0
      },
      "text/plain": [
       "Validation: |          | 0/? [00:00<?, ?it/s]"
      ]
     },
     "metadata": {},
     "output_type": "display_data"
    },
    {
     "data": {
      "application/vnd.jupyter.widget-view+json": {
       "model_id": "e769cb4b40b74ff69af390a5fd49cbba",
       "version_major": 2,
       "version_minor": 0
      },
      "text/plain": [
       "Validation: |          | 0/? [00:00<?, ?it/s]"
      ]
     },
     "metadata": {},
     "output_type": "display_data"
    },
    {
     "data": {
      "application/vnd.jupyter.widget-view+json": {
       "model_id": "f79960fa5a22462183c5c34243b9ad0e",
       "version_major": 2,
       "version_minor": 0
      },
      "text/plain": [
       "Validation: |          | 0/? [00:00<?, ?it/s]"
      ]
     },
     "metadata": {},
     "output_type": "display_data"
    },
    {
     "data": {
      "application/vnd.jupyter.widget-view+json": {
       "model_id": "2a4d8c82f65145f9b7b05b3e11821cbb",
       "version_major": 2,
       "version_minor": 0
      },
      "text/plain": [
       "Validation: |          | 0/? [00:00<?, ?it/s]"
      ]
     },
     "metadata": {},
     "output_type": "display_data"
    },
    {
     "data": {
      "application/vnd.jupyter.widget-view+json": {
       "model_id": "b8b605c0c4044f7a89306bb96aee6910",
       "version_major": 2,
       "version_minor": 0
      },
      "text/plain": [
       "Validation: |          | 0/? [00:00<?, ?it/s]"
      ]
     },
     "metadata": {},
     "output_type": "display_data"
    },
    {
     "data": {
      "application/vnd.jupyter.widget-view+json": {
       "model_id": "c03f17a117f34f6f9b76d34c00753494",
       "version_major": 2,
       "version_minor": 0
      },
      "text/plain": [
       "Validation: |          | 0/? [00:00<?, ?it/s]"
      ]
     },
     "metadata": {},
     "output_type": "display_data"
    },
    {
     "data": {
      "application/vnd.jupyter.widget-view+json": {
       "model_id": "6060239d43af4fd08ea660a98a83c4e4",
       "version_major": 2,
       "version_minor": 0
      },
      "text/plain": [
       "Validation: |          | 0/? [00:00<?, ?it/s]"
      ]
     },
     "metadata": {},
     "output_type": "display_data"
    },
    {
     "data": {
      "application/vnd.jupyter.widget-view+json": {
       "model_id": "a9047b4e26d3415e8d2aee9313a129a1",
       "version_major": 2,
       "version_minor": 0
      },
      "text/plain": [
       "Validation: |          | 0/? [00:00<?, ?it/s]"
      ]
     },
     "metadata": {},
     "output_type": "display_data"
    },
    {
     "data": {
      "application/vnd.jupyter.widget-view+json": {
       "model_id": "5cca3623432242638debbeb204896b02",
       "version_major": 2,
       "version_minor": 0
      },
      "text/plain": [
       "Validation: |          | 0/? [00:00<?, ?it/s]"
      ]
     },
     "metadata": {},
     "output_type": "display_data"
    },
    {
     "data": {
      "application/vnd.jupyter.widget-view+json": {
       "model_id": "7cd337ab1e9f40e79b8790c261dae529",
       "version_major": 2,
       "version_minor": 0
      },
      "text/plain": [
       "Validation: |          | 0/? [00:00<?, ?it/s]"
      ]
     },
     "metadata": {},
     "output_type": "display_data"
    },
    {
     "data": {
      "application/vnd.jupyter.widget-view+json": {
       "model_id": "90f576df0ef94ada9400b9c27d0c042d",
       "version_major": 2,
       "version_minor": 0
      },
      "text/plain": [
       "Validation: |          | 0/? [00:00<?, ?it/s]"
      ]
     },
     "metadata": {},
     "output_type": "display_data"
    },
    {
     "data": {
      "application/vnd.jupyter.widget-view+json": {
       "model_id": "140c71e8abeb4ed8adc97f0cc587dc5b",
       "version_major": 2,
       "version_minor": 0
      },
      "text/plain": [
       "Validation: |          | 0/? [00:00<?, ?it/s]"
      ]
     },
     "metadata": {},
     "output_type": "display_data"
    },
    {
     "data": {
      "application/vnd.jupyter.widget-view+json": {
       "model_id": "66118f79816b4abcbc68554ff9b660c8",
       "version_major": 2,
       "version_minor": 0
      },
      "text/plain": [
       "Validation: |          | 0/? [00:00<?, ?it/s]"
      ]
     },
     "metadata": {},
     "output_type": "display_data"
    },
    {
     "data": {
      "application/vnd.jupyter.widget-view+json": {
       "model_id": "c305f03569da49bbbff9e67cd88305cf",
       "version_major": 2,
       "version_minor": 0
      },
      "text/plain": [
       "Validation: |          | 0/? [00:00<?, ?it/s]"
      ]
     },
     "metadata": {},
     "output_type": "display_data"
    },
    {
     "data": {
      "application/vnd.jupyter.widget-view+json": {
       "model_id": "74cf42e6696e47529f5a4831c9ebe37c",
       "version_major": 2,
       "version_minor": 0
      },
      "text/plain": [
       "Validation: |          | 0/? [00:00<?, ?it/s]"
      ]
     },
     "metadata": {},
     "output_type": "display_data"
    },
    {
     "data": {
      "application/vnd.jupyter.widget-view+json": {
       "model_id": "c1d0f9072bc14316804f02ac6df8501d",
       "version_major": 2,
       "version_minor": 0
      },
      "text/plain": [
       "Validation: |          | 0/? [00:00<?, ?it/s]"
      ]
     },
     "metadata": {},
     "output_type": "display_data"
    },
    {
     "data": {
      "application/vnd.jupyter.widget-view+json": {
       "model_id": "324c8dc22a6d4ea69bc10c909263be9d",
       "version_major": 2,
       "version_minor": 0
      },
      "text/plain": [
       "Validation: |          | 0/? [00:00<?, ?it/s]"
      ]
     },
     "metadata": {},
     "output_type": "display_data"
    },
    {
     "data": {
      "application/vnd.jupyter.widget-view+json": {
       "model_id": "cdc479d3560e449398dcc0122cf81712",
       "version_major": 2,
       "version_minor": 0
      },
      "text/plain": [
       "Validation: |          | 0/? [00:00<?, ?it/s]"
      ]
     },
     "metadata": {},
     "output_type": "display_data"
    },
    {
     "data": {
      "application/vnd.jupyter.widget-view+json": {
       "model_id": "765dee569f4f4df2b9f6edeef2199997",
       "version_major": 2,
       "version_minor": 0
      },
      "text/plain": [
       "Validation: |          | 0/? [00:00<?, ?it/s]"
      ]
     },
     "metadata": {},
     "output_type": "display_data"
    },
    {
     "data": {
      "application/vnd.jupyter.widget-view+json": {
       "model_id": "79d71167dd0c4c789042f855c626e7ca",
       "version_major": 2,
       "version_minor": 0
      },
      "text/plain": [
       "Validation: |          | 0/? [00:00<?, ?it/s]"
      ]
     },
     "metadata": {},
     "output_type": "display_data"
    },
    {
     "data": {
      "application/vnd.jupyter.widget-view+json": {
       "model_id": "cb1d95e23c674ec8a0afb49a04976216",
       "version_major": 2,
       "version_minor": 0
      },
      "text/plain": [
       "Validation: |          | 0/? [00:00<?, ?it/s]"
      ]
     },
     "metadata": {},
     "output_type": "display_data"
    },
    {
     "data": {
      "application/vnd.jupyter.widget-view+json": {
       "model_id": "11b009a69a084128ab667d29c24d09c1",
       "version_major": 2,
       "version_minor": 0
      },
      "text/plain": [
       "Validation: |          | 0/? [00:00<?, ?it/s]"
      ]
     },
     "metadata": {},
     "output_type": "display_data"
    },
    {
     "data": {
      "application/vnd.jupyter.widget-view+json": {
       "model_id": "2ce4b98dd0374a7b9a0baf87bf3db805",
       "version_major": 2,
       "version_minor": 0
      },
      "text/plain": [
       "Validation: |          | 0/? [00:00<?, ?it/s]"
      ]
     },
     "metadata": {},
     "output_type": "display_data"
    },
    {
     "data": {
      "application/vnd.jupyter.widget-view+json": {
       "model_id": "2c4b82ed9ae7464eb5fd794ec51b7eab",
       "version_major": 2,
       "version_minor": 0
      },
      "text/plain": [
       "Validation: |          | 0/? [00:00<?, ?it/s]"
      ]
     },
     "metadata": {},
     "output_type": "display_data"
    },
    {
     "data": {
      "application/vnd.jupyter.widget-view+json": {
       "model_id": "708555f45e594187ab5435fdcf0a4b44",
       "version_major": 2,
       "version_minor": 0
      },
      "text/plain": [
       "Validation: |          | 0/? [00:00<?, ?it/s]"
      ]
     },
     "metadata": {},
     "output_type": "display_data"
    },
    {
     "data": {
      "application/vnd.jupyter.widget-view+json": {
       "model_id": "eed1820fe4df4adebb2c56982f4c4502",
       "version_major": 2,
       "version_minor": 0
      },
      "text/plain": [
       "Validation: |          | 0/? [00:00<?, ?it/s]"
      ]
     },
     "metadata": {},
     "output_type": "display_data"
    },
    {
     "data": {
      "application/vnd.jupyter.widget-view+json": {
       "model_id": "669370b7a4b9448b87797c501550d21b",
       "version_major": 2,
       "version_minor": 0
      },
      "text/plain": [
       "Validation: |          | 0/? [00:00<?, ?it/s]"
      ]
     },
     "metadata": {},
     "output_type": "display_data"
    },
    {
     "data": {
      "application/vnd.jupyter.widget-view+json": {
       "model_id": "134a30bb1e424ee6b36dad53983187a1",
       "version_major": 2,
       "version_minor": 0
      },
      "text/plain": [
       "Validation: |          | 0/? [00:00<?, ?it/s]"
      ]
     },
     "metadata": {},
     "output_type": "display_data"
    },
    {
     "data": {
      "application/vnd.jupyter.widget-view+json": {
       "model_id": "4fcd2f36c07e434b9c7397c59138cafa",
       "version_major": 2,
       "version_minor": 0
      },
      "text/plain": [
       "Validation: |          | 0/? [00:00<?, ?it/s]"
      ]
     },
     "metadata": {},
     "output_type": "display_data"
    },
    {
     "data": {
      "application/vnd.jupyter.widget-view+json": {
       "model_id": "2e14476faa8541af81018e4a9ad4a02e",
       "version_major": 2,
       "version_minor": 0
      },
      "text/plain": [
       "Validation: |          | 0/? [00:00<?, ?it/s]"
      ]
     },
     "metadata": {},
     "output_type": "display_data"
    },
    {
     "data": {
      "application/vnd.jupyter.widget-view+json": {
       "model_id": "a020629711564e549ed6772c46a81786",
       "version_major": 2,
       "version_minor": 0
      },
      "text/plain": [
       "Validation: |          | 0/? [00:00<?, ?it/s]"
      ]
     },
     "metadata": {},
     "output_type": "display_data"
    },
    {
     "data": {
      "application/vnd.jupyter.widget-view+json": {
       "model_id": "7362686d2841484d90cec8647c1bdb1d",
       "version_major": 2,
       "version_minor": 0
      },
      "text/plain": [
       "Validation: |          | 0/? [00:00<?, ?it/s]"
      ]
     },
     "metadata": {},
     "output_type": "display_data"
    },
    {
     "data": {
      "application/vnd.jupyter.widget-view+json": {
       "model_id": "47254a26d5bb4d15b9e62a2afada71e2",
       "version_major": 2,
       "version_minor": 0
      },
      "text/plain": [
       "Validation: |          | 0/? [00:00<?, ?it/s]"
      ]
     },
     "metadata": {},
     "output_type": "display_data"
    },
    {
     "data": {
      "application/vnd.jupyter.widget-view+json": {
       "model_id": "c0ec5bcf8c744f459fd882d1d67f7f3d",
       "version_major": 2,
       "version_minor": 0
      },
      "text/plain": [
       "Validation: |          | 0/? [00:00<?, ?it/s]"
      ]
     },
     "metadata": {},
     "output_type": "display_data"
    },
    {
     "data": {
      "application/vnd.jupyter.widget-view+json": {
       "model_id": "feca9e67f4c1477c9f8e950d68378124",
       "version_major": 2,
       "version_minor": 0
      },
      "text/plain": [
       "Validation: |          | 0/? [00:00<?, ?it/s]"
      ]
     },
     "metadata": {},
     "output_type": "display_data"
    },
    {
     "data": {
      "application/vnd.jupyter.widget-view+json": {
       "model_id": "f35b6447114c4972932c84ad60f60bc4",
       "version_major": 2,
       "version_minor": 0
      },
      "text/plain": [
       "Validation: |          | 0/? [00:00<?, ?it/s]"
      ]
     },
     "metadata": {},
     "output_type": "display_data"
    },
    {
     "data": {
      "application/vnd.jupyter.widget-view+json": {
       "model_id": "762ca4dbe51c4e688dffc4c66b0d8c62",
       "version_major": 2,
       "version_minor": 0
      },
      "text/plain": [
       "Validation: |          | 0/? [00:00<?, ?it/s]"
      ]
     },
     "metadata": {},
     "output_type": "display_data"
    },
    {
     "data": {
      "application/vnd.jupyter.widget-view+json": {
       "model_id": "f91a0ebf98bb4a9ebef90865ee1cab0e",
       "version_major": 2,
       "version_minor": 0
      },
      "text/plain": [
       "Validation: |          | 0/? [00:00<?, ?it/s]"
      ]
     },
     "metadata": {},
     "output_type": "display_data"
    },
    {
     "data": {
      "application/vnd.jupyter.widget-view+json": {
       "model_id": "4cc4893dc6504eddaad46692a784d49c",
       "version_major": 2,
       "version_minor": 0
      },
      "text/plain": [
       "Validation: |          | 0/? [00:00<?, ?it/s]"
      ]
     },
     "metadata": {},
     "output_type": "display_data"
    },
    {
     "data": {
      "application/vnd.jupyter.widget-view+json": {
       "model_id": "3e5ca0627fe14079939801ab655c9aa6",
       "version_major": 2,
       "version_minor": 0
      },
      "text/plain": [
       "Validation: |          | 0/? [00:00<?, ?it/s]"
      ]
     },
     "metadata": {},
     "output_type": "display_data"
    },
    {
     "data": {
      "application/vnd.jupyter.widget-view+json": {
       "model_id": "d2f7170b41b34d2caf21009ed2a4f41c",
       "version_major": 2,
       "version_minor": 0
      },
      "text/plain": [
       "Validation: |          | 0/? [00:00<?, ?it/s]"
      ]
     },
     "metadata": {},
     "output_type": "display_data"
    },
    {
     "data": {
      "application/vnd.jupyter.widget-view+json": {
       "model_id": "3f6b7572139244aa98151967e11d236c",
       "version_major": 2,
       "version_minor": 0
      },
      "text/plain": [
       "Validation: |          | 0/? [00:00<?, ?it/s]"
      ]
     },
     "metadata": {},
     "output_type": "display_data"
    },
    {
     "data": {
      "application/vnd.jupyter.widget-view+json": {
       "model_id": "9055f78676734a23ab6d8db36c502f05",
       "version_major": 2,
       "version_minor": 0
      },
      "text/plain": [
       "Validation: |          | 0/? [00:00<?, ?it/s]"
      ]
     },
     "metadata": {},
     "output_type": "display_data"
    },
    {
     "data": {
      "application/vnd.jupyter.widget-view+json": {
       "model_id": "8521beaf87e2461f9f5873209433018e",
       "version_major": 2,
       "version_minor": 0
      },
      "text/plain": [
       "Validation: |          | 0/? [00:00<?, ?it/s]"
      ]
     },
     "metadata": {},
     "output_type": "display_data"
    },
    {
     "data": {
      "application/vnd.jupyter.widget-view+json": {
       "model_id": "a4961104c75a4ae38672b9e08d56aa4b",
       "version_major": 2,
       "version_minor": 0
      },
      "text/plain": [
       "Validation: |          | 0/? [00:00<?, ?it/s]"
      ]
     },
     "metadata": {},
     "output_type": "display_data"
    },
    {
     "data": {
      "application/vnd.jupyter.widget-view+json": {
       "model_id": "0b8aaecc046d45a980b6352a406a41cb",
       "version_major": 2,
       "version_minor": 0
      },
      "text/plain": [
       "Validation: |          | 0/? [00:00<?, ?it/s]"
      ]
     },
     "metadata": {},
     "output_type": "display_data"
    },
    {
     "data": {
      "application/vnd.jupyter.widget-view+json": {
       "model_id": "894d30694983430ca516ce3b2fd7488f",
       "version_major": 2,
       "version_minor": 0
      },
      "text/plain": [
       "Validation: |          | 0/? [00:00<?, ?it/s]"
      ]
     },
     "metadata": {},
     "output_type": "display_data"
    },
    {
     "data": {
      "application/vnd.jupyter.widget-view+json": {
       "model_id": "5e1b5cc5b63645a29442fa031955908d",
       "version_major": 2,
       "version_minor": 0
      },
      "text/plain": [
       "Validation: |          | 0/? [00:00<?, ?it/s]"
      ]
     },
     "metadata": {},
     "output_type": "display_data"
    },
    {
     "data": {
      "application/vnd.jupyter.widget-view+json": {
       "model_id": "40119321926440048aa725c860364f3e",
       "version_major": 2,
       "version_minor": 0
      },
      "text/plain": [
       "Validation: |          | 0/? [00:00<?, ?it/s]"
      ]
     },
     "metadata": {},
     "output_type": "display_data"
    },
    {
     "data": {
      "application/vnd.jupyter.widget-view+json": {
       "model_id": "29dcb6f3e0e6411b911e8f07a5f41b36",
       "version_major": 2,
       "version_minor": 0
      },
      "text/plain": [
       "Validation: |          | 0/? [00:00<?, ?it/s]"
      ]
     },
     "metadata": {},
     "output_type": "display_data"
    },
    {
     "data": {
      "application/vnd.jupyter.widget-view+json": {
       "model_id": "5ed8496ee01d429292b2fadb489a08b2",
       "version_major": 2,
       "version_minor": 0
      },
      "text/plain": [
       "Validation: |          | 0/? [00:00<?, ?it/s]"
      ]
     },
     "metadata": {},
     "output_type": "display_data"
    },
    {
     "data": {
      "application/vnd.jupyter.widget-view+json": {
       "model_id": "49a3fa473c2f43b7b43ba31132e0f468",
       "version_major": 2,
       "version_minor": 0
      },
      "text/plain": [
       "Validation: |          | 0/? [00:00<?, ?it/s]"
      ]
     },
     "metadata": {},
     "output_type": "display_data"
    },
    {
     "data": {
      "application/vnd.jupyter.widget-view+json": {
       "model_id": "a17f1be1b43e4e8287c41d2f746c2cf2",
       "version_major": 2,
       "version_minor": 0
      },
      "text/plain": [
       "Validation: |          | 0/? [00:00<?, ?it/s]"
      ]
     },
     "metadata": {},
     "output_type": "display_data"
    },
    {
     "data": {
      "application/vnd.jupyter.widget-view+json": {
       "model_id": "479eb4ed902447229d8d16557b716c30",
       "version_major": 2,
       "version_minor": 0
      },
      "text/plain": [
       "Validation: |          | 0/? [00:00<?, ?it/s]"
      ]
     },
     "metadata": {},
     "output_type": "display_data"
    },
    {
     "data": {
      "application/vnd.jupyter.widget-view+json": {
       "model_id": "59274738212a455da9eb82d0be25f161",
       "version_major": 2,
       "version_minor": 0
      },
      "text/plain": [
       "Validation: |          | 0/? [00:00<?, ?it/s]"
      ]
     },
     "metadata": {},
     "output_type": "display_data"
    },
    {
     "data": {
      "application/vnd.jupyter.widget-view+json": {
       "model_id": "1d019d0afffa4a27ac052b97219ac379",
       "version_major": 2,
       "version_minor": 0
      },
      "text/plain": [
       "Validation: |          | 0/? [00:00<?, ?it/s]"
      ]
     },
     "metadata": {},
     "output_type": "display_data"
    },
    {
     "data": {
      "application/vnd.jupyter.widget-view+json": {
       "model_id": "f5e2bc21e44447ef846315ca176bf708",
       "version_major": 2,
       "version_minor": 0
      },
      "text/plain": [
       "Validation: |          | 0/? [00:00<?, ?it/s]"
      ]
     },
     "metadata": {},
     "output_type": "display_data"
    },
    {
     "data": {
      "application/vnd.jupyter.widget-view+json": {
       "model_id": "0366f6a1f80843feb7268816b4eddd76",
       "version_major": 2,
       "version_minor": 0
      },
      "text/plain": [
       "Validation: |          | 0/? [00:00<?, ?it/s]"
      ]
     },
     "metadata": {},
     "output_type": "display_data"
    },
    {
     "data": {
      "application/vnd.jupyter.widget-view+json": {
       "model_id": "42d8b49824b24d81ad6b4c255b9d2aca",
       "version_major": 2,
       "version_minor": 0
      },
      "text/plain": [
       "Validation: |          | 0/? [00:00<?, ?it/s]"
      ]
     },
     "metadata": {},
     "output_type": "display_data"
    },
    {
     "data": {
      "application/vnd.jupyter.widget-view+json": {
       "model_id": "0391d66236e94f478a0c16a75c287693",
       "version_major": 2,
       "version_minor": 0
      },
      "text/plain": [
       "Validation: |          | 0/? [00:00<?, ?it/s]"
      ]
     },
     "metadata": {},
     "output_type": "display_data"
    },
    {
     "data": {
      "application/vnd.jupyter.widget-view+json": {
       "model_id": "b50a144c3bf940eaaf54dd57471fea70",
       "version_major": 2,
       "version_minor": 0
      },
      "text/plain": [
       "Validation: |          | 0/? [00:00<?, ?it/s]"
      ]
     },
     "metadata": {},
     "output_type": "display_data"
    },
    {
     "data": {
      "application/vnd.jupyter.widget-view+json": {
       "model_id": "3fd63a677d2149c1901fc70d6af61150",
       "version_major": 2,
       "version_minor": 0
      },
      "text/plain": [
       "Validation: |          | 0/? [00:00<?, ?it/s]"
      ]
     },
     "metadata": {},
     "output_type": "display_data"
    },
    {
     "data": {
      "application/vnd.jupyter.widget-view+json": {
       "model_id": "3e5be8a57e8b47439ec8eb3ee3435b86",
       "version_major": 2,
       "version_minor": 0
      },
      "text/plain": [
       "Validation: |          | 0/? [00:00<?, ?it/s]"
      ]
     },
     "metadata": {},
     "output_type": "display_data"
    },
    {
     "data": {
      "application/vnd.jupyter.widget-view+json": {
       "model_id": "65b3ae84ebc64180a3a7826dedf22f21",
       "version_major": 2,
       "version_minor": 0
      },
      "text/plain": [
       "Validation: |          | 0/? [00:00<?, ?it/s]"
      ]
     },
     "metadata": {},
     "output_type": "display_data"
    },
    {
     "data": {
      "application/vnd.jupyter.widget-view+json": {
       "model_id": "80b3293d7cb645019acc6a6c953a04e1",
       "version_major": 2,
       "version_minor": 0
      },
      "text/plain": [
       "Validation: |          | 0/? [00:00<?, ?it/s]"
      ]
     },
     "metadata": {},
     "output_type": "display_data"
    },
    {
     "data": {
      "application/vnd.jupyter.widget-view+json": {
       "model_id": "5d0b6c4a00d6444d82d08c2158e1aaf4",
       "version_major": 2,
       "version_minor": 0
      },
      "text/plain": [
       "Validation: |          | 0/? [00:00<?, ?it/s]"
      ]
     },
     "metadata": {},
     "output_type": "display_data"
    },
    {
     "data": {
      "application/vnd.jupyter.widget-view+json": {
       "model_id": "09b20972c1d3448fb44b2c914ec94b4d",
       "version_major": 2,
       "version_minor": 0
      },
      "text/plain": [
       "Validation: |          | 0/? [00:00<?, ?it/s]"
      ]
     },
     "metadata": {},
     "output_type": "display_data"
    },
    {
     "data": {
      "application/vnd.jupyter.widget-view+json": {
       "model_id": "0b8c74b2d77942e180d0c5a7f3bec241",
       "version_major": 2,
       "version_minor": 0
      },
      "text/plain": [
       "Validation: |          | 0/? [00:00<?, ?it/s]"
      ]
     },
     "metadata": {},
     "output_type": "display_data"
    },
    {
     "data": {
      "application/vnd.jupyter.widget-view+json": {
       "model_id": "d1cb64d08deb4879a85a71f6365056ee",
       "version_major": 2,
       "version_minor": 0
      },
      "text/plain": [
       "Validation: |          | 0/? [00:00<?, ?it/s]"
      ]
     },
     "metadata": {},
     "output_type": "display_data"
    },
    {
     "data": {
      "application/vnd.jupyter.widget-view+json": {
       "model_id": "ad790dbab4214aab932085596e061964",
       "version_major": 2,
       "version_minor": 0
      },
      "text/plain": [
       "Validation: |          | 0/? [00:00<?, ?it/s]"
      ]
     },
     "metadata": {},
     "output_type": "display_data"
    },
    {
     "data": {
      "application/vnd.jupyter.widget-view+json": {
       "model_id": "9343016f7e4644a2b22cb77b02ad3e2f",
       "version_major": 2,
       "version_minor": 0
      },
      "text/plain": [
       "Validation: |          | 0/? [00:00<?, ?it/s]"
      ]
     },
     "metadata": {},
     "output_type": "display_data"
    },
    {
     "data": {
      "application/vnd.jupyter.widget-view+json": {
       "model_id": "d4e3003035934022b6652299f2d12967",
       "version_major": 2,
       "version_minor": 0
      },
      "text/plain": [
       "Validation: |          | 0/? [00:00<?, ?it/s]"
      ]
     },
     "metadata": {},
     "output_type": "display_data"
    },
    {
     "data": {
      "application/vnd.jupyter.widget-view+json": {
       "model_id": "b7bfc01f1cac423789dcbe3d5e8e56d7",
       "version_major": 2,
       "version_minor": 0
      },
      "text/plain": [
       "Validation: |          | 0/? [00:00<?, ?it/s]"
      ]
     },
     "metadata": {},
     "output_type": "display_data"
    },
    {
     "data": {
      "application/vnd.jupyter.widget-view+json": {
       "model_id": "949108571a564ddfb750446815711dcd",
       "version_major": 2,
       "version_minor": 0
      },
      "text/plain": [
       "Validation: |          | 0/? [00:00<?, ?it/s]"
      ]
     },
     "metadata": {},
     "output_type": "display_data"
    },
    {
     "data": {
      "application/vnd.jupyter.widget-view+json": {
       "model_id": "70b930bd88344560821f73c0e8467f25",
       "version_major": 2,
       "version_minor": 0
      },
      "text/plain": [
       "Validation: |          | 0/? [00:00<?, ?it/s]"
      ]
     },
     "metadata": {},
     "output_type": "display_data"
    },
    {
     "data": {
      "application/vnd.jupyter.widget-view+json": {
       "model_id": "e1d027f60f194353a8ded16026d6f973",
       "version_major": 2,
       "version_minor": 0
      },
      "text/plain": [
       "Validation: |          | 0/? [00:00<?, ?it/s]"
      ]
     },
     "metadata": {},
     "output_type": "display_data"
    },
    {
     "data": {
      "application/vnd.jupyter.widget-view+json": {
       "model_id": "69d5f53ac50b40fa836e92fd6626b2f8",
       "version_major": 2,
       "version_minor": 0
      },
      "text/plain": [
       "Validation: |          | 0/? [00:00<?, ?it/s]"
      ]
     },
     "metadata": {},
     "output_type": "display_data"
    },
    {
     "data": {
      "application/vnd.jupyter.widget-view+json": {
       "model_id": "1dba4a73411c44b2a69c73ca1a674fdb",
       "version_major": 2,
       "version_minor": 0
      },
      "text/plain": [
       "Validation: |          | 0/? [00:00<?, ?it/s]"
      ]
     },
     "metadata": {},
     "output_type": "display_data"
    },
    {
     "data": {
      "application/vnd.jupyter.widget-view+json": {
       "model_id": "5423dca1097447c192d00db1561b678d",
       "version_major": 2,
       "version_minor": 0
      },
      "text/plain": [
       "Validation: |          | 0/? [00:00<?, ?it/s]"
      ]
     },
     "metadata": {},
     "output_type": "display_data"
    },
    {
     "data": {
      "application/vnd.jupyter.widget-view+json": {
       "model_id": "25e571cda9e54024bd6e5fedf013fb34",
       "version_major": 2,
       "version_minor": 0
      },
      "text/plain": [
       "Validation: |          | 0/? [00:00<?, ?it/s]"
      ]
     },
     "metadata": {},
     "output_type": "display_data"
    },
    {
     "data": {
      "application/vnd.jupyter.widget-view+json": {
       "model_id": "0f0fdb1f78804cf0976f4b32e4a5d381",
       "version_major": 2,
       "version_minor": 0
      },
      "text/plain": [
       "Validation: |          | 0/? [00:00<?, ?it/s]"
      ]
     },
     "metadata": {},
     "output_type": "display_data"
    },
    {
     "data": {
      "application/vnd.jupyter.widget-view+json": {
       "model_id": "210a4480cfe64849ae72c52fc7623371",
       "version_major": 2,
       "version_minor": 0
      },
      "text/plain": [
       "Validation: |          | 0/? [00:00<?, ?it/s]"
      ]
     },
     "metadata": {},
     "output_type": "display_data"
    },
    {
     "data": {
      "application/vnd.jupyter.widget-view+json": {
       "model_id": "d8c392f7a9b94d50890a308decfcee4e",
       "version_major": 2,
       "version_minor": 0
      },
      "text/plain": [
       "Validation: |          | 0/? [00:00<?, ?it/s]"
      ]
     },
     "metadata": {},
     "output_type": "display_data"
    },
    {
     "data": {
      "application/vnd.jupyter.widget-view+json": {
       "model_id": "56dcf053306f4892893dbcc61f2bd713",
       "version_major": 2,
       "version_minor": 0
      },
      "text/plain": [
       "Validation: |          | 0/? [00:00<?, ?it/s]"
      ]
     },
     "metadata": {},
     "output_type": "display_data"
    },
    {
     "data": {
      "application/vnd.jupyter.widget-view+json": {
       "model_id": "6422babdc06c4819a182f540769c3b39",
       "version_major": 2,
       "version_minor": 0
      },
      "text/plain": [
       "Validation: |          | 0/? [00:00<?, ?it/s]"
      ]
     },
     "metadata": {},
     "output_type": "display_data"
    },
    {
     "data": {
      "application/vnd.jupyter.widget-view+json": {
       "model_id": "8d4986a948b64e58ad53f1f3dcda9f1e",
       "version_major": 2,
       "version_minor": 0
      },
      "text/plain": [
       "Validation: |          | 0/? [00:00<?, ?it/s]"
      ]
     },
     "metadata": {},
     "output_type": "display_data"
    },
    {
     "data": {
      "application/vnd.jupyter.widget-view+json": {
       "model_id": "6fd8e6b4bad3442fb4166e95a715b800",
       "version_major": 2,
       "version_minor": 0
      },
      "text/plain": [
       "Validation: |          | 0/? [00:00<?, ?it/s]"
      ]
     },
     "metadata": {},
     "output_type": "display_data"
    },
    {
     "data": {
      "application/vnd.jupyter.widget-view+json": {
       "model_id": "06e591f74d94436eaff0b9d6327a2cd0",
       "version_major": 2,
       "version_minor": 0
      },
      "text/plain": [
       "Validation: |          | 0/? [00:00<?, ?it/s]"
      ]
     },
     "metadata": {},
     "output_type": "display_data"
    },
    {
     "data": {
      "application/vnd.jupyter.widget-view+json": {
       "model_id": "120326e87a1043d8824be3dbdb16bb68",
       "version_major": 2,
       "version_minor": 0
      },
      "text/plain": [
       "Validation: |          | 0/? [00:00<?, ?it/s]"
      ]
     },
     "metadata": {},
     "output_type": "display_data"
    },
    {
     "data": {
      "application/vnd.jupyter.widget-view+json": {
       "model_id": "2c0f4c70c1ce4488b8201ebec886784f",
       "version_major": 2,
       "version_minor": 0
      },
      "text/plain": [
       "Validation: |          | 0/? [00:00<?, ?it/s]"
      ]
     },
     "metadata": {},
     "output_type": "display_data"
    },
    {
     "data": {
      "application/vnd.jupyter.widget-view+json": {
       "model_id": "014dec92059e40a88133c66973601c05",
       "version_major": 2,
       "version_minor": 0
      },
      "text/plain": [
       "Validation: |          | 0/? [00:00<?, ?it/s]"
      ]
     },
     "metadata": {},
     "output_type": "display_data"
    },
    {
     "data": {
      "application/vnd.jupyter.widget-view+json": {
       "model_id": "0bd8facad8fa45b0999e295b7ffe2017",
       "version_major": 2,
       "version_minor": 0
      },
      "text/plain": [
       "Validation: |          | 0/? [00:00<?, ?it/s]"
      ]
     },
     "metadata": {},
     "output_type": "display_data"
    },
    {
     "data": {
      "application/vnd.jupyter.widget-view+json": {
       "model_id": "b2f57200328a49d3a9c88592b482d575",
       "version_major": 2,
       "version_minor": 0
      },
      "text/plain": [
       "Validation: |          | 0/? [00:00<?, ?it/s]"
      ]
     },
     "metadata": {},
     "output_type": "display_data"
    },
    {
     "name": "stderr",
     "output_type": "stream",
     "text": [
      "INFO - (NP.df_utils._infer_frequency) - Major frequency h corresponds to 99.99% of the data.\n",
      "INFO:NP.df_utils:Major frequency h corresponds to 99.99% of the data.\n",
      "INFO - (NP.df_utils._infer_frequency) - Defined frequency is equal to major frequency - h\n",
      "INFO:NP.df_utils:Defined frequency is equal to major frequency - h\n",
      "INFO - (NP.df_utils.return_df_in_original_format) - Returning df with no ID column\n",
      "INFO:NP.df_utils:Returning df with no ID column\n",
      "INFO - (NP.df_utils._infer_frequency) - Major frequency h corresponds to 99.825% of the data.\n",
      "INFO:NP.df_utils:Major frequency h corresponds to 99.825% of the data.\n",
      "INFO - (NP.df_utils._infer_frequency) - Defined frequency is equal to major frequency - h\n",
      "INFO:NP.df_utils:Defined frequency is equal to major frequency - h\n",
      "INFO - (NP.df_utils._infer_frequency) - Major frequency h corresponds to 99.825% of the data.\n",
      "INFO:NP.df_utils:Major frequency h corresponds to 99.825% of the data.\n",
      "INFO - (NP.df_utils._infer_frequency) - Defined frequency is equal to major frequency - h\n",
      "INFO:NP.df_utils:Defined frequency is equal to major frequency - h\n",
      "INFO - (NP.data.processing._handle_missing_data) - Dropped 24 rows at the end with NaNs in 'y' column.\n",
      "INFO:NP.data.processing:Dropped 24 rows at the end with NaNs in 'y' column.\n"
     ]
    },
    {
     "data": {
      "application/vnd.jupyter.widget-view+json": {
       "model_id": "02f8105ad5bc49d4a906aa0ee7ad69ac",
       "version_major": 2,
       "version_minor": 0
      },
      "text/plain": [
       "Predicting: |          | 0/? [00:00<?, ?it/s]"
      ]
     },
     "metadata": {},
     "output_type": "display_data"
    },
    {
     "name": "stderr",
     "output_type": "stream",
     "text": [
      "INFO - (NP.df_utils.return_df_in_original_format) - Returning df with no ID column\n",
      "INFO:NP.df_utils:Returning df with no ID column\n"
     ]
    },
    {
     "data": {
      "image/png": "[encoded data removed]",
      "text/plain": [
       "<Figure size 1000x500 with 1 Axes>"
      ]
     },
     "metadata": {},
     "output_type": "display_data"
    },
    {
     "data": {
      "image/png": "[encoded data removed]",
      "text/plain": [
       "<Figure size 1500x500 with 1 Axes>"
      ]
     },
     "metadata": {},
     "output_type": "display_data"
    },
    {
     "name": "stdout",
     "output_type": "stream",
     "text": [
      "\n",
      "--- 24-HOUR PREDICTION RESULTS ---\n",
      "Date/Time            | Log(Price)   | Predicted Price (USD)\n",
      "------------------------------------------------------------\n",
      "2025-03-03 01:00     | 11.430009    | 92042.79            \n",
      "2025-03-03 02:00     | 11.452779    | 94162.64            \n",
      "2025-03-03 03:00     | 11.422767    | 91378.61            \n",
      "2025-03-03 04:00     | 11.484566    | 97203.85            \n",
      "2025-03-03 05:00     | 11.467710    | 95579.10            \n",
      "2025-03-03 06:00     | 11.440316    | 92996.41            \n",
      "2025-03-03 07:00     | 11.418483    | 90987.98            \n",
      "2025-03-03 08:00     | 11.441019    | 93061.80            \n",
      "2025-03-03 09:00     | 11.462193    | 95053.24            \n",
      "2025-03-03 10:00     | 11.461479    | 94985.46            \n",
      "2025-03-03 11:00     | 11.453689    | 94248.34            \n",
      "2025-03-03 12:00     | 11.483271    | 97078.05            \n",
      "2025-03-03 13:00     | 11.464994    | 95319.95            \n",
      "2025-03-03 14:00     | 11.472986    | 96084.78            \n",
      "2025-03-03 15:00     | 11.401053    | 89415.87            \n",
      "2025-03-03 16:00     | 11.440843    | 93045.38            \n",
      "2025-03-03 17:00     | 11.472924    | 96078.81            \n",
      "2025-03-03 18:00     | 11.453541    | 94234.42            \n",
      "2025-03-03 19:00     | 11.456522    | 94515.77            \n",
      "2025-03-03 20:00     | 11.439356    | 92907.14            \n",
      "2025-03-03 21:00     | 11.431539    | 92183.70            \n",
      "2025-03-03 22:00     | 11.421414    | 91255.12            \n",
      "2025-03-03 23:00     | 11.391975    | 88607.82            \n",
      "2025-03-04 00:00     | 11.408918    | 90121.89            \n",
      "\n",
      "Predicted price change after 24 hours: %3.42 decrease\n"
     ]
    },
    {
     "data": {
      "text/plain": [
       "<Figure size 1200x600 with 0 Axes>"
      ]
     },
     "metadata": {},
     "output_type": "display_data"
    },
    {
     "data": {
      "image/png": "[encoded data removed]",
      "text/plain": [
       "<Figure size 1200x600 with 1 Axes>"
      ]
     },
     "metadata": {},
     "output_type": "display_data"
    },
    {
     "data": {
      "image/png": "[encoded data removed]",
      "text/plain": [
       "<Figure size 1200x500 with 1 Axes>"
      ]
     },
     "metadata": {},
     "output_type": "display_data"
    },
    {
     "name": "stdout",
     "output_type": "stream",
     "text": [
      "\n",
      "---------------------- MODEL METRIC COMPARISON ----------------------\n",
      "\n",
      "Model Name           | MAE_val    | RMSE_val   | Loss_val  \n",
      "------------------------------------------------------------\n",
      "Low Neuron (8 Neurons) | 0.0174     | 0.0234     | 0.0012    \n",
      "\n",
      "----------------------------------------------------------------------\n",
      "\n"
     ]
    }
   ],
   "source": [
    "# -*- coding: utf-8 -*-\n",
    "\"\"\"\n",
    "Created on Sat Mar  1 06:35:58 2025\n",
    "@author: merto\n",
    "\"\"\"\n",
    "import datetime\n",
    "import pandas as pd\n",
    "import numpy as np\n",
    "from pytrends.request import TrendReq\n",
    "import requests\n",
    "from neuralprophet import NeuralProphet\n",
    "import matplotlib.pyplot as plt\n",
    "from sklearn.preprocessing import MinMaxScaler\n",
    "from google.colab import files\n",
    "import warnings\n",
    "warnings.filterwarnings(\"ignore\")\n",
    "\n",
    "# ---------------------- DATA COLLECTION & PREPROCESSING ----------------------\n",
    "# 3. Main Data Loading\n",
    "data = pd.read_csv(\"robust_all_ham_veri.csv\")\n",
    "data.drop(columns=['fed_close'], inplace=True)\n",
    "data['ds'] = pd.to_datetime(data['ds'])  # Convert date column\n",
    "\n",
    "# ---------------------- MODEL SETUP (Low Neuron - 8 neurons) ----------------------\n",
    "\n",
    "# Model: Low Neuron (8 neurons) - ONLY THIS MODEL REMAINS\n",
    "model = NeuralProphet(\n",
    "    n_forecasts=24,\n",
    "    n_lags=48,\n",
    "    ar_layers=[8], # Low Neuron (8 neurons)\n",
    "    learning_rate=0.0005,\n",
    "    yearly_seasonality=False, # Disabled because we have less than 2 years of data\n",
    "    weekly_seasonality=True,\n",
    "    daily_seasonality=True,\n",
    "    epochs=200,\n",
    ")\n",
    "regressors = ['google_trend', 'btc_volume', 'hash_rate',\n",
    "             'dxy_close', 'gold_close', 'btc_miners',\n",
    "             'btc_address', 'btc_eth_corr', 'sp500_value']\n",
    "\n",
    "for regressor in regressors:\n",
    "    model.add_lagged_regressor(names=regressor)\n",
    "\n",
    "# Store model information (Now only one model exists)\n",
    "model_info = {\"model\": model, \"name\": \"Low Neuron (8 Neurons)\", \"metrics\": None, \"forecast\": None}\n",
    "\n",
    "\n",
    "# ---------------------- TRAINING & EVALUATION ----------------------\n",
    "\n",
    "model_name = model_info[\"name\"] # Get model name\n",
    "\n",
    "# Data Splitting\n",
    "train_data, val_data = model_info[\"model\"].split_df(data, valid_p=0.2)\n",
    "\n",
    "# Training with Early Stopping\n",
    "metrics = model_info[\"model\"].fit(\n",
    "    train_data,\n",
    "    validation_df=val_data,\n",
    "    freq=\"h\",\n",
    "    epochs=200,\n",
    "    early_stopping=True,\n",
    "    progress=\"bar\"\n",
    ")\n",
    "model_info[\"metrics\"] = metrics  # Store metrics\n",
    "\n",
    "# Predictions\n",
    "future = model_info[\"model\"].make_future_dataframe(data, periods=24, n_historic_predictions=500)\n",
    "forecast = model_info[\"model\"].predict(future)\n",
    "model_info[\"forecast\"] = forecast  # Store predictions\n",
    "\n",
    "# Loss Plot\n",
    "plt.figure(figsize=(10, 5))\n",
    "plt.plot(metrics[\"Loss\"], label=f\"Train Loss ({model_name})\")\n",
    "plt.plot(metrics[\"Loss_val\"], label=f\"Validation Loss ({model_name})\")\n",
    "plt.title(f\"Optimized Model Loss ({model_name})\")\n",
    "plt.xlabel(\"Epoch\")\n",
    "plt.ylabel(\"Loss\")\n",
    "plt.legend()\n",
    "plt.show()\n",
    "\n",
    "# Actual vs Prediction Plot\n",
    "plt.figure(figsize=(15, 5))\n",
    "plt.plot(forecast[\"ds\"], forecast[\"yhat1\"], label=f\"Prediction ({model_name})\")\n",
    "plt.plot(data[\"ds\"], data[\"y\"], label=\"Actual\", alpha=0.5)\n",
    "plt.title(f\"Bitcoin Price Prediction and Prediction Range ({model_name})\") # Updated title\n",
    "plt.legend()\n",
    "plt.show()\n",
    "\n",
    "\n",
    "# Prepare Data for 24-Hour Prediction Plot\n",
    "last_data_ds = data[\"ds\"].max()\n",
    "forecast_24h = forecast[forecast[\"ds\"] > last_data_ds]\n",
    "\n",
    "# Create correct prediction sequence\n",
    "forecast_dates = []\n",
    "forecast_values = []\n",
    "\n",
    "# Extract correct prediction values based on NeuralProphet's n_forecasts format\n",
    "for i in range(1, 25):  # From 1 to 24\n",
    "    yhat_col = f\"yhat{i}\"\n",
    "    if yhat_col in forecast.columns:\n",
    "        # Calculate relevant row index\n",
    "        # At each step of the loop, we take the prediction for i hours after the last data point\n",
    "        row_idx = forecast[forecast[\"ds\"] == (last_data_ds + pd.Timedelta(hours=i))].index\n",
    "        if len(row_idx) > 0:\n",
    "            # Get the i-th yhat value in the row_idx row (if available)\n",
    "            value = forecast.loc[row_idx[0], yhat_col]\n",
    "            if not pd.isna(value):  # Corrected row\n",
    "                forecast_dates.append(last_data_ds + pd.Timedelta(hours=i))\n",
    "                forecast_values.append(value)\n",
    "\n",
    "# Plotting\n",
    "plt.figure(figsize=(12, 6))\n",
    "\n",
    "# Plotting\n",
    "plt.figure(figsize=(12, 6))\n",
    "\n",
    "# Check if prediction values exist\n",
    "if len(forecast_dates) > 0 and len(forecast_values) > 0:\n",
    "    # Use actual USD values instead of log values\n",
    "    usd_values = [np.exp(val) for val in forecast_values]\n",
    "    plt.plot(forecast_dates, usd_values, 'ro-', label=f\"24-Hour Prediction ({model_name})\")\n",
    "\n",
    "    # Show last known actual value\n",
    "    last_known_value = data.iloc[-1][\"y\"]\n",
    "    last_known_usd = np.exp(last_known_value)\n",
    "    plt.axhline(y=last_known_usd, color='blue', linestyle='--', label=f\"Last Known Value: {last_known_usd:.2f} USD\")\n",
    "\n",
    "    # Adjust Y-axis - no need for secondary axis now\n",
    "    plt.ylabel('Price (USD)')\n",
    "\n",
    "    # Beautify the plot\n",
    "    plt.title(f\"24-Hour Bitcoin Price Prediction ({model_name})\")\n",
    "    plt.xlabel(\"Date/Time\")\n",
    "    plt.legend(loc=\"upper left\")\n",
    "    plt.grid(True, alpha=0.3)\n",
    "    plt.xticks(rotation=45)\n",
    "    plt.tight_layout()\n",
    "\n",
    "    # Show prediction values as a table\n",
    "    print(\"\\n--- 24-HOUR PREDICTION RESULTS ---\")\n",
    "    print(f\"{'Date/Time':<20} | {'Log(Price)':<12} | {'Predicted Price (USD)':<20}\")\n",
    "    print(\"-\" * 60)\n",
    "    for date, value in zip(forecast_dates, forecast_values):\n",
    "        print(f\"{date.strftime('%Y-%m-%d %H:%M'):<20} | {value:<12.6f} | {np.exp(value):<20.2f}\")\n",
    "\n",
    "    # Calculate percentage change in Bitcoin price\n",
    "    if forecast_values:\n",
    "        price_change_percent = (np.exp(forecast_values[-1]) / np.exp(last_known_value) - 1) * 100\n",
    "        price_direction = \"increase\" if price_change_percent > 0 else \"decrease\"\n",
    "        print(f\"\\nPredicted price change after 24 hours: %{abs(price_change_percent):.2f} {price_direction}\")\n",
    "\n",
    "    # Bonus: A second plot showing hourly change rates\n",
    "    if len(forecast_values) > 1:\n",
    "        plt.figure(figsize=(12, 5))\n",
    "        hourly_changes = [(np.exp(forecast_values[i]) / np.exp(forecast_values[i-1]) - 1) * 100 for i in range(1, len(forecast_values))]\n",
    "        hourly_dates = forecast_dates[1:]\n",
    "\n",
    "        colors = ['red' if x < 0 else 'green' for x in hourly_changes]\n",
    "        plt.bar(hourly_dates, hourly_changes, color=colors, alpha=0.7)\n",
    "        plt.axhline(y=0, color='black', linestyle='-', alpha=0.3)\n",
    "\n",
    "        plt.title(\"Hourly Predicted Price Changes (%)\")\n",
    "        plt.xlabel(\"Date/Time\")\n",
    "        plt.ylabel(\"Hourly Change (%)\")\n",
    "        plt.grid(True, alpha=0.3, axis='y')\n",
    "        plt.xticks(rotation=45)\n",
    "        plt.tight_layout()\n",
    "        plt.show()\n",
    "else:\n",
    "    print(\"Insufficient data for 24-hour prediction plot!\")\n",
    "\n",
    "    # Try using NeuralProphet's built-in plot function\n",
    "    try:\n",
    "        print(\"Using NeuralProphet's built-in plot function...\")\n",
    "        from neuralprophet import set_log_level\n",
    "        set_log_level(\"ERROR\")\n",
    "\n",
    "        # Create a plot showing the last 24 hours and the next 24 hours\n",
    "        fcst = model_info[\"model\"].predict(forecast)\n",
    "        fig = model_info[\"model\"].plot(fcst)\n",
    "        plt.title(f\"NeuralProphet Bitcoin Price Prediction ({model_name})\")\n",
    "        plt.tight_layout()\n",
    "        plt.show()\n",
    "    except Exception as e:\n",
    "        print(f\"NeuralProphet plot function also failed: {e}\")\n",
    "\n",
    "        # Simplest solution - show all yhat values in forecast_24h\n",
    "        plt.figure(figsize=(12, 6))\n",
    "        for i in range(1, 25):\n",
    "            col = f\"yhat{i}\"\n",
    "            if col in forecast_24h.columns:\n",
    "                valid_data = forecast_24h.dropna(subset=[col])\n",
    "                if not valid_data.empty:\n",
    "                    plt.plot(valid_data[\"ds\"], valid_data[col], 'o-', label=f\"Prediction t+{i}\")\n",
    "\n",
    "        plt.title(\"All Prediction Values\")\n",
    "        plt.xlabel(\"Date/Time\")\n",
    "        plt.ylabel(\"Log(Price)\")\n",
    "        plt.legend()\n",
    "        plt.xticks(rotation=45)\n",
    "        plt.tight_layout()\n",
    "        plt.show()\n",
    "\n",
    "plt.show()\n",
    "\n",
    "\n",
    "# ---------------------- METRIC COMPARISON & SUMMARY TABLE ----------------------\n",
    "\n",
    "print(\"\\n---------------------- MODEL METRIC COMPARISON ----------------------\\n\")\n",
    "print(f\"{'Model Name':<20} | {'MAE_val':<10} | {'RMSE_val':<10} | {'Loss_val':<10}\")\n",
    "print(\"-\" * 60)\n",
    "\n",
    "\n",
    "name = model_info[\"name\"]\n",
    "metrics = model_info[\"metrics\"]\n",
    "final_metrics = metrics.iloc[-1] # Last epoch metrics\n",
    "\n",
    "mae_val = final_metrics[\"MAE_val\"]\n",
    "rmse_val = final_metrics[\"RMSE_val\"]\n",
    "loss_val = final_metrics[\"Loss_val\"]\n",
    "\n",
    "print(f\"{name:<20} | {mae_val:<10.4f} | {rmse_val:<10.4f} | {loss_val:<10.4f}\")\n",
    "\n",
    "print(\"\\n----------------------------------------------------------------------\\n\")\n"
   ]
  }
 ],
 "metadata": {
  "accelerator": "GPU",
  "colab": {
   "gpuType": "A100",
   "machine_shape": "hm",
   "provenance": []
  },
  "kernelspec": {
   "display_name": "Python 3",
   "name": "python3"
  },
  "language_info": {
   "name": "python"
  }
 },
 "nbformat": 4,
 "nbformat_minor": 0
}
