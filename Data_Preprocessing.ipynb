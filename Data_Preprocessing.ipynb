{
 "cells": [
  {
   "cell_type": "code",
   "execution_count": 5,
   "metadata": {
    "colab": {
     "base_uri": "https://localhost:8080/"
    },
    "id": "uGLk7S5blQv7",
    "outputId": "a14868ee-95bf-4917-f573-e25e0413fcfb"
   },
   "outputs": [
    {
     "name": "stdout",
     "output_type": "stream",
     "text": [
      "Requirement already satisfied: pytrends in /usr/local/lib/python3.11/dist-packages (4.9.2)\n",
      "Collecting neuralprophet\n",
      "  Downloading neuralprophet-0.9.0-py3-none-any.whl.metadata (9.0 kB)\n",
      "Requirement already satisfied: pandas in /usr/local/lib/python3.11/dist-packages (2.2.2)\n",
      "Requirement already satisfied: numpy in /usr/local/lib/python3.11/dist-packages (2.0.2)\n",
      "Requirement already satisfied: matplotlib in /usr/local/lib/python3.11/dist-packages (3.10.0)\n",
      "Requirement already satisfied: scikit-learn in /usr/local/lib/python3.11/dist-packages (1.6.1)\n",
      "Requirement already satisfied: requests in /usr/local/lib/python3.11/dist-packages (2.32.3)\n",
      "Requirement already satisfied: seaborn in /usr/local/lib/python3.11/dist-packages (0.13.2)\n",
      "Requirement already satisfied: lxml in /usr/local/lib/python3.11/dist-packages (from pytrends) (5.3.1)\n",
      "Collecting captum>=0.6.0 (from neuralprophet)\n",
      "  Downloading captum-0.7.0-py3-none-any.whl.metadata (26 kB)\n",
      "Requirement already satisfied: holidays>=0.41 in /usr/local/lib/python3.11/dist-packages (from neuralprophet) (0.68)\n",
      "Collecting kaleido==0.2.1 (from neuralprophet)\n",
      "  Downloading kaleido-0.2.1-py2.py3-none-manylinux1_x86_64.whl.metadata (15 kB)\n",
      "Collecting numpy\n",
      "  Downloading numpy-1.26.4-cp311-cp311-manylinux_2_17_x86_64.manylinux2014_x86_64.whl.metadata (61 kB)\n",
      "\u001b[2K     \u001b[90m━━━━━━━━━━━━━━━━━━━━━━━━━━━━━━━━━━━━━━━━\u001b[0m \u001b[32m61.0/61.0 kB\u001b[0m \u001b[31m5.0 MB/s\u001b[0m eta \u001b[36m0:00:00\u001b[0m\n",
      "\u001b[?25hRequirement already satisfied: plotly>=5.13.1 in /usr/local/lib/python3.11/dist-packages (from neuralprophet) (5.24.1)\n",
      "Collecting pytorch-lightning>=2.0.0 (from neuralprophet)\n",
      "  Downloading pytorch_lightning-2.5.0.post0-py3-none-any.whl.metadata (21 kB)\n",
      "Requirement already satisfied: tensorboard>=2.11.2 in /usr/local/lib/python3.11/dist-packages (from neuralprophet) (2.18.0)\n",
      "Requirement already satisfied: torch>=2.0.0 in /usr/local/lib/python3.11/dist-packages (from neuralprophet) (2.6.0+cu124)\n",
      "Collecting torchmetrics>=1.0.0 (from neuralprophet)\n",
      "  Downloading torchmetrics-1.6.3-py3-none-any.whl.metadata (20 kB)\n",
      "Requirement already satisfied: typing-extensions>=4.5.0 in /usr/local/lib/python3.11/dist-packages (from neuralprophet) (4.12.2)\n",
      "Requirement already satisfied: python-dateutil>=2.8.2 in /usr/local/lib/python3.11/dist-packages (from pandas) (2.8.2)\n",
      "Requirement already satisfied: pytz>=2020.1 in /usr/local/lib/python3.11/dist-packages (from pandas) (2025.1)\n",
      "Requirement already satisfied: tzdata>=2022.7 in /usr/local/lib/python3.11/dist-packages (from pandas) (2025.1)\n",
      "Requirement already satisfied: contourpy>=1.0.1 in /usr/local/lib/python3.11/dist-packages (from matplotlib) (1.3.1)\n",
      "Requirement already satisfied: cycler>=0.10 in /usr/local/lib/python3.11/dist-packages (from matplotlib) (0.12.1)\n",
      "Requirement already satisfied: fonttools>=4.22.0 in /usr/local/lib/python3.11/dist-packages (from matplotlib) (4.56.0)\n",
      "Requirement already satisfied: kiwisolver>=1.3.1 in /usr/local/lib/python3.11/dist-packages (from matplotlib) (1.4.8)\n",
      "Requirement already satisfied: packaging>=20.0 in /usr/local/lib/python3.11/dist-packages (from matplotlib) (24.2)\n",
      "Requirement already satisfied: pillow>=8 in /usr/local/lib/python3.11/dist-packages (from matplotlib) (11.1.0)\n",
      "Requirement already satisfied: pyparsing>=2.3.1 in /usr/local/lib/python3.11/dist-packages (from matplotlib) (3.2.1)\n",
      "Requirement already satisfied: scipy>=1.6.0 in /usr/local/lib/python3.11/dist-packages (from scikit-learn) (1.14.1)\n",
      "Requirement already satisfied: joblib>=1.2.0 in /usr/local/lib/python3.11/dist-packages (from scikit-learn) (1.4.2)\n",
      "Requirement already satisfied: threadpoolctl>=3.1.0 in /usr/local/lib/python3.11/dist-packages (from scikit-learn) (3.6.0)\n",
      "Requirement already satisfied: charset-normalizer<4,>=2 in /usr/local/lib/python3.11/dist-packages (from requests) (3.4.1)\n",
      "Requirement already satisfied: idna<4,>=2.5 in /usr/local/lib/python3.11/dist-packages (from requests) (3.10)\n",
      "Requirement already satisfied: urllib3<3,>=1.21.1 in /usr/local/lib/python3.11/dist-packages (from requests) (2.3.0)\n",
      "Requirement already satisfied: certifi>=2017.4.17 in /usr/local/lib/python3.11/dist-packages (from requests) (2025.1.31)\n",
      "Requirement already satisfied: tqdm in /usr/local/lib/python3.11/dist-packages (from captum>=0.6.0->neuralprophet) (4.67.1)\n",
      "Requirement already satisfied: tenacity>=6.2.0 in /usr/local/lib/python3.11/dist-packages (from plotly>=5.13.1->neuralprophet) (9.0.0)\n",
      "Requirement already satisfied: six>=1.5 in /usr/local/lib/python3.11/dist-packages (from python-dateutil>=2.8.2->pandas) (1.17.0)\n",
      "Requirement already satisfied: PyYAML>=5.4 in /usr/local/lib/python3.11/dist-packages (from pytorch-lightning>=2.0.0->neuralprophet) (6.0.2)\n",
      "Requirement already satisfied: fsspec>=2022.5.0 in /usr/local/lib/python3.11/dist-packages (from fsspec[http]>=2022.5.0->pytorch-lightning>=2.0.0->neuralprophet) (2024.10.0)\n",
      "Collecting lightning-utilities>=0.10.0 (from pytorch-lightning>=2.0.0->neuralprophet)\n",
      "  Downloading lightning_utilities-0.14.1-py3-none-any.whl.metadata (5.6 kB)\n",
      "Requirement already satisfied: absl-py>=0.4 in /usr/local/lib/python3.11/dist-packages (from tensorboard>=2.11.2->neuralprophet) (1.4.0)\n",
      "Requirement already satisfied: grpcio>=1.48.2 in /usr/local/lib/python3.11/dist-packages (from tensorboard>=2.11.2->neuralprophet) (1.71.0)\n",
      "Requirement already satisfied: markdown>=2.6.8 in /usr/local/lib/python3.11/dist-packages (from tensorboard>=2.11.2->neuralprophet) (3.7)\n",
      "Requirement already satisfied: protobuf!=4.24.0,>=3.19.6 in /usr/local/lib/python3.11/dist-packages (from tensorboard>=2.11.2->neuralprophet) (4.25.6)\n",
      "Requirement already satisfied: setuptools>=41.0.0 in /usr/local/lib/python3.11/dist-packages (from tensorboard>=2.11.2->neuralprophet) (75.1.0)\n",
      "Requirement already satisfied: tensorboard-data-server<0.8.0,>=0.7.0 in /usr/local/lib/python3.11/dist-packages (from tensorboard>=2.11.2->neuralprophet) (0.7.2)\n",
      "Requirement already satisfied: werkzeug>=1.0.1 in /usr/local/lib/python3.11/dist-packages (from tensorboard>=2.11.2->neuralprophet) (3.1.3)\n",
      "Requirement already satisfied: filelock in /usr/local/lib/python3.11/dist-packages (from torch>=2.0.0->neuralprophet) (3.17.0)\n",
      "Requirement already satisfied: networkx in /usr/local/lib/python3.11/dist-packages (from torch>=2.0.0->neuralprophet) (3.4.2)\n",
      "Requirement already satisfied: jinja2 in /usr/local/lib/python3.11/dist-packages (from torch>=2.0.0->neuralprophet) (3.1.6)\n",
      "Collecting nvidia-cuda-nvrtc-cu12==12.4.127 (from torch>=2.0.0->neuralprophet)\n",
      "  Downloading nvidia_cuda_nvrtc_cu12-12.4.127-py3-none-manylinux2014_x86_64.whl.metadata (1.5 kB)\n",
      "Collecting nvidia-cuda-runtime-cu12==12.4.127 (from torch>=2.0.0->neuralprophet)\n",
      "  Downloading nvidia_cuda_runtime_cu12-12.4.127-py3-none-manylinux2014_x86_64.whl.metadata (1.5 kB)\n",
      "Collecting nvidia-cuda-cupti-cu12==12.4.127 (from torch>=2.0.0->neuralprophet)\n",
      "  Downloading nvidia_cuda_cupti_cu12-12.4.127-py3-none-manylinux2014_x86_64.whl.metadata (1.6 kB)\n",
      "Collecting nvidia-cudnn-cu12==9.1.0.70 (from torch>=2.0.0->neuralprophet)\n",
      "  Downloading nvidia_cudnn_cu12-9.1.0.70-py3-none-manylinux2014_x86_64.whl.metadata (1.6 kB)\n",
      "Collecting nvidia-cublas-cu12==12.4.5.8 (from torch>=2.0.0->neuralprophet)\n",
      "  Downloading nvidia_cublas_cu12-12.4.5.8-py3-none-manylinux2014_x86_64.whl.metadata (1.5 kB)\n",
      "Collecting nvidia-cufft-cu12==11.2.1.3 (from torch>=2.0.0->neuralprophet)\n",
      "  Downloading nvidia_cufft_cu12-11.2.1.3-py3-none-manylinux2014_x86_64.whl.metadata (1.5 kB)\n",
      "Collecting nvidia-curand-cu12==10.3.5.147 (from torch>=2.0.0->neuralprophet)\n",
      "  Downloading nvidia_curand_cu12-10.3.5.147-py3-none-manylinux2014_x86_64.whl.metadata (1.5 kB)\n",
      "Collecting nvidia-cusolver-cu12==11.6.1.9 (from torch>=2.0.0->neuralprophet)\n",
      "  Downloading nvidia_cusolver_cu12-11.6.1.9-py3-none-manylinux2014_x86_64.whl.metadata (1.6 kB)\n",
      "Collecting nvidia-cusparse-cu12==12.3.1.170 (from torch>=2.0.0->neuralprophet)\n",
      "  Downloading nvidia_cusparse_cu12-12.3.1.170-py3-none-manylinux2014_x86_64.whl.metadata (1.6 kB)\n",
      "Requirement already satisfied: nvidia-cusparselt-cu12==0.6.2 in /usr/local/lib/python3.11/dist-packages (from torch>=2.0.0->neuralprophet) (0.6.2)\n",
      "Requirement already satisfied: nvidia-nccl-cu12==2.21.5 in /usr/local/lib/python3.11/dist-packages (from torch>=2.0.0->neuralprophet) (2.21.5)\n",
      "Requirement already satisfied: nvidia-nvtx-cu12==12.4.127 in /usr/local/lib/python3.11/dist-packages (from torch>=2.0.0->neuralprophet) (12.4.127)\n",
      "Collecting nvidia-nvjitlink-cu12==12.4.127 (from torch>=2.0.0->neuralprophet)\n",
      "  Downloading nvidia_nvjitlink_cu12-12.4.127-py3-none-manylinux2014_x86_64.whl.metadata (1.5 kB)\n",
      "Requirement already satisfied: triton==3.2.0 in /usr/local/lib/python3.11/dist-packages (from torch>=2.0.0->neuralprophet) (3.2.0)\n",
      "Requirement already satisfied: sympy==1.13.1 in /usr/local/lib/python3.11/dist-packages (from torch>=2.0.0->neuralprophet) (1.13.1)\n",
      "Requirement already satisfied: mpmath<1.4,>=1.1.0 in /usr/local/lib/python3.11/dist-packages (from sympy==1.13.1->torch>=2.0.0->neuralprophet) (1.3.0)\n",
      "Requirement already satisfied: aiohttp!=4.0.0a0,!=4.0.0a1 in /usr/local/lib/python3.11/dist-packages (from fsspec[http]>=2022.5.0->pytorch-lightning>=2.0.0->neuralprophet) (3.11.13)\n",
      "Requirement already satisfied: MarkupSafe>=2.1.1 in /usr/local/lib/python3.11/dist-packages (from werkzeug>=1.0.1->tensorboard>=2.11.2->neuralprophet) (3.0.2)\n",
      "Requirement already satisfied: aiohappyeyeballs>=2.3.0 in /usr/local/lib/python3.11/dist-packages (from aiohttp!=4.0.0a0,!=4.0.0a1->fsspec[http]>=2022.5.0->pytorch-lightning>=2.0.0->neuralprophet) (2.6.1)\n",
      "Requirement already satisfied: aiosignal>=1.1.2 in /usr/local/lib/python3.11/dist-packages (from aiohttp!=4.0.0a0,!=4.0.0a1->fsspec[http]>=2022.5.0->pytorch-lightning>=2.0.0->neuralprophet) (1.3.2)\n",
      "Requirement already satisfied: attrs>=17.3.0 in /usr/local/lib/python3.11/dist-packages (from aiohttp!=4.0.0a0,!=4.0.0a1->fsspec[http]>=2022.5.0->pytorch-lightning>=2.0.0->neuralprophet) (25.3.0)\n",
      "Requirement already satisfied: frozenlist>=1.1.1 in /usr/local/lib/python3.11/dist-packages (from aiohttp!=4.0.0a0,!=4.0.0a1->fsspec[http]>=2022.5.0->pytorch-lightning>=2.0.0->neuralprophet) (1.5.0)\n",
      "Requirement already satisfied: multidict<7.0,>=4.5 in /usr/local/lib/python3.11/dist-packages (from aiohttp!=4.0.0a0,!=4.0.0a1->fsspec[http]>=2022.5.0->pytorch-lightning>=2.0.0->neuralprophet) (6.1.0)\n",
      "Requirement already satisfied: propcache>=0.2.0 in /usr/local/lib/python3.11/dist-packages (from aiohttp!=4.0.0a0,!=4.0.0a1->fsspec[http]>=2022.5.0->pytorch-lightning>=2.0.0->neuralprophet) (0.3.0)\n",
      "Requirement already satisfied: yarl<2.0,>=1.17.0 in /usr/local/lib/python3.11/dist-packages (from aiohttp!=4.0.0a0,!=4.0.0a1->fsspec[http]>=2022.5.0->pytorch-lightning>=2.0.0->neuralprophet) (1.18.3)\n",
      "Downloading neuralprophet-0.9.0-py3-none-any.whl (145 kB)\n",
      "\u001b[2K   \u001b[90m━━━━━━━━━━━━━━━━━━━━━━━━━━━━━━━━━━━━━━━━\u001b[0m \u001b[32m145.8/145.8 kB\u001b[0m \u001b[31m12.7 MB/s\u001b[0m eta \u001b[36m0:00:00\u001b[0m\n",
      "\u001b[?25hDownloading kaleido-0.2.1-py2.py3-none-manylinux1_x86_64.whl (79.9 MB)\n",
      "\u001b[2K   \u001b[90m━━━━━━━━━━━━━━━━━━━━━━━━━━━━━━━━━━━━━━━━\u001b[0m \u001b[32m79.9/79.9 MB\u001b[0m \u001b[31m28.5 MB/s\u001b[0m eta \u001b[36m0:00:00\u001b[0m\n",
      "\u001b[?25hDownloading numpy-1.26.4-cp311-cp311-manylinux_2_17_x86_64.manylinux2014_x86_64.whl (18.3 MB)\n",
      "\u001b[2K   \u001b[90m━━━━━━━━━━━━━━━━━━━━━━━━━━━━━━━━━━━━━━━━\u001b[0m \u001b[32m18.3/18.3 MB\u001b[0m \u001b[31m96.7 MB/s\u001b[0m eta \u001b[36m0:00:00\u001b[0m\n",
      "\u001b[?25hDownloading captum-0.7.0-py3-none-any.whl (1.3 MB)\n",
      "\u001b[2K   \u001b[90m━━━━━━━━━━━━━━━━━━━━━━━━━━━━━━━━━━━━━━━━\u001b[0m \u001b[32m1.3/1.3 MB\u001b[0m \u001b[31m68.2 MB/s\u001b[0m eta \u001b[36m0:00:00\u001b[0m\n",
      "\u001b[?25hDownloading pytorch_lightning-2.5.0.post0-py3-none-any.whl (819 kB)\n",
      "\u001b[2K   \u001b[90m━━━━━━━━━━━━━━━━━━━━━━━━━━━━━━━━━━━━━━━━\u001b[0m \u001b[32m819.3/819.3 kB\u001b[0m \u001b[31m52.4 MB/s\u001b[0m eta \u001b[36m0:00:00\u001b[0m\n",
      "\u001b[?25hDownloading nvidia_cublas_cu12-12.4.5.8-py3-none-manylinux2014_x86_64.whl (363.4 MB)\n",
      "\u001b[2K   \u001b[90m━━━━━━━━━━━━━━━━━━━━━━━━━━━━━━━━━━━━━━━━\u001b[0m \u001b[32m363.4/363.4 MB\u001b[0m \u001b[31m2.7 MB/s\u001b[0m eta \u001b[36m0:00:00\u001b[0m\n",
      "\u001b[?25hDownloading nvidia_cuda_cupti_cu12-12.4.127-py3-none-manylinux2014_x86_64.whl (13.8 MB)\n",
      "\u001b[2K   \u001b[90m━━━━━━━━━━━━━━━━━━━━━━━━━━━━━━━━━━━━━━━━\u001b[0m \u001b[32m13.8/13.8 MB\u001b[0m \u001b[31m115.2 MB/s\u001b[0m eta \u001b[36m0:00:00\u001b[0m\n",
      "\u001b[?25hDownloading nvidia_cuda_nvrtc_cu12-12.4.127-py3-none-manylinux2014_x86_64.whl (24.6 MB)\n",
      "\u001b[2K   \u001b[90m━━━━━━━━━━━━━━━━━━━━━━━━━━━━━━━━━━━━━━━━\u001b[0m \u001b[32m24.6/24.6 MB\u001b[0m \u001b[31m87.6 MB/s\u001b[0m eta \u001b[36m0:00:00\u001b[0m\n",
      "\u001b[?25hDownloading nvidia_cuda_runtime_cu12-12.4.127-py3-none-manylinux2014_x86_64.whl (883 kB)\n",
      "\u001b[2K   \u001b[90m━━━━━━━━━━━━━━━━━━━━━━━━━━━━━━━━━━━━━━━━\u001b[0m \u001b[32m883.7/883.7 kB\u001b[0m \u001b[31m59.7 MB/s\u001b[0m eta \u001b[36m0:00:00\u001b[0m\n",
      "\u001b[?25hDownloading nvidia_cudnn_cu12-9.1.0.70-py3-none-manylinux2014_x86_64.whl (664.8 MB)\n",
      "\u001b[2K   \u001b[90m━━━━━━━━━━━━━━━━━━━━━━━━━━━━━━━━━━━━━━━━\u001b[0m \u001b[32m664.8/664.8 MB\u001b[0m \u001b[31m1.6 MB/s\u001b[0m eta \u001b[36m0:00:00\u001b[0m\n",
      "\u001b[?25hDownloading nvidia_cufft_cu12-11.2.1.3-py3-none-manylinux2014_x86_64.whl (211.5 MB)\n",
      "\u001b[2K   \u001b[90m━━━━━━━━━━━━━━━━━━━━━━━━━━━━━━━━━━━━━━━━\u001b[0m \u001b[32m211.5/211.5 MB\u001b[0m \u001b[31m10.7 MB/s\u001b[0m eta \u001b[36m0:00:00\u001b[0m\n",
      "\u001b[?25hDownloading nvidia_curand_cu12-10.3.5.147-py3-none-manylinux2014_x86_64.whl (56.3 MB)\n",
      "\u001b[2K   \u001b[90m━━━━━━━━━━━━━━━━━━━━━━━━━━━━━━━━━━━━━━━━\u001b[0m \u001b[32m56.3/56.3 MB\u001b[0m \u001b[31m38.3 MB/s\u001b[0m eta \u001b[36m0:00:00\u001b[0m\n",
      "\u001b[?25hDownloading nvidia_cusolver_cu12-11.6.1.9-py3-none-manylinux2014_x86_64.whl (127.9 MB)\n",
      "\u001b[2K   \u001b[90m━━━━━━━━━━━━━━━━━━━━━━━━━━━━━━━━━━━━━━━━\u001b[0m \u001b[32m127.9/127.9 MB\u001b[0m \u001b[31m17.8 MB/s\u001b[0m eta \u001b[36m0:00:00\u001b[0m\n",
      "\u001b[?25hDownloading nvidia_cusparse_cu12-12.3.1.170-py3-none-manylinux2014_x86_64.whl (207.5 MB)\n",
      "\u001b[2K   \u001b[90m━━━━━━━━━━━━━━━━━━━━━━━━━━━━━━━━━━━━━━━━\u001b[0m \u001b[32m207.5/207.5 MB\u001b[0m \u001b[31m4.4 MB/s\u001b[0m eta \u001b[36m0:00:00\u001b[0m\n",
      "\u001b[?25hDownloading nvidia_nvjitlink_cu12-12.4.127-py3-none-manylinux2014_x86_64.whl (21.1 MB)\n",
      "\u001b[2K   \u001b[90m━━━━━━━━━━━━━━━━━━━━━━━━━━━━━━━━━━━━━━━━\u001b[0m \u001b[32m21.1/21.1 MB\u001b[0m \u001b[31m94.9 MB/s\u001b[0m eta \u001b[36m0:00:00\u001b[0m\n",
      "\u001b[?25hDownloading torchmetrics-1.6.3-py3-none-any.whl (931 kB)\n",
      "\u001b[2K   \u001b[90m━━━━━━━━━━━━━━━━━━━━━━━━━━━━━━━━━━━━━━━━\u001b[0m \u001b[32m931.7/931.7 kB\u001b[0m \u001b[31m60.5 MB/s\u001b[0m eta \u001b[36m0:00:00\u001b[0m\n",
      "\u001b[?25hDownloading lightning_utilities-0.14.1-py3-none-any.whl (28 kB)\n",
      "Installing collected packages: kaleido, nvidia-nvjitlink-cu12, nvidia-curand-cu12, nvidia-cufft-cu12, nvidia-cuda-runtime-cu12, nvidia-cuda-nvrtc-cu12, nvidia-cuda-cupti-cu12, nvidia-cublas-cu12, numpy, lightning-utilities, nvidia-cusparse-cu12, nvidia-cudnn-cu12, nvidia-cusolver-cu12, torchmetrics, captum, pytorch-lightning, neuralprophet\n",
      "  Attempting uninstall: nvidia-nvjitlink-cu12\n",
      "    Found existing installation: nvidia-nvjitlink-cu12 12.5.82\n",
      "    Uninstalling nvidia-nvjitlink-cu12-12.5.82:\n",
      "      Successfully uninstalled nvidia-nvjitlink-cu12-12.5.82\n",
      "  Attempting uninstall: nvidia-curand-cu12\n",
      "    Found existing installation: nvidia-curand-cu12 10.3.6.82\n",
      "    Uninstalling nvidia-curand-cu12-10.3.6.82:\n",
      "      Successfully uninstalled nvidia-curand-cu12-10.3.6.82\n",
      "  Attempting uninstall: nvidia-cufft-cu12\n",
      "    Found existing installation: nvidia-cufft-cu12 11.2.3.61\n",
      "    Uninstalling nvidia-cufft-cu12-11.2.3.61:\n",
      "      Successfully uninstalled nvidia-cufft-cu12-11.2.3.61\n",
      "  Attempting uninstall: nvidia-cuda-runtime-cu12\n",
      "    Found existing installation: nvidia-cuda-runtime-cu12 12.5.82\n",
      "    Uninstalling nvidia-cuda-runtime-cu12-12.5.82:\n",
      "      Successfully uninstalled nvidia-cuda-runtime-cu12-12.5.82\n",
      "  Attempting uninstall: nvidia-cuda-nvrtc-cu12\n",
      "    Found existing installation: nvidia-cuda-nvrtc-cu12 12.5.82\n",
      "    Uninstalling nvidia-cuda-nvrtc-cu12-12.5.82:\n",
      "      Successfully uninstalled nvidia-cuda-nvrtc-cu12-12.5.82\n",
      "  Attempting uninstall: nvidia-cuda-cupti-cu12\n",
      "    Found existing installation: nvidia-cuda-cupti-cu12 12.5.82\n",
      "    Uninstalling nvidia-cuda-cupti-cu12-12.5.82:\n",
      "      Successfully uninstalled nvidia-cuda-cupti-cu12-12.5.82\n",
      "  Attempting uninstall: nvidia-cublas-cu12\n",
      "    Found existing installation: nvidia-cublas-cu12 12.5.3.2\n",
      "    Uninstalling nvidia-cublas-cu12-12.5.3.2:\n",
      "      Successfully uninstalled nvidia-cublas-cu12-12.5.3.2\n",
      "  Attempting uninstall: numpy\n",
      "    Found existing installation: numpy 2.0.2\n",
      "    Uninstalling numpy-2.0.2:\n",
      "      Successfully uninstalled numpy-2.0.2\n",
      "  Attempting uninstall: nvidia-cusparse-cu12\n",
      "    Found existing installation: nvidia-cusparse-cu12 12.5.1.3\n",
      "    Uninstalling nvidia-cusparse-cu12-12.5.1.3:\n",
      "      Successfully uninstalled nvidia-cusparse-cu12-12.5.1.3\n",
      "  Attempting uninstall: nvidia-cudnn-cu12\n",
      "    Found existing installation: nvidia-cudnn-cu12 9.3.0.75\n",
      "    Uninstalling nvidia-cudnn-cu12-9.3.0.75:\n",
      "      Successfully uninstalled nvidia-cudnn-cu12-9.3.0.75\n",
      "  Attempting uninstall: nvidia-cusolver-cu12\n",
      "    Found existing installation: nvidia-cusolver-cu12 11.6.3.83\n",
      "    Uninstalling nvidia-cusolver-cu12-11.6.3.83:\n",
      "      Successfully uninstalled nvidia-cusolver-cu12-11.6.3.83\n",
      "Successfully installed captum-0.7.0 kaleido-0.2.1 lightning-utilities-0.14.1 neuralprophet-0.9.0 numpy-1.26.4 nvidia-cublas-cu12-12.4.5.8 nvidia-cuda-cupti-cu12-12.4.127 nvidia-cuda-nvrtc-cu12-12.4.127 nvidia-cuda-runtime-cu12-12.4.127 nvidia-cudnn-cu12-9.1.0.70 nvidia-cufft-cu12-11.2.1.3 nvidia-curand-cu12-10.3.5.147 nvidia-cusolver-cu12-11.6.1.9 nvidia-cusparse-cu12-12.3.1.170 nvidia-nvjitlink-cu12-12.4.127 pytorch-lightning-2.5.0.post0 torchmetrics-1.6.3\n"
     ]
    }
   ],
   "source": [
    "#Necessary Libraries\n",
    "!pip install pytrends neuralprophet pandas numpy matplotlib scikit-learn requests matplotlib seaborn"
   ]
  },
  {
   "cell_type": "code",
   "execution_count": 1,
   "metadata": {
    "colab": {
     "base_uri": "https://localhost:8080/",
     "height": 1000,
     "referenced_widgets": [
      "ed1774c71ff84a25b6e12fac23d176ed",
      "2f32ce29a0264fb1bddca37ab4de216d",
      "83bf6b573aa44c8082a35360f498a283",
      "3acec029348041358f0a07f837149932",
      "7080771e63994d5ba8f91fdc25c12e02",
      "f546cd33359844d399eb3597564bbe13",
      "435f575a1a664899a783001718c03729",
      "3cc817ac29d546068deac32f12a180d8",
      "ab1301e45ad648c6ba765d25a71b56c4",
      "5aa96d60a93743019334d02a46c3df7e",
      "552194cd79664c58885081816f9dc09e",
      "8286de3bf51447a6820b8cbab828ac16",
      "06f64251043e4cedb5e2e9eb205c43de",
      "ad395286de27427d8966e902948c83b5",
      "6e55f9bc87304b27bf15a570626246bf",
      "ae0f0c6141064001bda1b0695ecbeba7",
      "55d90620aa884b718ecdd091533d9280",
      "c738c84ab2aa4d4d8b06a65da412f41a",
      "3471729fdecb4785999f95a394b3d4aa",
      "8c85219c8f9f463eac1dffe9985e4076",
      "ef1cea97720546fba5ebf7ff61fd152c",
      "b53549aff6be4b0d9065b7bf2b494607",
      "79274eeabcfa40a28586eb292f681dcf",
      "435c0d455f704397a8b99a7c1df4fa00",
      "f9f9f91cf221440abaaa5ca3e537e8f6",
      "edab422bf9b14f71a2d9a07f527c9d0a",
      "2756b9205a8246d7a4418cf6694726ea",
      "d8a04a86e3ef453e9cba7d8a4a1849d5",
      "d5e6aa502e364cf48e51eda346544e7a",
      "520761200ba044e989d7c3890866c54a",
      "85f1ae58f3d9429c9360fe7d9cf87adf",
      "7f7c6202d68944a6aeeab87f11be8e09",
      "b95d567f2aa44e748bab9cf6637784a2",
      "f012eb7170084c7aa8007bf502911c08",
      "a7c5767da5974f11bb9446bb85b4688f",
      "351641a8cfea469787007b71f9b83254",
      "737cb5ebe0f04b06af3f2ad55b579c15",
      "c73e6481df414e58bda67c282eab82be",
      "2bb5275685814b2983a8857935f8ce10",
      "43534711f1fc48b5afeaf2d20fc43b79",
      "90a6bed2458348399ae5f416beb8464f",
      "03bca47d2a554d79b0f348d5d36c3913",
      "7a5127134f574275b59ea45c5eb53af9",
      "94be3dedb50042849407d5b69ec0474f",
      "2fa9937165e64b8e9065d8e19fd63ff1",
      "321f04285d5947cf95608c03205837c7",
      "a855c27288414cae9d305503e5f0f06e",
      "98aa9b6200d849a782bc58a0bb28debb",
      "edf0032dc57a423d990d2116190c59a6",
      "b4892a6aa8c3454c8916dd5e8ba89bc6",
      "f6e2d379d5f240c79f537c75fe5b3256",
      "ac7b354abe004ba791aee4cd8eb6ed09",
      "45016c18be1a48fb86a1956849df7148",
      "44873c3798de4c4cb7d28530f95ab213",
      "ee143dbd333f4b42a948175b007d9681",
      "e9eb1aac81604e9291fc8921806b4342",
      "70cce15f9d9142b2992febeda083a2a1",
      "12b16661387c4fcda273d5d65e841309",
      "33260a970c7b45508ef7e38e84876197",
      "5d6bab24a74d4ddfb695023f4206fe9e",
      "973719d365d94007ab6e009cdefdb645",
      "aa54b26477544558a3969b398cf91b8c",
      "18a4c0ad75914bf6bb01bcb8bd6f1f15",
      "3df166b63fec4098b95865d6c36b4058",
      "45b9ff1222684235b53384dbc438917d",
      "4847b5f7008c4fb6871d9a85b108b861",
      "c7d564f9496c49e99a1f9f9eb6321e6d",
      "6aedacf214cd4835b2bf4393202e5997",
      "cdc33058c74d437e8f2367229f7db5e3",
      "80785c217f4d4e93a1bbedb7ebdefe0a",
      "4a0b8ff00ecc437798a8682646b6e94c",
      "2f48d98cb87744dbb2b8acd16a0b8b3c",
      "6438acdb313a4889bc167b946f6a828a",
      "844539c269974c6283a95e7e1e31e766",
      "a21672354dbc46e19630efdc1de03cc4",
      "e6718119479d49c2891f7a7695ce41d6",
      "44255743407b4eee9e1059525bb2e637",
      "299f598287f849b5bb9bf326ab49e259",
      "11e190f6d38b47628d8865da4fdc983a",
      "87419581e5614fdd8d73cbf0fb3eb57a",
      "f402664dc83245b9b53c3989a10b1272",
      "3bd189e925384c7494de0298e204c253",
      "e68bbc18a2c54534a215c84e5b404719",
      "b8ae93fb67384358bd839bd0bd1591ca",
      "2c021899c39740e99a8f04fddb3970f2",
      "6f85c141a01c4c58905bdfe87bb72210",
      "05012d3ad2d444c78dc48abffcf279b8",
      "737ce9b259dd44319e5b6d14a09cedb4",
      "e0cf30b3c83e49bdb04311209cbe1960",
      "83d319850c1849ec93659fccc7364cf8",
      "83040672edba49ec88c18e71a6fd1ffb",
      "168b4658bf1443fabc10d870144d5962",
      "c1fc68ff46f9416189d30ec9f24acd58",
      "2c3bd60a0b454ee9a08487ff24b48c45",
      "8f38f193d4324912be02ebf7b0d0576b",
      "b35dffc9a7d748b4a261d21c41b4bf19",
      "4bf727af795c49038fe575bdbaf857f5",
      "254e2378d3ab4f57ae7cf02275559296",
      "33ee2e62fce3462688c935eb95a0d573",
      "094a41422ff24f119c8ed1ab6e70f097",
      "ba126e8b493d4fa2abbb83d38454c427",
      "8483607ace8d4215b3c6dee8462f51c0",
      "8e086093393d4a749272af167e1b4ef8",
      "75f3de7c958f401cbf130629a4fc6e41",
      "2105189bda9f447282038c7fc0981dad",
      "8d12d72382fc4f9ba603d0114756d5d3",
      "5df6e02e19704a969c59625d42ef6fd9",
      "90b62aec38cf457fb05d9c1d4fdd22de",
      "b8e713e2ddb94f5b92f58746dceb46d8",
      "38c6b39922ef4090af41d318d5b67ceb",
      "3e087bd286e3427b896b68af4448ecc4",
      "497b139e71ad4ddaa1083862ffd32062",
      "71679d61def9477d93377a6b5836e43a",
      "0b2c2026f58e454999fe8bcbc6a36880",
      "a064a998e5354d769830368edc789005",
      "513f65dd4cfa4a868bdf7ef4f601213b",
      "5abe017078ed41718f9ad1b4e3a1c611",
      "d95f9b02d422456c89a651f578f04cf7",
      "a1cd2cdc6104441ab1cc9a7765cca928",
      "dc341c95adbb405185a741df8bcf24cf",
      "ea772de403a34e63a5f9faae1cf8d32c",
      "3fed5ce0127c4ff4abd83e5a2afedc08",
      "c579d9dd6ec54933b06cef0d995da8cb",
      "55a62389f64f4d84b728751c3f5dd6a1",
      "216c90e5ca914e13a065303468d75784",
      "deeef4b8fadf4456929b0ae72ef86faf",
      "99456b8e4b8a4cedb1907aa5255c026d",
      "a6e58149a49742ae8c030e834f355cbe",
      "5896a7bd7f924ffe99fc507c66243ab1",
      "1deb6c096d4644ab91b6d20eca21e04a",
      "b33f896519174e46a0181c10e8d669de",
      "e6d8864f7ae943c5988aca3bf42d5cdc",
      "ea479a509a2b43298d49df538409f7bc",
      "5824d66080f24d4286d1947a383e91ac",
      "c9993c737a7a4bf8afc1cee2f1a4e76f",
      "104dbf69d1934f8ba6227d2b8d1da41f",
      "0b1d10c8319b4d2b9a611fae39b9333f",
      "230b0278ff48486f98298dd93a466f5b",
      "ace380bfcb784f82a7e89101fe582d5d",
      "57b8e9bcc6ac4994bfc5bfb3fec6a45f",
      "cc7d1fd3e5534fd9a70c32d88785f193",
      "d0e0866eb6d3409cb9d4915ec0ba9116",
      "0ec9ce970e13436ab93d1b1879c357fd",
      "d612a7d4718f4a2f886b3065fe868feb",
      "7e3e2af318174aa790fa6bba91b55ba9",
      "ad27366b392b4206ae908af065af2c0b",
      "1042cad135fd43bc8569772af2a17bd1",
      "a729c51e0cf5492dbe980b4150378ba2",
      "19932864d8d5420eae91964b74474c3b",
      "ba1e8f2786a94fbcb96b4d9d438464b2",
      "f1654df3cb7b468997e41c9c6ff8af89",
      "0655c850939e40b2a65adf4deb931549",
      "9062fb6e72f1433689fc108652d8551e",
      "dca77f4806f34555aeea9f40f1e660c1",
      "e13bc90c8c5445d699ae2a4b78d0918a",
      "f1666de396d2418a9da325eaaa65edbc",
      "908b7cdf623446908ac8cfeca55725e5",
      "688f5e3795fb4a07b32a3667208cbb4f",
      "507c5bfe51a24cd3b21bf05a19b6e437",
      "ae872ddbca624466bdcf3492d2005af7",
      "c0d41583673449cfa48dc0ec38ac9e3c",
      "638e2f56d2a143d981efb0bb01c70587",
      "56a10ae700644581bc8188eaca868ec3",
      "481a7c84d1c6406f8e8271bb95b04589",
      "db00f70c5668486ea2561717421e5bb5",
      "0c9b9f6b143b44c3af572c00c5512fab",
      "42d1e62b5591491391edad7c0e1be085",
      "9e6b94260893497a8d0e0f7457728f3f",
      "2da91709e4fa4784b79c2d49dd4b0cac",
      "093aa23dd39c45d2b6d505dd890e3a73",
      "f3a9ae29c1884e239b9711d5eedd1481",
      "92e7ffa54d454e53ac331d24c3677f5a",
      "f118875f81f742de9c54e80fc57d7528",
      "994825c482cc47118d8b86f226f5de19",
      "a9b377017bf64a0c81e3a8f5d728189b",
      "823f38b2c62b44f08fbead39e43b8c4f",
      "ad1b4233b4bd4fb2a5bf3f914224c8cd",
      "9674d37a24394ee59b7d294f650b085e",
      "2b54d2ff0bc64f79989a75c846a40457",
      "074a0944093b4218b71a42a3e8aceeb5",
      "d879b4985eeb4ef6bf3b1e449adc69a1",
      "71e2b86bd6d74027b85168c3e5340a7a",
      "f1e4907a151641119138e5759c32e2ed",
      "b1ea5fd4b783495988b795346a8abb85",
      "d1221f457f224a36951a8df236ea62e2",
      "210acbbe6c2d44679bf77334918b296b",
      "7a8ac3c50156440c97ac7e76c7334def",
      "8ecbb22ad64a44eb98ae7bce39fe8be2",
      "eea35f613ffd44c8a505d6238bab114d",
      "f8d32e154a604b388b7f39732b7a0cd6",
      "b4933b6662db4492913072b7b59b6fab",
      "42d66f111120417eb4af835077ed672e",
      "6f4701bfacef41d8a53946017ec6bc68",
      "d09c8954471a4a5baf7612b06f5c8d51",
      "5224420ec23f47369626c219b4f38b21",
      "4eaac74245c4469c953fef38680fb258",
      "12c0f3bb725648b09cabc154e67c9ce7",
      "08eebcb692ef4d6cb8f81b0ccee0175f",
      "7943d876372147e7979691b05ce163de",
      "ea9a8440082f48349a0359f983fa9381",
      "d8b7e36dfdfd403eac5fbeaf1a7c0ea4",
      "4028f3c9f44d42f28e6171d6f6848929",
      "da06124196754c42a9cca47cc5f1df63",
      "da9ffab7c2d64e10ab9e367c4ddf7c73",
      "69832d090aa8427bbfa8daf99a1c4b18",
      "f615905eb62c41b091524ceb9a9faadf",
      "ac87fbf0994d499f9026b4a9e4bd4de6",
      "189e8f604efb486495432ccd84c36f2c",
      "47c0cc8dbc564bc59e2ab85894848899",
      "618be476649241259dec492264687e86",
      "4538eea0aedf43c78bde46434835c98f",
      "292f7ed3943e4cdbb4d10c9339593256",
      "e1a671afb55d4532814e32a9a781a3d8",
      "ea499d61b6314693963fd98d66388f72",
      "993286bbfc394d97b5499c09c945d172",
      "46f5ac165979437d923c9f9b80581683",
      "d8ba2354a94d44888d62ac217ae4fc8f",
      "97d7d23791424d2189ba902fe4579437",
      "1692bcbf910445a4a52854bb381b72a5",
      "815bf4a60f2d4f6f8efe45917e0ebafe",
      "4186d35a287541159564cdea2d4e110b",
      "58fa942b9a13480a9006ff65aef94ef2",
      "5ae8ed601e724d9ba9070c6bce819002",
      "65db9ca50e594bc396fee6a5b442017a",
      "afe2a0a31b8b4f99b825ed63754953cd",
      "6cd33efe8c5e4726a4984c94e76bef91",
      "289ed7dadd59454682f27518b20a68df",
      "16fa0095948d44e4861ff09308730125",
      "f506aa70991f4f96b9d16d8434a7a166",
      "685f7b5c75c7491289cb957faa58a30e",
      "6fb6e8cd10e94f898b888f251fb64297",
      "29a3e7a975414b9989bb9cd5ba1d433a",
      "1d592d63115e4e27affc6970a8d6b279",
      "dab56bfc42fc466ebebf299f442c5e15",
      "cdb6f2b9433d4b9c872da16dcba47109",
      "47637533b97a40e99ae6170612be53b9",
      "acc0726c3c324c5bb4d8b38662f11ef4",
      "fada5aa7ab104c138bbe69e216a9cd9d",
      "17f95d0b0b3c4be59917ab52b10ce668",
      "ce2e4fb4692b4e6980c40e48c12d91c1",
      "2526e4a7b1aa4c1fbe8115ac05a79ed8",
      "b5ac38c5ba27427f8dc7f604e7a52eb3",
      "b76e1375b1144f7b942ff4fdb7ad6ba2",
      "77ab4229e879488a8018f0a95f16593a",
      "fda48a5dfd9d43a9b4f8daec824ff1c5",
      "4384b9aabe734067bd85c3be59e6eb21",
      "91b164e9671c4c2784e3990689102707",
      "490435369bd14c75aba956a673b601e6",
      "53013ffe69ea4d0f9fb2925d123bd2e6",
      "58d946f3ba4d41939c5676a911aeac63",
      "35e4574972194d98987a00f56d477f8f",
      "4dae16ecc2914419bf08945e2e4443ef",
      "0b0975543ec44c529aa2b8b04c3a0ada",
      "8d90885bb1564affa6be6e1555f7d3af",
      "537abc28552e411f863bbd6ba36fcabe",
      "3d4db0609ae84734b2fb23720b805193",
      "b736b9d4db104e84a4a01779b6379f95",
      "04c8691a5da6460e9c730cd714d35e9e",
      "1eca5c50914c42e59b78ddf65fc95851",
      "82f65b6eeafb4f04aae0acc35e04f4c0",
      "5de56b9b9d594e808b6b4b70b56000c6",
      "cca051d7d7034601a5e9d41f4aa08c41",
      "5c57896040a14832972f016b407378f6",
      "1670593ddebe47218451eb7bf1e9d7f1",
      "05d0efd97a824d29a53003ef82245958",
      "2dacd2b97ae848e9a83b2ae1c37f1cb1",
      "5da2287d9c254995a71fc2b6e06796fa",
      "2a8d39bd0b8a4eb2ae5ff9439c909dd2",
      "fb7a4fff73c74d7794163fbacde43494",
      "5aaebd34a07d431db1aa8f2e3f298203",
      "005d93dfeb9445fd95be1aae7efb7a9d",
      "fd30338f0ef9438992d5640719475203",
      "74acf55b71b24cfe81538ee820230e4b",
      "5f317f11ee834de4a30aa2a27f56eba8",
      "d38ed2ce7c334f8aab2ed0c472e189e9",
      "e462982a77694fe4a772dccfaa9d9ea5",
      "85f31a4018c8495eb072ab72afacb60c",
      "be09a15cf85247ceab6f643c9df4e793",
      "bc82b46865924a9c9effe12f70f1cb71",
      "79b49841a05d435fac601de0c2f55bf5",
      "d9dc4e87b401450d811ca1552bb53eec",
      "f4fdb4bacceb44c69fd9d37756d8d82c",
      "03830314df9e4a919b4aa78f43064751",
      "6a3a101f19094bfc8ca4dd5c67b79e93",
      "b14ef706831642eda86693045bac7549",
      "3f20524b0af944d9a06a29c0ea2f8709",
      "17721b61ecfb46f88b663160a27c534c",
      "84fe87f6a7274244bf2385653e90fc05",
      "35ecaebc670f4e06b18e1c28e5e6cada",
      "4dd10c57cd884b668000fbacaa63bcef",
      "f60ffa2aaf704440b63b7d1cfc932bfd",
      "65426754592641d2aaf7e1f7252148c0",
      "e723a697d66e473797819c704d4f4e57",
      "86835507d9cc4a15a5fc9f06c4300a43",
      "4e80a18005b54deaa64745a0f5d42624",
      "859ff52360c144d3a2fb74bd7177ecaa",
      "b487d13adf9e4e789db74d31aff76a55",
      "f5019c55e8bd47e0b1e83ee363d9d059",
      "2d1fb293467d4a7da9d1e1f98ef818a2",
      "f0c70a83c4644958be87ea938a8f5c8f",
      "b876afede93c4e58a712fdd3e3492f71",
      "5fffccd9f3de4fd9ae21806423b2bd49",
      "71b82c758ecf4ad1b6a48c78e1a2efe0",
      "af201e040cc8403088503cee4e366077",
      "e21fd93bf89748788ad1637b4506d7b5",
      "d82ebdc11d1040fcb23699c4aa23e3b2",
      "2727fd2c9325469fb0bd749df7ded9e7",
      "b579b61e548c459da5573fb1ca34cb40",
      "c52d85481f5a4d42be961d55f9dd0e80",
      "0fff984e359e476a8d033034ce133931",
      "561292ebec214f7695a6985847419124",
      "c4834c6fd8f348eea3ae5b49db671b53",
      "2ee01f7d2d5c43028d6689f8148ed86d",
      "5a47c0f55ce7413682cc0c92bb236c4c",
      "160c4469733f454fad22cdda00f66fee",
      "61d0492224b248668de7555647a39613",
      "e36f29d3f4b8448fa8bdf537c4782e91",
      "50ab4f0af4174552bbd26f3032a65c94",
      "3d018ecd1f7a43bdace8681a74117914",
      "f09d082b7e30421797bf425151dbb780",
      "128480115fbd46d2bdeee66729effe31",
      "ce887dc5448646bdbf9556eecc00d020",
      "4f215462b10b4d93803b1d4a12bc9885",
      "8ca58b921967449db2f2f423c96b5d02",
      "768f36ad9af0463ab605f9f187a212df",
      "9e102a3e0a6847bbbd3256f360818f01",
      "f0c999c5b6d847dba9c4c904eebc5e8b",
      "4fad0a5caa3940d3906f5ca3e91f3a99",
      "4bc401c965b34d16bf45ae8c2a690a9f",
      "7897f05794cf412f8dec22bc0ad91788",
      "36cb103cabdd472a99f44dc2a44bd7c5",
      "9d0292491ffe4ecbb5ffd08e26ce4ff3",
      "056390842d274062ba8db82de5902b55",
      "2db3379c25174bb4b9ffc979d73e8e9a",
      "6dd3d2c6d41741c3a4a859e83a6794b7",
      "b204c07146a148e28742401bce481ef9",
      "f1469c3d63cc4b32a2bc08d733e17741",
      "e72236bb343f4967a5839e73af4e48b9",
      "e4b464aa506f42f887b86fd4b99f8f22",
      "11a979869e164ef8b1cb02f8345668f5",
      "ba10098e54254365ba2080515de66bd9",
      "34f6540014f34d75bde49159a271f3af",
      "e167664235d649628149012fce7c72e1",
      "e3f27708a0e3451e88d5ba5e2e22ae32",
      "8fc14405c85f4cf8a844f13684cfd206",
      "99f1a8fe75834fc08ee5b57c1d270783",
      "7abc9275f0f44c82859d3a574b66a91f",
      "840f9385323c46769132549e7826c396",
      "abb5d739b55045f4994c2e1a1735f29b",
      "c49941c9d5764dc39d682d3927725f89",
      "88ced85dd03a427eaf4227633b9b20b9",
      "7821d0886df34c3ca4c4334faf595069",
      "4a565ad76e884b3196cd26495a428eb3",
      "8c9959542a6d4734b4cb3a979e151a95",
      "6d4af7912be9446a9fdb5e63be93b4c6",
      "2a7c81a745554e779aa61bfb1e64a207",
      "040fa614bae74ead9cfedfbccb9c2bc8",
      "7063637ab81f44adb07ecbc15c9bafb4",
      "4369b2ab62814b609af397ec7463ea5d",
      "9b2b57d67ae647deaed001ffcf7cf875",
      "a50633bb66144b8fb9d317a0918e37da",
      "19d40e4c2c7549d080e6ec324bf8b085",
      "367ad7907a7e43b18ab6fef55c87deb4",
      "0326e3ebc2e44166adc1883b32288099",
      "64bab19602ba42a1aedf716f8a77901b",
      "93fa78a6097f4c808adc43c3b514c528",
      "6693352b1cad4c0182f9a9620da63455",
      "35d35a8cdca74492aed4bcc83b24ebec",
      "25909d80763a4384896d05decddb65c8",
      "9f2d55107ac14b8eae5a63436f2fedc8",
      "8b4ccba32df14dba92395b3511ad8fed",
      "02c219d29f6d4062b41732dbe1cf087c",
      "fc74ba872cc6429abeab3a0e34c7e3d6",
      "a286e354bb45438a91f650034ea193e0",
      "8a2fbf818ee74dc8a73f5faa69b5a18e",
      "dd539d93c65940cabf971694086aa50f",
      "41992363f76341c890b05212baa268a3",
      "dcb36d2dd06e43a7b45048fa6e816115",
      "5e3e863d4b7842c9adea074b214772e8",
      "d477a537851a4a899d3d61347fd27b83",
      "82b43125027b4d07aec835607e1e2bd5",
      "600c8a84cd70434e894586332c743fdb",
      "cae814dbe8894963856261dd5ad16f32",
      "dac2ffd0ff51489590ea5bec54a2e2ae",
      "32a5381763c04996903aaef46a16a73e",
      "0e85122108ee4fba92b084ee401790df",
      "3829cd84a33b4d5fb23d0d957ab56670",
      "46b4c5445d34437db8e5946e37bd712d",
      "7cbd5419f41349489972fb27464f2862",
      "df6bc79cf0f34716be6df314cf13e065",
      "75b2442f4643486fb6b1c653a9b7638a",
      "ee18b3aabd65460baa9b4e9e79024a59",
      "34503936b7c34f8b9b01a9ee39bcc790",
      "3c3989851a2d47e59f6b08c26bcc8cf6",
      "03c939e62a3945b88824714eebea6437",
      "955d19023c574ca9b6fb49858534eff7",
      "2a716625cf064e58be10d0c3dde9b1b5",
      "3b57b98c3f02445e97d3b157b2c7c657",
      "a692eb2573d74351baa005c269ab9ed2",
      "266234fb9d194603ac1d2cd88626e234",
      "02d1a94c216648ecb15e9349ce451af9",
      "6f7ef6431e5740609b9492da74bfe3c2",
      "df55e21d0256463897075d0f05df51b3",
      "c0afce76f88e4a618e61e252babf87c3",
      "bf4343bf971545f5a1230f77077713ad",
      "178096a3abf042938c0e69016f075f8d",
      "df967daf99eb4be3afd1dc7c7e8f9c6f",
      "f460889c03d94d0d945b20c6b3cbdb4a",
      "212d899cbdf140febf741f232dc04de9",
      "daaf9cb5619b400d992afc9f241d3325",
      "2dc5328250bd4c1b8cdea49ddd6959b7",
      "ea4c79c9d6114227b680ae067f654b15",
      "f7f17e651a6d49efa08a18e5dbfddefb",
      "84e73cfe67dc4774b8e97105ed3864a7",
      "a1d6ef8dcd594999815e8026bdf4fcac",
      "27cf7a60fe454633b388d4c856be3494",
      "ebb390481c634e3c9abb1aa3df888f66",
      "2d780587efab42e3936d27f5c878cf2f",
      "cd5ce899388344278bac2c8d36c248d0",
      "11bb6fc932b74f4fb6ac46c69d613f52",
      "5ac4a4aff4ba4f269c845616ea5d4f72",
      "9fd20c8d6dbf4a68ab0d4df294b89287",
      "e36d4efcde7543018aa89723dc60ef87",
      "f72d4579bdef4d129c2c883280ed3b11",
      "a6372f32be40466baf6fc027de8863ab",
      "85425ec1eb3e467f99e47d91750f703a",
      "9762782a40f54b198a1ce8655ebd6ed1",
      "a9a59eefe94a42f6982a92c753696185",
      "2e3c5f7004c14dd6bbc69f7f6aa2306f",
      "dbf391b1c0d646eb92018f28c50861e4",
      "1fb3b3a9b0264cf68967e9695c91a9bb",
      "7745c2efaa5b4ddb996d0dd106ef4cbc",
      "49cf1b37368a442eb10efdd730105d6d",
      "c33c76b80faa42abab2adfa21fa41ce6",
      "6031b8f242e04d7792781ccdb344ef55",
      "ed0fb9a38f824999903c1fc273cc38b4",
      "8c32ac56a1394dc5ac7699c09e46ca35",
      "45ba4e456a5348bba264ba39a691b759",
      "0a20e6e5beec4489b3d8a916469dee38",
      "5e82beaa1e7a4155aa7608ee1dabec47",
      "947459de3c7043b4acd42d06827b756e",
      "a94ebfad98ee4e04a4adcb6077842e12",
      "4cb19fb3d84a47d28c03c84a0fbedb25",
      "b208d1994a4c4302bbe54517eb800611",
      "290967d97bb44b69a82c485754707b1a",
      "ff8bfd6618a44a269b5adb9151cd7b21",
      "9c30a36eafa646308e877d688f8d77a3",
      "71d6a93307a849adb5a205c9fa533444",
      "894f7ae3f68748ec9f73d61f436a1cfc",
      "9e2e22c9d2da42269c97456e76d8d1de",
      "f46aeaccb77b4aad8803e9c812e18b3c",
      "82196d580f8241cd80ed263f4a614960",
      "af655cc8492449009ac84c31f8625b15",
      "d6ce260189e744a0b568756b669a2f45",
      "4df79080aff64585b8bbe6c98ac17952",
      "e9a4d6fcd0794ceba39662f090824b93",
      "95b04d4f0e0344c2a6e4323974fb5dd7",
      "294b54356c8a443798659ba375a90cc4",
      "dab6225aa5e24dfd83d22ccf5ebd15c8",
      "a8de1b7ce28f4f33b26ccfed2c47894a",
      "48518ef81755424082351cad48ddedfa",
      "ae8013b3925e4e7c9c3f67fe4f6624e2",
      "fecae9d12a374873bf1a06269ceea07a",
      "e421a88e742b4c1d90e3bcc66613915f",
      "38c8ba3958ec4591925da434f45bd426",
      "24f247dad4ac4c1e84b3db6b65cf1b32",
      "d4ede1bd1dc54d029f4a28fdaa58cd37",
      "387ed6bc0e9c47e78c12cf16ac9c59fc",
      "0af88737cd1541199332b10ba0b3dd09",
      "439073be90ae4ed7a97ceb06bd768f9b",
      "3af8fa375e5d4521bb0608bf00b66a44",
      "20828208978d415faf493c0ed9954ee2",
      "e9afee3ffbaf449da5b1d288d62b0744",
      "8866708dcc0b4473adece35c3b9b5663",
      "46b4418719c344c9a15e7262344931d3",
      "27bb2b5fab6648e3aaf883270c4866ab",
      "78cba87f2f4a40238e8f5ecd10307e66",
      "b9d9711f86e842f98d5b458cee5abb71",
      "ccfa9df2f4a94b9b99c16348d89e18b4",
      "0630b484a2fe40c1901d1b84f6863649",
      "74b923060b4b40c48d44c2da30df5af4",
      "8a0793bc7b054e89a2945ffe4e8113cf",
      "27991a5bc7fa42d1a3fb2727de687d38",
      "6bcd3cc9372e4809bc67a2b34c6487a1",
      "18780b33159c408d830731f1a306207f",
      "a03fd469e1c14528a8a8b6b43f80f159",
      "508adc5a6aec489c98ca78d248b9d550",
      "7764a732d5b04828a45606304ba33e7a",
      "ba7cf919174e41ba8917f3cae2c4d04a",
      "3c767ad704f44a888bb6987f9866bc5e",
      "6aff4c0ed10c4886b0deee8398f299d6",
      "d8066cd0c7ac40bfabe40f3933d13bb0",
      "a32b9fb3e6514aa69bf9e33a03e87c1f",
      "2eb918264e4b4c7489acf071aadcca57",
      "d2671f3781cc4c1f8de59a752b2fbf48",
      "7c6d643f3a474d95bdb1f52397824bbb",
      "17228e895ec04cd7897e20c62205ba6a",
      "0e6e3ac28e574e39a5028abe1c8a1cea",
      "9c2db1552362406eb324dd8e59dd1932",
      "c28cbc55411841f7ad20c85d003262d2",
      "6d5b8e076c13453e99d8e205a4ac857e",
      "c9374cc371ce4e439963771fb24b19ec",
      "d22a83c9f61c429bbb3c5f56d21cfb1e",
      "c7cfa7f6215747ccaeed9fa23b963312",
      "fe650ec727df460d8ebf7aa335cb3a7d",
      "dd92202e59aa4ce6ad29e88f80e562a5",
      "313d5c91860f4047b45317bf158e4be1",
      "baae46bcd02c4fb8adab8063cd74c993",
      "0d4d10867bf741fa9c307956308f5ea2",
      "6b1a4f55da5042289485a20459b554e1",
      "aa3aaa8d0c0c4004aeb8e89797000e72",
      "79c912e4eff648118f369c2129037a93",
      "bc7372d262354413a8895d04c0d2241f",
      "2d77605e43874d8cb2a3b33fa2145e84",
      "fc668dfa2e9f49edb736909a8526f170",
      "92c2a52a69a14093a9ab772e6d886186",
      "a6fe415fe249458d9a368b858dd75d17",
      "66fa125150ff437690a884ac71478400",
      "a3f390ce018e445d95ffd3f32cd6e131",
      "5e30722345e44f5da2347dbfca145feb",
      "c6106cab99b8440392a954d568aa04d5",
      "3dcf43f6546447cc99ce65b6e81a80d2",
      "fdc6d7d7f8614d3c88db080a967c8f48",
      "8c4afc4d95884a92a1ab1e996adbf794",
      "968fc93203aa49638ba71891e180db7b",
      "5d740ba8f20c44b889787872a80bf3e3",
      "8f4d42c15dab472b86d4a1f8f2ee796c",
      "51b74b14a0c94656aa08226d01fe754c",
      "6157f54ab1e048a98065a4646eb5861a",
      "751fe31622814c6f8b055acb596604a4",
      "17c54a746a3247c2b4f282b7e197994d",
      "95463ae3b557475daf23dca18d7416af",
      "98085bc2512041d0be6292869d955bf0",
      "5b21beefb4e14d3cbebab2fcd6fc6669",
      "1fc12b5d92e545f2ac1ee451a37de1de",
      "f0e3465bb05d4a61807e4a9b0bdbfb6a",
      "780df5cb040c45eba62327cf41be0176",
      "8542f75acc1f420ab2f4693aff1da403",
      "1250c175111140f0a58683c0a5c753d5",
      "046356a3217b41f193aef1a4fff5bebb",
      "277ce147bcb148a2ac6d8ee863846575",
      "9f7b07258f0f4c12bd3f500070267240",
      "21c76413bffd4bc8af3ee5ed164de0fc",
      "d279c0099a7a43f4ab336b949230cc7b",
      "873612a907c94796898810539ad75e93",
      "e89caa41e3d94f308c6776a6a9f14272",
      "ce0102be02f645e294d4c33d2d2fc031",
      "c459de61161f4b20bed949817d2daa66",
      "4e8dc3805d6b489f95bf9e251e379749",
      "a6abf95a80824e92be7bf158a97b623f",
      "34379e4a88774ddaa17da676d090a0d6",
      "e6855c92122649c193e27b83d92331a2",
      "08ea024f112b41f2a398607054704eb5",
      "c661ea5f52054cc187f0e7de9638b24d",
      "f0ac36e12232486380c2a5d5c187762a",
      "0108dc06dcac4913aef76171638664d6",
      "2ac92331d14d4c97bb1ae395217ff903",
      "c310a9af44b0476cbabe7710870e5f02",
      "d9acafe284544053b466c3672ef0974b",
      "3f13a744c9b348288852e2a3629bd1ca",
      "3ff52a71dcc94b3c8bcffe8626795fb5",
      "68307a1a25774508ab68a89347824b9e",
      "1b212541db324bf1a7df191487cdfacb",
      "ff346a82672a48148725bf2e6dc1b30e",
      "4dc27972985547eaa2cb46c3125a1b7b",
      "ef8a85943a8341aba8d33ab6666a356c",
      "50b3377309c14e29983158aff4c9c80b",
      "df40c253ce34402fa7fb82cf1e2dcc9a",
      "e8dfefaed93d41cbaf5206694b01d082",
      "75aa82cedc5842b0b8e264a38d330d72",
      "e5fb018e23ee4d309c951d04c2b59f4c",
      "f83d64b6134943a8b507a9b1699c47cb",
      "42e84c3ce22b4910a1a05d9bf91d950a",
      "944b5370ff74428e822f144cc60085bf",
      "2c388e2f354d4151aafc80500a5c304b",
      "dea1283e274c4d3a9e2fe3ada84baca8",
      "68af9b65b70445f6b1420ea60482b390",
      "a60c16121ce3485898cc0826c0936f50",
      "f399f1c56530468ca45cf22396b699c9",
      "75b23c0a29fe47d8a2497f07c65285d8",
      "75117dd84cbe4ad78fff8b6ff97e4d3f",
      "f5f88d4a57434ed880d180efeed9555f",
      "8ba1dfdcba544a5892e44a5f864355ab",
      "53d5298f75e0483cb64f7f81cebef7cf",
      "7f3c6ab9d30f4a39bbbec220159cdd3e",
      "b3cfc46e132e44d6bf4bad25c433056b",
      "8c327351efcd4b0c9327d7dfb7726ee9",
      "6cbef00ada954b719fcf75a48fe516c9",
      "dc1464d26ef54310afda3f60e563ceb9",
      "7888e720d7134eb7936e7c1e9be4893f",
      "0a880a4a15994501a01196024a723533",
      "df514f23438242339a73f5d6464a11a5",
      "de812797b3f144cea356db5a550a12ca",
      "36ed9ac597cc426ea2006429f81c2b69",
      "5f96874a2b9d4cb0ba907fc218a70757",
      "854bc83dd018405e82f0b8b8cee5edf8",
      "f3841dd8d54144e2980aeac81d6f3033",
      "0d01b05596cd455084513fc08263e2ba",
      "e868db09b185439e9864630d734c1d35",
      "a837c331a6c948ae8ec2dd708e10a7a3",
      "6439b03706ee4e128447f3b493fc7dbd",
      "5249c0a30096475da41d685dbd137d20",
      "7e71386a69fa420bbb1d5a9c508f0357",
      "7983526217884c6a8546284bf745729e",
      "38022cb42076441abee726b68828c0bc",
      "d2e04891da7a432f8403b8442de7c205",
      "eeeda4cbb8ed4167b1816fa548283172",
      "6fab5896d495480a849dafb76c98275a",
      "1c0355e318c2492a9b3682ef14e08db2",
      "b9360e30b0a040b2b768c0cda6099b27",
      "852685d8d76d4c18b858063fd77c4bf9",
      "3617b724bb224c0f9d27a7a70c980945",
      "35cb1cf0be474787ba4aa4816f00e885",
      "3f97dd9de41d4e1b94d6aab2a628bfb6",
      "9e55e99c4798400ca82d9d9be6294f82",
      "e03d10b3c5764961b770326c6a830c22",
      "8c6d24e3ff9d4ae3ae54b801d4369b6c",
      "2e8e564704fd4b2e87298d5586e548b8",
      "d2682d604c5945948ef5e93fae8cda66",
      "bc8716e12edf4010914078c058abac1d",
      "47960330747b4efb9b7f5b04960b0553",
      "abef5531d2e44a6fa87d6d32371da099",
      "0761ff3ba0b5403899f946cbc42490c9",
      "880264dc145b4ea5b3dff9de95a0a624",
      "726b03d7c8d34e7bb085f2aa98d81151",
      "a09b8bc2d37645a2b1802265771e78d3",
      "dbbb42c9594b4e5798a4155c3c5e0a08",
      "59edd4b7a2ac44e7b1b4c2e36c1f4c75",
      "8fab4e5b68ea4ed8b7d5f530325dbe31",
      "ec841004e4ef452ca48a06f6f1e54979",
      "cbeac7a536464a9c87de188d2e7b52ba",
      "f5ad8b8bb0a8442c913d55a7567126dc",
      "870581148ffc42a8b9c9a8c3f0e80aa1",
      "2585b6aac04a46ccbd4ad7a3e6204310",
      "54f7bea0c9a84fc7a224a90df8a45d01",
      "7c1912249f204240b977d7a4dda2513b",
      "6c521cdf364b4fd6aad98d020de714c0",
      "7d4ffde4f1994924a3fc7c3b71d5ba7d",
      "1031e3305ebd4c4a944f1e53a605f4c8",
      "e9a2203c73b144619211f6200b1ddd0e",
      "31225e7bc530467797eb64c1c6ed987f",
      "43e5ea0083ca450585a754451928ccb2",
      "ac52086924084b6ca9edbb394eabaa32",
      "b08710608ab44aecae5d64820efe811a",
      "a25f40a2386f4061af2da1d829cecf5e",
      "d3be81ddfa174646a5d8a02ffb4fb219",
      "eb2310d7175341478ee4efa63b4fc8c5",
      "c35c746ac09c46ad866bfa3f5e9a284c",
      "6682d88130ff4e928cebdc26c7290c13",
      "04aa254466a64d2297c5caee18bac66d",
      "c3be8c39eaab496ca42e6d8c73201206",
      "a0b664940a6a4dcdac7d9afc2a9ccc39",
      "e8de2a881cec473f9fe5e169bd049f70",
      "586525306b334850954046595e9abe27",
      "f281ff2d2b3645f2b7ee37330ff4013c",
      "9029f1b08836490dbd7554cf7a9520ac",
      "3724784273db4673965a2b9da11ec2ae",
      "65855d59c586465e96fd6d27a3a5328a",
      "7f7ce22d7e104fb2ac7d5a6c1ad9ee33",
      "926074b505504ea79cb4024953188179",
      "3489be8417f74f8f946f6e7c0a5af478",
      "52beda93fa4c408e9f1b210fa0366e7f",
      "cf1c6fa39d4749e199a151953a809d82",
      "f42e34bcacfb4f9caddecdcda0b48da8",
      "a1974f7214ba4c67b9980a009d188826",
      "6cb93557165e4d339c70b8899a188fdd",
      "43c88d5da08840cf979b9859fa33fa22",
      "30423a89ad11424daa938717724c4687",
      "3463dc559f4b4c3aa98d54caf4d4613d",
      "8a68bb8915294686b01fdf6d6322bb8b",
      "fe2d87367e534803ab8dcb1ca7ee6cf4",
      "de163a825d6c4327b117f157bc7dfc65",
      "aa685231b2324012906e22fa6d4dd015",
      "8c415a296714444c84e8aa8f333fbbab",
      "bb47aa5ee01843828d26a81866b6ccd6",
      "e44496b6c50345798b68e5c66976db2e",
      "74c01714554d43b28d24bb1ee1281e82",
      "4deaf7ea283c4bf389b35e1f9d099899",
      "3796fd271b414e5a9a51d619713eca78",
      "8298406d5f574c36baff874b6ed4fd54",
      "9762d0aa1acf4a5591e9f050c4e67fcb",
      "0ea033fbad9249e6a6af9ee01fb79d2a",
      "9e6c457e75d148b88032fab67b46e31b",
      "82b8b1a01e014284b2f843dd668f30a7",
      "521a31e358ac4da8a9151fbf3d9b2758",
      "31f99a2052804d5ea4355c58d5a8b56c",
      "1eabac99f4334c0eb18ccb6a0f9066e3",
      "23233aa8a03747c1ac9cee8dc52e3672",
      "e4f4da9cc3c64916905e90c0f878bce2",
      "2eed1464aa4042b88aa119c399048801",
      "2b93df3f344f4ebfa2fe1d800711df22",
      "b12557bd3530465fbbf82f9eeae5c3e4",
      "0c5d77ee10304eea84fa1e7861f6cf0c",
      "35033cb909a24f4da20970cd593b912e",
      "0f507c38186f4d6abf4cc897d3aa02cb",
      "3acc5edbbf224c8eaf0b9feef27b7d40",
      "1929a3fcf0d9414b881ad17a1f1ebdd6",
      "d98f618b3239489d826518f8b5767b76",
      "c2fe9748735942909d653e0e4b57c92d",
      "2076792eedf54422a54e97d146ef2586",
      "ba72df011a3747acac0fe2d8867ac2e2",
      "48acc6c0e0cf45e385013faeb5515e23",
      "2a1820d3171342e99acd446c3c28f424",
      "a4ace8c6e40c4600965ba0db924e6fdb",
      "6274c62c493d4a1ba9f06cd7ea2fd76d",
      "d19ef44ca3384beca11f280fc2380c7a",
      "92ef874a04d14406939069f3d29541eb",
      "56d244e5ce8442eca12ba7c0935a8d80",
      "5436d9d7b6434305be28764a483631c7",
      "1b163e587a9f4ad084d680375263aa16",
      "e01c9517054849b691e7d59d67f03547",
      "a674d1055a6c42b794fcd46c366de411",
      "22fe392adb244f0a90b418d6265ebc8d",
      "c03f6b47007a492c9ffc3ab79c33f471",
      "34189cfa050643a891ccb85421b2694d",
      "c29d4e4f0e0f423a86765efdad0dd930",
      "56c8441f586c4ce4ba4fbc32b830a5ca",
      "340feb79c9944a73b925bd4ba79aca74",
      "d2ff20edaa9f4e69945f95a21c93a106",
      "f7878c95c2e84972a01b32485f8b0d90",
      "69c3c9dbb1df4e06ab75bb62dffe4a2c",
      "bf0133d9e8c2457fb9de822c1a227706",
      "39d7c849129d4ef2aa22939117d017b7",
      "b30004c72d114cad96db9018d64887d4",
      "54184cdabb2d4364aa8cb4697e26d8a0",
      "7f236082fd2e475e8e01c0fa0cfc694e",
      "bdaff319aa1b4f51928774e6b618f0fe",
      "3976dad2afed4438a5a222cfe8493302",
      "d54878e877a042758026aff39640daa8",
      "8563c5719abd4ae3bfb535a8cd2cc754",
      "b106b7c833144d1598b019b275eaecf2",
      "7ecab30f8d4c4af3aca1fbaa0f580e63",
      "bf2caa0b746c4f9cab1c7bb90880fd21",
      "9095b51cf49a4d73958ff1c8a32b565b",
      "813e57c306ae4d5b9f01c9811c280902",
      "c885a31bcecd449c9ddadb4fb12f72a7",
      "c26564069c884797b91bbd5292937bd4",
      "c5dc73d41ac14095ae5edab3f92d1952",
      "3e6dae08dd224da0934ff417d432df39",
      "b94addd524474773be107752e69483c2",
      "dfded9b090c542838d5d45f79d64ba82",
      "4442ad9e270a4d37b4a494eeeb63d98f",
      "2926ae0516c445d5a418f21ff4472b84",
      "873bb37304d547869cacaeaa4dfebf8c",
      "303a03a1c8bd43ae83afd4682888e258",
      "715d1bc3f3744ef79495e46d30251b71",
      "6399086269404f2da81dfb497df60915",
      "842369bbc86d4a6ea7d9ca9b793a5b6a",
      "51fae0c54f1c4658a870beb22beea6f1",
      "ae8ae373c11d4337b54aa1048ff798ef",
      "8a99eb8fe8614b97b1688756206a6c36",
      "49781ab1b8d5420481f5f158ba806830",
      "954d6a0661eb4cfeb0dfa84cd2c2b055",
      "a814de1e9d53438c8b2454b010cb6afb",
      "367a9b3e57d546b697a481fe9aef0063",
      "689652be5ad24ed3b8b6b691b779d1dc",
      "e97c1ed620304ac78a82c608b67183b5",
      "e8231832723e4e0bbb84f428bac7c4f4",
      "366ae066ad2341b992bf90d7dbc66b1e",
      "a8b89c4ed233482680ebb7314f02b3e7",
      "20506599cf474b4dbe1314f422caeb65",
      "9ecfd6b31ea54692a28c5ba3beea540e",
      "ff531d954fd44f6fa5130ed4a53c6a01",
      "e3b978df196940339ea3a81a5b02b61d",
      "55de8e7e99e64660995e84ae962c8c9a",
      "061ae5ac21654f1a9c20f8a90e82a455",
      "53fe29ee28a84dd98309df913c17ccd2",
      "fde2d5b0115246af88c53720f45ae8d4",
      "cd540762193d4b4da0555bb833ee4879",
      "8f6ebf2737924d1980319c48aefe43a0",
      "a77976fa9e5f40d8a78c856215937a85",
      "cae4c8226070480b9c9469e3f2e0292c",
      "fdac1033106447e092b3ffd52ee395ac",
      "3501e7a56dad4653a23f0b1db32a6ac6",
      "dd4f509dca73494ebe6f7cda945612c5",
      "38edc2ac2b5b4a24b904f608a95b35dd",
      "90df06d1bdfc45478008baafd16bcdc3",
      "599cfadd4405451b87d1ba25a4dc5e97",
      "ef92a662fd18473a82677cec4a01174d",
      "34f2102772e74da4b8e8534b4e2681f5",
      "6b372c452d8041bd9d08f3f99aaf4e50",
      "74933f07eab44c269d1cf4104b3dbb58",
      "7d218ffefa7b4753ae1f375ea56021eb",
      "3e216ccced454b4a850c016e83e26d28",
      "82a4928555f4420caf2c69d5f4f578d3",
      "32b2993dd48e4ee5a3b6b045cb4c6bd3",
      "ee686e64335741faa54a263bfe1c0adc",
      "aab253c723fa40e2932bb53433608022",
      "799a3d83c0b04efdb1bca27d9cf6f0e3",
      "1380badcf30a4ad6b46e84daffae2e28",
      "1ce06dd335824d2c9b0f42d8261df90e",
      "ec12ccc3f03d4e518b836138d9866c0c",
      "44c23affb66441c18a491cd7ce92b16e",
      "d7a5b3faea1a498da7db89bc7df89ba5",
      "f8a177af0a3242ffb4afefee1c9f70ff",
      "f161308c280e44ba9062b36e0657d636",
      "d5cdebe071f1402298e2614aeaca948f",
      "7ca4bfe10b7644b29ea5630f0090a170",
      "2019171ad39f4c2d84099441855ab633",
      "591520bbf9eb4469a9f220d36df4a1d1",
      "2b4986839f0046e394a8a7e93fe044eb",
      "55602c30a9304886ab8ae5cb8c3d7eb3",
      "6ce8ed13ee6744e7883a6230faa0a24a",
      "daed2f2ab4144883ab4bc9ac8535fe5e",
      "a1d3140acafd44db975cc0ac8dfc74d7",
      "a75095d910774d89ae42201faa10c8b6",
      "6fc74a5bb26044279e47b6f1ceba4999",
      "ed286097dad246c8bf190ebc95076df3",
      "287b4d2b48f64f9ba3a6b556da447dfa",
      "e12884d541c64eb19cbc3acb94d2cb50",
      "0ec66e21c44349888de48b9f70bd1908",
      "14246d2708364924be7f62e3cd6e89ff",
      "abf8be9bd1f24eb8ab801088e8617526",
      "de566139691b47d3802776f9b9e4bf8b",
      "ab776dfee30a4311b1a293ad95befc5a",
      "a3d38a3db0564255870fc857335afc7b",
      "7bdba304c44a4294b33e2949c8048c0c",
      "477770547c0b4224ae299e16a707716e",
      "4c13d1b3c9f34779ad0437613df3066d",
      "75c4f968e6c4423e8d65f53872eeb36c",
      "0db550052c5046ffbef67a7fbd42bfa1",
      "b6734634c0bc4392ab094f22e21b7720",
      "7bbeb45e1de14af0be72eb52920e2cf1",
      "caee0c90c34b486e80c4a6fe92c816c5",
      "2ca8124f47c04052ac25f760e7fbf5f5",
      "df83537ba2c944bf9e9205866e7cb462",
      "7aa759c492f44692b3640d752de87ae2",
      "fda326ec2812431f8c1d6130d3d8476d",
      "22f5d96d75d84e3289ba2ed7039b895d",
      "94a790eba84d4cd9a421d418b52de073",
      "fe384ee7c4c04d9ba1a4d634e8418d1d",
      "60021f62d663441787767be5df212ac1",
      "481a968586a540678ab0812d5084d878",
      "0a579aaeb7bd43cb834520e34e2e0c7a",
      "ce53668bcd7f46c4b6ee3c8f577eb814",
      "7fe46a8ba82a41dea33fd8ad6f3fd92a",
      "1b8d8fdcb3d8482c9b59d3e67a112089",
      "bee0680f5ad247e59cfe14b27aed59cc",
      "963028655d8349e1a985e5037302f5a7",
      "72c8137c96a245879af99b7fa0838762",
      "ae8173fc0e7e4404a93b414b0ec996cb",
      "6ef78a282cbe4b94b0f18acb83a25d37",
      "795f1cd417f14ae9b53cdfba9c0f37f7",
      "eaaa9fd55b5e45f48e8fd424f6fcfc2b",
      "1d64802a303645bab2b2478e6de5dce8",
      "6d8412cefdfb4c8a8d87e13f3f7cd3a0",
      "300e35daee2a46b2b688dc2f79e5c2fd",
      "88abc776519246a9b4433d33b0bffe4e",
      "9bdcac49d02045ac8d955b6f42c702db",
      "286589f906cf4353aa40ab17af43e01b",
      "34832bb786e04284a2757584154a4676",
      "324ea0bef59a48ec81151a9136cc647f",
      "859ff2760b194680a42b96c3fba46506",
      "6a1415972d7f402aa4953effd8529abd",
      "ee7f0c2674e24f2da4db979e2e2649bf",
      "feebd345fef649e1a3174892c29a996c",
      "476281b6ecd846a9a2527909e2a230f9",
      "c2bfc1e7948f4d8b921d777f19a136e0",
      "09fa3a691d084a4b8909306211109cdb",
      "752fe0c3e8734da38a0bc3ca8c80c3da",
      "2e036d713345430e8af9d1a8b3a41d82",
      "9ac19ad0844346e1a1298a65fd13dd9b",
      "56f16284512d45f68744a305620d88b6",
      "8308f6f05e774be99e30cbfdef04f45e",
      "90b73a56347a464cad2a1a0e2de98cd7",
      "c4350197422c46d4a2854b3b5b3b51c4",
      "31c755faa7f84898ac4f421b01fa1582",
      "205d756246cd4d56a2750afc06e0e2a4",
      "ef91a5156d154aaea97a85ae5852af96",
      "5fb7e161a6904d2fbb43d9e52efe7b2d",
      "f93820a8ee2f4966aad5be1821766dd3",
      "d4d053c9c9084065b61ca4b5df6a3698",
      "dd4c57e0fdcd4c3bb53efee7af1e9950",
      "3153bf6f1ea24d49be47e19c7674b306",
      "5a9f0bcdad3049df88ddd38990b1b078",
      "6484a16fa6a5418697516c3d47ccdbb7",
      "ae48feffc1c34e20ad671cdfaafc86d5",
      "1d89176c142446019337f28b26cd7b9b",
      "79f2a5283c93411c9397cf24957c5eb4",
      "5b45029b3b5d442088143831e4096eb5",
      "29ce53dcd7274e3ea71649d4b0f66184",
      "df34de4d26414eb79f366030c88c0ab4",
      "e5568297721b440c929ea696cc093463",
      "dee99725546945c5ad914423470bd5b5",
      "58e1bac33ca64ec09efaa48a90e3192f",
      "602bda21a4964168a3be131b11b5f732",
      "0c1f857ec9144568813d4d239c209376",
      "0e2482459beb41dab26553d1e09a6eb2",
      "9c96c17aa2ac4519b96f7205707aed91",
      "99c672aa7f874795bbbf33e4987e692b",
      "ab4b5496a0464caf9375de84708a71b9",
      "c10b421d67bd4905890ceed0f11152d0",
      "6237abcb305e425f820cb15699b46e51",
      "5b82c89cea194077aa9b154fa9480bb8",
      "c46d8fcc70d34ee399e87244b1a0f0e2",
      "9734a052468643eda540db7e9cc7fb22",
      "5423dc7fb1a443bab1dde58c722dd594",
      "c142fce8566b4a4dbf6bd10eb8aba532",
      "26f8d13cc15e46b5a3afec803eec17ac",
      "dba5a5d95b274cd0a30e546353c8234b",
      "538456a87ff14383825013e8310c7d0f",
      "4c3d5946de444eafa47074fd24347837",
      "41aadcc95a5047b79ea64bd4d57e3c6a",
      "2e6cc941716943d2954b7b167de9b8f8",
      "432fdd25edf047cfb2e6a859c980af12",
      "b7714db5138749e6a8980d34a28c815d",
      "ed378c4be05041e5b52d4cd3a6f83f1e",
      "12056f0993bc4285b69d2138c67221bc",
      "f5eeddec5d4c4b78a4de5baefd6f5249",
      "56d6edc6f03e4ed18c1315c4e683303d",
      "81b2fb6893034241ad1264e43b2bfec2",
      "9d1ca2c310284f21a07bcfd065f30c8f",
      "e0deeab8a2eb48e4b35cce1613036430",
      "a5d13a3949dd4e6c8e173414abb78107",
      "a3bb41b6ee7c4e429aaf8aeaecb051c1",
      "7b58a92122b3481faaa261c6892ca1d4",
      "a4b3e81deca54abaa4def00c76ea3b5f",
      "cfcb89cd07444508b0693f95df4a9301",
      "20e3246be7ed46d2b1247f42e27619b9",
      "fd2071d4a45142379eac50ea6a5343c9",
      "106b46f43be547f4bbd8f9cd37655241",
      "c8a24a5581e747699708fb48e0b74719",
      "b0e06870708e4252a958929c39703590",
      "1f8fb9c3b89b4cf4bd3de90745605fd1",
      "ca70acbc8faa4f5cada0bd992fa698e8",
      "9646eb5b459248519eac122e4a4698f9",
      "7b8a226485984e9eb671781804a771f5",
      "44b001e4f73b4c439f9f4511606aaa5b",
      "100632b411514965bf5a03b8e1544230",
      "cfaf09762ea046349c2b345d22d83da8",
      "0ebb9eb8848d4c1babc00f586ef56df6",
      "996b1a5435b841a29ccdc95bd2c08b9b",
      "a4ab69adb397431b977b308d27bece73",
      "8e122f463ec7427d91b7178f7d02fb8f",
      "c6672f6d885d4d26a540e135c721282d",
      "bb430ca45758471da8af873933490c21",
      "44b0c5c1ed3c48afa693fa20ea819bbb",
      "24726ca845d14a6384c63e73f3b5a265",
      "e78eb4150b754430860ec65a17911240",
      "9f03b12f16fc488488ba13b83f5e6c63",
      "3b6fa2b3ac874a9cab84c97724c1e1a8",
      "871bd88123994d40bdf434c144f3d8d0",
      "d79c32cf4205497f9fbd5e979f7e94a5",
      "8f8b00f643194beea244b9421daaac63",
      "f5868034f04f49b39e9b7929e8f1041e",
      "fe5924b61ce1481b972a38aefd3bc196",
      "d5e47c8edecd4bb19297b98c37a3a496",
      "df15e016323242e49aa2eaa857f7016c",
      "c9e02cc3485e46feadc1027778856404",
      "cb91595d041441d08609d90958a8dbcf",
      "72adbca675b241d695ceb9c26332d5cf",
      "f8063aa654ac4774a88ba1c39c4f1883",
      "48be27cc9d8946948363adc306bd5273",
      "4a962f337fa146399271f01ecbfcac91",
      "b1c8afbe022642afaf9ad21e8f893845",
      "da875ed9b94b4f599d862916c54e4b62",
      "273039f8040f45b9935bd8a5d59abc6d",
      "092c75f4db6d4a8c99023465da46846b",
      "3753148ea4a947f39a4dd9cae9daf606",
      "4c30a7d93f3b4e1f99a48927adede4ee",
      "00bbc6c4a1f64100b3ab5960f5c328eb",
      "8a544af83c2948dba19fe22a9b9595f8",
      "8dbdf0eaff3343748cd8e7bea37febf5",
      "e0eff4c8e9384bd8bb3e4cd7e92eac05",
      "c309e037b6b841d99749eb425f9b5d43",
      "d8684d1d25884360bb0bfbe470cf8526",
      "a4bcd430346e4a6a80452dc99e3b432e",
      "79d4a40d6535455a9d6b63765df77bd0",
      "1b2851c0ca7f4391a03639319a5990c7",
      "a5ccdd4c84634757aba20a81618e54a8",
      "c7afc19c72bc4fbfa1ca40b117d1e96a",
      "a13b2b6b143b4275b31b48708f101f9f",
      "c7dab15d40ed499eae7b38e7fde50d8f",
      "2a49ca7b644948a1b47f76b83864c598",
      "08f394fa44f0437394decada46db1507",
      "e0568e35e082410dadd0177b403ea78f",
      "dffa6731c3984026a81fa5f2aaf21c4a",
      "d2120c1330f24d8cb03bbff54e6be2e1",
      "b72ab3dfccc94798badbe8a18cfbb002",
      "14f6029000d844e2b41a5e96391686b6",
      "77e6ba9ed56e401d946eccc4c8249f9f",
      "cd1e62224a724c69bc2a0efd46fee03e",
      "2ce81794b1c541868b56193a89f6adb8",
      "08ee09b286b143af8b9bb8a8af01eecc",
      "c7322eff037b4dd38390bb1f44c748b9",
      "3bd7ba6d43384e8ba0c11428c9049c71",
      "2c7518b51dde48418c3ae344236d05d9",
      "673697e3f1c84538a166374741f8f47b",
      "79cddf41a479480e8598f63dbb1e2017",
      "fd4b9a147d094e5c89b2ef57aa5b5d8e",
      "59de95ab6cfa43a9bf699600ae743301",
      "e47a710baf8a4919816cff83166026f3",
      "8341f36bcb7543358230c92922e9d87b",
      "d20b5edae8ed4225875bbd30d4055c53",
      "9e58ca4c0138449f9c411deeac49747c",
      "520e124ce07b4f6dae5e00350c76f852",
      "cfe3fcee89d6424ea526eb047b2d65bc",
      "36fda75a496844d489d009d75d99d3d5",
      "b6803c4ced294470a112bbf98bfd6250",
      "5a845bebb3f348a4a37fbbdb19019804",
      "aae5d0977a7241b2b95166ce28c0e588",
      "bab23b52ccac443c8c6a373716a805b9",
      "b248a469daa04c25ba576eee318787eb",
      "f6b031e93c8447e491c63ae722fa85d6",
      "fd0971a64e8941a484e3d190c2771da4",
      "68636dba9f9c475eb88ddb073788e3b2",
      "f5051c9f85fd49039406ee15eb6a56b2",
      "36255411933b47918addaae479e2d11b",
      "0e4f6991a3ec4dde8f21293cd989ca4b",
      "4dc3d9dfc08a49c3bf1b5b2e4bb30399",
      "384d0305392f45e2af8b89939fb5b8ad",
      "00275131f3d54808a8f093eebec2e3fb",
      "d083f9da102249c3bb9c4b062a1898f5",
      "922d723b03ca4661a200170064ee5768",
      "5e3903f22623479bb007a71f58bdb91f",
      "da5433fe5ed54b5d9c36fe53d0549c50",
      "6021ba7de672465caccdf32a2ac09b0b",
      "4c1de1fb01eb4f61986476a1dd620afb",
      "7ba7d1b2652a47e7b2cf5434a22c2671",
      "c98b7042580b4e22a7c192c4757eabbc",
      "4b4f403c5f744ff295ef6d2d1a5bfc44",
      "34bd3c93ae0d4f4babfda2faedc558d4",
      "594ee6c725c74b09a9149a3eaba0bdd9",
      "0bb260037e2f48fc9086de7bc6eb0a46",
      "a9ab73c1afe348d2a50fd0f25f1dea2b",
      "a1a99547e0c44c3593f267a61177507a",
      "db4338655ac84a6cbd2bf3b9e2ac78cf",
      "95ce8675951442ba86c5aa0dfbe2d638",
      "7e05df50dd0d420da9ecbd870d8633e5",
      "a592f5536261433b94d6df6ed898ed42",
      "48f096a2a35c4e4b9c992e93fbda9b4d",
      "820857b06cec406b922f623b0f82ca37",
      "dc51386e197d41d0ae3528070bac1028",
      "52f22402beb6468497a34a0d5083b086",
      "35da56b6ba2f4f7aaefc674458ccee0e",
      "35b4564ce9c24a3080aac52b482d74b7",
      "9761685728f84209917f17d7ea725201",
      "a98123b94db942af9544a080b3ed1dfb",
      "c17db968a50b42b39d5b8090deae1bae",
      "6eca4d5297174e75b5aa4ab72277b865",
      "37dde32fb70b4d49920f6717e8eeaec1",
      "2dd8a3452d05485d8f61ce6849d302bd",
      "9d29b9c193d24d0eb594d87011d0afd0",
      "51c569d9fe7f4ce48f106f1d08088c64",
      "ab83bdc501d24bc0a0aee1312b93177f",
      "c5dbc0a3bafa476cb5f46dc568e67c50",
      "4eb9dd1c1a36439eaefd2ac682fa24ff",
      "6fbe3d58e5644a93821498a8bd9633fc",
      "7a68cd963e0a4b749954b9fe8ef4d966",
      "c3bfb1a0aa72415f953ecdeea34c5338",
      "17b9afcd94f74798932ce8ba3d3a76d6",
      "b88db22351214cc3982cfb87d891ffad",
      "23cfdb75cafa435799f8f6c2fef99601",
      "1696714841f14f449a2a41e225d7f7a8",
      "b3a4f3e28b694d0db3f4ed0502109d38",
      "f33a1db08e2046c695e9276263657a23",
      "7fcdc650c18c4517843a53588a253eba",
      "412372109466426f913fc2963c940fe7",
      "7a545eb69cfc4117a78b0f2451828845",
      "5acee89d1d7a4ec8a96fe482480a6ece",
      "4ee297af53494d98bad5e83efcd4939b",
      "160b31a12b774eb0a6b574e35664f6dc",
      "0a5dd41c8f2346768503fdf744bc492b",
      "d28f5851daec4d7fbd2f62052161a567",
      "ed3014550e6b480f903a106768b304a1",
      "5e6080dcd41f4c90b1b7cb06a59f60b2",
      "c536a992f7e944f8a4a5edbbb6d3dfd1",
      "eb1a47f286ae4789b2731318c867ebef",
      "fbbedc5bbd984bd2bc3ac7283692b7f4",
      "7ce26d8d12eb41e3b85aae707622fe7e",
      "b8d7cfc1b5874d5d9846526043e0b819",
      "9f2b4ce1534a43b4a0505ed0ad865fde",
      "b425ea3aacea47dcb087b3266fb50574",
      "36fd35caded34985bbae87a030397889",
      "123178233870486f84479e26b9885320",
      "d430f8e370584ba3860cc7f10db9513b",
      "14d2c832b44d41008a59b8dc10004565",
      "a0071bc0ed2d4486afdfc3dcaef84214",
      "c9b04bbfeec44069953a8ce3ecba4382",
      "84c8323c56154d2a947ee3589698819c",
      "8147bb4af3f746d793ee9d0a89a82fa5",
      "f5b44c69fc8e4927acab13f67e513040",
      "3942c71ccf3b462c9337d2e15fd1c952",
      "73ac249219f1413b9120c68da3f0ee24",
      "4007099c1f234fe782444ead79204a3b",
      "45e892cce69a45db898c73c2db8b4b28",
      "03cd268fa6fc4ccbb7e27a5119da71b1",
      "0fae1b0baabf4607b905416411b229e4",
      "0ca1505d56664a25913efc026580c9ae",
      "7ec2a19a70c146ddbb82ac4c3207307e",
      "9735d48e80bc4cccb6001a7e1fb42a39",
      "cd0839591f3649fba75d0ba8fd1f98a6",
      "9d6217f37ed544d1b00c757dbd1ad4e2",
      "ca110c0e70084fe594a8192215d1536a",
      "4f53f01b8c354b51bf9819a8e774b12d",
      "8b4be52bba244aeead2d0e25117efb45",
      "a68bc0c3343b43299e16cda66e4f7f54",
      "c8a2e3a3e464414da160b564be287061",
      "8de80de5798f4c10a559e4c796ebe93e",
      "527a06e4de4143c39c40fe4a8045840c",
      "391cd9b1f1c44757b3d1662e38474500",
      "9d09135d4f3d43658ef85c6daf2f1ab4",
      "e5a8dac03ef244a18c57078b9a9a8e1d",
      "9e8764e58b39431b864b579d48fbc255",
      "b7f8368c41a64e558443a257b89ff07b",
      "e0df2f08fba94304bb9e5afbf42c8aac",
      "6f29be2b78e54dee8406fcbf8164af60",
      "eef2bd7666f84e7fa9ad047cd3720374",
      "1e86ff0866b24d4eacc2a63b8ae0222e",
      "c046213a9cca4642b913e0205570b1bb",
      "79f3edd493b949cbb38dc51f975971a4",
      "c56180670ce042efbd1d7cdd6996f579",
      "a6c3bcaf3eb247dab31b6bbd4fbdbcda",
      "0ee3b5ee36be42a4bf91dadab093010c",
      "a69064859648430fad52b8d90e34e932",
      "e456d842e4634a75bc90c6a871bd1bd5",
      "e5ea78d394064d14b742edb3ec051a0b",
      "6adeaff4734a421a9f2fb374bac116f6",
      "f1ae9f497468454ba0740a0c52d1864b",
      "01d98046340d4cd7b930b9ed0df87143",
      "e7cc581d23344a95bb89578c19b83cd0",
      "8acb7e4e0d79494fa18090df8de689db",
      "1ddf5296585d46eeaf78a53c262b309c",
      "c41d9a3bda2f42118cb5404f2a920a3f",
      "d76d171aba7e4b51b88423dbe21499cb",
      "350ee29063594f2b8c2a46e2c54f4bbc",
      "d4c79185aed84657b9965b9866949291",
      "4572ba81c62f47cf9f0bacea24c13489",
      "a1df7834f17c41a8abaf1d60a762a9ba",
      "7bd790586db94c4d9fb6eec414094057",
      "42b04d1633e448d6b9aa43202059a034",
      "6a319082a089486cae894e9b316c4ae4",
      "eb22e69247a0419f98f5281b923f8c01",
      "b1e4c9f9a13149f9bf83561c317aac2c",
      "8a005423ac394dd79e1fa70173408c65",
      "fd1fff5ec14a4477a69b711b80920fa2",
      "54804f8dff0941ca8d318b38a18fd177",
      "2b456e523e524668ab0c0321e850308a",
      "45f5ddd2c93e42da87fc0e102cf261bb",
      "7dcb681d3c60426d8df84dedbfa4ef3d",
      "91aadba5399543fb8d7b7d149c38fbea",
      "f7a4e3cad0d04181a537def2efa1528a",
      "3f97e4409ba14fc6902f839c31ccb095",
      "1b4d28da7c104e66be94ff23a5105959",
      "1001114d668e40ce98c1c177ccdf5e15",
      "67a377ba35ec413bb4eff44e304ffe35",
      "66e7aea1d6074159872070983f4d5f7e",
      "01b9b6d8d2604229bd20a13106cb84cb",
      "4848a87dc2b947cfbfec6e6419ca98db",
      "9517163c12124026b1077e60f040a3ac",
      "2607876f91044f5486e6b72b647db91b",
      "a07b5b1bff6942a19a468fa0959b1874",
      "7c4f738b0d754470a88a9b53f9f73e7b",
      "6bd7d1ddca894b3890ab536464fb57a5",
      "810b5aee2e9e47f28ce1d42802bdb86a",
      "89fc2436aec64843a75e19c1ccf4c178",
      "338c51189e1a4f2db777a20b8996e935",
      "e804b39ee434468586fbfa11246bf777",
      "e507395b640a4a8a98846ebe3c1f7fc3",
      "ec75d9f6898d40eaad27cec0458ecda1",
      "0d889400e3694d1598518628e1741b94",
      "ed5492e5db614521a1d1da2d8d57f39d",
      "c520e1be81fb4970bdc1d9cda7bd761c",
      "45e7cb7f2cb441689afac78028902ae0",
      "302769f197de478aafd5cdf967206be8",
      "5cd388f1c9a245f3a75c5a805855caeb",
      "2b3dce2921b24db9b59101b6991da11f",
      "799afb98a69f4b6badca97e7c141b761",
      "3f0ae210a4ce4109a0a9c7c2dd06d026",
      "0a50f11d331d4f2f90240dc58dcc4fa9",
      "327fe34676ec44fa8f0e74a2b962f8ab",
      "cafcf83f1e28410ab285233bedf50c0c",
      "6755c6a276034d469ccd0d324c177a2c",
      "5355dc38feaa4caf846e4a122c062539",
      "94f3b937266e4a129b892b2ca6d7dc71",
      "46b612167bbe42b28ad539f936dd7fd5",
      "c9a6880f329c4e14a96801f5896d1404",
      "88af8f9572314bf99e340fc7bd4f9c4d",
      "df8287c90f04434cbbf9a7ef93bdae61",
      "93e553376952403085709e6445da1fdd",
      "1015a46f1dd647a3a4ed9edf7029c45f",
      "75b431a330164b4ca2f80d66f8565827",
      "d2617b53efad4a71bc331b93d2611352",
      "0026053031da4c3f87e38aaed7c8dd51",
      "ace7391ea5794faabd9dd1e239e1e65f",
      "fa07a8c49b57411da01e09aa6e2b92a1",
      "15bc0109407f41798f408307f5652a24",
      "d52b2c9f88b54c7e8ae3d76bdb064eaa",
      "d4f992d1834e4078a393c53f675eb3f0",
      "73c13244530745cc921b2f2b51ae909d",
      "541587bf1a164027aa73fd2f092b58d1",
      "23c874bd78ce4d7195dee6f8a068684d",
      "9c3c88b5a8a74c7784e0e3685e3e4ab8",
      "4db4a6e84313413a93fc2d08d64db777",
      "9abf98ecb93e4df4891af1f8d9c784c8",
      "63bf5a83ec754e4e9c86812641b229a4",
      "720f0f797218425b88c822a1e8e8b7be",
      "ebda7f69649e4e2492a28573eb14ca95",
      "fd6c91d98cbf4f98b1d72540984d01c7",
      "9a3aed417718451f8a70da984b5932f8",
      "8897816c570c4c44b4c2835e29bdf8fd",
      "ff53951ad49146a6a663fe52e06f31ef",
      "b274f145cf014d4ca662ccaaf228f785",
      "7f803839a3954b9d93512cda318ec9d2",
      "a2e2d508058040eea0de1e48a513090d",
      "11104defb12b4049bc54e6f64393a34f",
      "7a5e27cc054a47b6965b9ead0ce7c5d8",
      "82d912365f4449e896125a93cec053af",
      "ecfbb71198a84f17a6291d4b2b6a23f2",
      "583a9ae688f64816b540cc1aaac24e44",
      "155854ed6b564a24a6ffc650a08a83c1",
      "d050faeb287149f3918495e63209fbcb",
      "19d589542002419f8370cdfede0eb5ed",
      "a21fb20a4e104108ac5dd6599fd51a77",
      "1c80c48b863144469f632d3f0af824fb",
      "88ed7f20fb954ae19ff0a59ab017892e",
      "78fa5db228a84586bf319478aa1d1eda",
      "6c156129745d47ec846354afac469ee3",
      "1da08ae3bf0a46adb581756286d3f295",
      "34a9828a59c14d998694d2c013b23aa7",
      "8031caa111a74b148d9c5abe3a75d9e1",
      "27ff3e2fcd4c4d70b52e988e7519871d",
      "c3bd0a8d4b4d4d75b52e3cc274cffab9",
      "8b666b0aa0624d53b232d76a2e87cca9",
      "ac033c03df8240f6a23f1277d31e5ce9",
      "30032500b01c4017894be5274ff80df1",
      "e1b7be0c02a24af88a9cebebe3424509",
      "4b493f2a4ab343f2ae67ce05f139cefd",
      "36e314e172c7431a9b6574a17cebe5e7",
      "c205e47139814f208c26d9e4b90cd9b2",
      "6ae446492d934595b882d77ab9aa9287",
      "9d5e8da08c014ec68724f726bdb8f67d",
      "1cd971615a2d4f658a6bda0492997ea9",
      "b4a7fc5d34a24703b3313f9f3f579306",
      "2ae786d3489f417b82b792fc3aad2770",
      "1764d539b80e4375a6783c0149a8bec4",
      "8bdd77db1676458b933a5878239aed9c",
      "0bc364fe9d2d43d78fc41d6f69f7f145",
      "fe31c6ddd22145dcbebb0ef59850d44d",
      "6a010d705fb64affb7c7cd17c3dac4cc",
      "d236e664ffef496ea7c435feb0ba2c65",
      "429c0442f4a740b58698c54c7f84170b",
      "760cbd797e9644a5b0447982760d35a8",
      "c0896b34c1b34c60bfdc5919e2fc91a7",
      "72ab6fac824944eaafc391df935ffa41",
      "ce63eae01cbd43e3b37f081731171825",
      "d7e72c464aba49eead201e664e07b2f7",
      "1ad93398a8fa48a1b10d97dea50319a5",
      "0574013eb81b4b73a8dd6b4800241e3c",
      "511a181359244fe19963e4e7283d6b63",
      "f3fc4ee6efb04ef8b190510e3c8abc6c",
      "f3575a8bc22244ee84cd53d886efabea",
      "ee2d77e685284fa5af9d7aa1be1dc31b",
      "6f0180f1e3bb4b22bfc625e148a6fd90",
      "b600e110cedf435ca6b78ff8b3dcc98c",
      "deb18831ec0848a490bc9dea352398e5",
      "59cb6ee71d8f4723abe26dc7fbff02c9",
      "ef730658343d463fb9bc5637535cabde",
      "9d16cda158fa4927930f0193c50a9c3a",
      "c944484056ef4414b8e18ffd528ae70c",
      "cb3bd637c89944c68351a9ea9b462448",
      "866c9cb7efbd4cdc8eddfdc50cf84074",
      "8a753dc389ba4ba2859c6854f5ba9d1b",
      "b19e13634e104819a8b03898106dff78",
      "57c6cdd75cc448c6921832763693847b",
      "e3915a56411a4ed082a5d98b34986fc5",
      "f3e735a330544fcc8f4e4e8a8c9dbfc4",
      "fad81044770d4fbd9c1a4bcbf1982302",
      "a95c05b353014329a53d49b9dbc26c8d",
      "ffcb763862b040919f4bb9e4ed369b18",
      "230889965a39410483e7387ec0de4bf8",
      "f3f100646acf4555b45c552b127e71c8",
      "5b3fbbf383ce479a97a6d704c10ea87d",
      "39128657e4a041ccb940b0be4fee95eb",
      "b64272d553e140b895e4f2e20610a100",
      "53af81021b314165bd54ff14b8e7d088",
      "7e0b481840e9497193a0370b8f510066",
      "33cf9ff6034a400e812bf336632fe5be",
      "4d26cd91a8b64db784a9736ef8114fef",
      "5f57aeadbe5a4ec3854c68d2e3c9eec9",
      "d9eb0adeb46f46728bf1be6c2678bfd0",
      "9c76701de0e243fcb52de3dfe011bbbc",
      "c4fa4f6ab51747f08b4cc865704d874a",
      "8760d3b4e9da4721a5628e43abf7e0be",
      "a68079da9c074fe0b8c84153c39d47f9",
      "67185456fcd24fbaad2b463a229d6311",
      "1337f269f812485698c7c9f8f1654e8c",
      "1670cf20f0174a25a919019f703bc26e",
      "12e54f3ee0694713818edd2c7bcef054",
      "2503ed3890804a2dbcbffbfca93cf9f6",
      "66dabc3f1000483e9336030e4843fa34",
      "d74dc49b40504837a002bc62200e4cfb",
      "e66fc0182c224c699f541cfe1dc6337a",
      "32b1ced60d0743bcb0dbf78ed7fe02c2",
      "b146e4b24e0b46f9883fe396ca41fb33",
      "1ba79893fe7241a0bb9750e23b17292a",
      "bc68c34b4bc740279c5646a0297ed6fc",
      "202e548b605d4656bb3b952556e653fc",
      "14bdf8bb7ac54a00931770870141ff01",
      "98925a9ebeb74a01a222947aeb936f9c",
      "04396ff146d749cf9275ace2ff3b2a5a",
      "42c3f8ee48ce479699fb7889827dbeaf",
      "6ecdccba16b9492b85b496f48588b377",
      "913f1618457c4a5291d0bfc4b5b51932",
      "d4dbbf65d88641728a5ae7c30c168bd6",
      "86e338c283154b42a6b97160d6085456",
      "7e16d6cfbafe443bb5619de5b8f1daf7",
      "9ed5c4fd2b5042b581eb9f15c9b6448b",
      "a9700ace4a8f4aa793f7426d974e7816",
      "5163edbd702a4bb58c516dfca7cbe659",
      "e898c4ef00c84db28e3ed0411c847400",
      "69738d8c566d4031b00859bc15bedc14",
      "450e04f7d4704a1288ef8f6e9cd4c1dd",
      "a3d2255c1f9f4dc391502c4fc31aa542",
      "ba8b49ff8091457f99931c5c9091d4bd",
      "389839609ff1461991bfd548b0e5dd55",
      "92d215bf16d04a128a94a74e7ac12695",
      "b8bdb26ebc8b4875b32fe485327f3926",
      "84e5dd23670c455e86f2703f450ba020",
      "10ba2f07e0a446eaaef0842d8490a2ad",
      "67cc5dd97852495382c3f5420f12419f",
      "726fd0a318fd4d25ae9ad9b666f5e087",
      "8dcad8aefde74b0a8e9322517c4cdcc8",
      "35c05af7479244d28b89bc3c64e2ad5c",
      "79966e31e23f4f79b5400bd8acd2e037",
      "224a36584ad84ccb9247b50abc71e295",
      "a938965e95a146d98ab7d84adfb97482",
      "06c5fa358c4041928e4d34585b7616d6",
      "3349576c7f6640fca55162c12f3c2306",
      "05222108bdb84fd6bc1301afb0816a62",
      "9626c65936bf4f7499f954c5baa74dc1",
      "1be24c366f8c4b1298dbdd3ee95e8ba7",
      "1cdd980860c7463db4e9016da52aa045",
      "d8324f6b40b14e00a895bcf75f5c63c4",
      "11980734f3774fd6ab95aae6482a8c9e",
      "202ce0b0f5f54b788d3c84a4cb8132a0",
      "784b8169120145e39bde6a55939ed206",
      "5f37aa3e39564287bd60114cf6dcb9fa",
      "16cf9752a3a94d6397e69bea9fc3512c",
      "f82afc50f6884e33931d6f701f3c5446",
      "17fd3c0133374587a7159a0ca34e9164",
      "be3db361fba2437281037f55e00a9330",
      "f94fecb6d75f4f54936df5440ac4915b",
      "225b8c867290402eaf77671275b597a1",
      "675c720a426140c9ab9da44d1834bd8b",
      "782f5424fbae4a26b849a460edfb0947",
      "9c2d7b28d2ab4c28a4b6fa81bb4507a3",
      "40ab1913ca58483c8aff541905c70640",
      "edad665f10ec4f6e980af8a1a571e794",
      "ec148175fb234b009e78d97f21d9f3d7",
      "d996975a74ae4ef6a9b2437b6bcdd6f7",
      "7e1ed0ffc30442d28db12733a68ead44",
      "77127da0871f40e4aff28f59e8825720",
      "447233f66fe4454bacdf39bbf9ce44dd",
      "6ce326ac3e594871822a7495ab415838",
      "cab7776c54514420a16f0db93926c00b",
      "ca4eb9a8e4524bb8ae549047a9d58ee9",
      "38447dd12bd64b0c9c7ef089acf04e6f",
      "cd16eb2f09f74e6cbb52fe806bbf21f5",
      "76d840e9297d4c9685762beda48adc46",
      "eeaa5b1630894b37a90b5a6e381cd92e",
      "2e268a7fed024e4096c91d1d370f5b03",
      "1c331c0b518d42d787a39660238671c1",
      "d409ca628f054f178a565a3b81cb5b3e",
      "f772c7fd9b4a49259881828bf400cbf8",
      "93d658b6324f496798df246e40e40a79",
      "5d724232d3204c54b49e3441f77468c4",
      "85a4a9fd9d50414fa3ca156257ab057e",
      "812eeab80afe44c28f6a36fdfc977505",
      "98008770229e483ca05740d3f840f530",
      "6ea001167f6f4c50b3698b7193edc29e",
      "00c0e57818ae4c2cbcae2d76544d2171",
      "d6b4adcd4e8d4fa98aafec12f640cd65",
      "589a684e13114fd48a307593db462b07",
      "f9d81f96aef14a58b2ffafb4a50511a2",
      "f3e480065e744702a1e9c9cd6cc678ed",
      "53f3a3ddad4c4c5d99aca774fee02c65",
      "945c4aee9d224d81a18ea4c8eed1a758",
      "836200c5265b4c8dbaed4bc3ea91b94f",
      "3ca9328ec98e4904b5d05abc45bb295e",
      "7786dcf8222d45b5aefe35ff45c4c32d",
      "70c8e93a0dc54866909c8a2bfad4e10b",
      "5eedcef4b026413197fb719c975245e4",
      "add87d30472b47359509030fe5808e72",
      "7a3463eb3c7c43ffa12e41c1887371b5",
      "e56c9ca6d6a246208085ab55e745224b",
      "e8ae60920eb24b36ad601aba824bc2a5",
      "ae5279a4f3f4413486a10c109e1f040b",
      "ba76d98f51284104a40082c0eb732ac9",
      "41d100c53ebb480d847d4be43ea6b23f",
      "43a5a062a4fe48dd9e0de152bc3b69f7",
      "55d61a89bbf44b4d907d9f1e762679a3",
      "019fa20b5242400893772162547818e9",
      "0581d4fefce64be697c00aa8dcd9f30f",
      "c709b39be801492aa3b1bce0d554211d",
      "32045669c2074337b28923a2196c7565",
      "28b218b290a1432280a37d71a128d148",
      "da2b9cfe74f44d7480cdbdb389650884",
      "0224981cf1f74bb0965b1707e6dadb28",
      "c8d71766881f4ee2988b236728f7541f",
      "ae46130271d24e8fad6c1f65e7c13012",
      "68483a61406249a39bcee5041bccd2f5",
      "a1e920f773754b749b5e36437e302e91",
      "af3acaf6cf9d47e6979ddd32fa3ee413",
      "849990c2007a4a81acf9227ce8bb2f8d",
      "732efb9973314c2d8252031d1d2b1d27",
      "a2bb9b07ead24175b14c719bcd6c0a37",
      "10ca8c59fa534034aa28f20b9d781aa7",
      "17ae3d5dc1bc40a6ae057560795e9943",
      "92b8e58fc432402e9042dc66c0b6f372",
      "d02d0c1972294d3d95422090f7439d9c",
      "2fce3d977e0e405ab71cec42f567bc26",
      "5578dd10dd4f42e1985f4cca6429e6f3",
      "c4db0817ff374bb98ee2a89ba01e86f3",
      "027f7c36883c4558a7d4641840a21eff",
      "25497776d6214d019a87c75fee1080f5",
      "d2fc6b7ac7304b3aa6c01247c02d934f",
      "5380b5e77a3745519af1f23a54debfd3",
      "66f2c0fb9ffd42d897d90c4590db2444",
      "56e83d65ccbb4b928fb9f406232c519c",
      "b8989a99c9e04edda3ba73b352dbf478",
      "55987520b2194ed7bc1e59042254c7a7",
      "52f91e293ed24e7eab22fe787b38f6dc",
      "3feb56c7cefe4f7db7b28a06a8d34dad",
      "80f54c2d53b445648fdb0c12d1e0255f",
      "28e66b8d0f9e401a8a213e260b72f34f",
      "9bcaec02310b4cb0a1adaf56d3a1f218",
      "462744fa30104e6fa2f88c6a9b9167b0",
      "5472aaf129204ba6b9b804ef49a43364",
      "53751f9a95ac42ee89e69dc723531cff",
      "344d8a2a010745778eb14061dfee81ea",
      "36cf049c127e4e02918322288612cae9",
      "e541235be23d4cd6abefb8a5fd54381d",
      "3ee334b2c79f47dca6d072f913f8003b",
      "ee23fecd5f7948d6ad5fc2ff4c31a701",
      "0b34310dba04413c977097637fcba681",
      "0fe599936a4e45e0a95939ed56274ddc",
      "d5fbe318f78e4a45bb3623776cb0be6e",
      "50bf57826e494956a5d6934d44b090f0",
      "79ad570bbbcd4f25b3e1632e1ea64b8b",
      "09897ff354934a14b5b01445e89202e3",
      "519f071f98fe454a9f239a25a4608e6c",
      "63819aac4eb74f799a663a99f906e7df",
      "4c94ebb740bf49e394a3e867efd23318",
      "d413a9a667bf491186541cc72ef342f8",
      "64ddbfe60ada448bb397a9adfe2ab647",
      "0d04cf435459471d89d843e904d053bc",
      "309a7444b8454f589fd45615badf0377",
      "82d0940bf42e4a37a333c6b91723d6cd",
      "d0e165ab3808493d938133dfb83f4c01",
      "a465ea31cc85413786a820871e99d297",
      "87e76bd853a24a0280c3e30cf653ebec",
      "01fba4b81b4e4848b3b254b5b27f3c10",
      "9aba8478b21144c4a846072a8ac01330",
      "45cc2074867a449abe821a6b116813bd",
      "ad5d8390a052469aaa9e4f11b1855536",
      "3d8b5b0eda904f20bcd9c66cb45f2332",
      "2964fd64cf1a4eb79d8a0aeb033ed8ab",
      "eaa43611724e4666b3efece3f04c5250",
      "6b9e91fcfdd9449d8e87cfb38689f40c",
      "163f3bedc5ee4a939e273b83b9b96372",
      "2d340735d1eb44868cfec7144a99de3c",
      "b584ffe7e71249de8bc44dcaaad89588",
      "9475c35a1a8d4040b59efffbb4f56963",
      "1eeec609848f4f8ab91eab78ba49fd89",
      "0ce80fa06bef4c779af76883a87f7009",
      "1a75477337f648c7bfef6bae3206f971",
      "727d9fca3572401588ccc9cd8ebc8318",
      "8e634dcee1b441d3b6f1affcd8a5da07",
      "038c9915249c4846bd6f18502ac2e268",
      "161f5037abe24ce5a92aba171a4ed55b",
      "e6502ad7378345399b9be9bf91b5f35c",
      "fc17a1ee32594fa68d3ac22e7ac18f0b",
      "c83a698078ed4ba9b5716a859cbcb6fa",
      "be3c432176814e61826ef43322054647",
      "a40ee9b775224b6ca040117e6ffa71ae",
      "62c1765b48ff478187032f750840e982",
      "42e17986f6ac4cc2942adbe9638dfea5",
      "192e1d3a89a640d781050d594bbb78d6",
      "c26d6370a75d4fc8b8eb03670caabc26",
      "d1bf55dbef8540e3913a2ec26019c1c8",
      "d9ad098c4c2c4446847f26247c11ac1b",
      "4356e133b6c6451a984afe0dceaabd24",
      "1c52ed4d8d774ef5981f371e09afda11",
      "444f5476e28143c3a6bf18f1a3a1919d",
      "7fc23eecd10b47b0aa57254de26967b1",
      "d46e9dc356b14f009e916c8b5709a0bd",
      "afebc84bc8824d838b045152271cbc5c",
      "c72616328881402b80f70cc2e548aba7",
      "40677fe66c3e4f1685a17b5e87670f1d",
      "f4e980ef7b834b27a24281a402d78377",
      "d43dd35f15f24b08af5af4680268699c",
      "35b3b33513f84ddebb0ba203b0680864",
      "0611a3417eca4a678cf68819bf50e900",
      "fbf4ddb3eb51462d88b6bae490093415",
      "87899fa9d1ee4204b96d5c719f58b798",
      "0b91a8ac5dfa4caaa1dd3aa1b66b2ac8",
      "4ae0a883540541a8b0c8827fb1bf6eb9",
      "82dbe4ed05e3488480bc00e7ed030a28",
      "3579264f23d44cf88dc896e74d2cdf55",
      "5bfa5560c05f42d2939b785e899d67fa",
      "ba9903d6fa2040ef92b838973a034e57",
      "5bbb3270049549f28015002d61ae906f",
      "ea0df82638494754a481b28435c0d35c",
      "eb1b8c8a9f1841cd936bcebc92ea5af7",
      "5ee7eade045841c9acd5663f37a65cb0",
      "7c071a6dfc0045c8b69015db59807244",
      "1eba76f16b4f4abf990a456d9ebfc8d8",
      "89a54dda5b6142c5966172386e68069d",
      "418381f7198e4d1ea3311d95ce084da8",
      "1f617d930c444a6182b310e8ffa9a228",
      "8b3f2ccb75ce4d409e4acf49a04a3f3b",
      "b23b3667a195481490cfbb4fcba07a1c",
      "09cb73e6e29e4a9cb1080c0a8edfc1c0",
      "50359bca230b4e2d8163dabb1b3db300",
      "e874761ec86a42158d14653aea3eeaf6",
      "33fe71deebcd4737abec1daa65fbf55e",
      "e7448acf681548228a9a6601d261bb9e",
      "4c2f730c0b124c16b3ec73de045f513b",
      "10cd9783b31142aaa2db77304afe9f1f",
      "4cbf12cb0cab4ea9a1edff635430aa67",
      "4366ea7716cc4ccda41acbf33358b8d6",
      "e70b0e82dcd348fc86a99acd9413ce03",
      "0b47e2b8e9d040d5ac7c55343b28226a",
      "6f9ad3c1d2af4b0eb2f7eedb09d4f3d3",
      "e59fdac6b6f3425da041af8a4b2de445",
      "f929aec88cc349f8bd375d4944ff8eef",
      "de270c3aca4948788bcc2d6584c03224",
      "a3c5a037ddd64d9d80aa91a176171ac7",
      "55afbae2117146d1ac3d3f6e4d5ced58",
      "04c7c0a698ff462b95762150f53c67ae",
      "3b2015067f9645009f383a0bad4e25db",
      "d6b045b1c48b4b86ae2da45ba52b9645",
      "774e195b1366484bb9552f00c7964496",
      "d05b4021899a4800a3173be4d4ee001d",
      "b29304a23dd642b6ab55c3ac5d7882a5",
      "a1a512292bfd4136b2b8aa9d0b707113",
      "cd72365e5f62490095c04964fe556841",
      "764d33ccfc7d4df385a41e859b00c2c8",
      "9b581c7e760b4edebf79d4ea31527dd4",
      "3ea211bae3ff4ef088d49cfc44486d31",
      "fef57448e7554d51b459e1447c46007f",
      "9e6b5df63d264bac9fd6927dafdc2b64",
      "a58953cbef27476d8c1a2f2521c14518",
      "8bb7008e3ae14551a8fa75c0a72fc308",
      "0c623661532846969eb6b8ca2b8bce16",
      "854b27c9740e42fca90796173d1605d7",
      "8de53b00ced345a2801315b7248359be",
      "84de684a4cf04b1889596f9f79467f89",
      "d46cf4fd06404f1ab24dd54c3bd6e2bc",
      "5f3c6027a86d418c8c13883a4af34fc9",
      "712a7d5d59ab4a2c8a92861a5e0631d2",
      "1eb48d554af049fca5068be218ff3547",
      "a484ab31c1f641718064c26b0a192fc6",
      "8b3573510c4548aebf6c341c4ff24c68",
      "a7835fc15fa14186852ebbbf42476eb6",
      "44cb9987bd1745389c8449e2f8bb66a1",
      "a07c70e53d2c43b59090a0fa36192b7f",
      "57c4b2fb39db4bb494c747dabdee312a",
      "b7d68f3c4eae4af1bb2d5288e27065d4",
      "d95be42d517243eab259972ff669c4ba",
      "3476e6f6ba8d44c0a20c6298bd358ee2",
      "1800d84f72a74b52b78f0520336f2de6",
      "aa215af7dcaa4d11ba48ebff421865e5",
      "05a99bb952184ffd93c3244aeda40c95",
      "eec71e7346794ce282ae791ceff6b1ef",
      "c0c1cc1ddf3244ce988e23aa6d527299",
      "0b0488ac4d264bc4ab829061fdac15a6",
      "952db38177aa4daa82db7b7550074832",
      "107992b54c644dc3aed122c25ae3f39c",
      "52e9ceeb80ed4cc59e6d2100c29743b0",
      "50f13dfaf5c54f4ebf8da202578c2a9e",
      "a23a9df61eb14deb9a32ebe59da57246",
      "ba63ebd175ad46fba46a869861dc3f81",
      "6dddd977ca3b44d6a32196c2d30d3449",
      "efb9dbe1a9034b5fbd06648412852a20",
      "e63d121b89cd40cdb66c2191ab7fd40d",
      "8d524ce1708641d6a6c64295c38d065a",
      "bec0435d9f4c4a359285ceac7fe10ae0",
      "5bc74b09beaf45c2a6d57ce577b67dd4",
      "d48c828d42c64695a36ec5405937de71",
      "fb573e2b124549999e992924d9616800",
      "7b93ecfccd4e40478cc6367950119bef",
      "81545b4aa1df4aa280f24d09c97d19b2",
      "15c46d52c5274ed28f701ab85cbb74fe",
      "84d6fd7d888242aeb52133253f11318c",
      "6f0cdfd2dcea4ac0b6f1e18077f240c3",
      "ed59ac84dc584cc38eebc99aed6bdd9b",
      "9ede0035f5744c52b65fe2eb28572df7",
      "75cbd04a1a6945aabaef330ae3addb7e",
      "73ed20fe647e40ac9197730e992cbde2",
      "a002bcec226c4767af8b83a17e75a7c5",
      "d83881c709dd4cbba00e27b1f75201dc",
      "0a600a3f9ac54ba79a2c7564cfc13b0c",
      "3269d96987a343cea8f2fd352c880779",
      "b1d959d6f0f44782bfe58483be511bf6",
      "ecfecac7f3374d2189fb852e620fc76d",
      "167b67d572d64f7cbcc9295a28c19b10",
      "ae6d99cb09124830a1950e31540f97fa",
      "516b7dc463ca41219bbfa8dda26cc91b",
      "f836aeaaa6934ed88ec6951165ff4ecc",
      "d89c41a9b1ea45a4a5f880b5aff22643",
      "ee369eef434846f69e678494bced51b8",
      "41919cc9afca4ca3b9b7fcb6b510d40c",
      "41295d955ab2492182280046ee909d4a",
      "666be608271b444299c00e77d0ea85b3",
      "ea83507d2bf44674b24ca53bccdaaa75",
      "79e89cd874de453095a5c9ee62b1b126",
      "3918310f97624ab9b7b03c21dea47211",
      "1e02e9693ee149b593adf3bcfd050c53",
      "350db02272434eba946ee25db45a5500",
      "bcd8dd7035d44ebeb1e02eb2219b4bca",
      "4d2ab7567af148658f6c941a6ff3e28f",
      "961f8bf6cf154ed8b30aa92d3d2a75c4",
      "7d683d17531b495586f4dfb83ebe6774",
      "13973bf82ff846bfa1decc3accd1f9e0",
      "fdd39942b41e4bfc95a194eaae0c1637",
      "8eee50e3129a4d668e36a081b5cb7f86",
      "84f52adc8cc14896b6346b76753e59b3",
      "65b07f54eb9941c1bb5b8cec7142c6f9",
      "a03989d7ff3a4657be9460c5e914659e",
      "8a4cea8e9faa4d088a36c8176d3b78f8",
      "63f12c2c5e2146ae9f9279af13ca612c",
      "5c774ae664824ae08a99e5394ceabdd2",
      "9c4917cd35d343729710dead629d0062",
      "7b04e5bf9902406d907c846e8c3477f3",
      "f481e07b187e4498892ead8cf7b4fe79",
      "d6c0d42806684ae4a95064dea3729a65",
      "49d4b08dc0cd469baf4690301a35b67e",
      "bdebc9b43af34200bc5cbd72eb81927e",
      "278a199ac20343e49a7a754b580c6f7a",
      "812afb58a1164d9a92e739e8c33697e4",
      "b7a2279e34d44567923460215455cdca",
      "73bfc7904bb345cd98a23bda6852e0b1",
      "f805e70f17e540268f83d4451db2633f",
      "be0bd84625c44d5495fe45c4da636326",
      "ee0839fda5c5442790eb78840cd9a8ec",
      "dd4e0cf219214fa4abf8b90a6100b287",
      "9cd21835ac304b3c953f1ffe79562f01",
      "5c5745b1a1a9424ebe146fda28f926a8",
      "ae8843ab536143419aeb7e4d1ef060c3",
      "754bd0096e024a51889fdc06eb226eb0",
      "34898f43529b43689cae687dd311c65f",
      "ad186b37077443208a95445c1172cbb8",
      "dcf713c8c25441cd8e727b5ee4b31496",
      "3b92b1cad273474187ea3970413786ab",
      "cd1b7599a2654a359bddd7412ff31d7e",
      "472b0565caa84f7687c171401de42dd9",
      "9dc9b4b5a8d9409dbd7df3ed7e4e45ba",
      "55b5dab41f8c460b9f73a367193e33c9",
      "f5c6ff3d18754953bc8c494e1eb097c4",
      "76dcbf8b9a78422cbe81080b10f5f7cc",
      "874b793285d948e0a65cfaa8b2f86c21",
      "48bce70e036b4498835633c9915e833b",
      "a0a6dde3f7414c1d8192e8505fa227df",
      "8acd2531dbb942c9a90d2d276ff83368",
      "d7edfe17c7434ac7b52e74de997b9853",
      "a25591c0e4e7466d9a3f4200e928187e",
      "760b3eb24cbe4219bd6d4cd679bd6375",
      "6930eda2dbbd49b1a9259e8b2f999eac",
      "04713b54468149738e66b61d2ae8ed14",
      "cd1d93aed5c5402f86643bc1be86da87",
      "1400100831004defbc0cb01cf6420e57",
      "4cd99e93a1754fd88b358f425c10685a",
      "6c67182535ad45b58a4776eda74548a4",
      "8844ecc513244510adc955147320c600",
      "787544e7c59443caa6f8461188be39e5",
      "98cc47f8677a49678ad40ae554849d1e",
      "bccaa88751904042bc79e1c1e20deb1a",
      "97ca465c7562423788ea17cbff59c105",
      "913bfb4822d54607a92247ac87a2f16e",
      "f3ae1f02a32f4d1fa3224f3de80f91b8",
      "3975e86b2fb34059bc84ea3f1cdb6560",
      "c762d209abcb481c8d1b6b58684e9c42",
      "ce49e156fac848378b6a1adb522efedb",
      "dd598762af054c96a4aa11bed18b1e0d",
      "10e9da0bab8743d8ba323e8b8a6de859",
      "2623a53674fb4bafa5d60bda7c5fac15",
      "2722fc7fc38c4cfd9f228f71aaaa2b56",
      "09e797878fea4328819d0de9dcf6a8b5",
      "978e933c3a944b71b25573238362a466",
      "2a8c68be96e44384b50da80e98d6e9c2",
      "aa391e1fc4e947d5b70b3a67c2cc41ee",
      "126518ef4d5c41d8a4982621f2becbdc",
      "6612f81c5a06490782e2980a18565fd7",
      "62148477865947399315e450f998979d",
      "500a4d73cd1344bfbff8c63b2fd4f3b6",
      "3473b7e3a802411980986c238f1319e0",
      "f8503d6b96594072bcfe11f6cbb8d604",
      "2f34af71fc8140ee8d26e9f3e214d604",
      "5a87428c58a3494e9ef8a1e91083f887",
      "4946f00cda884d7cbae73bd8b91971b0",
      "f7f6311021114da3bc2b189ba8f988d2",
      "3e9cea0f35c84c6092949f61f2ae58fc",
      "be075bb3ef3a4012aa8cea7fa93b348d",
      "817691541c30440a9cc8bb0721f2771b",
      "1f8ea6bcfbe44f8eb947b79bec6726bc",
      "83fe77a3e5dd423bb186685967973b27",
      "fcca177be73249eaa5a554d28e019735",
      "7c05fd10f0344d86b5b8455d7d4d5bd6",
      "546e30327c1c4ade8a8439caf6bd6fce",
      "a461a9191d1a49afb6a5ef745d7badb2",
      "566766caf23e44f58aead87cccbfcf46",
      "49b561c2ea7147519314053d80984431",
      "f0933c5604194ab09de9eef58874112f",
      "8577d9e83c16491fbd85ae1c42907da7",
      "5611a0c154194c2faeaf4da74d9a3696",
      "ed5842ee4e0c45f493e1dfb93cff9697",
      "d5814613864745b98310d5fb9d23b845",
      "45a5fad2e11646f8bebfc1079faf5e3e",
      "d8fb4783a9734d51a9cb8b874e057188",
      "adf4457d80d444c7ba2a8d7f4062dcde",
      "6e07fe5e35aa4bac8e395104bab032ba",
      "9ae05821768540a8bd06f646597b5cb1",
      "3ded0be30c744aaeb3bab1d8b3696f0c",
      "6a0be4ac7c7246218e1f5e1378020dbf",
      "54b480cd50134d6e99689402dd8e74af",
      "aa6caef3f3bd4d34ae0edc5b6cf5dc5f",
      "003ff2a42a7d422594dd9ab416129d3e",
      "63f8da66eeb44ba1861576a8287390d0",
      "ddc85bd413ef462482b51cf84dce1697",
      "c417ec9f3b9d443ea5f946ca3106de62",
      "866fe818f01b4b34bba7ff012e73f124",
      "6b0a3d58431d4532a72e82e1e9db301c",
      "bbacd9b8575a4870b5a6f4804d0dfe10",
      "a764aa8f4c3c44a49b228ed7628dfdb7",
      "5b1477575c9e4e54949343a60e541913",
      "a50806c7ef364bc1a98432a8fb1726d6",
      "9782da52026c4e1f8ea7bf701d651545",
      "6208bccc432548d1903e53d7e580b14f",
      "5eb32b9bd6bb4e03b275bb3a99cb4818",
      "8ad8ba53dd7e416d92fc096a36dcff57",
      "679530c1a6704b2c8b5dc0e03d0ea4f3",
      "68a8052661f84d43aa1e8738a1bf3e16",
      "ae5341e256bc4aec83d05447762a46fc",
      "d4d9710d99db41c1abb8af600cdc761b",
      "5e0a7e854eee4b45adada2f6508b0689",
      "dfd3b02e98a24b11895dd57ae4415974",
      "77a8f89e643c48bb982455ff8a5c4df4",
      "32769b8835874662a94f3a2aac9b1f47",
      "6317bb6babea40a48e86e6a1b9b4fa67",
      "73a9067391494380a7fb05953ceba22f",
      "82429f87935c412f8e874a4328586997",
      "584ed4fbc5c048b7a6eb65ededc02928",
      "fc19c48e443946c59549de6198fd8283",
      "75dc89d0e14f410eaf67e51f6e3c46a0",
      "211fb8c0f9d2474abae7552b74360d84",
      "b16fff12609e43c281ef706fdaeaa975",
      "6390946225044155ab092e4a31811798",
      "09a6442877b34e0d9d6dd94a2e86c4b4",
      "4537ada4ee564be09da7a0971f128c1d",
      "ebb6201f07dd4d38af65e5615f30e611",
      "0ef7c91afaf84707acdd17be5eca4395",
      "836005411c674542b0e8d4875cb9d06e",
      "6267eb9c16a84ed5936f5f881127d008",
      "d1268918fffe481280c1111b4f95f401",
      "5e5c9b1e52a748ca92f6cd692d16c0ff",
      "9dc43cb966194a608a810627a80c60ca",
      "ae2d7b458ff14c72837b979767692e07",
      "a607812f3ce945f4b0be2a8313fdf579",
      "cb75f21dee584bfbaccb2349aeef2e50",
      "3c27cd9026d64cc99a362106864ade5d",
      "0553c7898d874998a56d321805ed7da5",
      "174cce5b9bcd405bb2e4ebb32aa84ab0",
      "e9a7e261f7a74335b2b31042dd87b40d",
      "6bfbee5c99374849a3f3c07ebb7d3464",
      "ddc4e840ec5d4c7aadfa5aaad0bf2e9e",
      "443c83e0d4ad4fcdaaefaf53b65fed3b",
      "267aeab6f8244c81947426d3a4b1b72f",
      "8ddeee8ae712482599bc7c2a158d643a",
      "4a59544510fe4680ac9936660c64e957",
      "54ff6036353f4ea5a4c7983048cca3b4",
      "00380acc9dd14bffb3b1b02b984d7509",
      "414c6f8796b5463aade42872a1065d08",
      "73b3b49f17e44c30bd5a834c7938664d",
      "4343ec52fa504747b076aac865281e28",
      "5d9cf3bf3a6346ea8b4cad537780ca87",
      "358f1bf958444dbba71a4858102444cb",
      "26c0e26954744ed9a93c6118493deb70",
      "c3e85984c5b84e57afd221cc8a0a9e6d",
      "537f5475a8bc415784b880b00136dd23",
      "82de9c4671ad4cf59c69bcabe5600dbf",
      "393c1405dba44515aabbb31ca3167043",
      "1a24d1df5e78437fa05fbfbe1dc6054b",
      "e7d573e7cd9e49cfb3b30e7dfd9356cf",
      "67e671ca372547c9a88a897984be5b72",
      "80e6a9aa04fc4a4d94c982a66c519c23",
      "9455fa8ead414ee992df6eba663224fc",
      "ca31ebd43e264e5f9b45b54d225d4038",
      "b38a3be01b8649ebbe1238202319bb34",
      "6337396b4cc74d03addf869ac9c7e301",
      "4e206f3f259546869025f1a4b9cc115e",
      "772f9c090afd439b83336c3164c5705f",
      "65bcf861298f4b44ac17bb2da8ae3ab3",
      "39b508911e694980a366187bbea81375",
      "38af8ea5b5064fffbc7e1fb4297f79e9",
      "b6f4158d210a4253ab15f26b98693fa1",
      "df40553f3a5f49b48bc55d43e2ec7232",
      "7081671d39fc4bc78f350644dbf899b3",
      "72e80a03a02847f991ba2258282e10c5",
      "fc943bce2d96448b88475cb082c8863b",
      "bb703c1c9cb343608fe4f9c7ec580710",
      "02de84f444c049c1a058cbd0af0ba9cf",
      "325f58549db34cecbb043b0c58a873f8",
      "75f4e0f49b3c433da8624aa6b52005fa",
      "9ece3cab8fb14feaad5d1229d51d6adb",
      "5cb078a74248438c98b7d49119705895",
      "67290487eac64267b42f05ef0741ccfe",
      "15e58410ec2f4f9ea16b532c6bb6de68",
      "4b6f75675c7446638ece8545084f90d6",
      "351bad87afc740b8839177342bd8ee42",
      "be685cb86e774ec5946fec5c7d3d10ac",
      "f54a5bdd886d4815abcb4c51634a0aef",
      "f744fb3580034d148b11e5a6e02e0596",
      "0bdebc2d7b5f44d28c58488863e7a7e1",
      "ca05f38364484604bd14c97db753069c",
      "9a30424a041841d3a8247967f3dc4d96",
      "6566a96109ef49e3a365a3207bb505db",
      "577646acf2254c8085da736b2db09d39",
      "8d7e4c4ef6b34d94acd8a48299af8e5b",
      "3f8b0867abb94d05b9ccdaf264e7f6fa",
      "dd936f7c9dc8468c9e07f7b969440588",
      "5233a14b7f024c0684dcbc2f8bf85b2e",
      "800076eb99124140bbb4156ad56a0db3",
      "9fdeebd2a2e5406ca4efa5f17334bd80",
      "c970bc205c734e32bbd3fdf3c13a8eb5",
      "7f92c9a882174018914015df0737b49f",
      "bd02fe78e7774a9bbab623b49bcc8160",
      "8055b92c946d424b898071fa4272fafc",
      "27099cc196f54d81b028d84851d32cda",
      "1166b39ba36a4eaeb603cd3bcaab4c98",
      "d6d2f0bea3dc49a79734e24413b8df29",
      "75bbedeb49bd498aa23aab36e0a9fa5b",
      "40cde0bd46954588bf09dafe0048ff4c",
      "4c4ffd6d9b6147a29b467aad2b3c560f",
      "f384d642c1ca4abfbb207afef1f387b5",
      "1d456de2f4a341bb971534901cc6fd21",
      "060ff8b1ceae460f99a6bfcf0d6c848b",
      "8283bf8e14cd4cbfaab6c279128ec161",
      "ce3f5014efbe4e938948e13ed0e4afc4",
      "169909075f184c44804a2d93c25240a2",
      "38b54ff8bf084f3794c84c13a06c90b7",
      "67b96e36de10449e9879f4444a3b7bce",
      "2ca2d034c40d47fea485d10ebc909965",
      "4c1a450e8a6640e8933d07c20325c424",
      "79a12135c23d4320a1df329d602e929d",
      "df6bc1c73bac4517887d178a63ba4207",
      "7dad71daf2ec4a1ea5beecbc3dd0955b",
      "7d977f135fac4cc1b01a819243fe661d",
      "cc24ad13d3b94ecb8d66f967ab9565d0",
      "ad2a967ffb694988b7033b67245720c5",
      "360f6cc183a74cb2919708fab2dfbbee",
      "98e9818c44374ed1a24a8ded179548da",
      "09780ebdf2fd449aac4153cc7647581c",
      "0912444a97eb4053a9bb2d036424e4e5",
      "235802cdd2294504941252b582419520",
      "7c7a788437f1459780315b7c2526c6d7",
      "16a72fd839b04e068d17c3878b8450a0",
      "f3006c66331e42199ec68cdca10bbb59",
      "2235216da4f146e1937d19b5047fd6b2",
      "7c156867e00d48ca92ce7d7830c164d2",
      "4e46b8a5db51437f8f1dafb7dea1f929",
      "069dcb476cb34911b46b363ceae8e7eb",
      "a95e40b173e740c88ce80978e1977b6e",
      "389236a1ce214c0aae1f85d225032711",
      "6a9efbe92a9d494fae584517767b3130",
      "4d5060eb26464f53b04052b877cca338",
      "1b5e4743d1164e1db6d6259e95d97f37",
      "8e4b488f3a2946acbbab8bb62252c7b4",
      "360ad88c9ccb4efab92303c07c5bd7b6",
      "b126a3915e784aa0a2e5c231ffec7e46",
      "0c162caff30941119768c38615edf8f7",
      "e91584b635b04d90aa52b85bb409d48a",
      "48c87d9953b64a6f8886ba4c15d24f0d",
      "26185bfdd57840eaa2568c85eca92fd1",
      "cd4d58252b70480e87544576ab482612",
      "f1e4ad92dd30465bad9ac9c51d5258cb",
      "9f534f1f489f4d098a5c0155227d4ec1",
      "5e4b38b1fd3743749f9ea9198eb711f7",
      "184c4cdb94c748aba17388ff8f84f6ba",
      "465d09fba8bb4afba89837f1b5778a1e",
      "55f6d52bf4c24f97a6fe7a7462f1384c",
      "8c512f100b7f4c2aae7fca8f9dc8c997",
      "537e220a4d994e71a5c60b8133c986c5",
      "9dff5ae2265f487fbb6de36483a9fb02",
      "9756e372e3414effa0402b2757411841",
      "48d5afc20a114984b4e0fb29be1742be",
      "e8881f2572014faba51289a9387265da",
      "ea9a46db5bbf42298f3effceb40b60b3",
      "f0a1133645cf4366bea5d2445d98eed2",
      "14c3e7805eb041a6855f6d9e5aa73f97",
      "915fff362eac4b91a49932c9a359a359",
      "504465be6011445faf00d54fcebb8d2a",
      "59f36bc0342e4a4f87b8c24c805ad049",
      "b146f0c73404417996902f76504f0783",
      "7a367d5a562a4c12a93894dc04d4b100",
      "b693bfc78176484fb716667c72d6721f",
      "9d15e53fb2db4dec9311da21a0045d01",
      "2b613249a8da4d24b663e27f2570513f",
      "58a2f6c7801c4e8487e5fc69fc0a66cb",
      "5c87f13e034040249a6fdbe7de63d277",
      "d66875e9d83a4cd6ae7125c3f009dabd",
      "7c71af1ee6fe4490bfabbb28451631fd",
      "3f378f666f334e93bfd41c0d289c877e",
      "b288fc15900f4e3a8d0a6672eb4be124",
      "448ca940d29d4b959cd89296a7279c4e",
      "3c7ed89b927d4322bd6c744bf2971def",
      "e0034b2e42f447f2b729a0a8ee7a2708",
      "b6865876a1e4492e968a71cbe10a9c9d",
      "9c28e22c9b41441c8f3ab22d4c0e9886",
      "8c30da5f13b646c49e720b424a38901a",
      "3d1c5fc7623a48d89f9738135adc2f5a",
      "22f60f5d3c494a6289b7b3b29c6e6ed6",
      "a503e4479dbb4be8aa51ea55af1d6ac0",
      "270be04c4c51445c90898f60f3c13dbf",
      "d0470a4e120b496ab2fbc1de57d4bccb",
      "c711102c215f4c94aea7c6886c0b0273",
      "0c03b256ae754feb959b339a1b9cb021",
      "c80ad02fdf644f04a0e3dc9b19429499",
      "814642c8d3a84d2d8a270147dc3e41ae",
      "7289febb7f9f45b3a9ec69fc4898daeb",
      "ccc51458036749f1b712635f7b15f98f",
      "4cb8d7e093934c8eacbc9e14a965fd96",
      "6644126ce3b949c3b004d0169840a895",
      "ca3691cc843349429fe9fa29ba4e9f97",
      "9cc7d35fa0af42e5a18688f386fdcec0",
      "9df1bc025eaa44b3b8cc215d354407f9",
      "ca7ddda6e41b4fa581d540e459f22da5",
      "e246fbf16a5441bea5cdc71fb3222cb3",
      "a83e7986e84e47aab065a330399853fc",
      "4253781649414236b0d88dfd0ace29db",
      "7421eb912c0441629e223fe51ccee474",
      "9d1407a929914b8ead2518a4b29c0413",
      "94f71e7b8e514bb48ef59b78ce8d28ec",
      "5675f12b52194e91b66a859f889af79a",
      "5f6aadb5e394415c8384763317b8d490",
      "bedfebcac17c4a8099fca8b2dde7fd70",
      "9a4b05a622da4f2c971612ea546dd983",
      "3295d7d109ab42f799c8da83394f9b81",
      "34257390132b4f6a94e779daa0893a80",
      "c39681107cea4c70b90032cc9ef02987",
      "bdb31ccf81ef498193b7598c2319d8b3",
      "202ba0f6d67b452b8ddacb857fa39750",
      "dff8865e6a2248e4ae878f7cb890a648",
      "1a0d17e33a414847b1a08c601679fe67",
      "af5d517dbd1c4aa590d4e099f1437d76",
      "32bae1bceb13466a9ca1f7b5eb078fe7",
      "2c1c3b52999a44a5828b4ea50b3d54cd",
      "99d0afa7084d47788e68458426217d42",
      "44f5f829d86e4fca8fd995360ef24d3f",
      "7c04c634ad814881bd4b838faf3caebc",
      "af859f34a94e439b935188226792a609",
      "f86d576953b74959ae98f7bf09681ff0",
      "8b6b917354fa4fd091a0e6173158c96f",
      "e58018145ad04156ad3900effff083c5",
      "59904c6bcf784d8eb1c45176c386c699",
      "f151a9c38deb4c1da4f0769ed7bb6e18",
      "833823b95a0d44ecb22816ec5310a769",
      "bb6ba27a6a6f4e908bffc056752bb1f1",
      "1a9996ce77f140c7825d12e284cf091a",
      "88488768fe8a4e2e8eb0ee89a01c84ef",
      "16128951d16442328d69f585b7574cba",
      "561541e2709f4bd4a19eed93b6569e58",
      "07c479356b1f4e019ca3c60bbe8cebbd",
      "c2835d663f8a4c27bedc9edb0fb1b9d3",
      "ab66732c84fd4f27a3b2676c29fc4ac1",
      "eb9c4dea6b56427aa08e7a479f7f89b8",
      "32baabdee86d48dcabf5d557aac0335b",
      "7f6f9bf7095840c0b11a1fea5827e2eb",
      "bcb53ab4e85e4afe8de8df7e6dfd9c66",
      "17cb737a5433454a830d2fd748ea65ee",
      "2f376bf7be644a4f88ae73858459184b",
      "f94eb9cd01b94fcc9681c91297821e34",
      "6c36668743614ebf82d31d7bf884b63f",
      "5e739209c2874b02b0df5eeb51c96d21",
      "58352811654b4317923361ca52b05345",
      "39279af585f045d9a5450f0693e57c3d",
      "ad523089824a4203b103bdaca72c0dc2",
      "d5195194e0c94be99d6eb11a68ab633e",
      "a1b4c77628e248faaca22858ee24cc76",
      "8d0d4c6a34474a2f868b2b3b553bc7e4",
      "4c7d090db2b64904b174b46769e8988f",
      "3fac86d0ac6a4accad44617d1a632c5a",
      "de9feed23f5b4a209ba5e1f10c245e56",
      "4c138730fcf74a7ab9ea1005315de4c1",
      "66c1c90d00ac47a7964be7afdb5f578c",
      "7d25138a8268421ca06cc90339541a46",
      "91e6dd9787d4428a86baad335227268e",
      "fcf51b352aa84ee18e49416d8b9a8014",
      "4a2458fa6ce146d8b54a56e0ea2ea4e7",
      "80fa245e91e045bf90ec9ef5206b9601",
      "31e53f2b093b4622b38eeda1f65fdc91",
      "2578455e5e4942e382b28c4f08767a3b",
      "303f9d096d6a4b2fb6ff3b2d611d2686",
      "f72f3824b12742368fec61248e45a993",
      "f555c74b8fb0435f85b1c4a0155267d6",
      "b03b8569a5e74a6a95c4d6b49a5be883",
      "d3dc8e917db44667ac29e880e833893d",
      "a99315a6bee547319dc1ea966c67e76f",
      "45eaa0de0de74fc1a1584ff03d69a367",
      "4fc6c0e239bc4e1aba248f7e886cd3b7",
      "a526cbbafb9841e5a6ac54e902d41aac",
      "b34858527fc14e60a47457d6a1f5d80a",
      "5d5721740291421083d31954ec42ca94",
      "adb36b8091a14cd49042c683a3346b53",
      "c140ca9444284475b1dc01ffb5a934c5",
      "e38c881f3e5248ca888bad78d68348ef",
      "f6a270ac5cf14cbe829de8a7ae1ed9d0",
      "d5d65609f4294998b0c125e2d60645cc",
      "3d23940596ef4659a4ed81cacb6a3e6c",
      "040793e7b88c47ff8332abceea3f4c1e",
      "affe982c97664b87abd6c5c29ee3f707",
      "f24fdb49e00542beb1b8a96003fc8950",
      "9f66adc4dbb44b1cb1a333a31ac45b3a",
      "0cdca95d5880479fba8099d79f88dff3",
      "5cf08f5fb8f1493ea3c35a0bb82c6a3b",
      "53cd1190ab064bb2afd54a51d8b9b4a6",
      "22de3c4505714cf2a03af12c55b27940",
      "ae1ad15da08340b5bb4c8fa560b36faa",
      "377a80ce7dff4711ae1e86340f1f50d1",
      "1f4e810dd57c41af9402a2f925e57a93",
      "31d3ede02173432aa813723b6e902f4c",
      "aab898e4ae8c4a24917ece7e2f7f26b1",
      "fdc5b0c5b15e4f609ed2edc0d3d2914e",
      "953caa30d94641df9d47233651c93069",
      "dbdbe0f6f7bf42c8a7e224b4dad4a508",
      "ba7b251fd2024cb38ff6646188a36408",
      "87d53902132e4244a8063db024048217",
      "946bbf4fcc37451b854b7d008a07d830",
      "7bb09551bdf242599071d3fd338ac370",
      "7c0a0e722ddb496f9a601961bca97f42",
      "ee91f1fd56e84895b65b0ea062bc54a9",
      "3aecf7d3508c4bdf99a8b9029a6ea63e",
      "f3c46cf4172a4a0099b0600df17cf202",
      "53611d181ca14cb5bbb814b0c0820f93",
      "2a9197fda83a4d1793e9846e838829ab",
      "1a10ba66857b42208595518923681f31",
      "ca61b009b043482cb5a46f2eb20153bc",
      "e70a3f9415f64a09963d8b2d382bfe6f",
      "498359befff94962b640ac725387ba02",
      "39e43b45942e46339193fa07eef55413",
      "b65882665db6478e80073b30172e240a",
      "974af5138af44f03b481a1d3f0d28293",
      "9928923a18e34381aeaa7c6473806011",
      "68129216e9d24d20ab279bc9641655ee",
      "d6d397b512264438883742506f7adb4d",
      "176ead4ad723481f9d7c30c6e0d4e3a2",
      "4f10eaaa293449c3870b10b974a5a8d6",
      "4411c92e5f584eeba4eb2ee16f8e4d88",
      "cf0fd14e510e451f9b1e7f0229f5198c",
      "f0a6117a0fa3471091b4bfbee9365662",
      "be98dd54d18247b5a86c005f55a6a150",
      "5c44efc2558d49fc9322eae12ceb972b",
      "c1fb82b861954569af496223801cb5aa",
      "1303d6a3a3fe4e89b25fe75eca195080",
      "9e11babe4c904f9f8ed63ae0be93b5df",
      "35b00ffb875342ca8b158beead568ca1",
      "d4afbc321d0746b4a97b8cec95f8fde2",
      "612dadc50b504823bd73861d055a64db",
      "52349a3ac2294d7b8125c48effb27bc4",
      "5c9a532cacb14597957f1db6a9cbacbd",
      "b614c0f342494bfe8b18772abf211e04",
      "fac4eba72a4a413fb9d016557d24fc99",
      "392a612a94fc42aeb9c7ec7b90572879",
      "65d91898e6cb45a8804272300e5059ad",
      "71648d46b02b42f9b26b93bf0045d08b",
      "61a12a403fb94f56933426b021904d77",
      "eee722dff02942ad9adaec098b6c7207",
      "b840cce838554599a9e0ae423d9da9a1",
      "f890411e0ec9498eaa2a317cfdb01d95",
      "f334cec5558444c1baab0262117417e1",
      "da7c9530c46846e7916fb08578f1e2da",
      "a0a457fb04b14042ba79e500365170d5",
      "791adedfc1f94baca5939e992b99fbd2",
      "3d4655fa97794e9284a21c9b7af4e045",
      "a7cd865c680844a893cfdba879d67ea2",
      "c3a381705468489ba6b5d56658226af0",
      "2aa7ee133cf3404496461b7e74700277",
      "6887fb40780747f2ae9224bf1e3b7334",
      "10683f085fac419398db4fafc221c0fb",
      "3a0e01dc96874b37825f22af09e24bc6",
      "2c94a3257d514fdcb5c69393c1fb93e4",
      "290b379de0d44d639528bdb885f5e59b",
      "f779b74de6324aee9a1468e10dfa8c13",
      "9e187bfe907349c9bd75a56d2a570b1e",
      "8f3c492f439b488994730019fd010b6d",
      "31e47c06e02140ed9b7c920d55e191ba",
      "79545b9870944176a954de3a4128d0d9",
      "a4014b2386734d36a7a7c4faafdd33f9",
      "14695a2c99a64fee9bde53d77836c36e",
      "6f5502e76a7e42e59a5cb3701281ce77",
      "281d6849958e46b5817b0db166492e27",
      "53e00fd094a540f0b00077a9ba81a494",
      "6b40794e5a12438485c6996ae5679ae3",
      "0af99f818c194a97af655ffd0484e9b5",
      "0cb4738d3b294430afc4b6fae9b7ea2a",
      "4ec41838a44242aa80da4f9b24231a0c",
      "5421f9d34cad4c01996a780cb2f6d535",
      "20bc8c3236bb4e6abdc1997e247e8040",
      "44908e8d3de94d2493f3dd6855345d97",
      "c9c31a52132546158d4a1be2774061c6",
      "8ea0e8a97d614a93abfedcfd28e82848",
      "b9a3c789e6e149269d154ddbfc1c6041",
      "922d3d1b8b134e07ad8eef8e93658b16",
      "2651927e65844d189d8d558c73422e24",
      "30b898949a174efe9a9202fb27e146a8",
      "8d3d0de3799940b8a3d60685176317d5",
      "a4884e865830419a9dfe871abd954499",
      "183ff9562c364e08855dacfeb911d19c",
      "d2be35d9d60b41c9a92d471a027d6fa4",
      "a7924acf36ab45978206255cd454ae76",
      "62bf7b15ec52489db648fb433f078022",
      "72c1ec1b66d84cd8a4c6b83e07a20936",
      "2dcad4be2e5b4207bef3149e46e95d2f",
      "433874cde991483aace1f363cbc3c2ea",
      "ca1e82868c724fb1a45227fa56424981",
      "68b5df3004a6436bb56999812d9fb757",
      "5becf085e04c4b7cb8c1e9f334684f31",
      "b7641b4c65474300b2c099107d065c9f",
      "5d1011ad17cf4eb78d1c7c1bf3d972f3",
      "61b5f7222e93461d8f8a4916175c4a76",
      "1c481cb1031f40f2babb428eca9f54b3",
      "f508640d2472420c9d6d4b0c63463226",
      "40ac6df91ad04d39a85c342f99891b4f",
      "8e51ae1fc8e04419a49ffb8e37e35289",
      "ecbd6f6357ac4d66b3970e1575634624",
      "fe299f05e7f740e0acae59955d8a6bef",
      "b67a27cf2cab42da9a725ba49c141ab3",
      "82e36a893b6e4088ab534b43a12f5195",
      "381c6564a0f34a278511fc207160cf34",
      "5da03f1a29074e88a18fc2d060afc224",
      "96beb6685d4c4f65bcfcfd0dc39903ce",
      "720b13bd510d4274bac2326245004332",
      "4b5819f803b44914a137b5fcd9afd220",
      "1a285acef578478aa1a6375c1843c818",
      "452dad3fb88d496d93b7b15cac0b3e2b",
      "2046bf13780a420e9f62de8ab4f24b17",
      "1eab667f852c4d199a1a29ead19879f2",
      "113063cb29a4444299228b1d2e8a459e",
      "fd6690a4c70146fdbc9a2b2a3870ce5f",
      "e65ac3b089f0450fabf578672178ae94",
      "57bb1eab571342d7a2be7b66b7dc1114",
      "a42728a627344c629a2ea9c40c9c557f",
      "41c9d3612cdd401382a7305302f9c435",
      "686d67cf476e475fa3b9d19c090243ad",
      "012d7229b6404cc6b82140085fe9eb63",
      "70f0e0a9c2594015855ba8c138f2923d",
      "18cc8d22764944ce86d5fcad29c73491",
      "4a5296495aea4fdab74295091474506a",
      "0e5e3d5a3c6e43a5a9be8224cbbd9bed",
      "7a94f198af794b389672ce6799a35d0b",
      "e45dccf5b4c648da8054705496adcae7",
      "0b4e11c265fc4543a585b9e0744a8904",
      "4f3d447a8a694213b9c76b6fa9aff5c8",
      "4853ce95f2cd4621bf89bf43c12e1e3a",
      "dde3a0e160f54409b80641d1d7dc5386",
      "58ec1cf359d14594a00b41e43c647cda",
      "bbb3a8e3b54140739ffd38ada6bf5e33",
      "3a28a8a16f5843318055c94b2ea03bcb",
      "fc52417ca2394c208833d4039baee799",
      "939ff35723bf409297e9a15f974f6f03",
      "e2e0daa1e0e041e58502cf7fc4bdaf04",
      "9158f481fefb4425a03a570ee2e69ba2",
      "f079dfd4fbde4ff991a2ea783bf7733e",
      "6160432ca9ab4c20ba1c0d7f93851bcc",
      "8bff6e0cd50d445a92bfca5b8435353d",
      "a7177089f471441ab25c3feabc7b99bc",
      "2599bf06c0b54deabb6404cd409c3a4f",
      "cd88fa5fd55340d7917d704652d86f9f",
      "72200c183e8e4878ba0398550c6d2d8d",
      "4e9114c7a9344293aa0fed74dcab89eb",
      "3dc76d68ffd34a3c9c171bf59e1beeeb",
      "39d73c64974c4483beed358ca2450e9b",
      "63b827226ba449eb89501ed88b75202c",
      "5e1a2b17bb9644e6b50a38b6a1e93905",
      "01f51e44841c433598da336ede1ef354",
      "8d4a68fc8b4141f5af10784ec18e8605",
      "55f2e513cd1d427f84a8a25d6f962afc"
     ]
    },
    "id": "W_c7phfbNdKa",
    "outputId": "0577ffd8-3845-4544-de3c-b2ea5fe10e93"
   },
   "outputs": [
    {
     "name": "stderr",
     "output_type": "stream",
     "text": [
      "ERROR:NP.plotly:Importing plotly failed. Interactive plots will not work.\n",
      "ERROR:NP.plotly:Importing plotly failed. Interactive plots will not work.\n",
      "INFO - (NP.forecaster.add_lagged_regressor) - n_lags = 'auto', number of lags for regressor is set to Autoregression number of lags (48)\n",
      "INFO:NP.forecaster:n_lags = 'auto', number of lags for regressor is set to Autoregression number of lags (48)\n",
      "INFO - (NP.forecaster.add_lagged_regressor) - n_lags = 'auto', number of lags for regressor is set to Autoregression number of lags (48)\n",
      "INFO:NP.forecaster:n_lags = 'auto', number of lags for regressor is set to Autoregression number of lags (48)\n",
      "INFO - (NP.df_utils._infer_frequency) - Major frequency h corresponds to 99.99% of the data.\n",
      "INFO:NP.df_utils:Major frequency h corresponds to 99.99% of the data.\n",
      "INFO - (NP.df_utils._infer_frequency) - Dataframe freq automatically defined as h\n",
      "INFO:NP.df_utils:Dataframe freq automatically defined as h\n",
      "INFO - (NP.df_utils.return_df_in_original_format) - Returning df with no ID column\n",
      "INFO:NP.df_utils:Returning df with no ID column\n",
      "INFO - (NP.df_utils.return_df_in_original_format) - Returning df with no ID column\n",
      "INFO:NP.df_utils:Returning df with no ID column\n",
      "WARNING - (NP.forecaster.fit) - When Global modeling with local normalization, metrics are displayed in normalized scale.\n",
      "WARNING:NP.forecaster:When Global modeling with local normalization, metrics are displayed in normalized scale.\n",
      "INFO - (NP.df_utils._infer_frequency) - Major frequency h corresponds to 99.988% of the data.\n",
      "INFO:NP.df_utils:Major frequency h corresponds to 99.988% of the data.\n",
      "INFO - (NP.df_utils._infer_frequency) - Defined frequency is equal to major frequency - h\n",
      "INFO:NP.df_utils:Defined frequency is equal to major frequency - h\n",
      "INFO - (NP.config.init_data_params) - Setting normalization to global as only one dataframe provided for training.\n",
      "INFO:NP.config:Setting normalization to global as only one dataframe provided for training.\n",
      "INFO - (NP.config.set_auto_batch_epoch) - Auto-set batch_size to 64\n",
      "INFO:NP.config:Auto-set batch_size to 64\n"
     ]
    },
    {
     "data": {
      "application/vnd.jupyter.widget-view+json": {
       "model_id": "ed1774c71ff84a25b6e12fac23d176ed",
       "version_major": 2,
       "version_minor": 0
      },
      "text/plain": [
       "Training: |          | 0/? [00:00<?, ?it/s]"
      ]
     },
     "metadata": {},
     "output_type": "display_data"
    },
    {
     "data": {
      "application/vnd.jupyter.widget-view+json": {
       "model_id": "8286de3bf51447a6820b8cbab828ac16",
       "version_major": 2,
       "version_minor": 0
      },
      "text/plain": [
       "Training: |          | 0/? [00:00<?, ?it/s]"
      ]
     },
     "metadata": {},
     "output_type": "display_data"
    },
    {
     "data": {
      "application/vnd.jupyter.widget-view+json": {
       "model_id": "79274eeabcfa40a28586eb292f681dcf",
       "version_major": 2,
       "version_minor": 0
      },
      "text/plain": [
       "Validation: |          | 0/? [00:00<?, ?it/s]"
      ]
     },
     "metadata": {},
     "output_type": "display_data"
    },
    {
     "data": {
      "application/vnd.jupyter.widget-view+json": {
       "model_id": "f012eb7170084c7aa8007bf502911c08",
       "version_major": 2,
       "version_minor": 0
      },
      "text/plain": [
       "Validation: |          | 0/? [00:00<?, ?it/s]"
      ]
     },
     "metadata": {},
     "output_type": "display_data"
    },
    {
     "data": {
      "application/vnd.jupyter.widget-view+json": {
       "model_id": "2fa9937165e64b8e9065d8e19fd63ff1",
       "version_major": 2,
       "version_minor": 0
      },
      "text/plain": [
       "Validation: |          | 0/? [00:00<?, ?it/s]"
      ]
     },
     "metadata": {},
     "output_type": "display_data"
    },
    {
     "data": {
      "application/vnd.jupyter.widget-view+json": {
       "model_id": "e9eb1aac81604e9291fc8921806b4342",
       "version_major": 2,
       "version_minor": 0
      },
      "text/plain": [
       "Validation: |          | 0/? [00:00<?, ?it/s]"
      ]
     },
     "metadata": {},
     "output_type": "display_data"
    },
    {
     "data": {
      "application/vnd.jupyter.widget-view+json": {
       "model_id": "c7d564f9496c49e99a1f9f9eb6321e6d",
       "version_major": 2,
       "version_minor": 0
      },
      "text/plain": [
       "Validation: |          | 0/? [00:00<?, ?it/s]"
      ]
     },
     "metadata": {},
     "output_type": "display_data"
    },
    {
     "data": {
      "application/vnd.jupyter.widget-view+json": {
       "model_id": "299f598287f849b5bb9bf326ab49e259",
       "version_major": 2,
       "version_minor": 0
      },
      "text/plain": [
       "Validation: |          | 0/? [00:00<?, ?it/s]"
      ]
     },
     "metadata": {},
     "output_type": "display_data"
    },
    {
     "data": {
      "application/vnd.jupyter.widget-view+json": {
       "model_id": "e0cf30b3c83e49bdb04311209cbe1960",
       "version_major": 2,
       "version_minor": 0
      },
      "text/plain": [
       "Validation: |          | 0/? [00:00<?, ?it/s]"
      ]
     },
     "metadata": {},
     "output_type": "display_data"
    },
    {
     "data": {
      "application/vnd.jupyter.widget-view+json": {
       "model_id": "094a41422ff24f119c8ed1ab6e70f097",
       "version_major": 2,
       "version_minor": 0
      },
      "text/plain": [
       "Validation: |          | 0/? [00:00<?, ?it/s]"
      ]
     },
     "metadata": {},
     "output_type": "display_data"
    },
    {
     "data": {
      "application/vnd.jupyter.widget-view+json": {
       "model_id": "3e087bd286e3427b896b68af4448ecc4",
       "version_major": 2,
       "version_minor": 0
      },
      "text/plain": [
       "Validation: |          | 0/? [00:00<?, ?it/s]"
      ]
     },
     "metadata": {},
     "output_type": "display_data"
    },
    {
     "data": {
      "application/vnd.jupyter.widget-view+json": {
       "model_id": "3fed5ce0127c4ff4abd83e5a2afedc08",
       "version_major": 2,
       "version_minor": 0
      },
      "text/plain": [
       "Validation: |          | 0/? [00:00<?, ?it/s]"
      ]
     },
     "metadata": {},
     "output_type": "display_data"
    },
    {
     "data": {
      "application/vnd.jupyter.widget-view+json": {
       "model_id": "ea479a509a2b43298d49df538409f7bc",
       "version_major": 2,
       "version_minor": 0
      },
      "text/plain": [
       "Validation: |          | 0/? [00:00<?, ?it/s]"
      ]
     },
     "metadata": {},
     "output_type": "display_data"
    },
    {
     "data": {
      "application/vnd.jupyter.widget-view+json": {
       "model_id": "d612a7d4718f4a2f886b3065fe868feb",
       "version_major": 2,
       "version_minor": 0
      },
      "text/plain": [
       "Validation: |          | 0/? [00:00<?, ?it/s]"
      ]
     },
     "metadata": {},
     "output_type": "display_data"
    },
    {
     "data": {
      "application/vnd.jupyter.widget-view+json": {
       "model_id": "e13bc90c8c5445d699ae2a4b78d0918a",
       "version_major": 2,
       "version_minor": 0
      },
      "text/plain": [
       "Validation: |          | 0/? [00:00<?, ?it/s]"
      ]
     },
     "metadata": {},
     "output_type": "display_data"
    },
    {
     "data": {
      "application/vnd.jupyter.widget-view+json": {
       "model_id": "0c9b9f6b143b44c3af572c00c5512fab",
       "version_major": 2,
       "version_minor": 0
      },
      "text/plain": [
       "Validation: |          | 0/? [00:00<?, ?it/s]"
      ]
     },
     "metadata": {},
     "output_type": "display_data"
    },
    {
     "data": {
      "application/vnd.jupyter.widget-view+json": {
       "model_id": "ad1b4233b4bd4fb2a5bf3f914224c8cd",
       "version_major": 2,
       "version_minor": 0
      },
      "text/plain": [
       "Validation: |          | 0/? [00:00<?, ?it/s]"
      ]
     },
     "metadata": {},
     "output_type": "display_data"
    },
    {
     "data": {
      "application/vnd.jupyter.widget-view+json": {
       "model_id": "8ecbb22ad64a44eb98ae7bce39fe8be2",
       "version_major": 2,
       "version_minor": 0
      },
      "text/plain": [
       "Validation: |          | 0/? [00:00<?, ?it/s]"
      ]
     },
     "metadata": {},
     "output_type": "display_data"
    },
    {
     "data": {
      "application/vnd.jupyter.widget-view+json": {
       "model_id": "7943d876372147e7979691b05ce163de",
       "version_major": 2,
       "version_minor": 0
      },
      "text/plain": [
       "Validation: |          | 0/? [00:00<?, ?it/s]"
      ]
     },
     "metadata": {},
     "output_type": "display_data"
    },
    {
     "data": {
      "application/vnd.jupyter.widget-view+json": {
       "model_id": "618be476649241259dec492264687e86",
       "version_major": 2,
       "version_minor": 0
      },
      "text/plain": [
       "Validation: |          | 0/? [00:00<?, ?it/s]"
      ]
     },
     "metadata": {},
     "output_type": "display_data"
    },
    {
     "data": {
      "application/vnd.jupyter.widget-view+json": {
       "model_id": "4186d35a287541159564cdea2d4e110b",
       "version_major": 2,
       "version_minor": 0
      },
      "text/plain": [
       "Validation: |          | 0/? [00:00<?, ?it/s]"
      ]
     },
     "metadata": {},
     "output_type": "display_data"
    },
    {
     "data": {
      "application/vnd.jupyter.widget-view+json": {
       "model_id": "29a3e7a975414b9989bb9cd5ba1d433a",
       "version_major": 2,
       "version_minor": 0
      },
      "text/plain": [
       "Validation: |          | 0/? [00:00<?, ?it/s]"
      ]
     },
     "metadata": {},
     "output_type": "display_data"
    },
    {
     "data": {
      "application/vnd.jupyter.widget-view+json": {
       "model_id": "b76e1375b1144f7b942ff4fdb7ad6ba2",
       "version_major": 2,
       "version_minor": 0
      },
      "text/plain": [
       "Validation: |          | 0/? [00:00<?, ?it/s]"
      ]
     },
     "metadata": {},
     "output_type": "display_data"
    },
    {
     "data": {
      "application/vnd.jupyter.widget-view+json": {
       "model_id": "8d90885bb1564affa6be6e1555f7d3af",
       "version_major": 2,
       "version_minor": 0
      },
      "text/plain": [
       "Validation: |          | 0/? [00:00<?, ?it/s]"
      ]
     },
     "metadata": {},
     "output_type": "display_data"
    },
    {
     "data": {
      "application/vnd.jupyter.widget-view+json": {
       "model_id": "05d0efd97a824d29a53003ef82245958",
       "version_major": 2,
       "version_minor": 0
      },
      "text/plain": [
       "Validation: |          | 0/? [00:00<?, ?it/s]"
      ]
     },
     "metadata": {},
     "output_type": "display_data"
    },
    {
     "data": {
      "application/vnd.jupyter.widget-view+json": {
       "model_id": "e462982a77694fe4a772dccfaa9d9ea5",
       "version_major": 2,
       "version_minor": 0
      },
      "text/plain": [
       "Validation: |          | 0/? [00:00<?, ?it/s]"
      ]
     },
     "metadata": {},
     "output_type": "display_data"
    },
    {
     "data": {
      "application/vnd.jupyter.widget-view+json": {
       "model_id": "17721b61ecfb46f88b663160a27c534c",
       "version_major": 2,
       "version_minor": 0
      },
      "text/plain": [
       "Validation: |          | 0/? [00:00<?, ?it/s]"
      ]
     },
     "metadata": {},
     "output_type": "display_data"
    },
    {
     "data": {
      "application/vnd.jupyter.widget-view+json": {
       "model_id": "f5019c55e8bd47e0b1e83ee363d9d059",
       "version_major": 2,
       "version_minor": 0
      },
      "text/plain": [
       "Validation: |          | 0/? [00:00<?, ?it/s]"
      ]
     },
     "metadata": {},
     "output_type": "display_data"
    },
    {
     "data": {
      "application/vnd.jupyter.widget-view+json": {
       "model_id": "c52d85481f5a4d42be961d55f9dd0e80",
       "version_major": 2,
       "version_minor": 0
      },
      "text/plain": [
       "Validation: |          | 0/? [00:00<?, ?it/s]"
      ]
     },
     "metadata": {},
     "output_type": "display_data"
    },
    {
     "data": {
      "application/vnd.jupyter.widget-view+json": {
       "model_id": "f09d082b7e30421797bf425151dbb780",
       "version_major": 2,
       "version_minor": 0
      },
      "text/plain": [
       "Validation: |          | 0/? [00:00<?, ?it/s]"
      ]
     },
     "metadata": {},
     "output_type": "display_data"
    },
    {
     "data": {
      "application/vnd.jupyter.widget-view+json": {
       "model_id": "36cb103cabdd472a99f44dc2a44bd7c5",
       "version_major": 2,
       "version_minor": 0
      },
      "text/plain": [
       "Validation: |          | 0/? [00:00<?, ?it/s]"
      ]
     },
     "metadata": {},
     "output_type": "display_data"
    },
    {
     "data": {
      "application/vnd.jupyter.widget-view+json": {
       "model_id": "34f6540014f34d75bde49159a271f3af",
       "version_major": 2,
       "version_minor": 0
      },
      "text/plain": [
       "Validation: |          | 0/? [00:00<?, ?it/s]"
      ]
     },
     "metadata": {},
     "output_type": "display_data"
    },
    {
     "data": {
      "application/vnd.jupyter.widget-view+json": {
       "model_id": "4a565ad76e884b3196cd26495a428eb3",
       "version_major": 2,
       "version_minor": 0
      },
      "text/plain": [
       "Validation: |          | 0/? [00:00<?, ?it/s]"
      ]
     },
     "metadata": {},
     "output_type": "display_data"
    },
    {
     "data": {
      "application/vnd.jupyter.widget-view+json": {
       "model_id": "0326e3ebc2e44166adc1883b32288099",
       "version_major": 2,
       "version_minor": 0
      },
      "text/plain": [
       "Validation: |          | 0/? [00:00<?, ?it/s]"
      ]
     },
     "metadata": {},
     "output_type": "display_data"
    },
    {
     "data": {
      "application/vnd.jupyter.widget-view+json": {
       "model_id": "8a2fbf818ee74dc8a73f5faa69b5a18e",
       "version_major": 2,
       "version_minor": 0
      },
      "text/plain": [
       "Validation: |          | 0/? [00:00<?, ?it/s]"
      ]
     },
     "metadata": {},
     "output_type": "display_data"
    },
    {
     "data": {
      "application/vnd.jupyter.widget-view+json": {
       "model_id": "0e85122108ee4fba92b084ee401790df",
       "version_major": 2,
       "version_minor": 0
      },
      "text/plain": [
       "Validation: |          | 0/? [00:00<?, ?it/s]"
      ]
     },
     "metadata": {},
     "output_type": "display_data"
    },
    {
     "data": {
      "application/vnd.jupyter.widget-view+json": {
       "model_id": "2a716625cf064e58be10d0c3dde9b1b5",
       "version_major": 2,
       "version_minor": 0
      },
      "text/plain": [
       "Validation: |          | 0/? [00:00<?, ?it/s]"
      ]
     },
     "metadata": {},
     "output_type": "display_data"
    },
    {
     "data": {
      "application/vnd.jupyter.widget-view+json": {
       "model_id": "f460889c03d94d0d945b20c6b3cbdb4a",
       "version_major": 2,
       "version_minor": 0
      },
      "text/plain": [
       "Validation: |          | 0/? [00:00<?, ?it/s]"
      ]
     },
     "metadata": {},
     "output_type": "display_data"
    },
    {
     "data": {
      "application/vnd.jupyter.widget-view+json": {
       "model_id": "cd5ce899388344278bac2c8d36c248d0",
       "version_major": 2,
       "version_minor": 0
      },
      "text/plain": [
       "Validation: |          | 0/? [00:00<?, ?it/s]"
      ]
     },
     "metadata": {},
     "output_type": "display_data"
    },
    {
     "data": {
      "application/vnd.jupyter.widget-view+json": {
       "model_id": "dbf391b1c0d646eb92018f28c50861e4",
       "version_major": 2,
       "version_minor": 0
      },
      "text/plain": [
       "Validation: |          | 0/? [00:00<?, ?it/s]"
      ]
     },
     "metadata": {},
     "output_type": "display_data"
    },
    {
     "data": {
      "application/vnd.jupyter.widget-view+json": {
       "model_id": "947459de3c7043b4acd42d06827b756e",
       "version_major": 2,
       "version_minor": 0
      },
      "text/plain": [
       "Validation: |          | 0/? [00:00<?, ?it/s]"
      ]
     },
     "metadata": {},
     "output_type": "display_data"
    },
    {
     "data": {
      "application/vnd.jupyter.widget-view+json": {
       "model_id": "82196d580f8241cd80ed263f4a614960",
       "version_major": 2,
       "version_minor": 0
      },
      "text/plain": [
       "Validation: |          | 0/? [00:00<?, ?it/s]"
      ]
     },
     "metadata": {},
     "output_type": "display_data"
    },
    {
     "data": {
      "application/vnd.jupyter.widget-view+json": {
       "model_id": "fecae9d12a374873bf1a06269ceea07a",
       "version_major": 2,
       "version_minor": 0
      },
      "text/plain": [
       "Validation: |          | 0/? [00:00<?, ?it/s]"
      ]
     },
     "metadata": {},
     "output_type": "display_data"
    },
    {
     "data": {
      "application/vnd.jupyter.widget-view+json": {
       "model_id": "8866708dcc0b4473adece35c3b9b5663",
       "version_major": 2,
       "version_minor": 0
      },
      "text/plain": [
       "Validation: |          | 0/? [00:00<?, ?it/s]"
      ]
     },
     "metadata": {},
     "output_type": "display_data"
    },
    {
     "data": {
      "application/vnd.jupyter.widget-view+json": {
       "model_id": "18780b33159c408d830731f1a306207f",
       "version_major": 2,
       "version_minor": 0
      },
      "text/plain": [
       "Validation: |          | 0/? [00:00<?, ?it/s]"
      ]
     },
     "metadata": {},
     "output_type": "display_data"
    },
    {
     "data": {
      "application/vnd.jupyter.widget-view+json": {
       "model_id": "7c6d643f3a474d95bdb1f52397824bbb",
       "version_major": 2,
       "version_minor": 0
      },
      "text/plain": [
       "Validation: |          | 0/? [00:00<?, ?it/s]"
      ]
     },
     "metadata": {},
     "output_type": "display_data"
    },
    {
     "data": {
      "application/vnd.jupyter.widget-view+json": {
       "model_id": "313d5c91860f4047b45317bf158e4be1",
       "version_major": 2,
       "version_minor": 0
      },
      "text/plain": [
       "Validation: |          | 0/? [00:00<?, ?it/s]"
      ]
     },
     "metadata": {},
     "output_type": "display_data"
    },
    {
     "data": {
      "application/vnd.jupyter.widget-view+json": {
       "model_id": "66fa125150ff437690a884ac71478400",
       "version_major": 2,
       "version_minor": 0
      },
      "text/plain": [
       "Validation: |          | 0/? [00:00<?, ?it/s]"
      ]
     },
     "metadata": {},
     "output_type": "display_data"
    },
    {
     "data": {
      "application/vnd.jupyter.widget-view+json": {
       "model_id": "6157f54ab1e048a98065a4646eb5861a",
       "version_major": 2,
       "version_minor": 0
      },
      "text/plain": [
       "Validation: |          | 0/? [00:00<?, ?it/s]"
      ]
     },
     "metadata": {},
     "output_type": "display_data"
    },
    {
     "data": {
      "application/vnd.jupyter.widget-view+json": {
       "model_id": "046356a3217b41f193aef1a4fff5bebb",
       "version_major": 2,
       "version_minor": 0
      },
      "text/plain": [
       "Validation: |          | 0/? [00:00<?, ?it/s]"
      ]
     },
     "metadata": {},
     "output_type": "display_data"
    },
    {
     "data": {
      "application/vnd.jupyter.widget-view+json": {
       "model_id": "34379e4a88774ddaa17da676d090a0d6",
       "version_major": 2,
       "version_minor": 0
      },
      "text/plain": [
       "Validation: |          | 0/? [00:00<?, ?it/s]"
      ]
     },
     "metadata": {},
     "output_type": "display_data"
    },
    {
     "data": {
      "application/vnd.jupyter.widget-view+json": {
       "model_id": "68307a1a25774508ab68a89347824b9e",
       "version_major": 2,
       "version_minor": 0
      },
      "text/plain": [
       "Validation: |          | 0/? [00:00<?, ?it/s]"
      ]
     },
     "metadata": {},
     "output_type": "display_data"
    },
    {
     "data": {
      "application/vnd.jupyter.widget-view+json": {
       "model_id": "42e84c3ce22b4910a1a05d9bf91d950a",
       "version_major": 2,
       "version_minor": 0
      },
      "text/plain": [
       "Validation: |          | 0/? [00:00<?, ?it/s]"
      ]
     },
     "metadata": {},
     "output_type": "display_data"
    },
    {
     "data": {
      "application/vnd.jupyter.widget-view+json": {
       "model_id": "53d5298f75e0483cb64f7f81cebef7cf",
       "version_major": 2,
       "version_minor": 0
      },
      "text/plain": [
       "Validation: |          | 0/? [00:00<?, ?it/s]"
      ]
     },
     "metadata": {},
     "output_type": "display_data"
    },
    {
     "data": {
      "application/vnd.jupyter.widget-view+json": {
       "model_id": "5f96874a2b9d4cb0ba907fc218a70757",
       "version_major": 2,
       "version_minor": 0
      },
      "text/plain": [
       "Validation: |          | 0/? [00:00<?, ?it/s]"
      ]
     },
     "metadata": {},
     "output_type": "display_data"
    },
    {
     "data": {
      "application/vnd.jupyter.widget-view+json": {
       "model_id": "d2e04891da7a432f8403b8442de7c205",
       "version_major": 2,
       "version_minor": 0
      },
      "text/plain": [
       "Validation: |          | 0/? [00:00<?, ?it/s]"
      ]
     },
     "metadata": {},
     "output_type": "display_data"
    },
    {
     "data": {
      "application/vnd.jupyter.widget-view+json": {
       "model_id": "8c6d24e3ff9d4ae3ae54b801d4369b6c",
       "version_major": 2,
       "version_minor": 0
      },
      "text/plain": [
       "Validation: |          | 0/? [00:00<?, ?it/s]"
      ]
     },
     "metadata": {},
     "output_type": "display_data"
    },
    {
     "data": {
      "application/vnd.jupyter.widget-view+json": {
       "model_id": "59edd4b7a2ac44e7b1b4c2e36c1f4c75",
       "version_major": 2,
       "version_minor": 0
      },
      "text/plain": [
       "Validation: |          | 0/? [00:00<?, ?it/s]"
      ]
     },
     "metadata": {},
     "output_type": "display_data"
    },
    {
     "data": {
      "application/vnd.jupyter.widget-view+json": {
       "model_id": "1031e3305ebd4c4a944f1e53a605f4c8",
       "version_major": 2,
       "version_minor": 0
      },
      "text/plain": [
       "Validation: |          | 0/? [00:00<?, ?it/s]"
      ]
     },
     "metadata": {},
     "output_type": "display_data"
    },
    {
     "data": {
      "application/vnd.jupyter.widget-view+json": {
       "model_id": "04aa254466a64d2297c5caee18bac66d",
       "version_major": 2,
       "version_minor": 0
      },
      "text/plain": [
       "Validation: |          | 0/? [00:00<?, ?it/s]"
      ]
     },
     "metadata": {},
     "output_type": "display_data"
    },
    {
     "data": {
      "application/vnd.jupyter.widget-view+json": {
       "model_id": "3489be8417f74f8f946f6e7c0a5af478",
       "version_major": 2,
       "version_minor": 0
      },
      "text/plain": [
       "Validation: |          | 0/? [00:00<?, ?it/s]"
      ]
     },
     "metadata": {},
     "output_type": "display_data"
    },
    {
     "data": {
      "application/vnd.jupyter.widget-view+json": {
       "model_id": "de163a825d6c4327b117f157bc7dfc65",
       "version_major": 2,
       "version_minor": 0
      },
      "text/plain": [
       "Validation: |          | 0/? [00:00<?, ?it/s]"
      ]
     },
     "metadata": {},
     "output_type": "display_data"
    },
    {
     "data": {
      "application/vnd.jupyter.widget-view+json": {
       "model_id": "9e6c457e75d148b88032fab67b46e31b",
       "version_major": 2,
       "version_minor": 0
      },
      "text/plain": [
       "Validation: |          | 0/? [00:00<?, ?it/s]"
      ]
     },
     "metadata": {},
     "output_type": "display_data"
    },
    {
     "data": {
      "application/vnd.jupyter.widget-view+json": {
       "model_id": "35033cb909a24f4da20970cd593b912e",
       "version_major": 2,
       "version_minor": 0
      },
      "text/plain": [
       "Validation: |          | 0/? [00:00<?, ?it/s]"
      ]
     },
     "metadata": {},
     "output_type": "display_data"
    },
    {
     "data": {
      "application/vnd.jupyter.widget-view+json": {
       "model_id": "6274c62c493d4a1ba9f06cd7ea2fd76d",
       "version_major": 2,
       "version_minor": 0
      },
      "text/plain": [
       "Validation: |          | 0/? [00:00<?, ?it/s]"
      ]
     },
     "metadata": {},
     "output_type": "display_data"
    },
    {
     "data": {
      "application/vnd.jupyter.widget-view+json": {
       "model_id": "c29d4e4f0e0f423a86765efdad0dd930",
       "version_major": 2,
       "version_minor": 0
      },
      "text/plain": [
       "Validation: |          | 0/? [00:00<?, ?it/s]"
      ]
     },
     "metadata": {},
     "output_type": "display_data"
    },
    {
     "data": {
      "application/vnd.jupyter.widget-view+json": {
       "model_id": "bdaff319aa1b4f51928774e6b618f0fe",
       "version_major": 2,
       "version_minor": 0
      },
      "text/plain": [
       "Validation: |          | 0/? [00:00<?, ?it/s]"
      ]
     },
     "metadata": {},
     "output_type": "display_data"
    },
    {
     "data": {
      "application/vnd.jupyter.widget-view+json": {
       "model_id": "c5dc73d41ac14095ae5edab3f92d1952",
       "version_major": 2,
       "version_minor": 0
      },
      "text/plain": [
       "Validation: |          | 0/? [00:00<?, ?it/s]"
      ]
     },
     "metadata": {},
     "output_type": "display_data"
    },
    {
     "data": {
      "application/vnd.jupyter.widget-view+json": {
       "model_id": "51fae0c54f1c4658a870beb22beea6f1",
       "version_major": 2,
       "version_minor": 0
      },
      "text/plain": [
       "Validation: |          | 0/? [00:00<?, ?it/s]"
      ]
     },
     "metadata": {},
     "output_type": "display_data"
    },
    {
     "data": {
      "application/vnd.jupyter.widget-view+json": {
       "model_id": "a8b89c4ed233482680ebb7314f02b3e7",
       "version_major": 2,
       "version_minor": 0
      },
      "text/plain": [
       "Validation: |          | 0/? [00:00<?, ?it/s]"
      ]
     },
     "metadata": {},
     "output_type": "display_data"
    },
    {
     "data": {
      "application/vnd.jupyter.widget-view+json": {
       "model_id": "a77976fa9e5f40d8a78c856215937a85",
       "version_major": 2,
       "version_minor": 0
      },
      "text/plain": [
       "Validation: |          | 0/? [00:00<?, ?it/s]"
      ]
     },
     "metadata": {},
     "output_type": "display_data"
    },
    {
     "data": {
      "application/vnd.jupyter.widget-view+json": {
       "model_id": "74933f07eab44c269d1cf4104b3dbb58",
       "version_major": 2,
       "version_minor": 0
      },
      "text/plain": [
       "Validation: |          | 0/? [00:00<?, ?it/s]"
      ]
     },
     "metadata": {},
     "output_type": "display_data"
    },
    {
     "data": {
      "application/vnd.jupyter.widget-view+json": {
       "model_id": "44c23affb66441c18a491cd7ce92b16e",
       "version_major": 2,
       "version_minor": 0
      },
      "text/plain": [
       "Validation: |          | 0/? [00:00<?, ?it/s]"
      ]
     },
     "metadata": {},
     "output_type": "display_data"
    },
    {
     "data": {
      "application/vnd.jupyter.widget-view+json": {
       "model_id": "daed2f2ab4144883ab4bc9ac8535fe5e",
       "version_major": 2,
       "version_minor": 0
      },
      "text/plain": [
       "Validation: |          | 0/? [00:00<?, ?it/s]"
      ]
     },
     "metadata": {},
     "output_type": "display_data"
    },
    {
     "data": {
      "application/vnd.jupyter.widget-view+json": {
       "model_id": "ab776dfee30a4311b1a293ad95befc5a",
       "version_major": 2,
       "version_minor": 0
      },
      "text/plain": [
       "Validation: |          | 0/? [00:00<?, ?it/s]"
      ]
     },
     "metadata": {},
     "output_type": "display_data"
    },
    {
     "data": {
      "application/vnd.jupyter.widget-view+json": {
       "model_id": "df83537ba2c944bf9e9205866e7cb462",
       "version_major": 2,
       "version_minor": 0
      },
      "text/plain": [
       "Validation: |          | 0/? [00:00<?, ?it/s]"
      ]
     },
     "metadata": {},
     "output_type": "display_data"
    },
    {
     "data": {
      "application/vnd.jupyter.widget-view+json": {
       "model_id": "1b8d8fdcb3d8482c9b59d3e67a112089",
       "version_major": 2,
       "version_minor": 0
      },
      "text/plain": [
       "Validation: |          | 0/? [00:00<?, ?it/s]"
      ]
     },
     "metadata": {},
     "output_type": "display_data"
    },
    {
     "data": {
      "application/vnd.jupyter.widget-view+json": {
       "model_id": "88abc776519246a9b4433d33b0bffe4e",
       "version_major": 2,
       "version_minor": 0
      },
      "text/plain": [
       "Validation: |          | 0/? [00:00<?, ?it/s]"
      ]
     },
     "metadata": {},
     "output_type": "display_data"
    },
    {
     "data": {
      "application/vnd.jupyter.widget-view+json": {
       "model_id": "09fa3a691d084a4b8909306211109cdb",
       "version_major": 2,
       "version_minor": 0
      },
      "text/plain": [
       "Validation: |          | 0/? [00:00<?, ?it/s]"
      ]
     },
     "metadata": {},
     "output_type": "display_data"
    },
    {
     "data": {
      "application/vnd.jupyter.widget-view+json": {
       "model_id": "5fb7e161a6904d2fbb43d9e52efe7b2d",
       "version_major": 2,
       "version_minor": 0
      },
      "text/plain": [
       "Validation: |          | 0/? [00:00<?, ?it/s]"
      ]
     },
     "metadata": {},
     "output_type": "display_data"
    },
    {
     "data": {
      "application/vnd.jupyter.widget-view+json": {
       "model_id": "29ce53dcd7274e3ea71649d4b0f66184",
       "version_major": 2,
       "version_minor": 0
      },
      "text/plain": [
       "Validation: |          | 0/? [00:00<?, ?it/s]"
      ]
     },
     "metadata": {},
     "output_type": "display_data"
    },
    {
     "data": {
      "application/vnd.jupyter.widget-view+json": {
       "model_id": "c10b421d67bd4905890ceed0f11152d0",
       "version_major": 2,
       "version_minor": 0
      },
      "text/plain": [
       "Validation: |          | 0/? [00:00<?, ?it/s]"
      ]
     },
     "metadata": {},
     "output_type": "display_data"
    },
    {
     "data": {
      "application/vnd.jupyter.widget-view+json": {
       "model_id": "41aadcc95a5047b79ea64bd4d57e3c6a",
       "version_major": 2,
       "version_minor": 0
      },
      "text/plain": [
       "Validation: |          | 0/? [00:00<?, ?it/s]"
      ]
     },
     "metadata": {},
     "output_type": "display_data"
    },
    {
     "data": {
      "application/vnd.jupyter.widget-view+json": {
       "model_id": "a5d13a3949dd4e6c8e173414abb78107",
       "version_major": 2,
       "version_minor": 0
      },
      "text/plain": [
       "Validation: |          | 0/? [00:00<?, ?it/s]"
      ]
     },
     "metadata": {},
     "output_type": "display_data"
    },
    {
     "data": {
      "application/vnd.jupyter.widget-view+json": {
       "model_id": "ca70acbc8faa4f5cada0bd992fa698e8",
       "version_major": 2,
       "version_minor": 0
      },
      "text/plain": [
       "Validation: |          | 0/? [00:00<?, ?it/s]"
      ]
     },
     "metadata": {},
     "output_type": "display_data"
    },
    {
     "data": {
      "application/vnd.jupyter.widget-view+json": {
       "model_id": "bb430ca45758471da8af873933490c21",
       "version_major": 2,
       "version_minor": 0
      },
      "text/plain": [
       "Validation: |          | 0/? [00:00<?, ?it/s]"
      ]
     },
     "metadata": {},
     "output_type": "display_data"
    },
    {
     "data": {
      "application/vnd.jupyter.widget-view+json": {
       "model_id": "d5e47c8edecd4bb19297b98c37a3a496",
       "version_major": 2,
       "version_minor": 0
      },
      "text/plain": [
       "Validation: |          | 0/? [00:00<?, ?it/s]"
      ]
     },
     "metadata": {},
     "output_type": "display_data"
    },
    {
     "data": {
      "application/vnd.jupyter.widget-view+json": {
       "model_id": "092c75f4db6d4a8c99023465da46846b",
       "version_major": 2,
       "version_minor": 0
      },
      "text/plain": [
       "Validation: |          | 0/? [00:00<?, ?it/s]"
      ]
     },
     "metadata": {},
     "output_type": "display_data"
    },
    {
     "data": {
      "application/vnd.jupyter.widget-view+json": {
       "model_id": "1b2851c0ca7f4391a03639319a5990c7",
       "version_major": 2,
       "version_minor": 0
      },
      "text/plain": [
       "Validation: |          | 0/? [00:00<?, ?it/s]"
      ]
     },
     "metadata": {},
     "output_type": "display_data"
    },
    {
     "data": {
      "application/vnd.jupyter.widget-view+json": {
       "model_id": "14f6029000d844e2b41a5e96391686b6",
       "version_major": 2,
       "version_minor": 0
      },
      "text/plain": [
       "Validation: |          | 0/? [00:00<?, ?it/s]"
      ]
     },
     "metadata": {},
     "output_type": "display_data"
    },
    {
     "data": {
      "application/vnd.jupyter.widget-view+json": {
       "model_id": "59de95ab6cfa43a9bf699600ae743301",
       "version_major": 2,
       "version_minor": 0
      },
      "text/plain": [
       "Validation: |          | 0/? [00:00<?, ?it/s]"
      ]
     },
     "metadata": {},
     "output_type": "display_data"
    },
    {
     "data": {
      "application/vnd.jupyter.widget-view+json": {
       "model_id": "bab23b52ccac443c8c6a373716a805b9",
       "version_major": 2,
       "version_minor": 0
      },
      "text/plain": [
       "Validation: |          | 0/? [00:00<?, ?it/s]"
      ]
     },
     "metadata": {},
     "output_type": "display_data"
    },
    {
     "data": {
      "application/vnd.jupyter.widget-view+json": {
       "model_id": "d083f9da102249c3bb9c4b062a1898f5",
       "version_major": 2,
       "version_minor": 0
      },
      "text/plain": [
       "Validation: |          | 0/? [00:00<?, ?it/s]"
      ]
     },
     "metadata": {},
     "output_type": "display_data"
    },
    {
     "data": {
      "application/vnd.jupyter.widget-view+json": {
       "model_id": "0bb260037e2f48fc9086de7bc6eb0a46",
       "version_major": 2,
       "version_minor": 0
      },
      "text/plain": [
       "Validation: |          | 0/? [00:00<?, ?it/s]"
      ]
     },
     "metadata": {},
     "output_type": "display_data"
    },
    {
     "data": {
      "application/vnd.jupyter.widget-view+json": {
       "model_id": "35da56b6ba2f4f7aaefc674458ccee0e",
       "version_major": 2,
       "version_minor": 0
      },
      "text/plain": [
       "Validation: |          | 0/? [00:00<?, ?it/s]"
      ]
     },
     "metadata": {},
     "output_type": "display_data"
    },
    {
     "data": {
      "application/vnd.jupyter.widget-view+json": {
       "model_id": "c5dbc0a3bafa476cb5f46dc568e67c50",
       "version_major": 2,
       "version_minor": 0
      },
      "text/plain": [
       "Validation: |          | 0/? [00:00<?, ?it/s]"
      ]
     },
     "metadata": {},
     "output_type": "display_data"
    },
    {
     "data": {
      "application/vnd.jupyter.widget-view+json": {
       "model_id": "7fcdc650c18c4517843a53588a253eba",
       "version_major": 2,
       "version_minor": 0
      },
      "text/plain": [
       "Validation: |          | 0/? [00:00<?, ?it/s]"
      ]
     },
     "metadata": {},
     "output_type": "display_data"
    },
    {
     "data": {
      "application/vnd.jupyter.widget-view+json": {
       "model_id": "eb1a47f286ae4789b2731318c867ebef",
       "version_major": 2,
       "version_minor": 0
      },
      "text/plain": [
       "Validation: |          | 0/? [00:00<?, ?it/s]"
      ]
     },
     "metadata": {},
     "output_type": "display_data"
    },
    {
     "data": {
      "application/vnd.jupyter.widget-view+json": {
       "model_id": "c9b04bbfeec44069953a8ce3ecba4382",
       "version_major": 2,
       "version_minor": 0
      },
      "text/plain": [
       "Validation: |          | 0/? [00:00<?, ?it/s]"
      ]
     },
     "metadata": {},
     "output_type": "display_data"
    },
    {
     "data": {
      "application/vnd.jupyter.widget-view+json": {
       "model_id": "7ec2a19a70c146ddbb82ac4c3207307e",
       "version_major": 2,
       "version_minor": 0
      },
      "text/plain": [
       "Validation: |          | 0/? [00:00<?, ?it/s]"
      ]
     },
     "metadata": {},
     "output_type": "display_data"
    },
    {
     "data": {
      "application/vnd.jupyter.widget-view+json": {
       "model_id": "391cd9b1f1c44757b3d1662e38474500",
       "version_major": 2,
       "version_minor": 0
      },
      "text/plain": [
       "Validation: |          | 0/? [00:00<?, ?it/s]"
      ]
     },
     "metadata": {},
     "output_type": "display_data"
    },
    {
     "data": {
      "application/vnd.jupyter.widget-view+json": {
       "model_id": "c56180670ce042efbd1d7cdd6996f579",
       "version_major": 2,
       "version_minor": 0
      },
      "text/plain": [
       "Validation: |          | 0/? [00:00<?, ?it/s]"
      ]
     },
     "metadata": {},
     "output_type": "display_data"
    },
    {
     "data": {
      "application/vnd.jupyter.widget-view+json": {
       "model_id": "1ddf5296585d46eeaf78a53c262b309c",
       "version_major": 2,
       "version_minor": 0
      },
      "text/plain": [
       "Validation: |          | 0/? [00:00<?, ?it/s]"
      ]
     },
     "metadata": {},
     "output_type": "display_data"
    },
    {
     "data": {
      "application/vnd.jupyter.widget-view+json": {
       "model_id": "b1e4c9f9a13149f9bf83561c317aac2c",
       "version_major": 2,
       "version_minor": 0
      },
      "text/plain": [
       "Validation: |          | 0/? [00:00<?, ?it/s]"
      ]
     },
     "metadata": {},
     "output_type": "display_data"
    },
    {
     "data": {
      "application/vnd.jupyter.widget-view+json": {
       "model_id": "1001114d668e40ce98c1c177ccdf5e15",
       "version_major": 2,
       "version_minor": 0
      },
      "text/plain": [
       "Validation: |          | 0/? [00:00<?, ?it/s]"
      ]
     },
     "metadata": {},
     "output_type": "display_data"
    },
    {
     "data": {
      "application/vnd.jupyter.widget-view+json": {
       "model_id": "89fc2436aec64843a75e19c1ccf4c178",
       "version_major": 2,
       "version_minor": 0
      },
      "text/plain": [
       "Validation: |          | 0/? [00:00<?, ?it/s]"
      ]
     },
     "metadata": {},
     "output_type": "display_data"
    },
    {
     "data": {
      "application/vnd.jupyter.widget-view+json": {
       "model_id": "2b3dce2921b24db9b59101b6991da11f",
       "version_major": 2,
       "version_minor": 0
      },
      "text/plain": [
       "Validation: |          | 0/? [00:00<?, ?it/s]"
      ]
     },
     "metadata": {},
     "output_type": "display_data"
    },
    {
     "data": {
      "application/vnd.jupyter.widget-view+json": {
       "model_id": "88af8f9572314bf99e340fc7bd4f9c4d",
       "version_major": 2,
       "version_minor": 0
      },
      "text/plain": [
       "Validation: |          | 0/? [00:00<?, ?it/s]"
      ]
     },
     "metadata": {},
     "output_type": "display_data"
    },
    {
     "data": {
      "application/vnd.jupyter.widget-view+json": {
       "model_id": "d4f992d1834e4078a393c53f675eb3f0",
       "version_major": 2,
       "version_minor": 0
      },
      "text/plain": [
       "Validation: |          | 0/? [00:00<?, ?it/s]"
      ]
     },
     "metadata": {},
     "output_type": "display_data"
    },
    {
     "data": {
      "application/vnd.jupyter.widget-view+json": {
       "model_id": "9a3aed417718451f8a70da984b5932f8",
       "version_major": 2,
       "version_minor": 0
      },
      "text/plain": [
       "Validation: |          | 0/? [00:00<?, ?it/s]"
      ]
     },
     "metadata": {},
     "output_type": "display_data"
    },
    {
     "data": {
      "application/vnd.jupyter.widget-view+json": {
       "model_id": "155854ed6b564a24a6ffc650a08a83c1",
       "version_major": 2,
       "version_minor": 0
      },
      "text/plain": [
       "Validation: |          | 0/? [00:00<?, ?it/s]"
      ]
     },
     "metadata": {},
     "output_type": "display_data"
    },
    {
     "data": {
      "application/vnd.jupyter.widget-view+json": {
       "model_id": "27ff3e2fcd4c4d70b52e988e7519871d",
       "version_major": 2,
       "version_minor": 0
      },
      "text/plain": [
       "Validation: |          | 0/? [00:00<?, ?it/s]"
      ]
     },
     "metadata": {},
     "output_type": "display_data"
    },
    {
     "data": {
      "application/vnd.jupyter.widget-view+json": {
       "model_id": "1cd971615a2d4f658a6bda0492997ea9",
       "version_major": 2,
       "version_minor": 0
      },
      "text/plain": [
       "Validation: |          | 0/? [00:00<?, ?it/s]"
      ]
     },
     "metadata": {},
     "output_type": "display_data"
    },
    {
     "data": {
      "application/vnd.jupyter.widget-view+json": {
       "model_id": "c0896b34c1b34c60bfdc5919e2fc91a7",
       "version_major": 2,
       "version_minor": 0
      },
      "text/plain": [
       "Validation: |          | 0/? [00:00<?, ?it/s]"
      ]
     },
     "metadata": {},
     "output_type": "display_data"
    },
    {
     "data": {
      "application/vnd.jupyter.widget-view+json": {
       "model_id": "b600e110cedf435ca6b78ff8b3dcc98c",
       "version_major": 2,
       "version_minor": 0
      },
      "text/plain": [
       "Validation: |          | 0/? [00:00<?, ?it/s]"
      ]
     },
     "metadata": {},
     "output_type": "display_data"
    },
    {
     "data": {
      "application/vnd.jupyter.widget-view+json": {
       "model_id": "e3915a56411a4ed082a5d98b34986fc5",
       "version_major": 2,
       "version_minor": 0
      },
      "text/plain": [
       "Validation: |          | 0/? [00:00<?, ?it/s]"
      ]
     },
     "metadata": {},
     "output_type": "display_data"
    },
    {
     "data": {
      "application/vnd.jupyter.widget-view+json": {
       "model_id": "7e0b481840e9497193a0370b8f510066",
       "version_major": 2,
       "version_minor": 0
      },
      "text/plain": [
       "Validation: |          | 0/? [00:00<?, ?it/s]"
      ]
     },
     "metadata": {},
     "output_type": "display_data"
    },
    {
     "data": {
      "application/vnd.jupyter.widget-view+json": {
       "model_id": "1670cf20f0174a25a919019f703bc26e",
       "version_major": 2,
       "version_minor": 0
      },
      "text/plain": [
       "Validation: |          | 0/? [00:00<?, ?it/s]"
      ]
     },
     "metadata": {},
     "output_type": "display_data"
    },
    {
     "data": {
      "application/vnd.jupyter.widget-view+json": {
       "model_id": "14bdf8bb7ac54a00931770870141ff01",
       "version_major": 2,
       "version_minor": 0
      },
      "text/plain": [
       "Validation: |          | 0/? [00:00<?, ?it/s]"
      ]
     },
     "metadata": {},
     "output_type": "display_data"
    },
    {
     "data": {
      "application/vnd.jupyter.widget-view+json": {
       "model_id": "5163edbd702a4bb58c516dfca7cbe659",
       "version_major": 2,
       "version_minor": 0
      },
      "text/plain": [
       "Validation: |          | 0/? [00:00<?, ?it/s]"
      ]
     },
     "metadata": {},
     "output_type": "display_data"
    },
    {
     "data": {
      "application/vnd.jupyter.widget-view+json": {
       "model_id": "67cc5dd97852495382c3f5420f12419f",
       "version_major": 2,
       "version_minor": 0
      },
      "text/plain": [
       "Validation: |          | 0/? [00:00<?, ?it/s]"
      ]
     },
     "metadata": {},
     "output_type": "display_data"
    },
    {
     "data": {
      "application/vnd.jupyter.widget-view+json": {
       "model_id": "1be24c366f8c4b1298dbdd3ee95e8ba7",
       "version_major": 2,
       "version_minor": 0
      },
      "text/plain": [
       "Validation: |          | 0/? [00:00<?, ?it/s]"
      ]
     },
     "metadata": {},
     "output_type": "display_data"
    },
    {
     "data": {
      "application/vnd.jupyter.widget-view+json": {
       "model_id": "f94fecb6d75f4f54936df5440ac4915b",
       "version_major": 2,
       "version_minor": 0
      },
      "text/plain": [
       "Validation: |          | 0/? [00:00<?, ?it/s]"
      ]
     },
     "metadata": {},
     "output_type": "display_data"
    },
    {
     "data": {
      "application/vnd.jupyter.widget-view+json": {
       "model_id": "447233f66fe4454bacdf39bbf9ce44dd",
       "version_major": 2,
       "version_minor": 0
      },
      "text/plain": [
       "Validation: |          | 0/? [00:00<?, ?it/s]"
      ]
     },
     "metadata": {},
     "output_type": "display_data"
    },
    {
     "data": {
      "application/vnd.jupyter.widget-view+json": {
       "model_id": "f772c7fd9b4a49259881828bf400cbf8",
       "version_major": 2,
       "version_minor": 0
      },
      "text/plain": [
       "Validation: |          | 0/? [00:00<?, ?it/s]"
      ]
     },
     "metadata": {},
     "output_type": "display_data"
    },
    {
     "data": {
      "application/vnd.jupyter.widget-view+json": {
       "model_id": "f3e480065e744702a1e9c9cd6cc678ed",
       "version_major": 2,
       "version_minor": 0
      },
      "text/plain": [
       "Validation: |          | 0/? [00:00<?, ?it/s]"
      ]
     },
     "metadata": {},
     "output_type": "display_data"
    },
    {
     "data": {
      "application/vnd.jupyter.widget-view+json": {
       "model_id": "e8ae60920eb24b36ad601aba824bc2a5",
       "version_major": 2,
       "version_minor": 0
      },
      "text/plain": [
       "Validation: |          | 0/? [00:00<?, ?it/s]"
      ]
     },
     "metadata": {},
     "output_type": "display_data"
    },
    {
     "data": {
      "application/vnd.jupyter.widget-view+json": {
       "model_id": "da2b9cfe74f44d7480cdbdb389650884",
       "version_major": 2,
       "version_minor": 0
      },
      "text/plain": [
       "Validation: |          | 0/? [00:00<?, ?it/s]"
      ]
     },
     "metadata": {},
     "output_type": "display_data"
    },
    {
     "data": {
      "application/vnd.jupyter.widget-view+json": {
       "model_id": "17ae3d5dc1bc40a6ae057560795e9943",
       "version_major": 2,
       "version_minor": 0
      },
      "text/plain": [
       "Validation: |          | 0/? [00:00<?, ?it/s]"
      ]
     },
     "metadata": {},
     "output_type": "display_data"
    },
    {
     "data": {
      "application/vnd.jupyter.widget-view+json": {
       "model_id": "56e83d65ccbb4b928fb9f406232c519c",
       "version_major": 2,
       "version_minor": 0
      },
      "text/plain": [
       "Validation: |          | 0/? [00:00<?, ?it/s]"
      ]
     },
     "metadata": {},
     "output_type": "display_data"
    },
    {
     "data": {
      "application/vnd.jupyter.widget-view+json": {
       "model_id": "344d8a2a010745778eb14061dfee81ea",
       "version_major": 2,
       "version_minor": 0
      },
      "text/plain": [
       "Validation: |          | 0/? [00:00<?, ?it/s]"
      ]
     },
     "metadata": {},
     "output_type": "display_data"
    },
    {
     "data": {
      "application/vnd.jupyter.widget-view+json": {
       "model_id": "519f071f98fe454a9f239a25a4608e6c",
       "version_major": 2,
       "version_minor": 0
      },
      "text/plain": [
       "Validation: |          | 0/? [00:00<?, ?it/s]"
      ]
     },
     "metadata": {},
     "output_type": "display_data"
    },
    {
     "data": {
      "application/vnd.jupyter.widget-view+json": {
       "model_id": "01fba4b81b4e4848b3b254b5b27f3c10",
       "version_major": 2,
       "version_minor": 0
      },
      "text/plain": [
       "Validation: |          | 0/? [00:00<?, ?it/s]"
      ]
     },
     "metadata": {},
     "output_type": "display_data"
    },
    {
     "data": {
      "application/vnd.jupyter.widget-view+json": {
       "model_id": "9475c35a1a8d4040b59efffbb4f56963",
       "version_major": 2,
       "version_minor": 0
      },
      "text/plain": [
       "Validation: |          | 0/? [00:00<?, ?it/s]"
      ]
     },
     "metadata": {},
     "output_type": "display_data"
    },
    {
     "data": {
      "application/vnd.jupyter.widget-view+json": {
       "model_id": "be3c432176814e61826ef43322054647",
       "version_major": 2,
       "version_minor": 0
      },
      "text/plain": [
       "Validation: |          | 0/? [00:00<?, ?it/s]"
      ]
     },
     "metadata": {},
     "output_type": "display_data"
    },
    {
     "data": {
      "application/vnd.jupyter.widget-view+json": {
       "model_id": "7fc23eecd10b47b0aa57254de26967b1",
       "version_major": 2,
       "version_minor": 0
      },
      "text/plain": [
       "Validation: |          | 0/? [00:00<?, ?it/s]"
      ]
     },
     "metadata": {},
     "output_type": "display_data"
    },
    {
     "data": {
      "application/vnd.jupyter.widget-view+json": {
       "model_id": "0b91a8ac5dfa4caaa1dd3aa1b66b2ac8",
       "version_major": 2,
       "version_minor": 0
      },
      "text/plain": [
       "Validation: |          | 0/? [00:00<?, ?it/s]"
      ]
     },
     "metadata": {},
     "output_type": "display_data"
    },
    {
     "data": {
      "application/vnd.jupyter.widget-view+json": {
       "model_id": "1eba76f16b4f4abf990a456d9ebfc8d8",
       "version_major": 2,
       "version_minor": 0
      },
      "text/plain": [
       "Validation: |          | 0/? [00:00<?, ?it/s]"
      ]
     },
     "metadata": {},
     "output_type": "display_data"
    },
    {
     "data": {
      "application/vnd.jupyter.widget-view+json": {
       "model_id": "4c2f730c0b124c16b3ec73de045f513b",
       "version_major": 2,
       "version_minor": 0
      },
      "text/plain": [
       "Validation: |          | 0/? [00:00<?, ?it/s]"
      ]
     },
     "metadata": {},
     "output_type": "display_data"
    },
    {
     "data": {
      "application/vnd.jupyter.widget-view+json": {
       "model_id": "55afbae2117146d1ac3d3f6e4d5ced58",
       "version_major": 2,
       "version_minor": 0
      },
      "text/plain": [
       "Validation: |          | 0/? [00:00<?, ?it/s]"
      ]
     },
     "metadata": {},
     "output_type": "display_data"
    },
    {
     "data": {
      "application/vnd.jupyter.widget-view+json": {
       "model_id": "3ea211bae3ff4ef088d49cfc44486d31",
       "version_major": 2,
       "version_minor": 0
      },
      "text/plain": [
       "Validation: |          | 0/? [00:00<?, ?it/s]"
      ]
     },
     "metadata": {},
     "output_type": "display_data"
    },
    {
     "data": {
      "application/vnd.jupyter.widget-view+json": {
       "model_id": "712a7d5d59ab4a2c8a92861a5e0631d2",
       "version_major": 2,
       "version_minor": 0
      },
      "text/plain": [
       "Validation: |          | 0/? [00:00<?, ?it/s]"
      ]
     },
     "metadata": {},
     "output_type": "display_data"
    },
    {
     "data": {
      "application/vnd.jupyter.widget-view+json": {
       "model_id": "1800d84f72a74b52b78f0520336f2de6",
       "version_major": 2,
       "version_minor": 0
      },
      "text/plain": [
       "Validation: |          | 0/? [00:00<?, ?it/s]"
      ]
     },
     "metadata": {},
     "output_type": "display_data"
    },
    {
     "data": {
      "application/vnd.jupyter.widget-view+json": {
       "model_id": "ba63ebd175ad46fba46a869861dc3f81",
       "version_major": 2,
       "version_minor": 0
      },
      "text/plain": [
       "Validation: |          | 0/? [00:00<?, ?it/s]"
      ]
     },
     "metadata": {},
     "output_type": "display_data"
    },
    {
     "data": {
      "application/vnd.jupyter.widget-view+json": {
       "model_id": "15c46d52c5274ed28f701ab85cbb74fe",
       "version_major": 2,
       "version_minor": 0
      },
      "text/plain": [
       "Validation: |          | 0/? [00:00<?, ?it/s]"
      ]
     },
     "metadata": {},
     "output_type": "display_data"
    },
    {
     "data": {
      "application/vnd.jupyter.widget-view+json": {
       "model_id": "b1d959d6f0f44782bfe58483be511bf6",
       "version_major": 2,
       "version_minor": 0
      },
      "text/plain": [
       "Validation: |          | 0/? [00:00<?, ?it/s]"
      ]
     },
     "metadata": {},
     "output_type": "display_data"
    },
    {
     "data": {
      "application/vnd.jupyter.widget-view+json": {
       "model_id": "ea83507d2bf44674b24ca53bccdaaa75",
       "version_major": 2,
       "version_minor": 0
      },
      "text/plain": [
       "Validation: |          | 0/? [00:00<?, ?it/s]"
      ]
     },
     "metadata": {},
     "output_type": "display_data"
    },
    {
     "data": {
      "application/vnd.jupyter.widget-view+json": {
       "model_id": "8eee50e3129a4d668e36a081b5cb7f86",
       "version_major": 2,
       "version_minor": 0
      },
      "text/plain": [
       "Validation: |          | 0/? [00:00<?, ?it/s]"
      ]
     },
     "metadata": {},
     "output_type": "display_data"
    },
    {
     "data": {
      "application/vnd.jupyter.widget-view+json": {
       "model_id": "49d4b08dc0cd469baf4690301a35b67e",
       "version_major": 2,
       "version_minor": 0
      },
      "text/plain": [
       "Validation: |          | 0/? [00:00<?, ?it/s]"
      ]
     },
     "metadata": {},
     "output_type": "display_data"
    },
    {
     "data": {
      "application/vnd.jupyter.widget-view+json": {
       "model_id": "5c5745b1a1a9424ebe146fda28f926a8",
       "version_major": 2,
       "version_minor": 0
      },
      "text/plain": [
       "Validation: |          | 0/? [00:00<?, ?it/s]"
      ]
     },
     "metadata": {},
     "output_type": "display_data"
    },
    {
     "data": {
      "application/vnd.jupyter.widget-view+json": {
       "model_id": "f5c6ff3d18754953bc8c494e1eb097c4",
       "version_major": 2,
       "version_minor": 0
      },
      "text/plain": [
       "Validation: |          | 0/? [00:00<?, ?it/s]"
      ]
     },
     "metadata": {},
     "output_type": "display_data"
    },
    {
     "data": {
      "application/vnd.jupyter.widget-view+json": {
       "model_id": "cd1d93aed5c5402f86643bc1be86da87",
       "version_major": 2,
       "version_minor": 0
      },
      "text/plain": [
       "Validation: |          | 0/? [00:00<?, ?it/s]"
      ]
     },
     "metadata": {},
     "output_type": "display_data"
    },
    {
     "data": {
      "application/vnd.jupyter.widget-view+json": {
       "model_id": "3975e86b2fb34059bc84ea3f1cdb6560",
       "version_major": 2,
       "version_minor": 0
      },
      "text/plain": [
       "Validation: |          | 0/? [00:00<?, ?it/s]"
      ]
     },
     "metadata": {},
     "output_type": "display_data"
    },
    {
     "data": {
      "application/vnd.jupyter.widget-view+json": {
       "model_id": "126518ef4d5c41d8a4982621f2becbdc",
       "version_major": 2,
       "version_minor": 0
      },
      "text/plain": [
       "Validation: |          | 0/? [00:00<?, ?it/s]"
      ]
     },
     "metadata": {},
     "output_type": "display_data"
    },
    {
     "data": {
      "application/vnd.jupyter.widget-view+json": {
       "model_id": "be075bb3ef3a4012aa8cea7fa93b348d",
       "version_major": 2,
       "version_minor": 0
      },
      "text/plain": [
       "Validation: |          | 0/? [00:00<?, ?it/s]"
      ]
     },
     "metadata": {},
     "output_type": "display_data"
    },
    {
     "data": {
      "application/vnd.jupyter.widget-view+json": {
       "model_id": "8577d9e83c16491fbd85ae1c42907da7",
       "version_major": 2,
       "version_minor": 0
      },
      "text/plain": [
       "Validation: |          | 0/? [00:00<?, ?it/s]"
      ]
     },
     "metadata": {},
     "output_type": "display_data"
    },
    {
     "data": {
      "application/vnd.jupyter.widget-view+json": {
       "model_id": "54b480cd50134d6e99689402dd8e74af",
       "version_major": 2,
       "version_minor": 0
      },
      "text/plain": [
       "Validation: |          | 0/? [00:00<?, ?it/s]"
      ]
     },
     "metadata": {},
     "output_type": "display_data"
    },
    {
     "data": {
      "application/vnd.jupyter.widget-view+json": {
       "model_id": "a50806c7ef364bc1a98432a8fb1726d6",
       "version_major": 2,
       "version_minor": 0
      },
      "text/plain": [
       "Validation: |          | 0/? [00:00<?, ?it/s]"
      ]
     },
     "metadata": {},
     "output_type": "display_data"
    },
    {
     "data": {
      "application/vnd.jupyter.widget-view+json": {
       "model_id": "77a8f89e643c48bb982455ff8a5c4df4",
       "version_major": 2,
       "version_minor": 0
      },
      "text/plain": [
       "Validation: |          | 0/? [00:00<?, ?it/s]"
      ]
     },
     "metadata": {},
     "output_type": "display_data"
    },
    {
     "data": {
      "application/vnd.jupyter.widget-view+json": {
       "model_id": "09a6442877b34e0d9d6dd94a2e86c4b4",
       "version_major": 2,
       "version_minor": 0
      },
      "text/plain": [
       "Validation: |          | 0/? [00:00<?, ?it/s]"
      ]
     },
     "metadata": {},
     "output_type": "display_data"
    },
    {
     "data": {
      "application/vnd.jupyter.widget-view+json": {
       "model_id": "cb75f21dee584bfbaccb2349aeef2e50",
       "version_major": 2,
       "version_minor": 0
      },
      "text/plain": [
       "Validation: |          | 0/? [00:00<?, ?it/s]"
      ]
     },
     "metadata": {},
     "output_type": "display_data"
    },
    {
     "data": {
      "application/vnd.jupyter.widget-view+json": {
       "model_id": "54ff6036353f4ea5a4c7983048cca3b4",
       "version_major": 2,
       "version_minor": 0
      },
      "text/plain": [
       "Validation: |          | 0/? [00:00<?, ?it/s]"
      ]
     },
     "metadata": {},
     "output_type": "display_data"
    },
    {
     "data": {
      "application/vnd.jupyter.widget-view+json": {
       "model_id": "393c1405dba44515aabbb31ca3167043",
       "version_major": 2,
       "version_minor": 0
      },
      "text/plain": [
       "Validation: |          | 0/? [00:00<?, ?it/s]"
      ]
     },
     "metadata": {},
     "output_type": "display_data"
    },
    {
     "data": {
      "application/vnd.jupyter.widget-view+json": {
       "model_id": "65bcf861298f4b44ac17bb2da8ae3ab3",
       "version_major": 2,
       "version_minor": 0
      },
      "text/plain": [
       "Validation: |          | 0/? [00:00<?, ?it/s]"
      ]
     },
     "metadata": {},
     "output_type": "display_data"
    },
    {
     "data": {
      "application/vnd.jupyter.widget-view+json": {
       "model_id": "75f4e0f49b3c433da8624aa6b52005fa",
       "version_major": 2,
       "version_minor": 0
      },
      "text/plain": [
       "Validation: |          | 0/? [00:00<?, ?it/s]"
      ]
     },
     "metadata": {},
     "output_type": "display_data"
    },
    {
     "data": {
      "application/vnd.jupyter.widget-view+json": {
       "model_id": "ca05f38364484604bd14c97db753069c",
       "version_major": 2,
       "version_minor": 0
      },
      "text/plain": [
       "Validation: |          | 0/? [00:00<?, ?it/s]"
      ]
     },
     "metadata": {},
     "output_type": "display_data"
    },
    {
     "data": {
      "application/vnd.jupyter.widget-view+json": {
       "model_id": "7f92c9a882174018914015df0737b49f",
       "version_major": 2,
       "version_minor": 0
      },
      "text/plain": [
       "Validation: |          | 0/? [00:00<?, ?it/s]"
      ]
     },
     "metadata": {},
     "output_type": "display_data"
    },
    {
     "data": {
      "application/vnd.jupyter.widget-view+json": {
       "model_id": "060ff8b1ceae460f99a6bfcf0d6c848b",
       "version_major": 2,
       "version_minor": 0
      },
      "text/plain": [
       "Validation: |          | 0/? [00:00<?, ?it/s]"
      ]
     },
     "metadata": {},
     "output_type": "display_data"
    },
    {
     "data": {
      "application/vnd.jupyter.widget-view+json": {
       "model_id": "7d977f135fac4cc1b01a819243fe661d",
       "version_major": 2,
       "version_minor": 0
      },
      "text/plain": [
       "Validation: |          | 0/? [00:00<?, ?it/s]"
      ]
     },
     "metadata": {},
     "output_type": "display_data"
    },
    {
     "data": {
      "application/vnd.jupyter.widget-view+json": {
       "model_id": "2235216da4f146e1937d19b5047fd6b2",
       "version_major": 2,
       "version_minor": 0
      },
      "text/plain": [
       "Validation: |          | 0/? [00:00<?, ?it/s]"
      ]
     },
     "metadata": {},
     "output_type": "display_data"
    },
    {
     "data": {
      "application/vnd.jupyter.widget-view+json": {
       "model_id": "b126a3915e784aa0a2e5c231ffec7e46",
       "version_major": 2,
       "version_minor": 0
      },
      "text/plain": [
       "Validation: |          | 0/? [00:00<?, ?it/s]"
      ]
     },
     "metadata": {},
     "output_type": "display_data"
    },
    {
     "data": {
      "application/vnd.jupyter.widget-view+json": {
       "model_id": "55f6d52bf4c24f97a6fe7a7462f1384c",
       "version_major": 2,
       "version_minor": 0
      },
      "text/plain": [
       "Validation: |          | 0/? [00:00<?, ?it/s]"
      ]
     },
     "metadata": {},
     "output_type": "display_data"
    },
    {
     "data": {
      "application/vnd.jupyter.widget-view+json": {
       "model_id": "504465be6011445faf00d54fcebb8d2a",
       "version_major": 2,
       "version_minor": 0
      },
      "text/plain": [
       "Validation: |          | 0/? [00:00<?, ?it/s]"
      ]
     },
     "metadata": {},
     "output_type": "display_data"
    },
    {
     "data": {
      "application/vnd.jupyter.widget-view+json": {
       "model_id": "3f378f666f334e93bfd41c0d289c877e",
       "version_major": 2,
       "version_minor": 0
      },
      "text/plain": [
       "Validation: |          | 0/? [00:00<?, ?it/s]"
      ]
     },
     "metadata": {},
     "output_type": "display_data"
    },
    {
     "data": {
      "application/vnd.jupyter.widget-view+json": {
       "model_id": "270be04c4c51445c90898f60f3c13dbf",
       "version_major": 2,
       "version_minor": 0
      },
      "text/plain": [
       "Validation: |          | 0/? [00:00<?, ?it/s]"
      ]
     },
     "metadata": {},
     "output_type": "display_data"
    },
    {
     "data": {
      "application/vnd.jupyter.widget-view+json": {
       "model_id": "9cc7d35fa0af42e5a18688f386fdcec0",
       "version_major": 2,
       "version_minor": 0
      },
      "text/plain": [
       "Validation: |          | 0/? [00:00<?, ?it/s]"
      ]
     },
     "metadata": {},
     "output_type": "display_data"
    },
    {
     "data": {
      "application/vnd.jupyter.widget-view+json": {
       "model_id": "bedfebcac17c4a8099fca8b2dde7fd70",
       "version_major": 2,
       "version_minor": 0
      },
      "text/plain": [
       "Validation: |          | 0/? [00:00<?, ?it/s]"
      ]
     },
     "metadata": {},
     "output_type": "display_data"
    },
    {
     "data": {
      "application/vnd.jupyter.widget-view+json": {
       "model_id": "2c1c3b52999a44a5828b4ea50b3d54cd",
       "version_major": 2,
       "version_minor": 0
      },
      "text/plain": [
       "Validation: |          | 0/? [00:00<?, ?it/s]"
      ]
     },
     "metadata": {},
     "output_type": "display_data"
    },
    {
     "data": {
      "application/vnd.jupyter.widget-view+json": {
       "model_id": "bb6ba27a6a6f4e908bffc056752bb1f1",
       "version_major": 2,
       "version_minor": 0
      },
      "text/plain": [
       "Validation: |          | 0/? [00:00<?, ?it/s]"
      ]
     },
     "metadata": {},
     "output_type": "display_data"
    },
    {
     "data": {
      "application/vnd.jupyter.widget-view+json": {
       "model_id": "bcb53ab4e85e4afe8de8df7e6dfd9c66",
       "version_major": 2,
       "version_minor": 0
      },
      "text/plain": [
       "Validation: |          | 0/? [00:00<?, ?it/s]"
      ]
     },
     "metadata": {},
     "output_type": "display_data"
    },
    {
     "data": {
      "application/vnd.jupyter.widget-view+json": {
       "model_id": "8d0d4c6a34474a2f868b2b3b553bc7e4",
       "version_major": 2,
       "version_minor": 0
      },
      "text/plain": [
       "Validation: |          | 0/? [00:00<?, ?it/s]"
      ]
     },
     "metadata": {},
     "output_type": "display_data"
    },
    {
     "data": {
      "application/vnd.jupyter.widget-view+json": {
       "model_id": "31e53f2b093b4622b38eeda1f65fdc91",
       "version_major": 2,
       "version_minor": 0
      },
      "text/plain": [
       "Validation: |          | 0/? [00:00<?, ?it/s]"
      ]
     },
     "metadata": {},
     "output_type": "display_data"
    },
    {
     "data": {
      "application/vnd.jupyter.widget-view+json": {
       "model_id": "b34858527fc14e60a47457d6a1f5d80a",
       "version_major": 2,
       "version_minor": 0
      },
      "text/plain": [
       "Validation: |          | 0/? [00:00<?, ?it/s]"
      ]
     },
     "metadata": {},
     "output_type": "display_data"
    },
    {
     "data": {
      "application/vnd.jupyter.widget-view+json": {
       "model_id": "9f66adc4dbb44b1cb1a333a31ac45b3a",
       "version_major": 2,
       "version_minor": 0
      },
      "text/plain": [
       "Validation: |          | 0/? [00:00<?, ?it/s]"
      ]
     },
     "metadata": {},
     "output_type": "display_data"
    },
    {
     "data": {
      "application/vnd.jupyter.widget-view+json": {
       "model_id": "953caa30d94641df9d47233651c93069",
       "version_major": 2,
       "version_minor": 0
      },
      "text/plain": [
       "Validation: |          | 0/? [00:00<?, ?it/s]"
      ]
     },
     "metadata": {},
     "output_type": "display_data"
    },
    {
     "data": {
      "application/vnd.jupyter.widget-view+json": {
       "model_id": "2a9197fda83a4d1793e9846e838829ab",
       "version_major": 2,
       "version_minor": 0
      },
      "text/plain": [
       "Validation: |          | 0/? [00:00<?, ?it/s]"
      ]
     },
     "metadata": {},
     "output_type": "display_data"
    },
    {
     "data": {
      "application/vnd.jupyter.widget-view+json": {
       "model_id": "176ead4ad723481f9d7c30c6e0d4e3a2",
       "version_major": 2,
       "version_minor": 0
      },
      "text/plain": [
       "Validation: |          | 0/? [00:00<?, ?it/s]"
      ]
     },
     "metadata": {},
     "output_type": "display_data"
    },
    {
     "data": {
      "application/vnd.jupyter.widget-view+json": {
       "model_id": "d4afbc321d0746b4a97b8cec95f8fde2",
       "version_major": 2,
       "version_minor": 0
      },
      "text/plain": [
       "Validation: |          | 0/? [00:00<?, ?it/s]"
      ]
     },
     "metadata": {},
     "output_type": "display_data"
    },
    {
     "data": {
      "application/vnd.jupyter.widget-view+json": {
       "model_id": "b840cce838554599a9e0ae423d9da9a1",
       "version_major": 2,
       "version_minor": 0
      },
      "text/plain": [
       "Validation: |          | 0/? [00:00<?, ?it/s]"
      ]
     },
     "metadata": {},
     "output_type": "display_data"
    },
    {
     "data": {
      "application/vnd.jupyter.widget-view+json": {
       "model_id": "10683f085fac419398db4fafc221c0fb",
       "version_major": 2,
       "version_minor": 0
      },
      "text/plain": [
       "Validation: |          | 0/? [00:00<?, ?it/s]"
      ]
     },
     "metadata": {},
     "output_type": "display_data"
    },
    {
     "data": {
      "application/vnd.jupyter.widget-view+json": {
       "model_id": "6f5502e76a7e42e59a5cb3701281ce77",
       "version_major": 2,
       "version_minor": 0
      },
      "text/plain": [
       "Validation: |          | 0/? [00:00<?, ?it/s]"
      ]
     },
     "metadata": {},
     "output_type": "display_data"
    },
    {
     "data": {
      "application/vnd.jupyter.widget-view+json": {
       "model_id": "8ea0e8a97d614a93abfedcfd28e82848",
       "version_major": 2,
       "version_minor": 0
      },
      "text/plain": [
       "Validation: |          | 0/? [00:00<?, ?it/s]"
      ]
     },
     "metadata": {},
     "output_type": "display_data"
    },
    {
     "data": {
      "application/vnd.jupyter.widget-view+json": {
       "model_id": "72c1ec1b66d84cd8a4c6b83e07a20936",
       "version_major": 2,
       "version_minor": 0
      },
      "text/plain": [
       "Validation: |          | 0/? [00:00<?, ?it/s]"
      ]
     },
     "metadata": {},
     "output_type": "display_data"
    },
    {
     "data": {
      "application/vnd.jupyter.widget-view+json": {
       "model_id": "40ac6df91ad04d39a85c342f99891b4f",
       "version_major": 2,
       "version_minor": 0
      },
      "text/plain": [
       "Validation: |          | 0/? [00:00<?, ?it/s]"
      ]
     },
     "metadata": {},
     "output_type": "display_data"
    },
    {
     "data": {
      "application/vnd.jupyter.widget-view+json": {
       "model_id": "1a285acef578478aa1a6375c1843c818",
       "version_major": 2,
       "version_minor": 0
      },
      "text/plain": [
       "Validation: |          | 0/? [00:00<?, ?it/s]"
      ]
     },
     "metadata": {},
     "output_type": "display_data"
    },
    {
     "data": {
      "application/vnd.jupyter.widget-view+json": {
       "model_id": "012d7229b6404cc6b82140085fe9eb63",
       "version_major": 2,
       "version_minor": 0
      },
      "text/plain": [
       "Validation: |          | 0/? [00:00<?, ?it/s]"
      ]
     },
     "metadata": {},
     "output_type": "display_data"
    },
    {
     "data": {
      "application/vnd.jupyter.widget-view+json": {
       "model_id": "58ec1cf359d14594a00b41e43c647cda",
       "version_major": 2,
       "version_minor": 0
      },
      "text/plain": [
       "Validation: |          | 0/? [00:00<?, ?it/s]"
      ]
     },
     "metadata": {},
     "output_type": "display_data"
    },
    {
     "name": "stderr",
     "output_type": "stream",
     "text": [
      "INFO - (NP.df_utils._infer_frequency) - Major frequency h corresponds to 99.99% of the data.\n",
      "INFO:NP.df_utils:Major frequency h corresponds to 99.99% of the data.\n",
      "INFO - (NP.df_utils._infer_frequency) - Defined frequency is equal to major frequency - h\n",
      "INFO:NP.df_utils:Defined frequency is equal to major frequency - h\n",
      "INFO - (NP.df_utils.return_df_in_original_format) - Returning df with no ID column\n",
      "INFO:NP.df_utils:Returning df with no ID column\n",
      "INFO - (NP.df_utils._infer_frequency) - Major frequency h corresponds to 99.825% of the data.\n",
      "INFO:NP.df_utils:Major frequency h corresponds to 99.825% of the data.\n",
      "INFO - (NP.df_utils._infer_frequency) - Defined frequency is equal to major frequency - h\n",
      "INFO:NP.df_utils:Defined frequency is equal to major frequency - h\n",
      "INFO - (NP.df_utils._infer_frequency) - Major frequency h corresponds to 99.825% of the data.\n",
      "INFO:NP.df_utils:Major frequency h corresponds to 99.825% of the data.\n",
      "INFO - (NP.df_utils._infer_frequency) - Defined frequency is equal to major frequency - h\n",
      "INFO:NP.df_utils:Defined frequency is equal to major frequency - h\n",
      "INFO - (NP.data.processing._handle_missing_data) - Dropped 24 rows at the end with NaNs in 'y' column.\n",
      "INFO:NP.data.processing:Dropped 24 rows at the end with NaNs in 'y' column.\n"
     ]
    },
    {
     "data": {
      "application/vnd.jupyter.widget-view+json": {
       "model_id": "2599bf06c0b54deabb6404cd409c3a4f",
       "version_major": 2,
       "version_minor": 0
      },
      "text/plain": [
       "Predicting: |          | 0/? [00:00<?, ?it/s]"
      ]
     },
     "metadata": {},
     "output_type": "display_data"
    },
    {
     "name": "stderr",
     "output_type": "stream",
     "text": [
      "INFO - (NP.df_utils.return_df_in_original_format) - Returning df with no ID column\n",
      "INFO:NP.df_utils:Returning df with no ID column\n"
     ]
    },
    {
     "data": {
      "image/png": "[encoded data removed]",
      "text/plain": [
       "<Figure size 1000x500 with 1 Axes>"
      ]
     },
     "metadata": {},
     "output_type": "display_data"
    },
    {
     "data": {
      "image/png": "[encoded data removed]",
      "text/plain": [
       "<Figure size 1500x500 with 1 Axes>"
      ]
     },
     "metadata": {},
     "output_type": "display_data"
    },
    {
     "name": "stdout",
     "output_type": "stream",
     "text": [
      "\n",
      "---------------------- MODEL METRIC COMPARISON ----------------------\n",
      "\n",
      "Model Name           | MAE_val    | RMSE_val   | Loss_val  \n",
      "------------------------------------------------------------\n",
      "Low Neuron (8 Neurons) | 0.0154     | 0.0212     | 0.0009    \n",
      "\n",
      "----------------------------------------------------------------------\n",
      "\n"
     ]
    }
   ],
   "source": [
    "# -*- coding: utf-8 -*-\n",
    "\"\"\"\n",
    "Created on Sat Mar  1 06:35:58 2025\n",
    "@author: merto\n",
    "\"\"\"\n",
    "import datetime\n",
    "import pandas as pd\n",
    "import numpy as np\n",
    "from pytrends.request import TrendReq\n",
    "import requests\n",
    "from neuralprophet import NeuralProphet\n",
    "import matplotlib.pyplot as plt\n",
    "from sklearn.preprocessing import RobustScaler\n",
    "import warnings\n",
    "warnings.filterwarnings(\"ignore\")\n",
    "\n",
    "# ---------------------- DATA COLLECTION & PREPROCESSING ----------------------\n",
    "\n",
    "# 1. Google Trends Data\n",
    "pytrends = TrendReq(hl='en-US', tz=360)\n",
    "\n",
    "# Calculate date range for last 2 years\n",
    "start_date = (datetime.datetime.now() - datetime.timedelta(days=730)).strftime('%Y-%m-%d')\n",
    "end_date = datetime.datetime.now().strftime('%Y-%m-%d')\n",
    "timeframe = f'{start_date} {end_date}'\n",
    "\n",
    "pytrends.build_payload([\"Bitcoin\"], timeframe=timeframe, geo='')  # 2 years of data\n",
    "google_trends = pytrends.interest_over_time().drop(columns=[\"isPartial\"])\n",
    "google_trends = google_trends.resample(\"h\").interpolate().reset_index()\n",
    "google_trends.columns = [\"ds\", \"google_trend\"]\n",
    "\n",
    "# 2. Hash Rate Data\n",
    "url = \"https://api.blockchain.info/charts/hash-rate?timespan=2years&format=json\"\n",
    "response = requests.get(url)\n",
    "hash_rate_data = response.json()\n",
    "hash_rate = pd.DataFrame(hash_rate_data[\"values\"])\n",
    "hash_rate[\"ds\"] = pd.to_datetime(hash_rate[\"x\"], unit=\"s\")\n",
    "hash_rate[\"hash_rate\"] = hash_rate[\"y\"]\n",
    "hash_rate = hash_rate[[\"ds\", \"hash_rate\"]]\n",
    "hash_rate = hash_rate.set_index(\"ds\").resample(\"h\").interpolate().reset_index()\n",
    "\n",
    "# 3. Main Data Loading\n",
    "data = pd.read_csv(\"basardık_aq.csv\")\n",
    "data[\"ds\"] = pd.to_datetime(data[\"ds\"])\n",
    "\n",
    "# 4. Merging and Cleaning\n",
    "data = data.merge(google_trends, on=\"ds\", how=\"left\")\n",
    "data = data.merge(hash_rate, on=\"ds\", how=\"left\")\n",
    "data = data.dropna()  # Clean remaining NaNs\n",
    "\n",
    "# 5. Advanced Preprocessing\n",
    "# Log Transformation\n",
    "data[\"y\"] = np.log(data[\"y\"])\n",
    "\n",
    "# Robust Scaling\n",
    "scaler = RobustScaler()\n",
    "data[[\"google_trend\", \"hash_rate\"]] = scaler.fit_transform(data[[\"google_trend\", \"hash_rate\"]])\n",
    "\n",
    "# ---------------------- MODEL SETUP (Low Neuron - 8 neurons) ----------------------\n",
    "\n",
    "# Model: Low Neuron (8 neurons) - ONLY THIS MODEL REMAINS\n",
    "model = NeuralProphet(\n",
    "    n_forecasts=24,\n",
    "    n_lags=48,\n",
    "    ar_layers=[8], # Low Neuron (8 neurons)\n",
    "    learning_rate=0.0005,\n",
    "    yearly_seasonality=False,\n",
    "    weekly_seasonality=True,\n",
    "    daily_seasonality=True,\n",
    "    epochs=200,\n",
    ")\n",
    "model = model.add_lagged_regressor(names=\"google_trend\")\n",
    "model = model.add_lagged_regressor(names=\"hash_rate\")\n",
    "\n",
    "# Store model information (Now only one model exists)\n",
    "model_info = {\"model\": model, \"name\": \"Low Neuron (8 Neurons)\", \"metrics\": None, \"forecast\": None}\n",
    "\n",
    "\n",
    "# ---------------------- TRAINING & EVALUATION ----------------------\n",
    "\n",
    "model_name = model_info[\"name\"] # Get model name\n",
    "\n",
    "# Data Splitting\n",
    "train_data, val_data = model_info[\"model\"].split_df(data, valid_p=0.2)\n",
    "\n",
    "# Training with Early Stopping\n",
    "metrics = model_info[\"model\"].fit(\n",
    "    train_data,\n",
    "    validation_df=val_data,\n",
    "    freq=\"h\",\n",
    "    epochs=200,\n",
    "    early_stopping=True,\n",
    "    progress=\"bar\"\n",
    ")\n",
    "model_info[\"metrics\"] = metrics  # Store metrics\n",
    "\n",
    "# Predictions\n",
    "future = model_info[\"model\"].make_future_dataframe(data, periods=24, n_historic_predictions=500)\n",
    "forecast = model_info[\"model\"].predict(future)\n",
    "model_info[\"forecast\"] = forecast  # Store predictions\n",
    "\n",
    "# Loss Plot\n",
    "plt.figure(figsize=(10, 5))\n",
    "plt.plot(metrics[\"Loss\"], label=f\"Train Loss ({model_name})\")\n",
    "plt.plot(metrics[\"Loss_val\"], label=f\"Validation Loss ({model_name})\")\n",
    "plt.title(f\"Optimized Model Loss ({model_name})\")\n",
    "plt.xlabel(\"Epoch\")\n",
    "plt.ylabel(\"Loss\")\n",
    "plt.legend()\n",
    "plt.show()\n",
    "\n",
    "# Actual vs Prediction Plot\n",
    "plt.figure(figsize=(15, 5))\n",
    "plt.plot(forecast[\"ds\"], forecast[\"yhat1\"], label=f\"Prediction ({model_name})\")\n",
    "plt.plot(data[\"ds\"], data[\"y\"], label=\"Actual\", alpha=0.5)\n",
    "plt.title(f\"24-Hour Bitcoin Price Prediction ({model_name})\")\n",
    "plt.legend()\n",
    "plt.show()\n",
    "\n",
    "# ---------------------- METRIC COMPARISON & SUMMARY TABLE ----------------------\n",
    "\n",
    "print(\"\\n---------------------- MODEL METRIC COMPARISON ----------------------\\n\")\n",
    "print(f\"{'Model Name':<20} | {'MAE_val':<10} | {'RMSE_val':<10} | {'Loss_val':<10}\")\n",
    "print(\"-\" * 60)\n",
    "\n",
    "name = model_info[\"name\"]\n",
    "metrics = model_info[\"metrics\"]\n",
    "final_metrics = metrics.iloc[-1] # Last epoch metrics\n",
    "\n",
    "mae_val = final_metrics[\"MAE_val\"]\n",
    "rmse_val = final_metrics[\"RMSE_val\"]\n",
    "loss_val = final_metrics[\"Loss_val\"]\n",
    "\n",
    "print(f\"{name:<20} | {mae_val:<10.4f} | {rmse_val:<10.4f} | {loss_val:<10.4f}\")\n",
    "\n",
    "print(\"\\n----------------------------------------------------------------------\\n\")"
   ]
  },
  {
   "cell_type": "code",
   "execution_count": 2,
   "metadata": {
    "colab": {
     "base_uri": "https://localhost:8080/"
    },
    "id": "9W7s3Qkix_jr",
    "outputId": "eafc0a43-cc80-4574-8bf5-09fd861e5733"
   },
   "outputs": [
    {
     "name": "stdout",
     "output_type": "stream",
     "text": [
      "Main Data Date Range: 2024-01-10 00:00:00 - 2025-03-03 00:00:00\n",
      "(10033, 4)\n"
     ]
    }
   ],
   "source": [
    "print(\"Main Data Date Range:\", data[\"ds\"].min(), \"-\", data[\"ds\"].max())\n",
    "print(data.shape)"
   ]
  },
  {
   "cell_type": "code",
   "execution_count": 3,
   "metadata": {
    "colab": {
     "base_uri": "https://localhost:8080/",
     "height": 206
    },
    "id": "zBISOFVmgFsE",
    "outputId": "5e237154-97c5-4554-c0e1-90f404a35f35"
   },
   "outputs": [
    {
     "data": {
      "application/vnd.google.colaboratory.intrinsic+json": {
       "summary": "{\n  \"name\": \"data\",\n  \"rows\": 5,\n  \"fields\": [\n    {\n      \"column\": \"ds\",\n      \"properties\": {\n        \"dtype\": \"date\",\n        \"min\": \"2025-03-02 20:00:00\",\n        \"max\": \"2025-03-03 00:00:00\",\n        \"num_unique_values\": 5,\n        \"samples\": [\n          \"2025-03-02 21:00:00\",\n          \"2025-03-03 00:00:00\",\n          \"2025-03-02 22:00:00\"\n        ],\n        \"semantic_type\": \"\",\n        \"description\": \"\"\n      }\n    },\n    {\n      \"column\": \"y\",\n      \"properties\": {\n        \"dtype\": \"number\",\n        \"std\": 0.0046432493643955375,\n        \"min\": 11.443734966813555,\n        \"max\": 11.454554551643898,\n        \"num_unique_values\": 5,\n        \"samples\": [\n          11.454215259488896,\n          11.443734966813555,\n          11.453678518722853\n        ],\n        \"semantic_type\": \"\",\n        \"description\": \"\"\n      }\n    },\n    {\n      \"column\": \"google_trend\",\n      \"properties\": {\n        \"dtype\": \"number\",\n        \"std\": 0.0029311366023806362,\n        \"min\": 0.6822033898305085,\n        \"max\": 0.6896186440677966,\n        \"num_unique_values\": 5,\n        \"samples\": [\n          0.6877648305084746,\n          0.6822033898305085,\n          0.6859110169491527\n        ],\n        \"semantic_type\": \"\",\n        \"description\": \"\"\n      }\n    },\n    {\n      \"column\": \"hash_rate\",\n      \"properties\": {\n        \"dtype\": \"number\",\n        \"std\": 0.06261344096004808,\n        \"min\": 1.160762803723828,\n        \"max\": 1.3191636721832136,\n        \"num_unique_values\": 5,\n        \"samples\": [\n          1.2003630208386746,\n          1.3191636721832136,\n          1.2399632379535213\n        ],\n        \"semantic_type\": \"\",\n        \"description\": \"\"\n      }\n    }\n  ]\n}",
       "type": "dataframe"
      },
      "text/html": [
       "\n",
       "  <div id=\"df-eb9bf88b-6a9c-4004-aa2c-389e4e6b8fd1\" class=\"colab-df-container\">\n",
       "    <div>\n",
       "<style scoped>\n",
       "    .dataframe tbody tr th:only-of-type {\n",
       "        vertical-align: middle;\n",
       "    }\n",
       "\n",
       "    .dataframe tbody tr th {\n",
       "        vertical-align: top;\n",
       "    }\n",
       "\n",
       "    .dataframe thead th {\n",
       "        text-align: right;\n",
       "    }\n",
       "</style>\n",
       "<table border=\"1\" class=\"dataframe\">\n",
       "  <thead>\n",
       "    <tr style=\"text-align: right;\">\n",
       "      <th></th>\n",
       "      <th>ds</th>\n",
       "      <th>y</th>\n",
       "      <th>google_trend</th>\n",
       "      <th>hash_rate</th>\n",
       "    </tr>\n",
       "  </thead>\n",
       "  <tbody>\n",
       "    <tr>\n",
       "      <th>10028</th>\n",
       "      <td>2025-03-02 20:00:00</td>\n",
       "      <td>11.454555</td>\n",
       "      <td>0.689619</td>\n",
       "      <td>1.160763</td>\n",
       "    </tr>\n",
       "    <tr>\n",
       "      <th>10029</th>\n",
       "      <td>2025-03-02 21:00:00</td>\n",
       "      <td>11.454215</td>\n",
       "      <td>0.687765</td>\n",
       "      <td>1.200363</td>\n",
       "    </tr>\n",
       "    <tr>\n",
       "      <th>10030</th>\n",
       "      <td>2025-03-02 22:00:00</td>\n",
       "      <td>11.453679</td>\n",
       "      <td>0.685911</td>\n",
       "      <td>1.239963</td>\n",
       "    </tr>\n",
       "    <tr>\n",
       "      <th>10031</th>\n",
       "      <td>2025-03-02 23:00:00</td>\n",
       "      <td>11.453918</td>\n",
       "      <td>0.684057</td>\n",
       "      <td>1.279563</td>\n",
       "    </tr>\n",
       "    <tr>\n",
       "      <th>10032</th>\n",
       "      <td>2025-03-03 00:00:00</td>\n",
       "      <td>11.443735</td>\n",
       "      <td>0.682203</td>\n",
       "      <td>1.319164</td>\n",
       "    </tr>\n",
       "  </tbody>\n",
       "</table>\n",
       "</div>\n",
       "    <div class=\"colab-df-buttons\">\n",
       "\n",
       "  <div class=\"colab-df-container\">\n",
       "    <button class=\"colab-df-convert\" onclick=\"convertToInteractive('df-eb9bf88b-6a9c-4004-aa2c-389e4e6b8fd1')\"\n",
       "            title=\"Convert this dataframe to an interactive table.\"\n",
       "            style=\"display:none;\">\n",
       "\n",
       "  <svg xmlns=\"http://www.w3.org/2000/svg\" height=\"24px\" viewBox=\"0 -960 960 960\">\n",
       "    <path d=\"M120-120v-720h720v720H120Zm60-500h600v-160H180v160Zm220 220h160v-160H400v160Zm0 220h160v-160H400v160ZM180-400h160v-160H180v160Zm440 0h160v-160H620v160ZM180-180h160v-160H180v160Zm440 0h160v-160H620v160Z\"/>\n",
       "  </svg>\n",
       "    </button>\n",
       "\n",
       "  <style>\n",
       "    .colab-df-container {\n",
       "      display:flex;\n",
       "      gap: 12px;\n",
       "    }\n",
       "\n",
       "    .colab-df-convert {\n",
       "      background-color: #E8F0FE;\n",
       "      border: none;\n",
       "      border-radius: 50%;\n",
       "      cursor: pointer;\n",
       "      display: none;\n",
       "      fill: #1967D2;\n",
       "      height: 32px;\n",
       "      padding: 0 0 0 0;\n",
       "      width: 32px;\n",
       "    }\n",
       "\n",
       "    .colab-df-convert:hover {\n",
       "      background-color: #E2EBFA;\n",
       "      box-shadow: 0px 1px 2px rgba(60, 64, 67, 0.3), 0px 1px 3px 1px rgba(60, 64, 67, 0.15);\n",
       "      fill: #174EA6;\n",
       "    }\n",
       "\n",
       "    .colab-df-buttons div {\n",
       "      margin-bottom: 4px;\n",
       "    }\n",
       "\n",
       "    [theme=dark] .colab-df-convert {\n",
       "      background-color: #3B4455;\n",
       "      fill: #D2E3FC;\n",
       "    }\n",
       "\n",
       "    [theme=dark] .colab-df-convert:hover {\n",
       "      background-color: #434B5C;\n",
       "      box-shadow: 0px 1px 3px 1px rgba(0, 0, 0, 0.15);\n",
       "      filter: drop-shadow(0px 1px 2px rgba(0, 0, 0, 0.3));\n",
       "      fill: #FFFFFF;\n",
       "    }\n",
       "  </style>\n",
       "\n",
       "    <script>\n",
       "      const buttonEl =\n",
       "        document.querySelector('#df-eb9bf88b-6a9c-4004-aa2c-389e4e6b8fd1 button.colab-df-convert');\n",
       "      buttonEl.style.display =\n",
       "        google.colab.kernel.accessAllowed ? 'block' : 'none';\n",
       "\n",
       "      async function convertToInteractive(key) {\n",
       "        const element = document.querySelector('#df-eb9bf88b-6a9c-4004-aa2c-389e4e6b8fd1');\n",
       "        const dataTable =\n",
       "          await google.colab.kernel.invokeFunction('convertToInteractive',\n",
       "                                                    [key], {});\n",
       "        if (!dataTable) return;\n",
       "\n",
       "        const docLinkHtml = 'Like what you see? Visit the ' +\n",
       "          '<a target=\"_blank\" href=https://colab.research.google.com/notebooks/data_table.ipynb>data table notebook</a>'\n",
       "          + ' to learn more about interactive tables.';\n",
       "        element.innerHTML = '';\n",
       "        dataTable['output_type'] = 'display_data';\n",
       "        await google.colab.output.renderOutput(dataTable, element);\n",
       "        const docLink = document.createElement('div');\n",
       "        docLink.innerHTML = docLinkHtml;\n",
       "        element.appendChild(docLink);\n",
       "      }\n",
       "    </script>\n",
       "  </div>\n",
       "\n",
       "\n",
       "<div id=\"df-a2e60ad1-c380-4ea0-b30f-0c9d767dc748\">\n",
       "  <button class=\"colab-df-quickchart\" onclick=\"quickchart('df-a2e60ad1-c380-4ea0-b30f-0c9d767dc748')\"\n",
       "            title=\"Suggest charts\"\n",
       "            style=\"display:none;\">\n",
       "\n",
       "<svg xmlns=\"http://www.w3.org/2000/svg\" height=\"24px\"viewBox=\"0 0 24 24\"\n",
       "     width=\"24px\">\n",
       "    <g>\n",
       "        <path d=\"M19 3H5c-1.1 0-2 .9-2 2v14c0 1.1.9 2 2 2h14c1.1 0 2-.9 2-2V5c0-1.1-.9-2-2-2zM9 17H7v-7h2v7zm4 0h-2V7h2v10zm4 0h-2v-4h2v4z\"/>\n",
       "    </g>\n",
       "</svg>\n",
       "  </button>\n",
       "\n",
       "<style>\n",
       "  .colab-df-quickchart {\n",
       "      --bg-color: #E8F0FE;\n",
       "      --fill-color: #1967D2;\n",
       "      --hover-bg-color: #E2EBFA;\n",
       "      --hover-fill-color: #174EA6;\n",
       "      --disabled-fill-color: #AAA;\n",
       "      --disabled-bg-color: #DDD;\n",
       "  }\n",
       "\n",
       "  [theme=dark] .colab-df-quickchart {\n",
       "      --bg-color: #3B4455;\n",
       "      --fill-color: #D2E3FC;\n",
       "      --hover-bg-color: #434B5C;\n",
       "      --hover-fill-color: #FFFFFF;\n",
       "      --disabled-bg-color: #3B4455;\n",
       "      --disabled-fill-color: #666;\n",
       "  }\n",
       "\n",
       "  .colab-df-quickchart {\n",
       "    background-color: var(--bg-color);\n",
       "    border: none;\n",
       "    border-radius: 50%;\n",
       "    cursor: pointer;\n",
       "    display: none;\n",
       "    fill: var(--fill-color);\n",
       "    height: 32px;\n",
       "    padding: 0;\n",
       "    width: 32px;\n",
       "  }\n",
       "\n",
       "  .colab-df-quickchart:hover {\n",
       "    background-color: var(--hover-bg-color);\n",
       "    box-shadow: 0 1px 2px rgba(60, 64, 67, 0.3), 0 1px 3px 1px rgba(60, 64, 67, 0.15);\n",
       "    fill: var(--button-hover-fill-color);\n",
       "  }\n",
       "\n",
       "  .colab-df-quickchart-complete:disabled,\n",
       "  .colab-df-quickchart-complete:disabled:hover {\n",
       "    background-color: var(--disabled-bg-color);\n",
       "    fill: var(--disabled-fill-color);\n",
       "    box-shadow: none;\n",
       "  }\n",
       "\n",
       "  .colab-df-spinner {\n",
       "    border: 2px solid var(--fill-color);\n",
       "    border-color: transparent;\n",
       "    border-bottom-color: var(--fill-color);\n",
       "    animation:\n",
       "      spin 1s steps(1) infinite;\n",
       "  }\n",
       "\n",
       "  @keyframes spin {\n",
       "    0% {\n",
       "      border-color: transparent;\n",
       "      border-bottom-color: var(--fill-color);\n",
       "      border-left-color: var(--fill-color);\n",
       "    }\n",
       "    20% {\n",
       "      border-color: transparent;\n",
       "      border-left-color: var(--fill-color);\n",
       "      border-top-color: var(--fill-color);\n",
       "    }\n",
       "    30% {\n",
       "      border-color: transparent;\n",
       "      border-left-color: var(--fill-color);\n",
       "      border-top-color: var(--fill-color);\n",
       "      border-right-color: var(--fill-color);\n",
       "    }\n",
       "    40% {\n",
       "      border-color: transparent;\n",
       "      border-right-color: var(--fill-color);\n",
       "      border-top-color: var(--fill-color);\n",
       "    }\n",
       "    60% {\n",
       "      border-color: transparent;\n",
       "      border-right-color: var(--fill-color);\n",
       "    }\n",
       "    80% {\n",
       "      border-color: transparent;\n",
       "      border-right-color: var(--fill-color);\n",
       "      border-bottom-color: var(--fill-color);\n",
       "    }\n",
       "    90% {\n",
       "      border-color: transparent;\n",
       "      border-bottom-color: var(--fill-color);\n",
       "    }\n",
       "  }\n",
       "</style>\n",
       "\n",
       "  <script>\n",
       "    async function quickchart(key) {\n",
       "      const quickchartButtonEl =\n",
       "        document.querySelector('#' + key + ' button');\n",
       "      quickchartButtonEl.disabled = true;  // To prevent multiple clicks.\n",
       "      quickchartButtonEl.classList.add('colab-df-spinner');\n",
       "      try {\n",
       "        const charts = await google.colab.kernel.invokeFunction(\n",
       "            'suggestCharts', [key], {});\n",
       "      } catch (error) {\n",
       "        console.error('Error during call to suggestCharts:', error);\n",
       "      }\n",
       "      quickchartButtonEl.classList.remove('colab-df-spinner');\n",
       "      quickchartButtonEl.classList.add('colab-df-quickchart-complete');\n",
       "    }\n",
       "    (() => {\n",
       "      let quickchartButtonEl =\n",
       "        document.querySelector('#df-a2e60ad1-c380-4ea0-b30f-0c9d767dc748 button');\n",
       "      quickchartButtonEl.style.display =\n",
       "        google.colab.kernel.accessAllowed ? 'block' : 'none';\n",
       "    })();\n",
       "  </script>\n",
       "</div>\n",
       "\n",
       "    </div>\n",
       "  </div>\n"
      ],
      "text/plain": [
       "                       ds          y  google_trend  hash_rate\n",
       "10028 2025-03-02 20:00:00  11.454555      0.689619   1.160763\n",
       "10029 2025-03-02 21:00:00  11.454215      0.687765   1.200363\n",
       "10030 2025-03-02 22:00:00  11.453679      0.685911   1.239963\n",
       "10031 2025-03-02 23:00:00  11.453918      0.684057   1.279563\n",
       "10032 2025-03-03 00:00:00  11.443735      0.682203   1.319164"
      ]
     },
     "execution_count": 3,
     "metadata": {},
     "output_type": "execute_result"
    }
   ],
   "source": [
    "data.tail()"
   ]
  },
  {
   "cell_type": "code",
   "execution_count": 4,
   "metadata": {
    "id": "_dctUsaRb4Va"
   },
   "outputs": [],
   "source": [
    "# Gold data\n",
    "gold = pd.read_csv(\"XAU_USD Geçmiş Verileri (1).csv\", parse_dates=[\"Tarih\"], dayfirst=True)\n",
    "gold = gold.rename(columns={\"Tarih\": \"ds\", \"Şimdi\": \"gold_close\"})[[\"ds\", \"gold_close\"]]\n",
    "gold[\"gold_close\"] = (\n",
    "    gold[\"gold_close\"]\n",
    "    .str.replace(\".\", \"\", regex=False)  # Remove thousands separator (2.027,59 → 2027,59)\n",
    "    .str.replace(\",\", \".\", regex=False)  # Correct decimal separator (2027.59)\n",
    "    .astype(float)\n",
    ")\n",
    "gold.tail()\n",
    "\n",
    "# DXY (US Dollar Index) data\n",
    "dxy = pd.read_csv(\"ABD Dolar Endeksi Geçmiş Verileri.csv\", parse_dates=[\"Tarih\"], dayfirst=True)\n",
    "dxy = dxy.rename(columns={\"Tarih\": \"ds\", \"Şimdi\": \"dxy_close\"})[[\"ds\", \"dxy_close\"]]\n",
    "dxy[\"dxy_close\"] = (\n",
    "    dxy[\"dxy_close\"]\n",
    "    .str.replace(\",\", \".\", regex=False)  # Correct decimal separator (103,36 → 103.36)\n",
    "    .astype(float)\n",
    ")\n",
    "dxy.tail()\n",
    "\n",
    "# Fed (Federal Funds Rate) data\n",
    "fed = pd.read_csv(\"Federal Fon Bileşik Faiz Oranı Geçmiş Verileri (1).csv\", parse_dates=[\"Tarih\"], dayfirst=True)\n",
    "fed = fed.rename(columns={\"Tarih\": \"ds\", \"Şimdi\": \"fed_close\"})[[\"ds\", \"fed_close\"]]\n",
    "fed[\"fed_close\"] = (\n",
    "    fed[\"fed_close\"]\n",
    "    .str.replace(\",\", \".\", regex=False)  # Correct decimal separator (103,36 → 103.36)\n",
    "    .astype(float)\n",
    ")\n",
    "\n",
    "# BTC Trading Volume data\n",
    "volume = pd.read_csv('Btc_trade_volume.csv', parse_dates=[\"date\"])  # Removed dayfirst=True\n",
    "volume = volume.rename(columns={\"date\": \"ds\", \"y\": \"btc_volume\"})[[\"ds\", \"btc_volume\"]]\n",
    "volume[\"btc_volume\"] = (\n",
    "    volume[\"btc_volume\"]\n",
    "    .astype(str)\n",
    "    .str.replace(\",\", \"\")  # Remove comma\n",
    "    .astype(float)\n",
    ")\n",
    "\n",
    "# Number of Unique Bitcoin Addresses\n",
    "address = pd.read_csv('n_unique_addresss.csv', parse_dates=[\"date\"])\n",
    "address = address.rename(columns={\"date\": \"ds\", \"y\": \"btc_address\"})[[\"ds\", \"btc_address\"]]\n",
    "address[\"btc_address\"] = (\n",
    "    address[\"btc_address\"]\n",
    "    .astype(str)\n",
    "    .str.replace(\",\", \"\") # Remove comma\n",
    "    .astype(float)\n",
    ")\n",
    "\n",
    "# Miners' Revenue (USD)\n",
    "miners = pd.read_csv('Miners_revenue_usdt.csv', parse_dates=[\"date\"])\n",
    "miners = miners.rename(columns={\"date\": \"ds\", \"y\": \"btc_miners\"})[[\"ds\", \"btc_miners\"]]\n",
    "miners[\"btc_miners\"] = (\n",
    "    miners[\"btc_miners\"]\n",
    "    .astype(str)\n",
    "    .str.replace(\",\", \"\")  # Remove comma\n",
    "    .astype(float)\n",
    ")\n",
    "\n",
    "# BTC/ETH Correlation\n",
    "corr = pd.read_csv('BTC_ETH Sentetik Geçmiş Verileri.csv', parse_dates=[\"Tarih\"],dayfirst=True, decimal=',')\n",
    "corr = corr.rename(columns={\"Tarih\": \"ds\",\"Şimdi\": \"btc_eth_corr\"})[[\"ds\", \"btc_eth_corr\"]]\n",
    "corr[\"btc_eth_corr\"] = (\n",
    "    corr[\"btc_eth_corr\"]\n",
    "    .astype(str)\n",
    "    .str.replace(\",\", \"\")  # Remove comma (assuming it's a thousands separator)\n",
    "    .astype(float)\n",
    ")\n",
    "#SP500 Index\n",
    "sp500 = pd.read_csv('S&P 500 Geçmiş Verileri.csv', parse_dates=[\"Tarih\"],dayfirst=True, decimal=',', thousands='.')\n",
    "sp500 = sp500.rename(columns={\"Tarih\": \"ds\",\"Şimdi\": \"sp500_value\"})[[\"ds\", \"sp500_value\"]]\n",
    "sp500[\"sp500_value\"] = (\n",
    "    sp500[\"sp500_value\"]\n",
    "    .astype(str)\n",
    "    .str.replace(\",\", \"\") # Remove comma (already handled by  decimal=',' and thousands='.' in read_csv)\n",
    "    .astype(float)\n",
    ")"
   ]
  },
  {
   "cell_type": "code",
   "execution_count": 5,
   "metadata": {
    "id": "cfT5Xfzbb4Nw"
   },
   "outputs": [],
   "source": [
    "def expand_to_hourly(df):\n",
    "    \"\"\"\n",
    "    Expands a DataFrame's date range to hourly frequency and performs linear interpolation.\n",
    "\n",
    "    Args:\n",
    "        df (pd.DataFrame): DataFrame with a 'ds' column representing the date.\n",
    "\n",
    "    Returns:\n",
    "        pd.DataFrame: DataFrame resampled to hourly frequency with linear interpolation.\n",
    "    \"\"\"\n",
    "    # Expand the date range to hourly frequency\n",
    "    df = df.set_index(\"ds\").resample(\"h\").asfreq()\n",
    "    # Linear interpolation (specific to market hours)\n",
    "    df = df.interpolate(method=\"linear\")\n",
    "    return df.reset_index()\n",
    "\n",
    "# Apply to Gold and DXY\n",
    "gold_hourly = expand_to_hourly(gold)\n",
    "dxy_hourly = expand_to_hourly(dxy)\n",
    "fed_hourly = expand_to_hourly(fed)\n",
    "volume_hourly = expand_to_hourly(volume)\n",
    "address_hourly = expand_to_hourly(address)\n",
    "miners_hourly = expand_to_hourly(miners)\n",
    "corr_hourly = expand_to_hourly(corr)\n",
    "s500_hourly = expand_to_hourly(sp500)"
   ]
  },
  {
   "cell_type": "code",
   "execution_count": 6,
   "metadata": {
    "id": "RG--0ZUPeYrI"
   },
   "outputs": [],
   "source": [
    "# Sort the main data\n",
    "data_sorted = data.sort_values(\"ds\")\n",
    "\n",
    "# Define all dataframes to merge\n",
    "dataframes_to_merge = {\n",
    "    \"dxy\": dxy_hourly,\n",
    "    \"gold\": gold_hourly,\n",
    "    \"fed\": fed_hourly,\n",
    "    \"volume\": volume_hourly,\n",
    "    \"address\": address_hourly,\n",
    "    \"miners\": miners_hourly,\n",
    "    \"corr\": corr_hourly,\n",
    "    \"s500\": s500_hourly\n",
    "}\n",
    "\n",
    "# Perform merges in a loop\n",
    "for name, df in dataframes_to_merge.items():\n",
    "    data_sorted = pd.merge_asof(\n",
    "        data_sorted,\n",
    "        df.sort_values(\"ds\"),\n",
    "        on=\"ds\",\n",
    "        direction=\"nearest\",\n",
    "        tolerance=pd.Timedelta(\"1h\")\n",
    "    )\n",
    "\n",
    "# Final result\n",
    "data = data_sorted"
   ]
  },
  {
   "cell_type": "code",
   "execution_count": 7,
   "metadata": {
    "colab": {
     "base_uri": "https://localhost:8080/"
    },
    "id": "E5DPX_niFr0r",
    "outputId": "f2cf5324-d97a-4451-b18a-ac0ce76e0cd9"
   },
   "outputs": [
    {
     "data": {
      "text/plain": [
       "(10033, 12)"
      ]
     },
     "execution_count": 7,
     "metadata": {},
     "output_type": "execute_result"
    }
   ],
   "source": [
    "data.shape"
   ]
  },
  {
   "cell_type": "code",
   "execution_count": 8,
   "metadata": {
    "id": "wAaGTXtYFgfl"
   },
   "outputs": [],
   "source": [
    "data[\"dxy_close\"] = data[\"dxy_close\"].fillna(method=\"ffill\")\n",
    "data[\"gold_close\"] = data[\"gold_close\"].fillna(method=\"ffill\")"
   ]
  },
  {
   "cell_type": "code",
   "execution_count": 9,
   "metadata": {
    "colab": {
     "base_uri": "https://localhost:8080/"
    },
    "id": "7OCMD0BVgWkV",
    "outputId": "ea503d24-14b4-4b02-b6a5-ca20a49f0a37"
   },
   "outputs": [
    {
     "name": "stdout",
     "output_type": "stream",
     "text": [
      "Sample Data After Merging:\n",
      "                        ds   dxy_close   gold_close  fed_close    btc_volume  \\\n",
      "10030 2025-03-02 22:00:00  106.773889  2892.734722       4.33  8.162871e+08   \n",
      "10031 2025-03-02 23:00:00  106.761944  2893.222361       4.33  8.422222e+08   \n",
      "10032 2025-03-03 00:00:00  106.750000  2893.710000       4.33  8.681573e+08   \n",
      "\n",
      "       btc_address    btc_miners  btc_eth_corr  sp500_value  \n",
      "10030   568164.250  3.662449e+12      40.02250  5852.630556  \n",
      "10031   571138.625  3.694016e+12      40.13625  5851.175278  \n",
      "10032   574113.000  3.725584e+12      40.25000  5849.720000  \n",
      "\n",
      "Missing Data Percentage:\n",
      " dxy_close       0.0\n",
      "gold_close      0.0\n",
      "fed_close       0.0\n",
      "btc_volume      0.0\n",
      "btc_address     0.0\n",
      "btc_miners      0.0\n",
      "btc_eth_corr    0.0\n",
      "sp500_value     0.0\n",
      "dtype: float64\n"
     ]
    }
   ],
   "source": [
    "print(\"Sample Data After Merging:\\n\", data[[\"ds\", \"dxy_close\", \"gold_close\",\"fed_close\",\"btc_volume\",\"btc_address\",\"btc_miners\",'btc_eth_corr','sp500_value']].tail(3))\n",
    "print(\"\\nMissing Data Percentage:\\n\", data[[\"dxy_close\", \"gold_close\",'fed_close',\"btc_volume\",\"btc_address\",\"btc_miners\",'btc_eth_corr','sp500_value']].isnull().sum()/len(data)*100)"
   ]
  },
  {
   "cell_type": "code",
   "execution_count": 10,
   "metadata": {
    "colab": {
     "base_uri": "https://localhost:8080/",
     "height": 206
    },
    "id": "YsQplOlkiP9E",
    "outputId": "fdbf1eca-5f5f-443c-9407-c50607c844cd"
   },
   "outputs": [
    {
     "data": {
      "application/vnd.google.colaboratory.intrinsic+json": {
       "summary": "{\n  \"name\": \"data\",\n  \"rows\": 10033,\n  \"fields\": [\n    {\n      \"column\": \"ds\",\n      \"properties\": {\n        \"dtype\": \"date\",\n        \"min\": \"2024-01-10 00:00:00\",\n        \"max\": \"2025-03-03 00:00:00\",\n        \"num_unique_values\": 10033,\n        \"samples\": [\n          \"2025-02-25 03:00:00\",\n          \"2024-02-03 14:00:00\",\n          \"2024-08-10 17:00:00\"\n        ],\n        \"semantic_type\": \"\",\n        \"description\": \"\"\n      }\n    },\n    {\n      \"column\": \"y\",\n      \"properties\": {\n        \"dtype\": \"number\",\n        \"std\": 0.24241577143121848,\n        \"min\": 10.565343736471704,\n        \"max\": 11.592845180465153,\n        \"num_unique_values\": 9881,\n        \"samples\": [\n          11.008512734577712,\n          10.956265304860437,\n          11.074420502783864\n        ],\n        \"semantic_type\": \"\",\n        \"description\": \"\"\n      }\n    },\n    {\n      \"column\": \"google_trend\",\n      \"properties\": {\n        \"dtype\": \"number\",\n        \"std\": 0.7038049348246705,\n        \"min\": -0.5635593220338981,\n        \"max\": 2.684322033898305,\n        \"num_unique_values\": 5001,\n        \"samples\": [\n          0.5884533898305087,\n          -0.44014830508474556,\n          -0.3395127118644067\n        ],\n        \"semantic_type\": \"\",\n        \"description\": \"\"\n      }\n    },\n    {\n      \"column\": \"hash_rate\",\n      \"properties\": {\n        \"dtype\": \"number\",\n        \"std\": 0.6887975885382602,\n        \"min\": -1.6322652162108051,\n        \"max\": 2.503260153290636,\n        \"num_unique_values\": 8756,\n        \"samples\": [\n          0.4032800022488454,\n          0.3223833780198096,\n          0.5413859016286686\n        ],\n        \"semantic_type\": \"\",\n        \"description\": \"\"\n      }\n    },\n    {\n      \"column\": \"dxy_close\",\n      \"properties\": {\n        \"dtype\": \"number\",\n        \"std\": 2.1384881693384834,\n        \"min\": 100.38,\n        \"max\": 109.96,\n        \"num_unique_values\": 7998,\n        \"samples\": [\n          104.27000000000001,\n          104.47611111111111,\n          104.33500000000001\n        ],\n        \"semantic_type\": \"\",\n        \"description\": \"\"\n      }\n    },\n    {\n      \"column\": \"gold_close\",\n      \"properties\": {\n        \"dtype\": \"number\",\n        \"std\": 248.6864896725593,\n        \"min\": 1992.13,\n        \"max\": 2951.19,\n        \"num_unique_values\": 10003,\n        \"samples\": [\n          2731.16,\n          2515.73,\n          2638.4356944444444\n        ],\n        \"semantic_type\": \"\",\n        \"description\": \"\"\n      }\n    },\n    {\n      \"column\": \"fed_close\",\n      \"properties\": {\n        \"dtype\": \"number\",\n        \"std\": 0.40754173179243885,\n        \"min\": 4.33,\n        \"max\": 5.33,\n        \"num_unique_values\": 73,\n        \"samples\": [\n          5.246666666666667,\n          4.42375,\n          4.955\n        ],\n        \"semantic_type\": \"\",\n        \"description\": \"\"\n      }\n    },\n    {\n      \"column\": \"btc_volume\",\n      \"properties\": {\n        \"dtype\": \"number\",\n        \"std\": 250116571.26055625,\n        \"min\": 44080862.0,\n        \"max\": 1783684133.0,\n        \"num_unique_values\": 10033,\n        \"samples\": [\n          523258026.125,\n          118857936.16666666,\n          196374522.1666667\n        ],\n        \"semantic_type\": \"\",\n        \"description\": \"\"\n      }\n    },\n    {\n      \"column\": \"btc_address\",\n      \"properties\": {\n        \"dtype\": \"number\",\n        \"std\": 77283.0192652995,\n        \"min\": 358420.0,\n        \"max\": 772888.0,\n        \"num_unique_values\": 10023,\n        \"samples\": [\n          472209.0,\n          572006.0,\n          470538.2083333333\n        ],\n        \"semantic_type\": \"\",\n        \"description\": \"\"\n      }\n    },\n    {\n      \"column\": \"btc_miners\",\n      \"properties\": {\n        \"dtype\": \"number\",\n        \"std\": 1259035468116.578,\n        \"min\": 1118234470182.0,\n        \"max\": 6843328275093.0,\n        \"num_unique_values\": 10033,\n        \"samples\": [\n          4113804957424.0,\n          2030456190945.3333,\n          1797054285906.7083\n        ],\n        \"semantic_type\": \"\",\n        \"description\": \"\"\n      }\n    },\n    {\n      \"column\": \"btc_eth_corr\",\n      \"properties\": {\n        \"dtype\": \"number\",\n        \"std\": 5.383528279688892,\n        \"min\": 16.61,\n        \"max\": 40.25,\n        \"num_unique_values\": 8199,\n        \"samples\": [\n          19.02625,\n          18.55166666666667,\n          36.17958333333333\n        ],\n        \"semantic_type\": \"\",\n        \"description\": \"\"\n      }\n    },\n    {\n      \"column\": \"sp500_value\",\n      \"properties\": {\n        \"dtype\": \"number\",\n        \"std\": 383.21711023452144,\n        \"min\": 4739.21,\n        \"max\": 6144.15,\n        \"num_unique_values\": 10027,\n        \"samples\": [\n          5305.765,\n          6103.8875,\n          5711.2275\n        ],\n        \"semantic_type\": \"\",\n        \"description\": \"\"\n      }\n    }\n  ]\n}",
       "type": "dataframe",
       "variable_name": "data"
      },
      "text/html": [
       "\n",
       "  <div id=\"df-e9364f45-4455-4496-959d-89ca746b7f1f\" class=\"colab-df-container\">\n",
       "    <div>\n",
       "<style scoped>\n",
       "    .dataframe tbody tr th:only-of-type {\n",
       "        vertical-align: middle;\n",
       "    }\n",
       "\n",
       "    .dataframe tbody tr th {\n",
       "        vertical-align: top;\n",
       "    }\n",
       "\n",
       "    .dataframe thead th {\n",
       "        text-align: right;\n",
       "    }\n",
       "</style>\n",
       "<table border=\"1\" class=\"dataframe\">\n",
       "  <thead>\n",
       "    <tr style=\"text-align: right;\">\n",
       "      <th></th>\n",
       "      <th>ds</th>\n",
       "      <th>y</th>\n",
       "      <th>google_trend</th>\n",
       "      <th>hash_rate</th>\n",
       "      <th>dxy_close</th>\n",
       "      <th>gold_close</th>\n",
       "      <th>fed_close</th>\n",
       "      <th>btc_volume</th>\n",
       "      <th>btc_address</th>\n",
       "      <th>btc_miners</th>\n",
       "      <th>btc_eth_corr</th>\n",
       "      <th>sp500_value</th>\n",
       "    </tr>\n",
       "  </thead>\n",
       "  <tbody>\n",
       "    <tr>\n",
       "      <th>0</th>\n",
       "      <td>2024-01-10 00:00:00</td>\n",
       "      <td>10.733270</td>\n",
       "      <td>0.720339</td>\n",
       "      <td>-1.134165</td>\n",
       "      <td>102.360000</td>\n",
       "      <td>2023.400000</td>\n",
       "      <td>5.33</td>\n",
       "      <td>6.468872e+08</td>\n",
       "      <td>605995.0</td>\n",
       "      <td>1.969563e+12</td>\n",
       "      <td>18.070000</td>\n",
       "      <td>4783.45000</td>\n",
       "    </tr>\n",
       "    <tr>\n",
       "      <th>1</th>\n",
       "      <td>2024-01-10 01:00:00</td>\n",
       "      <td>10.734859</td>\n",
       "      <td>0.713453</td>\n",
       "      <td>-1.090472</td>\n",
       "      <td>102.357083</td>\n",
       "      <td>2023.595417</td>\n",
       "      <td>5.33</td>\n",
       "      <td>6.486452e+08</td>\n",
       "      <td>608448.5</td>\n",
       "      <td>1.993418e+12</td>\n",
       "      <td>18.054583</td>\n",
       "      <td>4783.31625</td>\n",
       "    </tr>\n",
       "    <tr>\n",
       "      <th>2</th>\n",
       "      <td>2024-01-10 02:00:00</td>\n",
       "      <td>10.735768</td>\n",
       "      <td>0.706568</td>\n",
       "      <td>-1.046779</td>\n",
       "      <td>102.354167</td>\n",
       "      <td>2023.790833</td>\n",
       "      <td>5.33</td>\n",
       "      <td>6.504031e+08</td>\n",
       "      <td>610902.0</td>\n",
       "      <td>2.017272e+12</td>\n",
       "      <td>18.039167</td>\n",
       "      <td>4783.18250</td>\n",
       "    </tr>\n",
       "    <tr>\n",
       "      <th>3</th>\n",
       "      <td>2024-01-10 03:00:00</td>\n",
       "      <td>10.738939</td>\n",
       "      <td>0.699682</td>\n",
       "      <td>-1.003085</td>\n",
       "      <td>102.351250</td>\n",
       "      <td>2023.986250</td>\n",
       "      <td>5.33</td>\n",
       "      <td>6.521611e+08</td>\n",
       "      <td>613355.5</td>\n",
       "      <td>2.041127e+12</td>\n",
       "      <td>18.023750</td>\n",
       "      <td>4783.04875</td>\n",
       "    </tr>\n",
       "    <tr>\n",
       "      <th>4</th>\n",
       "      <td>2024-01-10 04:00:00</td>\n",
       "      <td>10.735548</td>\n",
       "      <td>0.692797</td>\n",
       "      <td>-0.959392</td>\n",
       "      <td>102.348333</td>\n",
       "      <td>2024.181667</td>\n",
       "      <td>5.33</td>\n",
       "      <td>6.539190e+08</td>\n",
       "      <td>615809.0</td>\n",
       "      <td>2.064981e+12</td>\n",
       "      <td>18.008333</td>\n",
       "      <td>4782.91500</td>\n",
       "    </tr>\n",
       "  </tbody>\n",
       "</table>\n",
       "</div>\n",
       "    <div class=\"colab-df-buttons\">\n",
       "\n",
       "  <div class=\"colab-df-container\">\n",
       "    <button class=\"colab-df-convert\" onclick=\"convertToInteractive('df-e9364f45-4455-4496-959d-89ca746b7f1f')\"\n",
       "            title=\"Convert this dataframe to an interactive table.\"\n",
       "            style=\"display:none;\">\n",
       "\n",
       "  <svg xmlns=\"http://www.w3.org/2000/svg\" height=\"24px\" viewBox=\"0 -960 960 960\">\n",
       "    <path d=\"M120-120v-720h720v720H120Zm60-500h600v-160H180v160Zm220 220h160v-160H400v160Zm0 220h160v-160H400v160ZM180-400h160v-160H180v160Zm440 0h160v-160H620v160ZM180-180h160v-160H180v160Zm440 0h160v-160H620v160Z\"/>\n",
       "  </svg>\n",
       "    </button>\n",
       "\n",
       "  <style>\n",
       "    .colab-df-container {\n",
       "      display:flex;\n",
       "      gap: 12px;\n",
       "    }\n",
       "\n",
       "    .colab-df-convert {\n",
       "      background-color: #E8F0FE;\n",
       "      border: none;\n",
       "      border-radius: 50%;\n",
       "      cursor: pointer;\n",
       "      display: none;\n",
       "      fill: #1967D2;\n",
       "      height: 32px;\n",
       "      padding: 0 0 0 0;\n",
       "      width: 32px;\n",
       "    }\n",
       "\n",
       "    .colab-df-convert:hover {\n",
       "      background-color: #E2EBFA;\n",
       "      box-shadow: 0px 1px 2px rgba(60, 64, 67, 0.3), 0px 1px 3px 1px rgba(60, 64, 67, 0.15);\n",
       "      fill: #174EA6;\n",
       "    }\n",
       "\n",
       "    .colab-df-buttons div {\n",
       "      margin-bottom: 4px;\n",
       "    }\n",
       "\n",
       "    [theme=dark] .colab-df-convert {\n",
       "      background-color: #3B4455;\n",
       "      fill: #D2E3FC;\n",
       "    }\n",
       "\n",
       "    [theme=dark] .colab-df-convert:hover {\n",
       "      background-color: #434B5C;\n",
       "      box-shadow: 0px 1px 3px 1px rgba(0, 0, 0, 0.15);\n",
       "      filter: drop-shadow(0px 1px 2px rgba(0, 0, 0, 0.3));\n",
       "      fill: #FFFFFF;\n",
       "    }\n",
       "  </style>\n",
       "\n",
       "    <script>\n",
       "      const buttonEl =\n",
       "        document.querySelector('#df-e9364f45-4455-4496-959d-89ca746b7f1f button.colab-df-convert');\n",
       "      buttonEl.style.display =\n",
       "        google.colab.kernel.accessAllowed ? 'block' : 'none';\n",
       "\n",
       "      async function convertToInteractive(key) {\n",
       "        const element = document.querySelector('#df-e9364f45-4455-4496-959d-89ca746b7f1f');\n",
       "        const dataTable =\n",
       "          await google.colab.kernel.invokeFunction('convertToInteractive',\n",
       "                                                    [key], {});\n",
       "        if (!dataTable) return;\n",
       "\n",
       "        const docLinkHtml = 'Like what you see? Visit the ' +\n",
       "          '<a target=\"_blank\" href=https://colab.research.google.com/notebooks/data_table.ipynb>data table notebook</a>'\n",
       "          + ' to learn more about interactive tables.';\n",
       "        element.innerHTML = '';\n",
       "        dataTable['output_type'] = 'display_data';\n",
       "        await google.colab.output.renderOutput(dataTable, element);\n",
       "        const docLink = document.createElement('div');\n",
       "        docLink.innerHTML = docLinkHtml;\n",
       "        element.appendChild(docLink);\n",
       "      }\n",
       "    </script>\n",
       "  </div>\n",
       "\n",
       "\n",
       "<div id=\"df-a869b61e-eb7c-430a-bd88-d888712fe90b\">\n",
       "  <button class=\"colab-df-quickchart\" onclick=\"quickchart('df-a869b61e-eb7c-430a-bd88-d888712fe90b')\"\n",
       "            title=\"Suggest charts\"\n",
       "            style=\"display:none;\">\n",
       "\n",
       "<svg xmlns=\"http://www.w3.org/2000/svg\" height=\"24px\"viewBox=\"0 0 24 24\"\n",
       "     width=\"24px\">\n",
       "    <g>\n",
       "        <path d=\"M19 3H5c-1.1 0-2 .9-2 2v14c0 1.1.9 2 2 2h14c1.1 0 2-.9 2-2V5c0-1.1-.9-2-2-2zM9 17H7v-7h2v7zm4 0h-2V7h2v10zm4 0h-2v-4h2v4z\"/>\n",
       "    </g>\n",
       "</svg>\n",
       "  </button>\n",
       "\n",
       "<style>\n",
       "  .colab-df-quickchart {\n",
       "      --bg-color: #E8F0FE;\n",
       "      --fill-color: #1967D2;\n",
       "      --hover-bg-color: #E2EBFA;\n",
       "      --hover-fill-color: #174EA6;\n",
       "      --disabled-fill-color: #AAA;\n",
       "      --disabled-bg-color: #DDD;\n",
       "  }\n",
       "\n",
       "  [theme=dark] .colab-df-quickchart {\n",
       "      --bg-color: #3B4455;\n",
       "      --fill-color: #D2E3FC;\n",
       "      --hover-bg-color: #434B5C;\n",
       "      --hover-fill-color: #FFFFFF;\n",
       "      --disabled-bg-color: #3B4455;\n",
       "      --disabled-fill-color: #666;\n",
       "  }\n",
       "\n",
       "  .colab-df-quickchart {\n",
       "    background-color: var(--bg-color);\n",
       "    border: none;\n",
       "    border-radius: 50%;\n",
       "    cursor: pointer;\n",
       "    display: none;\n",
       "    fill: var(--fill-color);\n",
       "    height: 32px;\n",
       "    padding: 0;\n",
       "    width: 32px;\n",
       "  }\n",
       "\n",
       "  .colab-df-quickchart:hover {\n",
       "    background-color: var(--hover-bg-color);\n",
       "    box-shadow: 0 1px 2px rgba(60, 64, 67, 0.3), 0 1px 3px 1px rgba(60, 64, 67, 0.15);\n",
       "    fill: var(--button-hover-fill-color);\n",
       "  }\n",
       "\n",
       "  .colab-df-quickchart-complete:disabled,\n",
       "  .colab-df-quickchart-complete:disabled:hover {\n",
       "    background-color: var(--disabled-bg-color);\n",
       "    fill: var(--disabled-fill-color);\n",
       "    box-shadow: none;\n",
       "  }\n",
       "\n",
       "  .colab-df-spinner {\n",
       "    border: 2px solid var(--fill-color);\n",
       "    border-color: transparent;\n",
       "    border-bottom-color: var(--fill-color);\n",
       "    animation:\n",
       "      spin 1s steps(1) infinite;\n",
       "  }\n",
       "\n",
       "  @keyframes spin {\n",
       "    0% {\n",
       "      border-color: transparent;\n",
       "      border-bottom-color: var(--fill-color);\n",
       "      border-left-color: var(--fill-color);\n",
       "    }\n",
       "    20% {\n",
       "      border-color: transparent;\n",
       "      border-left-color: var(--fill-color);\n",
       "      border-top-color: var(--fill-color);\n",
       "    }\n",
       "    30% {\n",
       "      border-color: transparent;\n",
       "      border-left-color: var(--fill-color);\n",
       "      border-top-color: var(--fill-color);\n",
       "      border-right-color: var(--fill-color);\n",
       "    }\n",
       "    40% {\n",
       "      border-color: transparent;\n",
       "      border-right-color: var(--fill-color);\n",
       "      border-top-color: var(--fill-color);\n",
       "    }\n",
       "    60% {\n",
       "      border-color: transparent;\n",
       "      border-right-color: var(--fill-color);\n",
       "    }\n",
       "    80% {\n",
       "      border-color: transparent;\n",
       "      border-right-color: var(--fill-color);\n",
       "      border-bottom-color: var(--fill-color);\n",
       "    }\n",
       "    90% {\n",
       "      border-color: transparent;\n",
       "      border-bottom-color: var(--fill-color);\n",
       "    }\n",
       "  }\n",
       "</style>\n",
       "\n",
       "  <script>\n",
       "    async function quickchart(key) {\n",
       "      const quickchartButtonEl =\n",
       "        document.querySelector('#' + key + ' button');\n",
       "      quickchartButtonEl.disabled = true;  // To prevent multiple clicks.\n",
       "      quickchartButtonEl.classList.add('colab-df-spinner');\n",
       "      try {\n",
       "        const charts = await google.colab.kernel.invokeFunction(\n",
       "            'suggestCharts', [key], {});\n",
       "      } catch (error) {\n",
       "        console.error('Error during call to suggestCharts:', error);\n",
       "      }\n",
       "      quickchartButtonEl.classList.remove('colab-df-spinner');\n",
       "      quickchartButtonEl.classList.add('colab-df-quickchart-complete');\n",
       "    }\n",
       "    (() => {\n",
       "      let quickchartButtonEl =\n",
       "        document.querySelector('#df-a869b61e-eb7c-430a-bd88-d888712fe90b button');\n",
       "      quickchartButtonEl.style.display =\n",
       "        google.colab.kernel.accessAllowed ? 'block' : 'none';\n",
       "    })();\n",
       "  </script>\n",
       "</div>\n",
       "\n",
       "    </div>\n",
       "  </div>\n"
      ],
      "text/plain": [
       "                   ds          y  google_trend  hash_rate   dxy_close  \\\n",
       "0 2024-01-10 00:00:00  10.733270      0.720339  -1.134165  102.360000   \n",
       "1 2024-01-10 01:00:00  10.734859      0.713453  -1.090472  102.357083   \n",
       "2 2024-01-10 02:00:00  10.735768      0.706568  -1.046779  102.354167   \n",
       "3 2024-01-10 03:00:00  10.738939      0.699682  -1.003085  102.351250   \n",
       "4 2024-01-10 04:00:00  10.735548      0.692797  -0.959392  102.348333   \n",
       "\n",
       "    gold_close  fed_close    btc_volume  btc_address    btc_miners  \\\n",
       "0  2023.400000       5.33  6.468872e+08     605995.0  1.969563e+12   \n",
       "1  2023.595417       5.33  6.486452e+08     608448.5  1.993418e+12   \n",
       "2  2023.790833       5.33  6.504031e+08     610902.0  2.017272e+12   \n",
       "3  2023.986250       5.33  6.521611e+08     613355.5  2.041127e+12   \n",
       "4  2024.181667       5.33  6.539190e+08     615809.0  2.064981e+12   \n",
       "\n",
       "   btc_eth_corr  sp500_value  \n",
       "0     18.070000   4783.45000  \n",
       "1     18.054583   4783.31625  \n",
       "2     18.039167   4783.18250  \n",
       "3     18.023750   4783.04875  \n",
       "4     18.008333   4782.91500  "
      ]
     },
     "execution_count": 10,
     "metadata": {},
     "output_type": "execute_result"
    }
   ],
   "source": [
    "data.head()"
   ]
  },
  {
   "cell_type": "code",
   "execution_count": 11,
   "metadata": {
    "colab": {
     "base_uri": "https://localhost:8080/",
     "height": 206
    },
    "id": "NS9kYiTMiSPR",
    "outputId": "f35b4ea3-649a-40a3-b558-f05971915e13"
   },
   "outputs": [
    {
     "data": {
      "application/vnd.google.colaboratory.intrinsic+json": {
       "summary": "{\n  \"name\": \"data\",\n  \"rows\": 5,\n  \"fields\": [\n    {\n      \"column\": \"ds\",\n      \"properties\": {\n        \"dtype\": \"date\",\n        \"min\": \"2025-03-02 20:00:00\",\n        \"max\": \"2025-03-03 00:00:00\",\n        \"num_unique_values\": 5,\n        \"samples\": [\n          \"2025-03-02 21:00:00\",\n          \"2025-03-03 00:00:00\",\n          \"2025-03-02 22:00:00\"\n        ],\n        \"semantic_type\": \"\",\n        \"description\": \"\"\n      }\n    },\n    {\n      \"column\": \"y\",\n      \"properties\": {\n        \"dtype\": \"number\",\n        \"std\": 0.0046432493643955375,\n        \"min\": 11.443734966813555,\n        \"max\": 11.454554551643898,\n        \"num_unique_values\": 5,\n        \"samples\": [\n          11.454215259488896,\n          11.443734966813555,\n          11.453678518722853\n        ],\n        \"semantic_type\": \"\",\n        \"description\": \"\"\n      }\n    },\n    {\n      \"column\": \"google_trend\",\n      \"properties\": {\n        \"dtype\": \"number\",\n        \"std\": 0.0029311366023806362,\n        \"min\": 0.6822033898305085,\n        \"max\": 0.6896186440677966,\n        \"num_unique_values\": 5,\n        \"samples\": [\n          0.6877648305084746,\n          0.6822033898305085,\n          0.6859110169491527\n        ],\n        \"semantic_type\": \"\",\n        \"description\": \"\"\n      }\n    },\n    {\n      \"column\": \"hash_rate\",\n      \"properties\": {\n        \"dtype\": \"number\",\n        \"std\": 0.06261344096004808,\n        \"min\": 1.160762803723828,\n        \"max\": 1.3191636721832136,\n        \"num_unique_values\": 5,\n        \"samples\": [\n          1.2003630208386746,\n          1.3191636721832136,\n          1.2399632379535213\n        ],\n        \"semantic_type\": \"\",\n        \"description\": \"\"\n      }\n    },\n    {\n      \"column\": \"dxy_close\",\n      \"properties\": {\n        \"dtype\": \"number\",\n        \"std\": 0.018885824914896036,\n        \"min\": 106.75,\n        \"max\": 106.79777777777778,\n        \"num_unique_values\": 5,\n        \"samples\": [\n          106.78583333333333,\n          106.75,\n          106.77388888888889\n        ],\n        \"semantic_type\": \"\",\n        \"description\": \"\"\n      }\n    },\n    {\n      \"column\": \"gold_close\",\n      \"properties\": {\n        \"dtype\": \"number\",\n        \"std\": 0.7710247822814006,\n        \"min\": 2891.7594444444444,\n        \"max\": 2893.71,\n        \"num_unique_values\": 5,\n        \"samples\": [\n          2892.247083333333,\n          2893.71,\n          2892.7347222222224\n        ],\n        \"semantic_type\": \"\",\n        \"description\": \"\"\n      }\n    },\n    {\n      \"column\": \"fed_close\",\n      \"properties\": {\n        \"dtype\": \"number\",\n        \"std\": 0.0,\n        \"min\": 4.33,\n        \"max\": 4.33,\n        \"num_unique_values\": 1,\n        \"samples\": [\n          4.33\n        ],\n        \"semantic_type\": \"\",\n        \"description\": \"\"\n      }\n    },\n    {\n      \"column\": \"btc_volume\",\n      \"properties\": {\n        \"dtype\": \"number\",\n        \"std\": 41007038.00988449,\n        \"min\": 764416828.8333334,\n        \"max\": 868157341.0,\n        \"num_unique_values\": 5,\n        \"samples\": [\n          790351956.875\n        ],\n        \"semantic_type\": \"\",\n        \"description\": \"\"\n      }\n    },\n    {\n      \"column\": \"btc_address\",\n      \"properties\": {\n        \"dtype\": \"number\",\n        \"std\": 4702.899807731662,\n        \"min\": 562215.5,\n        \"max\": 574113.0,\n        \"num_unique_values\": 5,\n        \"samples\": [\n          565189.875\n        ],\n        \"semantic_type\": \"\",\n        \"description\": \"\"\n      }\n    },\n    {\n      \"column\": \"btc_miners\",\n      \"properties\": {\n        \"dtype\": \"number\",\n        \"std\": 49911853769.97252,\n        \"min\": 3599315409622.5,\n        \"max\": 3725583521746.0,\n        \"num_unique_values\": 5,\n        \"samples\": [\n          3630882437653.375\n        ],\n        \"semantic_type\": \"\",\n        \"description\": \"\"\n      }\n    },\n    {\n      \"column\": \"btc_eth_corr\",\n      \"properties\": {\n        \"dtype\": \"number\",\n        \"std\": 0.1798545419220759,\n        \"min\": 39.795,\n        \"max\": 40.25,\n        \"num_unique_values\": 5,\n        \"samples\": [\n          39.90875\n        ],\n        \"semantic_type\": \"\",\n        \"description\": \"\"\n      }\n    },\n    {\n      \"column\": \"sp500_value\",\n      \"properties\": {\n        \"dtype\": \"number\",\n        \"std\": 2.300996203003097,\n        \"min\": 5849.72,\n        \"max\": 5855.541111111112,\n        \"num_unique_values\": 5,\n        \"samples\": [\n          5854.0858333333335\n        ],\n        \"semantic_type\": \"\",\n        \"description\": \"\"\n      }\n    }\n  ]\n}",
       "type": "dataframe"
      },
      "text/html": [
       "\n",
       "  <div id=\"df-55f90db3-1854-4fce-940a-96f27cfd445e\" class=\"colab-df-container\">\n",
       "    <div>\n",
       "<style scoped>\n",
       "    .dataframe tbody tr th:only-of-type {\n",
       "        vertical-align: middle;\n",
       "    }\n",
       "\n",
       "    .dataframe tbody tr th {\n",
       "        vertical-align: top;\n",
       "    }\n",
       "\n",
       "    .dataframe thead th {\n",
       "        text-align: right;\n",
       "    }\n",
       "</style>\n",
       "<table border=\"1\" class=\"dataframe\">\n",
       "  <thead>\n",
       "    <tr style=\"text-align: right;\">\n",
       "      <th></th>\n",
       "      <th>ds</th>\n",
       "      <th>y</th>\n",
       "      <th>google_trend</th>\n",
       "      <th>hash_rate</th>\n",
       "      <th>dxy_close</th>\n",
       "      <th>gold_close</th>\n",
       "      <th>fed_close</th>\n",
       "      <th>btc_volume</th>\n",
       "      <th>btc_address</th>\n",
       "      <th>btc_miners</th>\n",
       "      <th>btc_eth_corr</th>\n",
       "      <th>sp500_value</th>\n",
       "    </tr>\n",
       "  </thead>\n",
       "  <tbody>\n",
       "    <tr>\n",
       "      <th>10028</th>\n",
       "      <td>2025-03-02 20:00:00</td>\n",
       "      <td>11.454555</td>\n",
       "      <td>0.689619</td>\n",
       "      <td>1.160763</td>\n",
       "      <td>106.797778</td>\n",
       "      <td>2891.759444</td>\n",
       "      <td>4.33</td>\n",
       "      <td>7.644168e+08</td>\n",
       "      <td>562215.500</td>\n",
       "      <td>3.599315e+12</td>\n",
       "      <td>39.79500</td>\n",
       "      <td>5855.541111</td>\n",
       "    </tr>\n",
       "    <tr>\n",
       "      <th>10029</th>\n",
       "      <td>2025-03-02 21:00:00</td>\n",
       "      <td>11.454215</td>\n",
       "      <td>0.687765</td>\n",
       "      <td>1.200363</td>\n",
       "      <td>106.785833</td>\n",
       "      <td>2892.247083</td>\n",
       "      <td>4.33</td>\n",
       "      <td>7.903520e+08</td>\n",
       "      <td>565189.875</td>\n",
       "      <td>3.630882e+12</td>\n",
       "      <td>39.90875</td>\n",
       "      <td>5854.085833</td>\n",
       "    </tr>\n",
       "    <tr>\n",
       "      <th>10030</th>\n",
       "      <td>2025-03-02 22:00:00</td>\n",
       "      <td>11.453679</td>\n",
       "      <td>0.685911</td>\n",
       "      <td>1.239963</td>\n",
       "      <td>106.773889</td>\n",
       "      <td>2892.734722</td>\n",
       "      <td>4.33</td>\n",
       "      <td>8.162871e+08</td>\n",
       "      <td>568164.250</td>\n",
       "      <td>3.662449e+12</td>\n",
       "      <td>40.02250</td>\n",
       "      <td>5852.630556</td>\n",
       "    </tr>\n",
       "    <tr>\n",
       "      <th>10031</th>\n",
       "      <td>2025-03-02 23:00:00</td>\n",
       "      <td>11.453918</td>\n",
       "      <td>0.684057</td>\n",
       "      <td>1.279563</td>\n",
       "      <td>106.761944</td>\n",
       "      <td>2893.222361</td>\n",
       "      <td>4.33</td>\n",
       "      <td>8.422222e+08</td>\n",
       "      <td>571138.625</td>\n",
       "      <td>3.694016e+12</td>\n",
       "      <td>40.13625</td>\n",
       "      <td>5851.175278</td>\n",
       "    </tr>\n",
       "    <tr>\n",
       "      <th>10032</th>\n",
       "      <td>2025-03-03 00:00:00</td>\n",
       "      <td>11.443735</td>\n",
       "      <td>0.682203</td>\n",
       "      <td>1.319164</td>\n",
       "      <td>106.750000</td>\n",
       "      <td>2893.710000</td>\n",
       "      <td>4.33</td>\n",
       "      <td>8.681573e+08</td>\n",
       "      <td>574113.000</td>\n",
       "      <td>3.725584e+12</td>\n",
       "      <td>40.25000</td>\n",
       "      <td>5849.720000</td>\n",
       "    </tr>\n",
       "  </tbody>\n",
       "</table>\n",
       "</div>\n",
       "    <div class=\"colab-df-buttons\">\n",
       "\n",
       "  <div class=\"colab-df-container\">\n",
       "    <button class=\"colab-df-convert\" onclick=\"convertToInteractive('df-55f90db3-1854-4fce-940a-96f27cfd445e')\"\n",
       "            title=\"Convert this dataframe to an interactive table.\"\n",
       "            style=\"display:none;\">\n",
       "\n",
       "  <svg xmlns=\"http://www.w3.org/2000/svg\" height=\"24px\" viewBox=\"0 -960 960 960\">\n",
       "    <path d=\"M120-120v-720h720v720H120Zm60-500h600v-160H180v160Zm220 220h160v-160H400v160Zm0 220h160v-160H400v160ZM180-400h160v-160H180v160Zm440 0h160v-160H620v160ZM180-180h160v-160H180v160Zm440 0h160v-160H620v160Z\"/>\n",
       "  </svg>\n",
       "    </button>\n",
       "\n",
       "  <style>\n",
       "    .colab-df-container {\n",
       "      display:flex;\n",
       "      gap: 12px;\n",
       "    }\n",
       "\n",
       "    .colab-df-convert {\n",
       "      background-color: #E8F0FE;\n",
       "      border: none;\n",
       "      border-radius: 50%;\n",
       "      cursor: pointer;\n",
       "      display: none;\n",
       "      fill: #1967D2;\n",
       "      height: 32px;\n",
       "      padding: 0 0 0 0;\n",
       "      width: 32px;\n",
       "    }\n",
       "\n",
       "    .colab-df-convert:hover {\n",
       "      background-color: #E2EBFA;\n",
       "      box-shadow: 0px 1px 2px rgba(60, 64, 67, 0.3), 0px 1px 3px 1px rgba(60, 64, 67, 0.15);\n",
       "      fill: #174EA6;\n",
       "    }\n",
       "\n",
       "    .colab-df-buttons div {\n",
       "      margin-bottom: 4px;\n",
       "    }\n",
       "\n",
       "    [theme=dark] .colab-df-convert {\n",
       "      background-color: #3B4455;\n",
       "      fill: #D2E3FC;\n",
       "    }\n",
       "\n",
       "    [theme=dark] .colab-df-convert:hover {\n",
       "      background-color: #434B5C;\n",
       "      box-shadow: 0px 1px 3px 1px rgba(0, 0, 0, 0.15);\n",
       "      filter: drop-shadow(0px 1px 2px rgba(0, 0, 0, 0.3));\n",
       "      fill: #FFFFFF;\n",
       "    }\n",
       "  </style>\n",
       "\n",
       "    <script>\n",
       "      const buttonEl =\n",
       "        document.querySelector('#df-55f90db3-1854-4fce-940a-96f27cfd445e button.colab-df-convert');\n",
       "      buttonEl.style.display =\n",
       "        google.colab.kernel.accessAllowed ? 'block' : 'none';\n",
       "\n",
       "      async function convertToInteractive(key) {\n",
       "        const element = document.querySelector('#df-55f90db3-1854-4fce-940a-96f27cfd445e');\n",
       "        const dataTable =\n",
       "          await google.colab.kernel.invokeFunction('convertToInteractive',\n",
       "                                                    [key], {});\n",
       "        if (!dataTable) return;\n",
       "\n",
       "        const docLinkHtml = 'Like what you see? Visit the ' +\n",
       "          '<a target=\"_blank\" href=https://colab.research.google.com/notebooks/data_table.ipynb>data table notebook</a>'\n",
       "          + ' to learn more about interactive tables.';\n",
       "        element.innerHTML = '';\n",
       "        dataTable['output_type'] = 'display_data';\n",
       "        await google.colab.output.renderOutput(dataTable, element);\n",
       "        const docLink = document.createElement('div');\n",
       "        docLink.innerHTML = docLinkHtml;\n",
       "        element.appendChild(docLink);\n",
       "      }\n",
       "    </script>\n",
       "  </div>\n",
       "\n",
       "\n",
       "<div id=\"df-4ae38969-9921-4b6d-8978-8cec888ac948\">\n",
       "  <button class=\"colab-df-quickchart\" onclick=\"quickchart('df-4ae38969-9921-4b6d-8978-8cec888ac948')\"\n",
       "            title=\"Suggest charts\"\n",
       "            style=\"display:none;\">\n",
       "\n",
       "<svg xmlns=\"http://www.w3.org/2000/svg\" height=\"24px\"viewBox=\"0 0 24 24\"\n",
       "     width=\"24px\">\n",
       "    <g>\n",
       "        <path d=\"M19 3H5c-1.1 0-2 .9-2 2v14c0 1.1.9 2 2 2h14c1.1 0 2-.9 2-2V5c0-1.1-.9-2-2-2zM9 17H7v-7h2v7zm4 0h-2V7h2v10zm4 0h-2v-4h2v4z\"/>\n",
       "    </g>\n",
       "</svg>\n",
       "  </button>\n",
       "\n",
       "<style>\n",
       "  .colab-df-quickchart {\n",
       "      --bg-color: #E8F0FE;\n",
       "      --fill-color: #1967D2;\n",
       "      --hover-bg-color: #E2EBFA;\n",
       "      --hover-fill-color: #174EA6;\n",
       "      --disabled-fill-color: #AAA;\n",
       "      --disabled-bg-color: #DDD;\n",
       "  }\n",
       "\n",
       "  [theme=dark] .colab-df-quickchart {\n",
       "      --bg-color: #3B4455;\n",
       "      --fill-color: #D2E3FC;\n",
       "      --hover-bg-color: #434B5C;\n",
       "      --hover-fill-color: #FFFFFF;\n",
       "      --disabled-bg-color: #3B4455;\n",
       "      --disabled-fill-color: #666;\n",
       "  }\n",
       "\n",
       "  .colab-df-quickchart {\n",
       "    background-color: var(--bg-color);\n",
       "    border: none;\n",
       "    border-radius: 50%;\n",
       "    cursor: pointer;\n",
       "    display: none;\n",
       "    fill: var(--fill-color);\n",
       "    height: 32px;\n",
       "    padding: 0;\n",
       "    width: 32px;\n",
       "  }\n",
       "\n",
       "  .colab-df-quickchart:hover {\n",
       "    background-color: var(--hover-bg-color);\n",
       "    box-shadow: 0 1px 2px rgba(60, 64, 67, 0.3), 0 1px 3px 1px rgba(60, 64, 67, 0.15);\n",
       "    fill: var(--button-hover-fill-color);\n",
       "  }\n",
       "\n",
       "  .colab-df-quickchart-complete:disabled,\n",
       "  .colab-df-quickchart-complete:disabled:hover {\n",
       "    background-color: var(--disabled-bg-color);\n",
       "    fill: var(--disabled-fill-color);\n",
       "    box-shadow: none;\n",
       "  }\n",
       "\n",
       "  .colab-df-spinner {\n",
       "    border: 2px solid var(--fill-color);\n",
       "    border-color: transparent;\n",
       "    border-bottom-color: var(--fill-color);\n",
       "    animation:\n",
       "      spin 1s steps(1) infinite;\n",
       "  }\n",
       "\n",
       "  @keyframes spin {\n",
       "    0% {\n",
       "      border-color: transparent;\n",
       "      border-bottom-color: var(--fill-color);\n",
       "      border-left-color: var(--fill-color);\n",
       "    }\n",
       "    20% {\n",
       "      border-color: transparent;\n",
       "      border-left-color: var(--fill-color);\n",
       "      border-top-color: var(--fill-color);\n",
       "    }\n",
       "    30% {\n",
       "      border-color: transparent;\n",
       "      border-left-color: var(--fill-color);\n",
       "      border-top-color: var(--fill-color);\n",
       "      border-right-color: var(--fill-color);\n",
       "    }\n",
       "    40% {\n",
       "      border-color: transparent;\n",
       "      border-right-color: var(--fill-color);\n",
       "      border-top-color: var(--fill-color);\n",
       "    }\n",
       "    60% {\n",
       "      border-color: transparent;\n",
       "      border-right-color: var(--fill-color);\n",
       "    }\n",
       "    80% {\n",
       "      border-color: transparent;\n",
       "      border-right-color: var(--fill-color);\n",
       "      border-bottom-color: var(--fill-color);\n",
       "    }\n",
       "    90% {\n",
       "      border-color: transparent;\n",
       "      border-bottom-color: var(--fill-color);\n",
       "    }\n",
       "  }\n",
       "</style>\n",
       "\n",
       "  <script>\n",
       "    async function quickchart(key) {\n",
       "      const quickchartButtonEl =\n",
       "        document.querySelector('#' + key + ' button');\n",
       "      quickchartButtonEl.disabled = true;  // To prevent multiple clicks.\n",
       "      quickchartButtonEl.classList.add('colab-df-spinner');\n",
       "      try {\n",
       "        const charts = await google.colab.kernel.invokeFunction(\n",
       "            'suggestCharts', [key], {});\n",
       "      } catch (error) {\n",
       "        console.error('Error during call to suggestCharts:', error);\n",
       "      }\n",
       "      quickchartButtonEl.classList.remove('colab-df-spinner');\n",
       "      quickchartButtonEl.classList.add('colab-df-quickchart-complete');\n",
       "    }\n",
       "    (() => {\n",
       "      let quickchartButtonEl =\n",
       "        document.querySelector('#df-4ae38969-9921-4b6d-8978-8cec888ac948 button');\n",
       "      quickchartButtonEl.style.display =\n",
       "        google.colab.kernel.accessAllowed ? 'block' : 'none';\n",
       "    })();\n",
       "  </script>\n",
       "</div>\n",
       "\n",
       "    </div>\n",
       "  </div>\n"
      ],
      "text/plain": [
       "                       ds          y  google_trend  hash_rate   dxy_close  \\\n",
       "10028 2025-03-02 20:00:00  11.454555      0.689619   1.160763  106.797778   \n",
       "10029 2025-03-02 21:00:00  11.454215      0.687765   1.200363  106.785833   \n",
       "10030 2025-03-02 22:00:00  11.453679      0.685911   1.239963  106.773889   \n",
       "10031 2025-03-02 23:00:00  11.453918      0.684057   1.279563  106.761944   \n",
       "10032 2025-03-03 00:00:00  11.443735      0.682203   1.319164  106.750000   \n",
       "\n",
       "        gold_close  fed_close    btc_volume  btc_address    btc_miners  \\\n",
       "10028  2891.759444       4.33  7.644168e+08   562215.500  3.599315e+12   \n",
       "10029  2892.247083       4.33  7.903520e+08   565189.875  3.630882e+12   \n",
       "10030  2892.734722       4.33  8.162871e+08   568164.250  3.662449e+12   \n",
       "10031  2893.222361       4.33  8.422222e+08   571138.625  3.694016e+12   \n",
       "10032  2893.710000       4.33  8.681573e+08   574113.000  3.725584e+12   \n",
       "\n",
       "       btc_eth_corr  sp500_value  \n",
       "10028      39.79500  5855.541111  \n",
       "10029      39.90875  5854.085833  \n",
       "10030      40.02250  5852.630556  \n",
       "10031      40.13625  5851.175278  \n",
       "10032      40.25000  5849.720000  "
      ]
     },
     "execution_count": 11,
     "metadata": {},
     "output_type": "execute_result"
    }
   ],
   "source": [
    "data.tail()"
   ]
  },
  {
   "cell_type": "code",
   "execution_count": 12,
   "metadata": {
    "colab": {
     "base_uri": "https://localhost:8080/"
    },
    "id": "T-Ww1QBHWcTj",
    "outputId": "918ef8fc-e512-4fd8-81d2-9675c6f7f57d"
   },
   "outputs": [
    {
     "name": "stdout",
     "output_type": "stream",
     "text": [
      "Main Data Date Range: 2024-01-10 00:00:00 - 2025-03-03 00:00:00\n",
      "DXY Date Range: 2024-01-10 00:00:00 - 2025-03-03 00:00:00\n",
      "Gold Date Range: 2024-01-10 00:00:00 - 2025-03-03 00:00:00\n",
      "Fed Date Range: 2024-01-10 00:00:00 - 2025-03-03 00:00:00\n",
      "Volume Date Range: 2024-01-10 00:00:00 - 2025-03-03 00:00:00\n",
      "Address Date Range: 2024-01-10 00:00:00 - 2025-03-03 00:00:00\n",
      "Miners Date Range: 2024-01-10 00:00:00 - 2025-03-03 00:00:00\n",
      "Corr Date Range: 2024-01-10 00:00:00 - 2025-03-03 00:00:00\n",
      "SP500 Date Range: 2024-01-10 00:00:00 - 2025-03-03 00:00:00\n"
     ]
    }
   ],
   "source": [
    "dataframes = {\n",
    "    \"Main Data\": data,\n",
    "    \"DXY\": dxy,\n",
    "    \"Gold\": gold,\n",
    "    \"Fed\": fed,\n",
    "    \"Volume\": volume,\n",
    "    \"Address\": address,\n",
    "    \"Miners\": miners,\n",
    "    \"Corr\": corr,\n",
    "    \"SP500\": sp500\n",
    "}\n",
    "\n",
    "for name, df in dataframes.items():\n",
    "    print(f\"{name} Date Range: {df['ds'].min()} - {df['ds'].max()}\")"
   ]
  },
  {
   "cell_type": "code",
   "execution_count": 13,
   "metadata": {
    "colab": {
     "base_uri": "https://localhost:8080/"
    },
    "id": "0WcPMJPTcpVc",
    "outputId": "053b2f08-be47-432d-e87e-45cd24692d79"
   },
   "outputs": [
    {
     "name": "stdout",
     "output_type": "stream",
     "text": [
      "Number of Missing Hours: 0\n"
     ]
    }
   ],
   "source": [
    "# Identify missing hours\n",
    "date_range = pd.date_range(start=data[\"ds\"].min(), end=data[\"ds\"].max(), freq=\"h\")\n",
    "missing_hours = date_range.difference(data[\"ds\"])\n",
    "print(\"Number of Missing Hours:\", len(missing_hours))"
   ]
  },
  {
   "cell_type": "code",
   "execution_count": 14,
   "metadata": {
    "colab": {
     "base_uri": "https://localhost:8080/"
    },
    "id": "dDPjUyv7ITIw",
    "outputId": "e458db20-bff9-4806-a92f-78a37dcf3a54"
   },
   "outputs": [
    {
     "data": {
      "text/plain": [
       "(10033, 12)"
      ]
     },
     "execution_count": 14,
     "metadata": {},
     "output_type": "execute_result"
    }
   ],
   "source": [
    "data.shape"
   ]
  },
  {
   "cell_type": "code",
   "execution_count": 15,
   "metadata": {
    "colab": {
     "base_uri": "https://localhost:8080/",
     "height": 300
    },
    "id": "R5dls72DSl07",
    "outputId": "7574ace6-51aa-46a8-fc89-8644091489d7"
   },
   "outputs": [
    {
     "data": {
      "application/vnd.google.colaboratory.intrinsic+json": {
       "summary": "{\n  \"name\": \"data\",\n  \"rows\": 8,\n  \"fields\": [\n    {\n      \"column\": \"ds\",\n      \"properties\": {\n        \"dtype\": \"date\",\n        \"min\": \"1970-01-01 00:00:00.000010033\",\n        \"max\": \"2025-03-03 00:00:00\",\n        \"num_unique_values\": 6,\n        \"samples\": [\n          \"10033\",\n          \"2024-08-06 00:00:00\",\n          \"2025-03-03 00:00:00\"\n        ],\n        \"semantic_type\": \"\",\n        \"description\": \"\"\n      }\n    },\n    {\n      \"column\": \"y\",\n      \"properties\": {\n        \"dtype\": \"number\",\n        \"std\": 3543.8166400853697,\n        \"min\": 0.24241577143121848,\n        \"max\": 10033.0,\n        \"num_unique_values\": 8,\n        \"samples\": [\n          11.140728289837334,\n          11.391796839062748,\n          10033.0\n        ],\n        \"semantic_type\": \"\",\n        \"description\": \"\"\n      }\n    },\n    {\n      \"column\": \"google_trend\",\n      \"properties\": {\n        \"dtype\": \"number\",\n        \"std\": 3547.032547155725,\n        \"min\": -0.5635593220338981,\n        \"max\": 10033.0,\n        \"num_unique_values\": 8,\n        \"samples\": [\n          0.23655897402976964,\n          0.640095338983051,\n          10033.0\n        ],\n        \"semantic_type\": \"\",\n        \"description\": \"\"\n      }\n    },\n    {\n      \"column\": \"hash_rate\",\n      \"properties\": {\n        \"dtype\": \"number\",\n        \"std\": 3547.1039163464447,\n        \"min\": -1.6322652162108051,\n        \"max\": 10033.0,\n        \"num_unique_values\": 8,\n        \"samples\": [\n          0.1326261110455986,\n          0.6184088234322573,\n          10033.0\n        ],\n        \"semantic_type\": \"\",\n        \"description\": \"\"\n      }\n    },\n    {\n      \"column\": \"dxy_close\",\n      \"properties\": {\n        \"dtype\": \"number\",\n        \"std\": 3515.4915321118706,\n        \"min\": 2.1384881693384834,\n        \"max\": 10033.0,\n        \"num_unique_values\": 8,\n        \"samples\": [\n          104.8150219276388,\n          106.15805555555555,\n          10033.0\n        ],\n        \"semantic_type\": \"\",\n        \"description\": \"\"\n      }\n    },\n    {\n      \"column\": \"gold_close\",\n      \"properties\": {\n        \"dtype\": \"number\",\n        \"std\": 2905.3171646380856,\n        \"min\": 248.6864896725593,\n        \"max\": 10033.0,\n        \"num_unique_values\": 8,\n        \"samples\": [\n          2457.4251245888568,\n          2650.8752777777777,\n          10033.0\n        ],\n        \"semantic_type\": \"\",\n        \"description\": \"\"\n      }\n    },\n    {\n      \"column\": \"fed_close\",\n      \"properties\": {\n        \"dtype\": \"number\",\n        \"std\": 3545.669858744892,\n        \"min\": 0.40754173179243885,\n        \"max\": 10033.0,\n        \"num_unique_values\": 6,\n        \"samples\": [\n          10033.0,\n          5.018378351440246,\n          0.40754173179243885\n        ],\n        \"semantic_type\": \"\",\n        \"description\": \"\"\n      }\n    },\n    {\n      \"column\": \"btc_volume\",\n      \"properties\": {\n        \"dtype\": \"number\",\n        \"std\": 568433206.3235042,\n        \"min\": 10033.0,\n        \"max\": 1783684133.0,\n        \"num_unique_values\": 8,\n        \"samples\": [\n          376458054.7643277,\n          459330021.5,\n          10033.0\n        ],\n        \"semantic_type\": \"\",\n        \"description\": \"\"\n      }\n    },\n    {\n      \"column\": \"btc_address\",\n      \"properties\": {\n        \"dtype\": \"number\",\n        \"std\": 262545.25382292626,\n        \"min\": 10033.0,\n        \"max\": 772888.0,\n        \"num_unique_values\": 8,\n        \"samples\": [\n          548897.3393800459,\n          605390.7083333334,\n          10033.0\n        ],\n        \"semantic_type\": \"\",\n        \"description\": \"\"\n      }\n    },\n    {\n      \"column\": \"btc_miners\",\n      \"properties\": {\n        \"dtype\": \"number\",\n        \"std\": 2144440058378.4795,\n        \"min\": 10033.0,\n        \"max\": 6843328275093.0,\n        \"num_unique_values\": 8,\n        \"samples\": [\n          2970116902176.6006,\n          4246824112059.0835,\n          10033.0\n        ],\n        \"semantic_type\": \"\",\n        \"description\": \"\"\n      }\n    },\n    {\n      \"column\": \"btc_eth_corr\",\n      \"properties\": {\n        \"dtype\": \"number\",\n        \"std\": 3539.453796494561,\n        \"min\": 5.383528279688892,\n        \"max\": 10033.0,\n        \"num_unique_values\": 8,\n        \"samples\": [\n          23.488962424000796,\n          26.965,\n          10033.0\n        ],\n        \"semantic_type\": \"\",\n        \"description\": \"\"\n      }\n    },\n    {\n      \"column\": \"sp500_value\",\n      \"properties\": {\n        \"dtype\": \"number\",\n        \"std\": 2616.5547905812905,\n        \"min\": 383.21711023452144,\n        \"max\": 10033.0,\n        \"num_unique_values\": 8,\n        \"samples\": [\n          5528.42848848799,\n          5884.6466666666665,\n          10033.0\n        ],\n        \"semantic_type\": \"\",\n        \"description\": \"\"\n      }\n    }\n  ]\n}",
       "type": "dataframe"
      },
      "text/html": [
       "\n",
       "  <div id=\"df-20400a16-a881-49fa-abd7-5ccb92371aef\" class=\"colab-df-container\">\n",
       "    <div>\n",
       "<style scoped>\n",
       "    .dataframe tbody tr th:only-of-type {\n",
       "        vertical-align: middle;\n",
       "    }\n",
       "\n",
       "    .dataframe tbody tr th {\n",
       "        vertical-align: top;\n",
       "    }\n",
       "\n",
       "    .dataframe thead th {\n",
       "        text-align: right;\n",
       "    }\n",
       "</style>\n",
       "<table border=\"1\" class=\"dataframe\">\n",
       "  <thead>\n",
       "    <tr style=\"text-align: right;\">\n",
       "      <th></th>\n",
       "      <th>ds</th>\n",
       "      <th>y</th>\n",
       "      <th>google_trend</th>\n",
       "      <th>hash_rate</th>\n",
       "      <th>dxy_close</th>\n",
       "      <th>gold_close</th>\n",
       "      <th>fed_close</th>\n",
       "      <th>btc_volume</th>\n",
       "      <th>btc_address</th>\n",
       "      <th>btc_miners</th>\n",
       "      <th>btc_eth_corr</th>\n",
       "      <th>sp500_value</th>\n",
       "    </tr>\n",
       "  </thead>\n",
       "  <tbody>\n",
       "    <tr>\n",
       "      <th>count</th>\n",
       "      <td>10033</td>\n",
       "      <td>10033.000000</td>\n",
       "      <td>10033.000000</td>\n",
       "      <td>10033.000000</td>\n",
       "      <td>10033.000000</td>\n",
       "      <td>10033.000000</td>\n",
       "      <td>10033.000000</td>\n",
       "      <td>1.003300e+04</td>\n",
       "      <td>10033.000000</td>\n",
       "      <td>1.003300e+04</td>\n",
       "      <td>10033.000000</td>\n",
       "      <td>10033.000000</td>\n",
       "    </tr>\n",
       "    <tr>\n",
       "      <th>mean</th>\n",
       "      <td>2024-08-06 00:00:00</td>\n",
       "      <td>11.140728</td>\n",
       "      <td>0.236559</td>\n",
       "      <td>0.132626</td>\n",
       "      <td>104.815022</td>\n",
       "      <td>2457.425125</td>\n",
       "      <td>5.018378</td>\n",
       "      <td>3.764581e+08</td>\n",
       "      <td>548897.339380</td>\n",
       "      <td>2.970117e+12</td>\n",
       "      <td>23.488962</td>\n",
       "      <td>5528.428488</td>\n",
       "    </tr>\n",
       "    <tr>\n",
       "      <th>min</th>\n",
       "      <td>2024-01-10 00:00:00</td>\n",
       "      <td>10.565344</td>\n",
       "      <td>-0.563559</td>\n",
       "      <td>-1.632265</td>\n",
       "      <td>100.380000</td>\n",
       "      <td>1992.130000</td>\n",
       "      <td>4.330000</td>\n",
       "      <td>4.408086e+07</td>\n",
       "      <td>358420.000000</td>\n",
       "      <td>1.118234e+12</td>\n",
       "      <td>16.610000</td>\n",
       "      <td>4739.210000</td>\n",
       "    </tr>\n",
       "    <tr>\n",
       "      <th>25%</th>\n",
       "      <td>2024-04-23 12:00:00</td>\n",
       "      <td>11.014567</td>\n",
       "      <td>-0.359905</td>\n",
       "      <td>-0.381591</td>\n",
       "      <td>103.501111</td>\n",
       "      <td>2320.765833</td>\n",
       "      <td>4.580000</td>\n",
       "      <td>2.156971e+08</td>\n",
       "      <td>489175.333333</td>\n",
       "      <td>1.859610e+12</td>\n",
       "      <td>18.790000</td>\n",
       "      <td>5204.042083</td>\n",
       "    </tr>\n",
       "    <tr>\n",
       "      <th>50%</th>\n",
       "      <td>2024-08-06 00:00:00</td>\n",
       "      <td>11.103362</td>\n",
       "      <td>0.000000</td>\n",
       "      <td>0.000000</td>\n",
       "      <td>104.526667</td>\n",
       "      <td>2444.703333</td>\n",
       "      <td>5.330000</td>\n",
       "      <td>3.137291e+08</td>\n",
       "      <td>534262.250000</td>\n",
       "      <td>2.414258e+12</td>\n",
       "      <td>22.172500</td>\n",
       "      <td>5540.791250</td>\n",
       "    </tr>\n",
       "    <tr>\n",
       "      <th>75%</th>\n",
       "      <td>2024-11-18 12:00:00</td>\n",
       "      <td>11.391797</td>\n",
       "      <td>0.640095</td>\n",
       "      <td>0.618409</td>\n",
       "      <td>106.158056</td>\n",
       "      <td>2650.875278</td>\n",
       "      <td>5.330000</td>\n",
       "      <td>4.593300e+08</td>\n",
       "      <td>605390.708333</td>\n",
       "      <td>4.246824e+12</td>\n",
       "      <td>26.965000</td>\n",
       "      <td>5884.646667</td>\n",
       "    </tr>\n",
       "    <tr>\n",
       "      <th>max</th>\n",
       "      <td>2025-03-03 00:00:00</td>\n",
       "      <td>11.592845</td>\n",
       "      <td>2.684322</td>\n",
       "      <td>2.503260</td>\n",
       "      <td>109.960000</td>\n",
       "      <td>2951.190000</td>\n",
       "      <td>5.330000</td>\n",
       "      <td>1.783684e+09</td>\n",
       "      <td>772888.000000</td>\n",
       "      <td>6.843328e+12</td>\n",
       "      <td>40.250000</td>\n",
       "      <td>6144.150000</td>\n",
       "    </tr>\n",
       "    <tr>\n",
       "      <th>std</th>\n",
       "      <td>NaN</td>\n",
       "      <td>0.242416</td>\n",
       "      <td>0.703805</td>\n",
       "      <td>0.688798</td>\n",
       "      <td>2.138488</td>\n",
       "      <td>248.686490</td>\n",
       "      <td>0.407542</td>\n",
       "      <td>2.501166e+08</td>\n",
       "      <td>77283.019265</td>\n",
       "      <td>1.259035e+12</td>\n",
       "      <td>5.383528</td>\n",
       "      <td>383.217110</td>\n",
       "    </tr>\n",
       "  </tbody>\n",
       "</table>\n",
       "</div>\n",
       "    <div class=\"colab-df-buttons\">\n",
       "\n",
       "  <div class=\"colab-df-container\">\n",
       "    <button class=\"colab-df-convert\" onclick=\"convertToInteractive('df-20400a16-a881-49fa-abd7-5ccb92371aef')\"\n",
       "            title=\"Convert this dataframe to an interactive table.\"\n",
       "            style=\"display:none;\">\n",
       "\n",
       "  <svg xmlns=\"http://www.w3.org/2000/svg\" height=\"24px\" viewBox=\"0 -960 960 960\">\n",
       "    <path d=\"M120-120v-720h720v720H120Zm60-500h600v-160H180v160Zm220 220h160v-160H400v160Zm0 220h160v-160H400v160ZM180-400h160v-160H180v160Zm440 0h160v-160H620v160ZM180-180h160v-160H180v160Zm440 0h160v-160H620v160Z\"/>\n",
       "  </svg>\n",
       "    </button>\n",
       "\n",
       "  <style>\n",
       "    .colab-df-container {\n",
       "      display:flex;\n",
       "      gap: 12px;\n",
       "    }\n",
       "\n",
       "    .colab-df-convert {\n",
       "      background-color: #E8F0FE;\n",
       "      border: none;\n",
       "      border-radius: 50%;\n",
       "      cursor: pointer;\n",
       "      display: none;\n",
       "      fill: #1967D2;\n",
       "      height: 32px;\n",
       "      padding: 0 0 0 0;\n",
       "      width: 32px;\n",
       "    }\n",
       "\n",
       "    .colab-df-convert:hover {\n",
       "      background-color: #E2EBFA;\n",
       "      box-shadow: 0px 1px 2px rgba(60, 64, 67, 0.3), 0px 1px 3px 1px rgba(60, 64, 67, 0.15);\n",
       "      fill: #174EA6;\n",
       "    }\n",
       "\n",
       "    .colab-df-buttons div {\n",
       "      margin-bottom: 4px;\n",
       "    }\n",
       "\n",
       "    [theme=dark] .colab-df-convert {\n",
       "      background-color: #3B4455;\n",
       "      fill: #D2E3FC;\n",
       "    }\n",
       "\n",
       "    [theme=dark] .colab-df-convert:hover {\n",
       "      background-color: #434B5C;\n",
       "      box-shadow: 0px 1px 3px 1px rgba(0, 0, 0, 0.15);\n",
       "      filter: drop-shadow(0px 1px 2px rgba(0, 0, 0, 0.3));\n",
       "      fill: #FFFFFF;\n",
       "    }\n",
       "  </style>\n",
       "\n",
       "    <script>\n",
       "      const buttonEl =\n",
       "        document.querySelector('#df-20400a16-a881-49fa-abd7-5ccb92371aef button.colab-df-convert');\n",
       "      buttonEl.style.display =\n",
       "        google.colab.kernel.accessAllowed ? 'block' : 'none';\n",
       "\n",
       "      async function convertToInteractive(key) {\n",
       "        const element = document.querySelector('#df-20400a16-a881-49fa-abd7-5ccb92371aef');\n",
       "        const dataTable =\n",
       "          await google.colab.kernel.invokeFunction('convertToInteractive',\n",
       "                                                    [key], {});\n",
       "        if (!dataTable) return;\n",
       "\n",
       "        const docLinkHtml = 'Like what you see? Visit the ' +\n",
       "          '<a target=\"_blank\" href=https://colab.research.google.com/notebooks/data_table.ipynb>data table notebook</a>'\n",
       "          + ' to learn more about interactive tables.';\n",
       "        element.innerHTML = '';\n",
       "        dataTable['output_type'] = 'display_data';\n",
       "        await google.colab.output.renderOutput(dataTable, element);\n",
       "        const docLink = document.createElement('div');\n",
       "        docLink.innerHTML = docLinkHtml;\n",
       "        element.appendChild(docLink);\n",
       "      }\n",
       "    </script>\n",
       "  </div>\n",
       "\n",
       "\n",
       "<div id=\"df-ef4d9a8a-6249-4885-8b60-52e6a00a9cfa\">\n",
       "  <button class=\"colab-df-quickchart\" onclick=\"quickchart('df-ef4d9a8a-6249-4885-8b60-52e6a00a9cfa')\"\n",
       "            title=\"Suggest charts\"\n",
       "            style=\"display:none;\">\n",
       "\n",
       "<svg xmlns=\"http://www.w3.org/2000/svg\" height=\"24px\"viewBox=\"0 0 24 24\"\n",
       "     width=\"24px\">\n",
       "    <g>\n",
       "        <path d=\"M19 3H5c-1.1 0-2 .9-2 2v14c0 1.1.9 2 2 2h14c1.1 0 2-.9 2-2V5c0-1.1-.9-2-2-2zM9 17H7v-7h2v7zm4 0h-2V7h2v10zm4 0h-2v-4h2v4z\"/>\n",
       "    </g>\n",
       "</svg>\n",
       "  </button>\n",
       "\n",
       "<style>\n",
       "  .colab-df-quickchart {\n",
       "      --bg-color: #E8F0FE;\n",
       "      --fill-color: #1967D2;\n",
       "      --hover-bg-color: #E2EBFA;\n",
       "      --hover-fill-color: #174EA6;\n",
       "      --disabled-fill-color: #AAA;\n",
       "      --disabled-bg-color: #DDD;\n",
       "  }\n",
       "\n",
       "  [theme=dark] .colab-df-quickchart {\n",
       "      --bg-color: #3B4455;\n",
       "      --fill-color: #D2E3FC;\n",
       "      --hover-bg-color: #434B5C;\n",
       "      --hover-fill-color: #FFFFFF;\n",
       "      --disabled-bg-color: #3B4455;\n",
       "      --disabled-fill-color: #666;\n",
       "  }\n",
       "\n",
       "  .colab-df-quickchart {\n",
       "    background-color: var(--bg-color);\n",
       "    border: none;\n",
       "    border-radius: 50%;\n",
       "    cursor: pointer;\n",
       "    display: none;\n",
       "    fill: var(--fill-color);\n",
       "    height: 32px;\n",
       "    padding: 0;\n",
       "    width: 32px;\n",
       "  }\n",
       "\n",
       "  .colab-df-quickchart:hover {\n",
       "    background-color: var(--hover-bg-color);\n",
       "    box-shadow: 0 1px 2px rgba(60, 64, 67, 0.3), 0 1px 3px 1px rgba(60, 64, 67, 0.15);\n",
       "    fill: var(--button-hover-fill-color);\n",
       "  }\n",
       "\n",
       "  .colab-df-quickchart-complete:disabled,\n",
       "  .colab-df-quickchart-complete:disabled:hover {\n",
       "    background-color: var(--disabled-bg-color);\n",
       "    fill: var(--disabled-fill-color);\n",
       "    box-shadow: none;\n",
       "  }\n",
       "\n",
       "  .colab-df-spinner {\n",
       "    border: 2px solid var(--fill-color);\n",
       "    border-color: transparent;\n",
       "    border-bottom-color: var(--fill-color);\n",
       "    animation:\n",
       "      spin 1s steps(1) infinite;\n",
       "  }\n",
       "\n",
       "  @keyframes spin {\n",
       "    0% {\n",
       "      border-color: transparent;\n",
       "      border-bottom-color: var(--fill-color);\n",
       "      border-left-color: var(--fill-color);\n",
       "    }\n",
       "    20% {\n",
       "      border-color: transparent;\n",
       "      border-left-color: var(--fill-color);\n",
       "      border-top-color: var(--fill-color);\n",
       "    }\n",
       "    30% {\n",
       "      border-color: transparent;\n",
       "      border-left-color: var(--fill-color);\n",
       "      border-top-color: var(--fill-color);\n",
       "      border-right-color: var(--fill-color);\n",
       "    }\n",
       "    40% {\n",
       "      border-color: transparent;\n",
       "      border-right-color: var(--fill-color);\n",
       "      border-top-color: var(--fill-color);\n",
       "    }\n",
       "    60% {\n",
       "      border-color: transparent;\n",
       "      border-right-color: var(--fill-color);\n",
       "    }\n",
       "    80% {\n",
       "      border-color: transparent;\n",
       "      border-right-color: var(--fill-color);\n",
       "      border-bottom-color: var(--fill-color);\n",
       "    }\n",
       "    90% {\n",
       "      border-color: transparent;\n",
       "      border-bottom-color: var(--fill-color);\n",
       "    }\n",
       "  }\n",
       "</style>\n",
       "\n",
       "  <script>\n",
       "    async function quickchart(key) {\n",
       "      const quickchartButtonEl =\n",
       "        document.querySelector('#' + key + ' button');\n",
       "      quickchartButtonEl.disabled = true;  // To prevent multiple clicks.\n",
       "      quickchartButtonEl.classList.add('colab-df-spinner');\n",
       "      try {\n",
       "        const charts = await google.colab.kernel.invokeFunction(\n",
       "            'suggestCharts', [key], {});\n",
       "      } catch (error) {\n",
       "        console.error('Error during call to suggestCharts:', error);\n",
       "      }\n",
       "      quickchartButtonEl.classList.remove('colab-df-spinner');\n",
       "      quickchartButtonEl.classList.add('colab-df-quickchart-complete');\n",
       "    }\n",
       "    (() => {\n",
       "      let quickchartButtonEl =\n",
       "        document.querySelector('#df-ef4d9a8a-6249-4885-8b60-52e6a00a9cfa button');\n",
       "      quickchartButtonEl.style.display =\n",
       "        google.colab.kernel.accessAllowed ? 'block' : 'none';\n",
       "    })();\n",
       "  </script>\n",
       "</div>\n",
       "\n",
       "    </div>\n",
       "  </div>\n"
      ],
      "text/plain": [
       "                        ds             y  google_trend     hash_rate  \\\n",
       "count                10033  10033.000000  10033.000000  10033.000000   \n",
       "mean   2024-08-06 00:00:00     11.140728      0.236559      0.132626   \n",
       "min    2024-01-10 00:00:00     10.565344     -0.563559     -1.632265   \n",
       "25%    2024-04-23 12:00:00     11.014567     -0.359905     -0.381591   \n",
       "50%    2024-08-06 00:00:00     11.103362      0.000000      0.000000   \n",
       "75%    2024-11-18 12:00:00     11.391797      0.640095      0.618409   \n",
       "max    2025-03-03 00:00:00     11.592845      2.684322      2.503260   \n",
       "std                    NaN      0.242416      0.703805      0.688798   \n",
       "\n",
       "          dxy_close    gold_close     fed_close    btc_volume    btc_address  \\\n",
       "count  10033.000000  10033.000000  10033.000000  1.003300e+04   10033.000000   \n",
       "mean     104.815022   2457.425125      5.018378  3.764581e+08  548897.339380   \n",
       "min      100.380000   1992.130000      4.330000  4.408086e+07  358420.000000   \n",
       "25%      103.501111   2320.765833      4.580000  2.156971e+08  489175.333333   \n",
       "50%      104.526667   2444.703333      5.330000  3.137291e+08  534262.250000   \n",
       "75%      106.158056   2650.875278      5.330000  4.593300e+08  605390.708333   \n",
       "max      109.960000   2951.190000      5.330000  1.783684e+09  772888.000000   \n",
       "std        2.138488    248.686490      0.407542  2.501166e+08   77283.019265   \n",
       "\n",
       "         btc_miners  btc_eth_corr   sp500_value  \n",
       "count  1.003300e+04  10033.000000  10033.000000  \n",
       "mean   2.970117e+12     23.488962   5528.428488  \n",
       "min    1.118234e+12     16.610000   4739.210000  \n",
       "25%    1.859610e+12     18.790000   5204.042083  \n",
       "50%    2.414258e+12     22.172500   5540.791250  \n",
       "75%    4.246824e+12     26.965000   5884.646667  \n",
       "max    6.843328e+12     40.250000   6144.150000  \n",
       "std    1.259035e+12      5.383528    383.217110  "
      ]
     },
     "execution_count": 15,
     "metadata": {},
     "output_type": "execute_result"
    }
   ],
   "source": [
    "data.describe()"
   ]
  },
  {
   "cell_type": "code",
   "execution_count": 16,
   "metadata": {
    "id": "CMSB9W8rYMcu"
   },
   "outputs": [],
   "source": [
    "from sklearn.preprocessing import RobustScaler  # Robust to outliers"
   ]
  },
  {
   "cell_type": "code",
   "execution_count": 17,
   "metadata": {
    "id": "64rwh0CAkXIE"
   },
   "outputs": [],
   "source": [
    "# Other columns to scale\n",
    "features_to_scale = [\n",
    "    'dxy_close', 'gold_close', 'fed_close',\n",
    "    'btc_volume', 'btc_address', 'btc_miners',\n",
    "    'btc_eth_corr','sp500_value'\n",
    "]"
   ]
  },
  {
   "cell_type": "code",
   "execution_count": 18,
   "metadata": {
    "id": "8O-w4GQXkdNw"
   },
   "outputs": [],
   "source": [
    "# Use the same or a new RobustScaler instance\n",
    "scaler_robust = RobustScaler()\n",
    "data[features_to_scale] = scaler_robust.fit_transform(data[features_to_scale])"
   ]
  },
  {
   "cell_type": "code",
   "execution_count": 19,
   "metadata": {
    "colab": {
     "base_uri": "https://localhost:8080/"
    },
    "id": "Jo6TZzEwkd3F",
    "outputId": "d7583b5e-8d89-4fe4-99d2-6f8675c9e205"
   },
   "outputs": [
    {
     "name": "stdout",
     "output_type": "stream",
     "text": [
      "                      ds          y  google_trend  hash_rate  dxy_close  \\\n",
      "min  2024-01-10 00:00:00  10.565344     -0.563559  -1.632265  -1.560690   \n",
      "max  2025-03-03 00:00:00  11.592845      2.684322   2.503260   2.044956   \n",
      "\n",
      "     gold_close  fed_close  btc_volume  btc_address  btc_miners  btc_eth_corr  \\\n",
      "min   -1.370980  -1.333333   -1.106781    -1.513072   -0.542902     -0.680428   \n",
      "max    1.534299   0.000000    6.033482     2.053306    1.855330      2.211315   \n",
      "\n",
      "     sp500_value  \n",
      "min    -1.177749  \n",
      "max     0.886504  \n"
     ]
    }
   ],
   "source": [
    "print(data.describe().loc[['min', 'max']])  # Are all columns in the range ~[-3, +3]?"
   ]
  },
  {
   "cell_type": "code",
   "execution_count": 20,
   "metadata": {
    "id": "UXzS2Rs9kRF-"
   },
   "outputs": [],
   "source": [
    "data.to_csv(\"robust_all_ham_veri.csv\", index=False)"
   ]
  },
  {
   "cell_type": "code",
   "execution_count": 21,
   "metadata": {
    "colab": {
     "base_uri": "https://localhost:8080/",
     "height": 430
    },
    "id": "lc0-Et2qlAhA",
    "outputId": "27388763-c8f6-4e40-ea08-4f5f8d15567d"
   },
   "outputs": [
    {
     "data": {
      "image/png": "[encoded data removed]",
      "text/plain": [
       "<Figure size 640x480 with 2 Axes>"
      ]
     },
     "metadata": {},
     "output_type": "display_data"
    }
   ],
   "source": [
    "import matplotlib.pyplot as plt\n",
    "\n",
    "data[[\"btc_volume\", \"google_trend\"]].plot(kind=\"box\", subplots=True)\n",
    "plt.show()"
   ]
  },
  {
   "cell_type": "code",
   "execution_count": 22,
   "metadata": {
    "id": "eS5G-KP1pLmm"
   },
   "outputs": [],
   "source": [
    "import seaborn as sns\n",
    "import matplotlib.pyplot as plt\n",
    "\n",
    "corr_matrix = data.drop(\"ds\", axis=1).corr(numeric_only=True)  # Remove 'ds' column"
   ]
  },
  {
   "cell_type": "code",
   "execution_count": 23,
   "metadata": {
    "colab": {
     "base_uri": "https://localhost:8080/",
     "height": 545
    },
    "id": "Hausy2QKpNuN",
    "outputId": "3400bc3e-02e2-40d7-a2ce-8856805b1666"
   },
   "outputs": [
    {
     "data": {
      "image/png": "[encoded data removed]",
      "text/plain": [
       "<Figure size 800x600 with 2 Axes>"
      ]
     },
     "metadata": {},
     "output_type": "display_data"
    }
   ],
   "source": [
    "import seaborn as sns\n",
    "import matplotlib.pyplot as plt\n",
    "\n",
    "plt.figure(figsize=(8, 6))\n",
    "sns.heatmap(corr_matrix[[\"y\"]].sort_values(by=\"y\", ascending=False),\n",
    "            annot=True, cmap=\"coolwarm\", vmin=-1, vmax=1)\n",
    "plt.title(\"Correlation of Features with Bitcoin Price\")\n",
    "plt.show()"
   ]
  }
 ],
 "metadata": {
  "accelerator": "GPU",
  "colab": {
   "gpuType": "A100",
   "machine_shape": "hm",
   "provenance": []
  },
  "kernelspec": {
   "display_name": "Python 3",
   "name": "python3"
  },
  "language_info": {
   "name": "python"
  }
 },
 "nbformat": 4,
 "nbformat_minor": 0
}
